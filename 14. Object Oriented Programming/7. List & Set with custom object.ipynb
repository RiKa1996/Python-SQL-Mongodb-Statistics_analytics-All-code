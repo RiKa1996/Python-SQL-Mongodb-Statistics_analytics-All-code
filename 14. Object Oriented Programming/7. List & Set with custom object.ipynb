{
 "cells": [
  {
   "cell_type": "code",
   "execution_count": 1,
   "id": "66ac316d-4dbb-464b-858a-d2279c3e9c33",
   "metadata": {},
   "outputs": [
    {
     "name": "stdout",
     "output_type": "stream",
     "text": [
      "hello\n",
      "hello\n",
      "hello\n"
     ]
    }
   ],
   "source": [
    "class emp:\n",
    "    def __init__(self,i,n,s):\n",
    "        self.empid=i\n",
    "        self.name=n\n",
    "        self.sal=s\n",
    "        \n",
    "    def __str__(self):\n",
    "        return \"hello\"\n",
    "        \n",
    "e1=emp(101,\"rishav\",50000)\n",
    "e2=emp(102,\"rehan\",42220)\n",
    "e3=emp(103,\"ritu\",6200)\n",
    "\n",
    "print(e1)\n",
    "print(e2)\n",
    "print(e3)"
   ]
  },
  {
   "cell_type": "markdown",
   "id": "a33b6708-73cb-4070-a664-5828b8b2b97b",
   "metadata": {},
   "source": [
    "### **_ _ str _ _(self)** method"
   ]
  },
  {
   "cell_type": "code",
   "execution_count": 2,
   "id": "aa311861-5d12-421d-ae4a-58dbce272c18",
   "metadata": {},
   "outputs": [
    {
     "name": "stdout",
     "output_type": "stream",
     "text": [
      "(101, 'rishav', 50000)\n",
      "(102, 'rehan', 42220)\n",
      "(103, 'ritu', 6200)\n"
     ]
    }
   ],
   "source": [
    "class emp:\n",
    "    def __init__(self,i,n,s):\n",
    "        self.empid=i\n",
    "        self.name=n\n",
    "        self.sal=s\n",
    "        \n",
    "    def __str__(self):\n",
    "        return str((self.empid,self.name,self.sal))\n",
    "        \n",
    "e1=emp(101,\"rishav\",50000)\n",
    "e2=emp(102,\"rehan\",42220)\n",
    "e3=emp(103,\"ritu\",6200)\n",
    "\n",
    "print(e1)\n",
    "print(e2)\n",
    "print(e3)"
   ]
  },
  {
   "cell_type": "markdown",
   "id": "728146f9-dbd0-4b00-9d1a-e1ae2b67ed36",
   "metadata": {},
   "source": [
    "### kya e1,e2,e3 ko sorting kiya ja skta hai."
   ]
  },
  {
   "cell_type": "code",
   "execution_count": 3,
   "id": "51790352-a43d-4a90-acd9-428be7d919d6",
   "metadata": {},
   "outputs": [
    {
     "name": "stdout",
     "output_type": "stream",
     "text": [
      "[<__main__.emp object at 0x0000016BB24661D0>, <__main__.emp object at 0x0000016BB2466E00>, <__main__.emp object at 0x0000016BB2466EF0>]\n"
     ]
    }
   ],
   "source": [
    "x=[e1,e2,e3]\n",
    "print(x)"
   ]
  },
  {
   "cell_type": "markdown",
   "id": "b19db9a1-513c-4afe-96f0-95f08da810a6",
   "metadata": {},
   "source": [
    "### **_ _ repr _ _(self)** method"
   ]
  },
  {
   "cell_type": "code",
   "execution_count": 4,
   "id": "403593c6-efa1-425c-a6d8-5733addc2ab8",
   "metadata": {},
   "outputs": [
    {
     "name": "stdout",
     "output_type": "stream",
     "text": [
      "(101, 'rishav', 50000)\n",
      "(102, 'rehan', 42220)\n",
      "(103, 'ritu', 6200)\n",
      "[(101, 'rishav', 50000), (102, 'rehan', 42220), (103, 'ritu', 6200)]\n"
     ]
    }
   ],
   "source": [
    "class emp:\n",
    "    def __init__(self,i,n,s):\n",
    "        self.empid=i\n",
    "        self.name=n\n",
    "        self.sal=s\n",
    "        \n",
    "    def __str__(self):\n",
    "        return str((self.empid,self.name,self.sal))\n",
    "    \n",
    "    def __repr__(self):\n",
    "        return str((self.empid,self.name,self.sal))\n",
    "        \n",
    "e1=emp(101,\"rishav\",50000)\n",
    "e2=emp(102,\"rehan\",42220)\n",
    "e3=emp(103,\"ritu\",6200)\n",
    "\n",
    "print(e1)\n",
    "print(e2)\n",
    "print(e3)\n",
    "\n",
    "x=[e1,e2,e3]\n",
    "print(x)"
   ]
  },
  {
   "cell_type": "markdown",
   "id": "c007497a-6280-4478-8317-5d3efd394256",
   "metadata": {},
   "source": [
    "### **List me ek aur element add krne per kya hoga** ydi data me same same ho jb kya hoga"
   ]
  },
  {
   "cell_type": "code",
   "execution_count": 5,
   "id": "d14e922b-7c20-4f5f-bd55-f0719ee1d079",
   "metadata": {},
   "outputs": [
    {
     "name": "stdout",
     "output_type": "stream",
     "text": [
      "True\n",
      "False\n"
     ]
    }
   ],
   "source": [
    "e4=emp(101,\"rishav\",50000)\n",
    "print(e1 in x)\n",
    "print(e4 in x)"
   ]
  },
  {
   "cell_type": "code",
   "execution_count": 6,
   "id": "fa67fe65-8701-43a3-9268-e6252d8a3b92",
   "metadata": {},
   "outputs": [
    {
     "name": "stdout",
     "output_type": "stream",
     "text": [
      "{(101, 'rishav', 50000), (101, 'rishav', 50000), (102, 'rehan', 42220), (103, 'ritu', 6200)}\n"
     ]
    }
   ],
   "source": [
    "s={e1,e2,e3,e4}\n",
    "print(s)"
   ]
  },
  {
   "cell_type": "markdown",
   "id": "1039c4b3-9aa2-4104-bdda-e0ff183bb69c",
   "metadata": {},
   "source": [
    "### ydi do data member same hai to use alag krne ke liye kya kare"
   ]
  },
  {
   "cell_type": "markdown",
   "id": "804482e6-a4c3-47a3-b141-cf7bda1838e2",
   "metadata": {},
   "source": [
    "### **_ _ eq _ _(self,other)** method"
   ]
  },
  {
   "cell_type": "code",
   "execution_count": 7,
   "id": "4cbe9a9d-06d5-476b-a792-708c646a1e19",
   "metadata": {},
   "outputs": [
    {
     "name": "stdout",
     "output_type": "stream",
     "text": [
      "(101, 'rishav', 50000)\n",
      "(102, 'rehan', 42220)\n",
      "(103, 'ritu', 6200)\n",
      "[(101, 'rishav', 50000), (102, 'rehan', 42220), (103, 'ritu', 6200)]\n"
     ]
    }
   ],
   "source": [
    "class emp:\n",
    "    def __init__(self,i,n,s):\n",
    "        self.empid=i\n",
    "        self.name=n\n",
    "        self.sal=s\n",
    "        \n",
    "    def __str__(self):\n",
    "        return str((self.empid,self.name,self.sal))\n",
    "    \n",
    "    def __repr__(self):\n",
    "        return str((self.empid,self.name,self.sal))\n",
    "    \n",
    "    def __eq__(self,other):\n",
    "        if(self.name==other.name and self.empid==other.empid and self.sal==other.sal):\n",
    "            return True\n",
    "        else:\n",
    "            return False\n",
    "        \n",
    "e1=emp(101,\"rishav\",50000)\n",
    "e2=emp(102,\"rehan\",42220)\n",
    "e3=emp(103,\"ritu\",6200)\n",
    "\n",
    "print(e1)\n",
    "print(e2)\n",
    "print(e3)\n",
    "\n",
    "x=[e1,e2,e3]\n",
    "print(x)"
   ]
  },
  {
   "cell_type": "code",
   "execution_count": 8,
   "id": "3653e771-fc6d-474f-b0cc-bf851a83eee2",
   "metadata": {},
   "outputs": [
    {
     "name": "stdout",
     "output_type": "stream",
     "text": [
      "True\n",
      "True\n",
      "[(101, 'rishav', 50000), (102, 'rehan', 42220), (103, 'ritu', 6200)]\n"
     ]
    }
   ],
   "source": [
    "e4=emp(101,\"rishav\",50000)\n",
    "print(e1 in x)\n",
    "print(e4 in x)\n",
    "print(x)"
   ]
  },
  {
   "cell_type": "markdown",
   "id": "08ff8488-8e00-4324-be95-e74b210ab2aa",
   "metadata": {},
   "source": [
    "### **hashing** ----> **_ _ hash _ _(self)** --------->set me likhne per "
   ]
  },
  {
   "cell_type": "code",
   "execution_count": 9,
   "id": "fcb0d34c-4ed0-4253-a3d5-e2462dc7fac2",
   "metadata": {},
   "outputs": [
    {
     "name": "stdout",
     "output_type": "stream",
     "text": [
      "(101, 'rishav', 50000)\n",
      "(102, 'rehan', 42220)\n",
      "(103, 'ritu', 6200)\n",
      "[(101, 'rishav', 50000), (102, 'rehan', 42220), (103, 'ritu', 6200)]\n"
     ]
    }
   ],
   "source": [
    "class emp:\n",
    "    def __init__(self,i,n,s):\n",
    "        self.empid=i\n",
    "        self.name=n\n",
    "        self.sal=s\n",
    "        \n",
    "    def __str__(self):\n",
    "        return str((self.empid,self.name,self.sal))\n",
    "    \n",
    "    def __repr__(self):\n",
    "        return str((self.empid,self.name,self.sal))\n",
    "    \n",
    "    def __eq__(self,other):\n",
    "        if(self.name==other.name and self.empid==other.empid and self.sal==other.sal):\n",
    "            return True\n",
    "        else:\n",
    "            return False\n",
    "        \n",
    "    def __hash__(self):\n",
    "        return self.empid+self.sal+e1.name.__hash__()\n",
    "        \n",
    "e1=emp(101,\"rishav\",50000)\n",
    "e2=emp(102,\"rehan\",42220)\n",
    "e3=emp(103,\"ritu\",6200)\n",
    "\n",
    "print(e1)\n",
    "print(e2)\n",
    "print(e3)\n",
    "\n",
    "x=[e1,e2,e3]\n",
    "print(x)"
   ]
  },
  {
   "cell_type": "code",
   "execution_count": 10,
   "id": "ece4b7dc-10d7-4d2d-8aa2-d9637e8945a9",
   "metadata": {},
   "outputs": [
    {
     "name": "stdout",
     "output_type": "stream",
     "text": [
      "True\n",
      "True\n",
      "[(101, 'rishav', 50000), (102, 'rehan', 42220), (103, 'ritu', 6200)]\n"
     ]
    }
   ],
   "source": [
    "e4=emp(101,\"rishav\",50000)\n",
    "print(e1 in x)\n",
    "print(e4 in x)\n",
    "print(x)"
   ]
  },
  {
   "cell_type": "code",
   "execution_count": 11,
   "id": "1533e704-13b7-4a48-96d9-164cbd57587e",
   "metadata": {},
   "outputs": [
    {
     "name": "stdout",
     "output_type": "stream",
     "text": [
      "{(101, 'rishav', 50000), (103, 'ritu', 6200), (102, 'rehan', 42220)}\n"
     ]
    }
   ],
   "source": [
    "s={e1,e2,e3,e4}\n",
    "print(s)"
   ]
  },
  {
   "cell_type": "markdown",
   "id": "069bdc87-3c5c-488c-af0f-db0cf88dc402",
   "metadata": {},
   "source": [
    "## Note: eq and hash method dono humesha likhna chaiye"
   ]
  },
  {
   "cell_type": "markdown",
   "id": "58826021-14e7-4b33-8d37-87ca16284c33",
   "metadata": {},
   "source": [
    "### **_ _ sorted _ _ ()**"
   ]
  },
  {
   "cell_type": "code",
   "execution_count": 14,
   "id": "659266c8-6d60-443b-a550-b2289fac9472",
   "metadata": {},
   "outputs": [
    {
     "data": {
      "text/plain": [
       "[(101, 'rishav', 50000), (102, 'rehan', 42220), (103, 'ritu', 6200)]"
      ]
     },
     "execution_count": 14,
     "metadata": {},
     "output_type": "execute_result"
    }
   ],
   "source": [
    "x=[e1,e2,e3]\n",
    "def idsort(e):\n",
    "    return e.empid\n",
    "\n",
    "sorted(x,key=idsort)"
   ]
  },
  {
   "cell_type": "code",
   "execution_count": 16,
   "id": "6238a80b-5b54-4b9f-83c5-d9e3c3c279c4",
   "metadata": {},
   "outputs": [
    {
     "data": {
      "text/plain": [
       "[(103, 'ritu', 6200), (102, 'rehan', 42220), (101, 'rishav', 50000)]"
      ]
     },
     "execution_count": 16,
     "metadata": {},
     "output_type": "execute_result"
    }
   ],
   "source": [
    "sorted(x,key=lambda e:e.sal)"
   ]
  },
  {
   "cell_type": "code",
   "execution_count": 17,
   "id": "cae12b42-691a-435a-ab95-0634474a102c",
   "metadata": {},
   "outputs": [
    {
     "data": {
      "text/plain": [
       "[(101, 'rishav', 50000), (102, 'rehan', 42220), (103, 'ritu', 6200)]"
      ]
     },
     "execution_count": 17,
     "metadata": {},
     "output_type": "execute_result"
    }
   ],
   "source": [
    "sorted(x,key=lambda e:e.empid)"
   ]
  },
  {
   "cell_type": "code",
   "execution_count": 18,
   "id": "2317933a-df8f-4d53-b614-7ab8b111cc2e",
   "metadata": {},
   "outputs": [
    {
     "data": {
      "text/plain": [
       "[(102, 'rehan', 42220), (101, 'rishav', 50000), (103, 'ritu', 6200)]"
      ]
     },
     "execution_count": 18,
     "metadata": {},
     "output_type": "execute_result"
    }
   ],
   "source": [
    "sorted(x,key=lambda e:e.name)"
   ]
  },
  {
   "cell_type": "markdown",
   "id": "68583ca8-fc3d-4f75-b3c8-53c29660c631",
   "metadata": {},
   "source": [
    "### ydi sorted method ko reverse karna pade to , last me **reverse=True** likhne per reverse ho jata hai."
   ]
  },
  {
   "cell_type": "code",
   "execution_count": 19,
   "id": "33d2c010-acb2-4f6a-9a69-909d758c7ad5",
   "metadata": {},
   "outputs": [
    {
     "data": {
      "text/plain": [
       "[(103, 'ritu', 6200), (102, 'rehan', 42220), (101, 'rishav', 50000)]"
      ]
     },
     "execution_count": 19,
     "metadata": {},
     "output_type": "execute_result"
    }
   ],
   "source": [
    "sorted(x,key=lambda e:e.empid, reverse=True)"
   ]
  },
  {
   "cell_type": "code",
   "execution_count": 20,
   "id": "55ff1985-3a2a-444f-a03d-3788cba229db",
   "metadata": {},
   "outputs": [
    {
     "data": {
      "text/plain": [
       "[(103, 'ritu', 6200), (101, 'rishav', 50000), (102, 'rehan', 42220)]"
      ]
     },
     "execution_count": 20,
     "metadata": {},
     "output_type": "execute_result"
    }
   ],
   "source": [
    "sorted(x,key=lambda e:e.name, reverse=True)"
   ]
  },
  {
   "cell_type": "code",
   "execution_count": 21,
   "id": "67c53e25-f5c4-4355-87f0-a33e4e21546d",
   "metadata": {},
   "outputs": [
    {
     "data": {
      "text/plain": [
       "[(101, 'rishav', 50000), (102, 'rehan', 42220), (103, 'ritu', 6200)]"
      ]
     },
     "execution_count": 21,
     "metadata": {},
     "output_type": "execute_result"
    }
   ],
   "source": [
    "sorted(x,key=lambda e:e.sal, reverse=True)"
   ]
  },
  {
   "cell_type": "code",
   "execution_count": null,
   "id": "17a5fa32-00e6-45c0-9d6a-c9fa189f8388",
   "metadata": {},
   "outputs": [],
   "source": []
  }
 ],
 "metadata": {
  "kernelspec": {
   "display_name": "Python 3 (ipykernel)",
   "language": "python",
   "name": "python3"
  },
  "language_info": {
   "codemirror_mode": {
    "name": "ipython",
    "version": 3
   },
   "file_extension": ".py",
   "mimetype": "text/x-python",
   "name": "python",
   "nbconvert_exporter": "python",
   "pygments_lexer": "ipython3",
   "version": "3.10.9"
  }
 },
 "nbformat": 4,
 "nbformat_minor": 5
}
