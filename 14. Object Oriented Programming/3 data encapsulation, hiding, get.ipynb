{
 "cells": [
  {
   "cell_type": "markdown",
   "id": "cd9fb495-03a4-4030-951e-a800e520fd46",
   "metadata": {},
   "source": [
    "## Data Encapsulation/ data hiding (collage wala example)\n",
    "- process of protecting data members of a class from unauthorized acess.\n",
    "- encapsulation isse hum control kar lete hai.\n",
    "- first we need to define private data members\n",
    "- for each private data member,we define get/set methods\n",
    "- bahar wala direct exis collage me exis nhi kar skte- data encapsulation"
   ]
  },
  {
   "cell_type": "markdown",
   "id": "d8ebd376-3579-404e-9546-245c4fc8fe1d",
   "metadata": {},
   "source": [
    "### class specific terms:\n",
    "- public--------->by default all methods/data members are public.\n",
    "- protected------>instance/class data members can be defined as private using _prefix\n",
    "- private-------->instance/class data members can be defined as private using __prefix"
   ]
  },
  {
   "cell_type": "markdown",
   "id": "21c51ef5-35fc-49af-bab6-201e02903943",
   "metadata": {},
   "source": [
    "### without encapsulaton"
   ]
  },
  {
   "cell_type": "code",
   "execution_count": 8,
   "id": "5fff8f83-4600-47c0-8e39-a89bc756854e",
   "metadata": {},
   "outputs": [
    {
     "name": "stdout",
     "output_type": "stream",
     "text": [
      "5000\n",
      "2000\n"
     ]
    }
   ],
   "source": [
    "# without encapsulation\n",
    "class emp:\n",
    "    def __init__(self):\n",
    "        self.sal=5000\n",
    "        \n",
    "obj=emp()\n",
    "print(obj.sal)\n",
    "obj.sal=2000           #ye salary ko damage kar rha hai.\n",
    "print(obj.sal)"
   ]
  },
  {
   "cell_type": "markdown",
   "id": "e458d724-e26c-437e-a4b1-642dc8e1ae50",
   "metadata": {},
   "source": [
    "### __sal   ko private considor kar **( __ =private )**"
   ]
  },
  {
   "cell_type": "markdown",
   "id": "8825ef10-1026-421b-b1e0-981e612c09d8",
   "metadata": {},
   "source": [
    "### with encapsulaton"
   ]
  },
  {
   "cell_type": "code",
   "execution_count": 4,
   "id": "bf0f5fe7-2776-42f4-9705-b8678e06e100",
   "metadata": {},
   "outputs": [
    {
     "ename": "AttributeError",
     "evalue": "'emp' object has no attribute '__sal'",
     "output_type": "error",
     "traceback": [
      "\u001b[1;31m---------------------------------------------------------------------------\u001b[0m",
      "\u001b[1;31mAttributeError\u001b[0m                            Traceback (most recent call last)",
      "Cell \u001b[1;32mIn[4], line 7\u001b[0m\n\u001b[0;32m      4\u001b[0m         \u001b[38;5;28mself\u001b[39m\u001b[38;5;241m.\u001b[39m__sal\u001b[38;5;241m=\u001b[39m\u001b[38;5;241m5000\u001b[39m       \u001b[38;5;66;03m#intance method me sirf private chalta hai\u001b[39;00m\n\u001b[0;32m      6\u001b[0m obj\u001b[38;5;241m=\u001b[39memp()\n\u001b[1;32m----> 7\u001b[0m \u001b[38;5;28mprint\u001b[39m(\u001b[43mobj\u001b[49m\u001b[38;5;241;43m.\u001b[39;49m\u001b[43m__sal\u001b[49m)\n",
      "\u001b[1;31mAttributeError\u001b[0m: 'emp' object has no attribute '__sal'"
     ]
    }
   ],
   "source": [
    "#with encapsulation\n",
    "class emp():\n",
    "    def __init__(self):\n",
    "        self.__sal=5000       #intance method me sirf private chalta hai\n",
    "        \n",
    "obj=emp()\n",
    "print(obj.__sal)"
   ]
  },
  {
   "cell_type": "markdown",
   "id": "b1345ef8-f7ab-4c96-8ed5-d9a610f4111d",
   "metadata": {},
   "source": [
    "### agar encapsulation (jiska dost hai wo jahe to by encapsulation aa skta hai.)"
   ]
  },
  {
   "cell_type": "code",
   "execution_count": 13,
   "id": "927f5aca-e949-43d0-914a-931e1328f6ba",
   "metadata": {},
   "outputs": [
    {
     "name": "stdout",
     "output_type": "stream",
     "text": [
      "5000\n"
     ]
    }
   ],
   "source": [
    "#with encapsulation\n",
    "class emp():\n",
    "    def __init__(self):\n",
    "        self.__sal=5000       #intance method me sirf private chalta hai\n",
    "       \n",
    "    def m1(self):\n",
    "        return self.__sal\n",
    "        \n",
    "    \n",
    "obj=emp()\n",
    "#print(obj.__sal)\n",
    "print(obj.m1())"
   ]
  },
  {
   "cell_type": "markdown",
   "id": "ea303c92-92f6-49fb-a136-758a97f051f1",
   "metadata": {},
   "source": [
    "### **getsal**  in encapsulation (get)"
   ]
  },
  {
   "cell_type": "code",
   "execution_count": 17,
   "id": "87289e9f-f1fe-4e0c-b290-95f08ead60cf",
   "metadata": {},
   "outputs": [
    {
     "name": "stdout",
     "output_type": "stream",
     "text": [
      "101 5000\n"
     ]
    }
   ],
   "source": [
    "#with encapsulation\n",
    "class emp():\n",
    "    def __init__(self):\n",
    "        self.__sal=5000       #intance method me sirf private chalta hai\n",
    "        self.__id=101\n",
    "        \n",
    "    def getsal(self):         #getsal\n",
    "        return self.__sal\n",
    "    \n",
    "    def getid(self):          #getid \n",
    "        return self.__id\n",
    "        \n",
    "    \n",
    "obj=emp()\n",
    "#print(obj.__sal)\n",
    "print(obj.getid(),obj.getsal())"
   ]
  },
  {
   "cell_type": "markdown",
   "id": "9d5af434-b623-4477-9d28-2cb65bddea02",
   "metadata": {},
   "source": [
    "## **set**\n",
    "### salary ko badalne per jo coding hogi "
   ]
  },
  {
   "cell_type": "code",
   "execution_count": 22,
   "id": "83fc99ad-b3b2-459e-8dbd-76d0fb098de7",
   "metadata": {},
   "outputs": [
    {
     "name": "stdout",
     "output_type": "stream",
     "text": [
      "5000\n",
      "706650\n",
      "706650\n"
     ]
    }
   ],
   "source": [
    "#with encapsulation\n",
    "class emp():\n",
    "    def __init__(self):\n",
    "        self.__sal=5000       #intance method me sirf private chalta hai\n",
    "   \n",
    "        \n",
    "    def getsal(self):         #getsal\n",
    "        return self.__sal\n",
    "    \n",
    "    def setsal(self,s):\n",
    "        if(self.__sal>s):\n",
    "            pass\n",
    "        else:\n",
    "            self.__sal=s\n",
    "        \n",
    "    \n",
    "obj=emp()\n",
    "#print(obj.__sal)\n",
    "print(obj.getsal())\n",
    "obj.setsal(706650)\n",
    "print(obj.getsal())\n",
    "obj.setsal(400)          #ydi hum salary kam karte hai ko to wo change nhi hoga by get/set method se kar skte hai.\n",
    "print(obj.getsal())"
   ]
  },
  {
   "cell_type": "markdown",
   "id": "c74591ef-0e9a-44c7-96c9-c5c4ed1e1138",
   "metadata": {},
   "source": [
    "## by class data member private karne per"
   ]
  },
  {
   "cell_type": "code",
   "execution_count": 24,
   "id": "f87c6452-b40b-41db-b4ff-d901d9323bda",
   "metadata": {},
   "outputs": [
    {
     "name": "stdout",
     "output_type": "stream",
     "text": [
      "10\n"
     ]
    }
   ],
   "source": [
    "class test:\n",
    "    x=10\n",
    "    \n",
    "print(test.x)"
   ]
  },
  {
   "cell_type": "code",
   "execution_count": 26,
   "id": "bbc22292-beb1-4ec6-b25d-435805e126cc",
   "metadata": {},
   "outputs": [
    {
     "name": "stdout",
     "output_type": "stream",
     "text": [
      "10\n"
     ]
    }
   ],
   "source": [
    "class test:\n",
    "    __x=10\n",
    "    \n",
    "    @classmethod\n",
    "    def getx(cls):\n",
    "        return cls.__x\n",
    "\n",
    "#print(test.__x)\n",
    "print(test.getx())"
   ]
  },
  {
   "cell_type": "code",
   "execution_count": null,
   "id": "89eef632-e317-4fb5-a24b-b5ebc537c9c3",
   "metadata": {},
   "outputs": [],
   "source": []
  }
 ],
 "metadata": {
  "kernelspec": {
   "display_name": "Python 3 (ipykernel)",
   "language": "python",
   "name": "python3"
  },
  "language_info": {
   "codemirror_mode": {
    "name": "ipython",
    "version": 3
   },
   "file_extension": ".py",
   "mimetype": "text/x-python",
   "name": "python",
   "nbconvert_exporter": "python",
   "pygments_lexer": "ipython3",
   "version": "3.10.9"
  }
 },
 "nbformat": 4,
 "nbformat_minor": 5
}
