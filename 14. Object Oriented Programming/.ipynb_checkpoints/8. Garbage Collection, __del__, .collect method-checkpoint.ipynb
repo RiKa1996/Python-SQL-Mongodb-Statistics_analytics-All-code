{
 "cells": [
  {
   "cell_type": "code",
   "execution_count": 8,
   "id": "a17a05fb-0c6b-4774-9d53-8f86953badae",
   "metadata": {},
   "outputs": [
    {
     "name": "stdout",
     "output_type": "stream",
     "text": [
      "True\n"
     ]
    }
   ],
   "source": [
    "# Garbage Collection bydefault on hi rahta hai. ye khud se garbage collection collect karta rhta hai.\n",
    "import gc\n",
    "print(gc.isenabled())\n",
    "#gc.disable()                   #disable kane per garbage collection nhi hota hai.\n",
    "#gc.enable()                    #enable kane per garbage collection dubara se start ho jata hai.\n",
    "\n",
    "class test:\n",
    "    pass\n",
    "\n",
    "t1=test()\n",
    "t2=test()"
   ]
  },
  {
   "cell_type": "markdown",
   "id": "f24a897e-ef7b-4c85-bee7-1b22f53198bb",
   "metadata": {},
   "source": [
    "## **_ _ del _ _(self)**"
   ]
  },
  {
   "cell_type": "code",
   "execution_count": 15,
   "id": "cce97a56-514d-4105-aead-bc5b4b48ceba",
   "metadata": {},
   "outputs": [
    {
     "name": "stdout",
     "output_type": "stream",
     "text": [
      "True\n",
      "bye bye\n",
      "bye bye\n"
     ]
    }
   ],
   "source": [
    "# Garbage Collection bydefault on hi rahta hai. ye khud se garbage collection collect karta rhta hai.\n",
    "import gc\n",
    "print(gc.isenabled())\n",
    "#gc.disable()                   #disable kane per garbage collection nhi hota hai.\n",
    "#gc.enable()                    #enable kane per garbage collection dubara se start ho jata hai.\n",
    "\n",
    "class test:\n",
    "    def __del__(self):\n",
    "        print(\"bye bye\")\n",
    "\n",
    "t1=test()\n",
    "t1=test()"
   ]
  },
  {
   "cell_type": "code",
   "execution_count": 14,
   "id": "81baaf95-b642-4524-9349-636b255f2e9c",
   "metadata": {},
   "outputs": [
    {
     "name": "stdout",
     "output_type": "stream",
     "text": [
      "True\n",
      "bye bye\n",
      "bye bye\n"
     ]
    }
   ],
   "source": [
    "# Garbage Collection bydefault on hi rahta hai. ye khud se garbage collection collect karta rhta hai.\n",
    "import gc\n",
    "print(gc.isenabled())\n",
    "#gc.disable()                   #disable kane per garbage collection nhi hota hai.\n",
    "#gc.enable()                    #enable kane per garbage collection dubara se start ho jata hai.\n",
    "\n",
    "class test:\n",
    "    def __del__(self):\n",
    "        print(\"bye bye\")\n",
    "\n",
    "t1=test()           #sb ke laptop pe alag alag result aa skta hai.\n",
    "t1=test()"
   ]
  },
  {
   "cell_type": "markdown",
   "id": "8c206317-f888-43a9-ae4b-5b4b415ff656",
   "metadata": {},
   "source": [
    "## **.collect method**"
   ]
  },
  {
   "cell_type": "code",
   "execution_count": 16,
   "id": "f39ab1a9-9c89-49f9-9ada-aca37bd1e39a",
   "metadata": {},
   "outputs": [
    {
     "name": "stdout",
     "output_type": "stream",
     "text": [
      "True\n",
      "bye bye\n",
      "bye bye\n"
     ]
    }
   ],
   "source": [
    "# Garbage Collection bydefault on hi rahta hai. ye khud se garbage collection collect karta rhta hai.\n",
    "import gc\n",
    "print(gc.isenabled())\n",
    "#gc.disable()                   #disable kane per garbage collection nhi hota hai.\n",
    "#gc.enable()                    #enable kane per garbage collection dubara se start ho jata hai.\n",
    "\n",
    "class test:\n",
    "    def __del__(self):\n",
    "        print(\"bye bye\")\n",
    "\n",
    "t1=test()           #sb ke laptop pe alag alag result aa skta hai.\n",
    "gc.collect()\n",
    "t1=test()"
   ]
  },
  {
   "cell_type": "raw",
   "id": "285512c5-3667-4942-aaa5-5f0bdbc477a4",
   "metadata": {},
   "source": [
    "__init__()   consutractor\n",
    "__del__()    destractor"
   ]
  }
 ],
 "metadata": {
  "kernelspec": {
   "display_name": "Python 3 (ipykernel)",
   "language": "python",
   "name": "python3"
  },
  "language_info": {
   "codemirror_mode": {
    "name": "ipython",
    "version": 3
   },
   "file_extension": ".py",
   "mimetype": "text/x-python",
   "name": "python",
   "nbconvert_exporter": "python",
   "pygments_lexer": "ipython3",
   "version": "3.10.9"
  }
 },
 "nbformat": 4,
 "nbformat_minor": 5
}
