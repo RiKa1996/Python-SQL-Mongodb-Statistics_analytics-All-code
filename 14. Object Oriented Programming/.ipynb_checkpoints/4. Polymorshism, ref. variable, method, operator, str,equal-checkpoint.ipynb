{
 "cells": [
  {
   "cell_type": "markdown",
   "id": "bb7ed7f1-e8a6-4934-82ee-26c17579d219",
   "metadata": {},
   "source": [
    "## **Pplymorshism** (poly=many, morshism=role/form)  Example: plus operator wala example kyoki plus ke bahot sare rup(work) hote hai.\n",
    "### ek humen ke bahot sare behaviour hote hai. jaise wo student, teacher, police,home, school, me kai per bhi uska different behaviour hota hai.\n",
    "- it is the ability of an entity to show multiple behaviours in different situations.\n",
    "- in python this entity can be:  **runtime**\n",
    "    - reference variable\n",
    "    - operator--overloading\n",
    "    - method----overring\n",
    "- only advantage of polymorshism is, we need not to remember multiple entities for similar behaviours in different situation.\n",
    "- ydi hume similar kam karna hai to bahot sari entities ko yad nhi rakhna padta hai."
   ]
  },
  {
   "cell_type": "markdown",
   "id": "cfd3c7c3-0b8d-42e9-968c-926cc45519f1",
   "metadata": {},
   "source": [
    "### 1. **reference variable**"
   ]
  },
  {
   "cell_type": "code",
   "execution_count": 4,
   "id": "9e270166-4535-445c-95c2-8d949ec26809",
   "metadata": {},
   "outputs": [
    {
     "name": "stdout",
     "output_type": "stream",
     "text": [
      "show of A\n",
      "show of B\n"
     ]
    }
   ],
   "source": [
    "class A:\n",
    "    def show(self):\n",
    "        print(\"show of A\")\n",
    "        \n",
    "class B:\n",
    "    def show(self):\n",
    "        print(\"show of B\")\n",
    "        \n",
    "def fun(obj):\n",
    "    obj.show()\n",
    "    \n",
    "    \n",
    "\n",
    "fun(A())                #fun ke under koi argument string/float/interger nhi hona chaiye bulki wo object hona chaiye \n",
    "fun(B())"
   ]
  },
  {
   "cell_type": "code",
   "execution_count": 5,
   "id": "afe55f00-7e8b-4044-bd14-4ed9501f2e68",
   "metadata": {},
   "outputs": [
    {
     "ename": "SyntaxError",
     "evalue": "invalid syntax (2885769839.py, line 9)",
     "output_type": "error",
     "traceback": [
      "\u001b[1;36m  Cell \u001b[1;32mIn[5], line 9\u001b[1;36m\u001b[0m\n\u001b[1;33m    def fun(A obj):\u001b[0m\n\u001b[1;37m              ^\u001b[0m\n\u001b[1;31mSyntaxError\u001b[0m\u001b[1;31m:\u001b[0m invalid syntax\n"
     ]
    }
   ],
   "source": [
    "# kuch language ne apne code ko aise likha hai jo kabhi chalega hi nhi.\n",
    "class A:\n",
    "    def show(self):\n",
    "        print(\"show of A\")\n",
    "        \n",
    "class B:\n",
    "    def show(self):\n",
    "        print(\"show of B\")\n",
    "        \n",
    "def fun(A obj):          # kuch language ne apne code ko aise likha hai jo kabhi chalega hi nhi.\n",
    "    obj.show()\n",
    "    \n",
    "    \n",
    "a=A()\n",
    "fun(a)\n",
    "fun(B())"
   ]
  },
  {
   "cell_type": "markdown",
   "id": "3036b199-3348-4c58-ad1d-efb08860117a",
   "metadata": {},
   "source": [
    "## 2. with method (**method overrding**) Example: Rahul bajaj and Rajiv bajaj\n",
    "- jaha method ek hai aur form do hai.\n",
    "- jaha rajiv bajaj(scooter) banate the bad me unke bete rahul bajaj(bike and scooter) ne unki company ko aage badaya. isme unohne bike bhi banai aur sath hi sath bike bhi bana di."
   ]
  },
  {
   "cell_type": "code",
   "execution_count": 7,
   "id": "be0ad6be-82eb-4b2a-941c-3707acb1af6d",
   "metadata": {},
   "outputs": [
    {
     "name": "stdout",
     "output_type": "stream",
     "text": [
      "m in A\n",
      "m in B\n"
     ]
    }
   ],
   "source": [
    "class A:\n",
    "    def m(self):\n",
    "        print(\"m in A\")\n",
    "        \n",
    "class B(A):\n",
    "    def m(self):\n",
    "        super().m()         #super function se rahul bajaj and rajiv bajaj dono aa jate hai. means class A and class B\n",
    "        print(\"m in B\")\n",
    "        \n",
    "obj=B()\n",
    "obj.m()"
   ]
  },
  {
   "cell_type": "markdown",
   "id": "bef85d81-c07d-406b-9e55-f3c77d8a1762",
   "metadata": {},
   "source": [
    "## 3. with operator (**operator overloading**)\n",
    "#### search ke liye: **special methods for operators in python**\n",
    "- defining behaviour of an operator to objects\n",
    "\n",
    "- java and c++ me\n",
    "    - Polymorphism\n",
    "        - compile--->overloading\n",
    "            - 1.operator\n",
    "            - 2.method\n",
    "        - runtime--->overrding"
   ]
  },
  {
   "cell_type": "code",
   "execution_count": 1,
   "id": "d6edc14e-0b1a-4287-affb-760b94ddc604",
   "metadata": {},
   "outputs": [
    {
     "name": "stdout",
     "output_type": "stream",
     "text": [
      "10\n",
      "20\n",
      "8656\n"
     ]
    }
   ],
   "source": [
    "class test:\n",
    "    def __add__(self,other):\n",
    "        return 10\n",
    "    \n",
    "    def __mul__(self,other):\n",
    "        return 20\n",
    "    \n",
    "    def __truediv__(self,other):\n",
    "        return 8656\n",
    "        \n",
    "t1=test()\n",
    "t2=test()\n",
    "\n",
    "print(t1+t2)\n",
    "print(t1*t2)\n",
    "print(t1/t2)"
   ]
  },
  {
   "cell_type": "code",
   "execution_count": 34,
   "id": "e45af73a-7a48-4cf9-bb03-ff9049bf91be",
   "metadata": {},
   "outputs": [
    {
     "name": "stdout",
     "output_type": "stream",
     "text": [
      "6 8\n"
     ]
    }
   ],
   "source": [
    "# kuch meaning full programm\n",
    "class point:\n",
    "    def __init__(self,a,b):\n",
    "        self.x=a\n",
    "        self.y=b\n",
    "        \n",
    "    def __add__(self,other):\n",
    "        x=self.x+other.x\n",
    "        y=self.y+other.y\n",
    "        \n",
    "        p3=point(x,y)\n",
    "        return p3\n",
    "p1=point(2,3)\n",
    "p2=point(4,5)\n",
    "p3=p1+p2\n",
    "print(p3.x,p3.y)\n"
   ]
  },
  {
   "cell_type": "markdown",
   "id": "adc41cd5-7c45-45f5-84fd-704c84cb4bbd",
   "metadata": {},
   "source": [
    "### **__ str __** () method"
   ]
  },
  {
   "cell_type": "code",
   "execution_count": 9,
   "id": "fc812b13-2b62-466a-a63f-3d970a81d49a",
   "metadata": {},
   "outputs": [
    {
     "name": "stdout",
     "output_type": "stream",
     "text": [
      "<__main__.test object at 0x0000022CA646FA90>\n",
      "[]\n",
      "hi\n"
     ]
    }
   ],
   "source": [
    "class test:\n",
    "    pass\n",
    "\n",
    "obj=test()\n",
    "print(obj)     #by interpreter--->obj.__str__(obj)    ye method phle se hi isme paya jata hai \n",
    "\n",
    "obj=list()\n",
    "print(obj)     #by interpreter--->obj.__str__(obj)\n",
    "\n",
    "obj=str(\"hi\")\n",
    "print(obj)     #by interpreter--->obj.__str__(obj)"
   ]
  },
  {
   "cell_type": "code",
   "execution_count": 11,
   "id": "c369d798-aa29-4c68-8a5b-a574bc9ba05c",
   "metadata": {},
   "outputs": [
    {
     "name": "stdout",
     "output_type": "stream",
     "text": [
      "hello\n",
      "[]\n",
      "hi\n"
     ]
    }
   ],
   "source": [
    "class test:\n",
    "    def __str__(self):\n",
    "        return \"hello\"\n",
    "\n",
    "obj=test()\n",
    "print(obj)     #by interpreter--->obj.__str__(obj)    ye method phle se hi isme paya jata hai \n",
    "\n",
    "obj=list()\n",
    "print(obj)     #by interpreter--->obj.__str__(obj)\n",
    "\n",
    "obj=str(\"hi\")\n",
    "print(obj)     #by interpreter--->obj.__str__(obj)"
   ]
  },
  {
   "cell_type": "code",
   "execution_count": 14,
   "id": "74d71d75-45c0-4230-b60f-2132bb4b25e7",
   "metadata": {},
   "outputs": [
    {
     "name": "stdout",
     "output_type": "stream",
     "text": [
      "<__main__.point object at 0x0000022CA646CF40>\n",
      "<__main__.point object at 0x0000022CA646EE60>\n",
      "<__main__.point object at 0x0000022CA646EA70>\n"
     ]
    }
   ],
   "source": [
    "# kuch meaning full programm\n",
    "class point:\n",
    "    def __init__(self,a,b):\n",
    "        self.x=a\n",
    "        self.y=b\n",
    "        \n",
    "    def __add__(self,other):\n",
    "        x=self.x+other.x\n",
    "        y=self.y+other.y\n",
    "        \n",
    "        p3=point(x,y)\n",
    "        return p3\n",
    "    \n",
    "p1=point(2,3)\n",
    "p2=point(4,5)\n",
    "p3=p1+p2\n",
    "print(p1)\n",
    "print(p2)\n",
    "print(p3)"
   ]
  },
  {
   "cell_type": "code",
   "execution_count": 32,
   "id": "e94732dc-835e-475a-8bd6-748e3364b071",
   "metadata": {},
   "outputs": [
    {
     "name": "stdout",
     "output_type": "stream",
     "text": [
      "(2,3)\n",
      "(4,5)\n",
      "(6,8)\n"
     ]
    }
   ],
   "source": [
    "# kuch meaning full programm\n",
    "class point:\n",
    "    def __init__(self,a,b):\n",
    "        self.x=a\n",
    "        self.y=b\n",
    "        \n",
    "    def __add__(self,other):\n",
    "        x=self.x+other.x\n",
    "        y=self.y+other.y\n",
    "        \n",
    "        p3=point(x,y)\n",
    "        return p3\n",
    "    \n",
    "    def __mul__(self,other):\n",
    "        x=self.x*other.x\n",
    "        y=self.y*other.y\n",
    "        \n",
    "        p3=point(x,y)\n",
    "        return p3\n",
    "    def __str__(self):\n",
    "        return f\"({self.x},{self.y})\"\n",
    "    \n",
    "p1=point(2,3)\n",
    "p2=point(4,5)\n",
    "p3=p1+p2      #by interpreter --->p1.__add__(p1,p2)\n",
    "#p3=p1*p2\n",
    "\n",
    "print(p1)\n",
    "print(p2)\n",
    "print(p3)"
   ]
  },
  {
   "cell_type": "markdown",
   "id": "ad5b9af0-ced3-4ee7-876b-98778530835d",
   "metadata": {},
   "source": [
    "#### Note-1\n",
    "- when we print(object) then internally _ _ str _ _ () is executed\n",
    "- bydefault all classes inherit this method from object class\n",
    "- in object class, it's definition return address\n",
    "- any class may also override it to change this behaviour"
   ]
  },
  {
   "cell_type": "code",
   "execution_count": 36,
   "id": "8eef706c-bf79-4aac-ae5c-aa904875b796",
   "metadata": {},
   "outputs": [
    {
     "name": "stdout",
     "output_type": "stream",
     "text": [
      "False\n"
     ]
    }
   ],
   "source": [
    "p1=point(2,2)\n",
    "p2=point(2,2)\n",
    "print(p1==p2)   #__eq__"
   ]
  },
  {
   "cell_type": "markdown",
   "id": "c16149be-f2f9-4e82-b2b2-1bdb4c32eebe",
   "metadata": {},
   "source": [
    "#### Note-2\n",
    "- when we compare 2 object (obj1==obj2) then internally _ _ eq _ _ () is executed\n",
    "- bydefault all classes inherit this method from object class\n",
    "- in object class, it's definition return True if object share same address else False\n",
    "- any class may also override it to change this behaviour"
   ]
  },
  {
   "cell_type": "markdown",
   "id": "6e5fd7ac-c727-42b0-82ba-4d9243d69e80",
   "metadata": {},
   "source": [
    "###  **_ _ eq _ _ ()**"
   ]
  },
  {
   "cell_type": "code",
   "execution_count": 39,
   "id": "dc2a2ba4-a7ea-4b96-b2cf-1cf86dfeacba",
   "metadata": {},
   "outputs": [
    {
     "name": "stdout",
     "output_type": "stream",
     "text": [
      "True\n",
      "False\n",
      "False\n"
     ]
    }
   ],
   "source": [
    "# kuch meaning full programm\n",
    "class point:\n",
    "    def __init__(self,a,b):\n",
    "        self.x=a\n",
    "        self.y=b\n",
    "        \n",
    "    def __add__(self,other):\n",
    "        x=self.x+other.x\n",
    "        y=self.y+other.y\n",
    "        \n",
    "        p3=point(x,y)\n",
    "        return p3\n",
    "    def __eq__(self,other):\n",
    "        if(self.x==other.x and self.y==other.y):\n",
    "            return True\n",
    "        else:\n",
    "            return False\n",
    "        \n",
    "    \n",
    "p1=point(2,2)\n",
    "p2=point(2,2)\n",
    "p3=point(4,5)\n",
    "print(p1==p2)\n",
    "print(p2==p3)\n",
    "print(p3==p1)"
   ]
  },
  {
   "cell_type": "code",
   "execution_count": null,
   "id": "d0d6c3e3-cfc8-41b0-96d8-d5774706a57e",
   "metadata": {},
   "outputs": [],
   "source": []
  }
 ],
 "metadata": {
  "kernelspec": {
   "display_name": "Python 3 (ipykernel)",
   "language": "python",
   "name": "python3"
  },
  "language_info": {
   "codemirror_mode": {
    "name": "ipython",
    "version": 3
   },
   "file_extension": ".py",
   "mimetype": "text/x-python",
   "name": "python",
   "nbconvert_exporter": "python",
   "pygments_lexer": "ipython3",
   "version": "3.10.9"
  }
 },
 "nbformat": 4,
 "nbformat_minor": 5
}
