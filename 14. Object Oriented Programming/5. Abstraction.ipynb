{
 "cells": [
  {
   "cell_type": "markdown",
   "id": "ef7d1b72-4151-44c5-b220-8f1b54d18e42",
   "metadata": {},
   "source": [
    "## **Abstraction** example: liacence banana wala example\n",
    "- abstraction se hume sirf output se mtlb hota uske process hume koi interest nhi hota hai.\n",
    "- process of defining **abstract classes** is known as Abstraction\n",
    "\n",
    "#### Abstract class\n",
    "- is a class that **can not be instantiated** (object creation is not allowed)\n",
    "- it is used to define standard(**blueprint/template**) for concreate classes.\n",
    "- A class is said to be abstract if it follow 2 rules:\n",
    "    - ABC as parent class\n",
    "    - atleast 1 abstract method\n",
    "    #### abstract method\n",
    "    - a method which is decorated with @abstractmethod decorator\n",
    "    - indented block without logic"
   ]
  },
  {
   "cell_type": "markdown",
   "id": "5d06dd80-f113-4358-85ad-b1cffee9c83a",
   "metadata": {},
   "source": [
    "## Very important line hai ye\n",
    "    #### - abstract class is a blueprint for concreate classes sharing similar functionalities\n",
    "    #### - concreate class or a class is a blueprint for object sharing similar functionalities"
   ]
  },
  {
   "cell_type": "code",
   "execution_count": 7,
   "id": "1eccd00d-9d0a-4800-9139-f9e0a7bb882a",
   "metadata": {},
   "outputs": [
    {
     "name": "stdout",
     "output_type": "stream",
     "text": [
      "this is show\n",
      "this is disp\n"
     ]
    }
   ],
   "source": [
    "from abc import ABC,abstractmethod\n",
    "class test(ABC):\n",
    "    \n",
    "    @abstractmethod\n",
    "    def show(self):\n",
    "        pass\n",
    "    \n",
    "    def disp(self):\n",
    "        print(\"this is disp\")\n",
    "        \n",
    "#obj=test()           #error\n",
    "\n",
    "class other(test):\n",
    "    def show(self):\n",
    "        print(\"this is show\")\n",
    "\n",
    "obj=other()\n",
    "obj.show()\n",
    "obj.disp()"
   ]
  },
  {
   "cell_type": "markdown",
   "id": "85114e30-2a97-4c0f-8cdb-63ebd06cc1bb",
   "metadata": {},
   "source": [
    "#### difference bitween **Abstract class and Concreate class**\n",
    "- 1. **Abstract class**\n",
    "    - can not be instantited\n",
    "    - we have to follow python rules to make a class abstract\n",
    "    \n",
    "- 2. **Concreate class**\n",
    "    - can be instantited\n",
    "    - bydefault, all python classes are concrete"
   ]
  },
  {
   "cell_type": "markdown",
   "id": "9d738d71-9016-4d4c-997e-b2be63d1ecaa",
   "metadata": {},
   "source": [
    "#### meaning full programm with rbi bank to all bank"
   ]
  },
  {
   "cell_type": "code",
   "execution_count": 11,
   "id": "11946317-1389-4427-908f-cd443c096f57",
   "metadata": {},
   "outputs": [
    {
     "name": "stdout",
     "output_type": "stream",
     "text": [
      "come to bank between 10-12 only\n",
      "kindly make a queue and wait for your turn..\n",
      "kindly make a queue and wait for your turn..\n",
      "come to bank between 10-12 only\n",
      "kindly make a queue and wait for your turn..\n",
      "kindly make a queue and wait for your turn..\n",
      "you need  not come to bank we will come to your place\n",
      "kindly collect token and wait in ac room for your turn..\n",
      "kindly collect token and wait in ac room for your turn..\n"
     ]
    }
   ],
   "source": [
    "class rbi(ABC):\n",
    "    \n",
    "    @abstractmethod\n",
    "    def openaccount(self):\n",
    "        pass\n",
    "    \n",
    "    @abstractmethod\n",
    "    def deposit(self):\n",
    "        pass\n",
    "    \n",
    "    @abstractmethod\n",
    "    def withdraw(self):\n",
    "        pass\n",
    "    \n",
    "class sbi(rbi):\n",
    "    \n",
    "    def openaccount(self):\n",
    "        print(\"come to bank between 10-12 only\")\n",
    "        \n",
    "    def deposit(self):\n",
    "        print(\"kindly make a queue and wait for your turn..\")\n",
    "        \n",
    "    def withdraw(self):\n",
    "        print(\"kindly make a queue and wait for your turn..\")\n",
    "        \n",
    "class hdfc(rbi):\n",
    "    \n",
    "    def openaccount(self):\n",
    "        print(\"come to bank between 10-12 only\")\n",
    "        \n",
    "    def deposit(self):\n",
    "        print(\"kindly make a queue and wait for your turn..\")\n",
    "        \n",
    "    def withdraw(self):\n",
    "        print(\"kindly make a queue and wait for your turn..\")\n",
    "        \n",
    "class axis(rbi):\n",
    "    \n",
    "    def openaccount(self):\n",
    "        print(\"you need  not come to bank we will come to your place\")\n",
    "        \n",
    "    def deposit(self):\n",
    "        print(\"kindly collect token and wait in ac room for your turn..\")\n",
    "        \n",
    "    def withdraw(self):\n",
    "        print(\"kindly collect token and wait in ac room for your turn..\")\n",
    "        \n",
    "obj=sbi()\n",
    "obj.openaccount()\n",
    "obj.deposit()\n",
    "obj.withdraw()\n",
    "\n",
    "obj=hdfc()\n",
    "obj.openaccount()\n",
    "obj.deposit()\n",
    "obj.withdraw()\n",
    "\n",
    "obj=axis()\n",
    "obj.openaccount()\n",
    "obj.deposit()\n",
    "obj.withdraw()\n",
    "    "
   ]
  },
  {
   "cell_type": "code",
   "execution_count": null,
   "id": "b7847fa5-cf38-4e50-a666-937f3a6affa6",
   "metadata": {},
   "outputs": [],
   "source": []
  }
 ],
 "metadata": {
  "kernelspec": {
   "display_name": "Python 3 (ipykernel)",
   "language": "python",
   "name": "python3"
  },
  "language_info": {
   "codemirror_mode": {
    "name": "ipython",
    "version": 3
   },
   "file_extension": ".py",
   "mimetype": "text/x-python",
   "name": "python",
   "nbconvert_exporter": "python",
   "pygments_lexer": "ipython3",
   "version": "3.10.9"
  }
 },
 "nbformat": 4,
 "nbformat_minor": 5
}
