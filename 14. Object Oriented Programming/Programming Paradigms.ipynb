{
 "cells": [
  {
   "cell_type": "markdown",
   "id": "114c0904-093f-4f72-b2f9-12dfaf0baaf1",
   "metadata": {},
   "source": [
    "## **Programming Paradigms(code design/way of coding):**\n",
    "#### Paradigms ka mtlb hai.- way of writing code\n",
    "\n",
    "- **Top level** - jo abhi tak hume padte aa rhe the\n",
    "- **Procedural** -\n",
    "- **Object Oriented** - aage jo hum padege"
   ]
  },
  {
   "cell_type": "code",
   "execution_count": null,
   "id": "ef49d00d-ad2a-44cd-9ab1-20214b2a1dc7",
   "metadata": {},
   "outputs": [],
   "source": []
  }
 ],
 "metadata": {
  "kernelspec": {
   "display_name": "",
   "name": ""
  },
  "language_info": {
   "name": ""
  }
 },
 "nbformat": 4,
 "nbformat_minor": 5
}
