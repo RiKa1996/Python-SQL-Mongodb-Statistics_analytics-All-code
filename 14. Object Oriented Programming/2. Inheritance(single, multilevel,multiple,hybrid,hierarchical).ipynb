{
 "cells": [
  {
   "cell_type": "markdown",
   "id": "fad34d7a-cfdc-46a7-80b1-67ff79f931ed",
   "metadata": {},
   "source": [
    "## **Inheritance** parentce and child\n",
    "- it provide class code reusability\n",
    "- method of existing class (parent/super/base) can be used by another class(child/sub/derived)\n",
    "- child class may also define it's own method (know as extension of parent).\n",
    "- class child(parent):\n",
    "    - stmts\n",
    "    \n",
    "### Type of Inheritance\n",
    "- single level------------>ek parent aur ek hi child\n",
    "- multilevel-------------->hariband roy bachhan-- amitabh bachhan-- abhishek bachhan\n",
    "- multiple----------------->ek child ka do ya do se jyada parent\n",
    "- Hybrid -------------->ristedari\n",
    "- Hierarchical---------------------->koi ek aisi jich jo sabhi use kr skte hai. jaise sleepin and eating this is example."
   ]
  },
  {
   "cell_type": "markdown",
   "id": "56aac517-8787-4e1b-a4c7-c0294eee6201",
   "metadata": {},
   "source": [
    "## Example:"
   ]
  },
  {
   "cell_type": "markdown",
   "id": "11015acd-ce79-4466-a71a-1581ee246b42",
   "metadata": {},
   "source": [
    "#### 1. single level inheritance jisme ek parent aur ek hi child hota hai."
   ]
  },
  {
   "cell_type": "code",
   "execution_count": 4,
   "id": "e1bb362a-4af2-4b0a-9a48-278d12bacdea",
   "metadata": {},
   "outputs": [
    {
     "name": "stdout",
     "output_type": "stream",
     "text": [
      "this is call\n",
      "this is msg\n",
      "this is call\n"
     ]
    }
   ],
   "source": [
    "class telephon:\n",
    "    def call(self):\n",
    "        print(\"this is call\")\n",
    "        \n",
    "t=telephon()\n",
    "t.call()\n",
    "\n",
    "class mobile(telephon):\n",
    "    def msg(self):\n",
    "        print(\"this is msg\")\n",
    "        \n",
    "m=mobile()\n",
    "m.msg()\n",
    "m.call()"
   ]
  },
  {
   "cell_type": "markdown",
   "id": "bf0989a1-23ed-459b-a47c-cb0ff6039db4",
   "metadata": {},
   "source": [
    "#### 2. multilevel inheritance- ek se jyada generation dikhai jati hai. jaise : hariband roy bachhan-- amitabh bachhan-- abhishek bachhan"
   ]
  },
  {
   "cell_type": "code",
   "execution_count": 10,
   "id": "31e740e4-61fd-43b6-b010-7cc297056fea",
   "metadata": {},
   "outputs": [
    {
     "name": "stdout",
     "output_type": "stream",
     "text": [
      "this is msg\n",
      "this is call\n",
      "this is download\n"
     ]
    }
   ],
   "source": [
    "class telephon:\n",
    "    def call(self):\n",
    "        print(\"this is call\")\n",
    "\n",
    "class mobile(telephon):\n",
    "    def msg(self):\n",
    "        print(\"this is msg\")\n",
    "        \n",
    "class smartphon(mobile,telephon):\n",
    "    def download(self):\n",
    "        print(\"this is download\")\n",
    "        \n",
    "sp=smartphon()\n",
    "sp.msg()\n",
    "sp.call()\n",
    "sp.download()"
   ]
  },
  {
   "cell_type": "markdown",
   "id": "19dacad8-400c-4d48-bf27-f69ecaf78dec",
   "metadata": {},
   "source": [
    "#### 3. multiple inheritance- ka mtlb hai child class ka inheritance bnate samay humne ek se jyada parent  ka use krna."
   ]
  },
  {
   "cell_type": "code",
   "execution_count": 14,
   "id": "9f70e2b9-0405-4f9a-9424-e17910c0a5f4",
   "metadata": {},
   "outputs": [
    {
     "name": "stdout",
     "output_type": "stream",
     "text": [
      "this is msg\n",
      "this is call\n",
      "this is download\n"
     ]
    }
   ],
   "source": [
    "class telephon:                       # is case me abhi parent hai.\n",
    "    def call(self):\n",
    "        print(\"this is call\")\n",
    "\n",
    "class camera:               # is case me abhi parent hai.\n",
    "    def picture(self):\n",
    "        print(\"this is msg\")\n",
    "        \n",
    "class smartphon(camera,telephon):     # aur ye child hai.\n",
    "    def download(self):\n",
    "        print(\"this is download\")\n",
    "        \n",
    "sp=smartphon()\n",
    "sp.picture()\n",
    "sp.call()\n",
    "sp.download()"
   ]
  },
  {
   "cell_type": "markdown",
   "id": "58936236-336b-4662-9db1-d6780f102605",
   "metadata": {},
   "source": [
    "#### 4. Hybrid **inheritance** is hume ek dusre ke parent ke child, child ke bhi child dekne ko milte hai hybrid inheritance me."
   ]
  },
  {
   "cell_type": "code",
   "execution_count": 17,
   "id": "f2363157-0b61-42dd-8412-ee6d0cb759d0",
   "metadata": {},
   "outputs": [
    {
     "name": "stdout",
     "output_type": "stream",
     "text": [
      "this is m1\n",
      "this is m2\n",
      "this is m3\n",
      "this is m4\n"
     ]
    }
   ],
   "source": [
    "class A:                        #parent        #parent of B\n",
    "    def m1(self):\n",
    "        print(\"this is m1\")\n",
    "        \n",
    "class B(A):                     #child of A    #parent of D\n",
    "    def m2(self):\n",
    "        print(\"this is m2\")\n",
    "        \n",
    "class C:                        #parent        #parent of D\n",
    "    def m3(self):\n",
    "        print(\"this is m3\")\n",
    "\n",
    "# this is exaple of hybrid inheritance\n",
    "class D(B,C):                   #child of B and C\n",
    "    def m4(self):\n",
    "        print(\"this is m4\")\n",
    "        \n",
    "obj=D()\n",
    "obj.m1()\n",
    "obj.m2()\n",
    "obj.m3()\n",
    "obj.m4()"
   ]
  },
  {
   "cell_type": "markdown",
   "id": "ccb3a440-fb19-4e21-ba8d-6af3dca0d39e",
   "metadata": {},
   "source": [
    "#### 5. Hierarchical inheritance- jisme ko aisi jich jo sabhi ke need ho.  person->eating and sleeping.\n",
    "- jisme ek parent hota hai . aur uske further child bahot se child"
   ]
  },
  {
   "cell_type": "code",
   "execution_count": 30,
   "id": "7cc8bc55-87d3-4efb-afa9-9e92ccf6ca94",
   "metadata": {},
   "outputs": [
    {
     "name": "stdout",
     "output_type": "stream",
     "text": [
      "this is eating\n",
      "this is sleeping\n",
      "this is study\n",
      "this is eating\n",
      "this is sleeping\n",
      "this is acting\n",
      "this is criket\n",
      "this is eating\n",
      "this is sleeping\n"
     ]
    }
   ],
   "source": [
    "class person:                      #parent\n",
    "    def eating(self):\n",
    "        print(\"this is eating\")\n",
    "        \n",
    "    def sleeping(self):\n",
    "        print(\"this is sleeping\")\n",
    "        \n",
    "class student(person):            #child of person\n",
    "    def study(self):\n",
    "        print(\"this is study\")\n",
    "        \n",
    "class actor(person):              #child of person\n",
    "    def acting(self):\n",
    "        print(\"this is acting\")\n",
    "        \n",
    "class player(person):             #child of person\n",
    "    def criket(self):\n",
    "        print(\"this is criket\")\n",
    "        \n",
    "obj=student()\n",
    "obj.eating()\n",
    "obj.sleeping()\n",
    "obj.study()\n",
    "\n",
    "obj=actor()\n",
    "obj.eating()\n",
    "obj.sleeping()\n",
    "obj.acting()\n",
    "\n",
    "obj=player()\n",
    "obj.criket()\n",
    "obj.eating()\n",
    "obj.sleeping()"
   ]
  },
  {
   "cell_type": "code",
   "execution_count": null,
   "id": "4485040d-d0f3-4e1a-b6aa-6cb78b9a8bbc",
   "metadata": {},
   "outputs": [],
   "source": []
  }
 ],
 "metadata": {
  "kernelspec": {
   "display_name": "Python 3 (ipykernel)",
   "language": "python",
   "name": "python3"
  },
  "language_info": {
   "codemirror_mode": {
    "name": "ipython",
    "version": 3
   },
   "file_extension": ".py",
   "mimetype": "text/x-python",
   "name": "python",
   "nbconvert_exporter": "python",
   "pygments_lexer": "ipython3",
   "version": "3.10.9"
  }
 },
 "nbformat": 4,
 "nbformat_minor": 5
}
