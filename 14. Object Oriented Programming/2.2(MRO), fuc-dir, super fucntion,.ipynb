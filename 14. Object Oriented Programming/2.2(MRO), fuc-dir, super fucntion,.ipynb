{
 "cells": [
  {
   "cell_type": "markdown",
   "id": "cdc74fbf-bbcf-4afa-9481-a78b1babd4dd",
   "metadata": {},
   "source": [
    "## **MRO** (Method Resolution Order)\n",
    "- ydi class A and B me dono me hi m1 method likha hua ho to \n",
    "- jb hum c class ko call karege, tb us time jo class ke ander jo phle A ya B likha hoga wo phle call ho jayega\n",
    "- isme do ya do se jyada parent ho skte hai. "
   ]
  },
  {
   "cell_type": "code",
   "execution_count": 6,
   "id": "5e12a1f4-8f92-4428-8165-9758be23e101",
   "metadata": {},
   "outputs": [
    {
     "name": "stdout",
     "output_type": "stream",
     "text": [
      "m1 is A\n",
      "m2 in B\n",
      "m3 in C\n"
     ]
    }
   ],
   "source": [
    "class A:\n",
    "    def m1(self):\n",
    "        print(\"m1 is A\")               #m1 method isme bhi hai or\n",
    "        \n",
    "class B:\n",
    "    def m2(self):\n",
    "        print(\"m2 in B\")\n",
    "        \n",
    "    def m1(self):                         # aur ismme bhi ho to, kya hoga\n",
    "        print(\"m1 in B\")\n",
    "        \n",
    "class C(A,B):\n",
    "    def m3(self):\n",
    "        print(\"m3 in C\")\n",
    "        \n",
    "obj=C()\n",
    "obj.m1()      #MRO (Method Resolution Order)\n",
    "obj.m2()      #MRO (Method Resolution Order)\n",
    "obj.m3()      #MRO (Method Resolution Order)"
   ]
  },
  {
   "cell_type": "markdown",
   "id": "58841e13-3be6-48b0-8729-dbe2d4662dda",
   "metadata": {},
   "source": [
    "#### class change krne per"
   ]
  },
  {
   "cell_type": "code",
   "execution_count": 8,
   "id": "26b18af3-945f-4957-8a0e-420176cce2f0",
   "metadata": {},
   "outputs": [
    {
     "name": "stdout",
     "output_type": "stream",
     "text": [
      "m1 in B\n",
      "m2 in B\n",
      "m3 in C\n"
     ]
    }
   ],
   "source": [
    "class A:\n",
    "    def m1(self):\n",
    "        print(\"m1 is A\")               #m1 method isme bhi hai or\n",
    "        \n",
    "class B:\n",
    "    def m2(self):\n",
    "        print(\"m2 in B\")\n",
    "        \n",
    "    def m1(self):                         # aur ismme bhi ho to kya hoga\n",
    "        print(\"m1 in B\")\n",
    "        \n",
    "class C(B,A):                            # agar B ko phle likhne per m1 B ka aur m2 bhi B ka hi chalega .\n",
    "    def m3(self):\n",
    "        print(\"m3 in C\")\n",
    "        \n",
    "obj=C()\n",
    "obj.m1()      #MRO (Method Resolution Order)\n",
    "obj.m2()\n",
    "obj.m3()"
   ]
  },
  {
   "cell_type": "code",
   "execution_count": 9,
   "id": "4844f4de-0518-4ed0-86b7-136070b097a2",
   "metadata": {},
   "outputs": [],
   "source": [
    "class test:     #class test(object):    #object me phle se hi consutrution hota hai.\n",
    "    pass\n",
    "\n",
    "obj=test()"
   ]
  },
  {
   "cell_type": "code",
   "execution_count": 10,
   "id": "97b80a71-5fd9-4e15-90ba-e350657b886f",
   "metadata": {},
   "outputs": [
    {
     "name": "stdout",
     "output_type": "stream",
     "text": [
      "this is cons.\n"
     ]
    }
   ],
   "source": [
    "class test:\n",
    "    def __init__(self):\n",
    "        print(\"this is cons.\")\n",
    "        \n",
    "obj=test()"
   ]
  },
  {
   "cell_type": "markdown",
   "id": "a2256414-750f-43da-abc2-9d6000718808",
   "metadata": {},
   "source": [
    "### **Function** dir"
   ]
  },
  {
   "cell_type": "code",
   "execution_count": 13,
   "id": "5db20cfd-f892-4df6-b69e-dc47a65f9707",
   "metadata": {},
   "outputs": [],
   "source": [
    "dir(object)"
   ]
  },
  {
   "cell_type": "code",
   "execution_count": 14,
   "id": "184f1503-ed88-45e9-a025-409fe77a0fa7",
   "metadata": {},
   "outputs": [
    {
     "data": {
      "text/plain": [
       "23"
      ]
     },
     "execution_count": 14,
     "metadata": {},
     "output_type": "execute_result"
    }
   ],
   "source": [
    "len(dir(object))"
   ]
  },
  {
   "cell_type": "code",
   "execution_count": null,
   "id": "01e5ae75-0103-465d-b30d-162d7b923abd",
   "metadata": {},
   "outputs": [],
   "source": [
    "#help(object)"
   ]
  },
  {
   "cell_type": "markdown",
   "id": "ac5aea55-6bdc-4f99-966b-5fb9d04c3ba3",
   "metadata": {},
   "source": [
    "### argument likhne per"
   ]
  },
  {
   "cell_type": "code",
   "execution_count": 27,
   "id": "0e1af750-7490-41f4-9022-6e41a3931938",
   "metadata": {},
   "outputs": [
    {
     "name": "stdout",
     "output_type": "stream",
     "text": [
      "sonu 25\n",
      "rishav 26\n"
     ]
    }
   ],
   "source": [
    "class person:\n",
    "    def __init__(self,n,a):\n",
    "        self.name=n\n",
    "        self.age=a\n",
    "        \n",
    "class student(person):\n",
    "    pass\n",
    "\n",
    "s1=student(\"sonu\",25)\n",
    "s2=student(\"rishav\",26)\n",
    "\n",
    "print(s1.name,s1.age)\n",
    "print(s2.name,s2.age)"
   ]
  },
  {
   "cell_type": "code",
   "execution_count": 31,
   "id": "ba6c1970-6679-44ee-8cc7-d8b1a6ef94d5",
   "metadata": {},
   "outputs": [
    {
     "name": "stdout",
     "output_type": "stream",
     "text": [
      "101 sonu 25\n",
      "102 rishav 26\n"
     ]
    }
   ],
   "source": [
    "class person:\n",
    "    def __init__(self,n,a):\n",
    "        self.name=n\n",
    "        self.age=a\n",
    "        \n",
    "class student(person):                  #ydi roll no. bhi add krne per\n",
    "    def __init__(self,r,n,a):\n",
    "        self.roll=r\n",
    "        self.name=n\n",
    "        self.age=a\n",
    "        \n",
    "\n",
    "    \n",
    "s1=student(101,\"sonu\",25,)\n",
    "s2=student(102,\"rishav\",26)\n",
    "\n",
    "print(s1.roll,s1.name,s1.age)\n",
    "print(s2.roll,s2.name,s2.age)"
   ]
  },
  {
   "cell_type": "markdown",
   "id": "c4a00922-095e-4647-8166-191232a01f2e",
   "metadata": {},
   "source": [
    "### **super** function--->**super(). _ _init _ _ (n,a)**\n",
    "#### isko short kr ke likhne per"
   ]
  },
  {
   "cell_type": "code",
   "execution_count": 38,
   "id": "6681aa19-90ce-4c81-b91a-80e5789b846e",
   "metadata": {},
   "outputs": [
    {
     "name": "stdout",
     "output_type": "stream",
     "text": [
      "101 sonu 25\n",
      "102 rishav 26\n"
     ]
    }
   ],
   "source": [
    "class person:\n",
    "    def __init__(self,n,a):\n",
    "        self.name=n\n",
    "        self.age=a\n",
    "        \n",
    "class student(person):                  #ydi roll no. bhi add krne per\n",
    "    def __init__(self,r,n,a):\n",
    "        self.roll=r\n",
    "        super().__init__(n,a)          # ydi class me ek se jyada parent hai. to jo phle likha jayega wo aa jayega. class student(person,p1,p2,....)\n",
    "\n",
    "    \n",
    "s1=student(101,\"sonu\",25,)\n",
    "s2=student(102,\"rishav\",26)\n",
    "\n",
    "print(s1.roll,s1.name,s1.age)\n",
    "print(s2.roll,s2.name,s2.age)"
   ]
  },
  {
   "cell_type": "markdown",
   "id": "5d60cff7-867e-45fd-8295-657b89825236",
   "metadata": {},
   "source": [
    "### **super** function--->**super().__init__(n,a)** ki jagah hum direct class ka name bhi likh skte hai.  **person. _ _ init _ _ (self,n,a)**\n",
    "#### isko short kr ke likhne per\n",
    "#### super fucntion jyada code likhne se bachata hai."
   ]
  },
  {
   "cell_type": "code",
   "execution_count": 37,
   "id": "1f2526c0-a2b9-418b-893a-b8cc3744ddc9",
   "metadata": {},
   "outputs": [
    {
     "name": "stdout",
     "output_type": "stream",
     "text": [
      "101 sonu 25\n",
      "102 rishav 26\n"
     ]
    }
   ],
   "source": [
    "class person:\n",
    "    def __init__(self,n,a):\n",
    "        self.name=n\n",
    "        self.age=a\n",
    "        \n",
    "class student(person):                  #ydi roll no. bhi add krne per\n",
    "    def __init__(self,r,n,a):\n",
    "        self.roll=r\n",
    "        person.__init__(self,n,a)      #super function\n",
    "\n",
    "    \n",
    "s1=student(101,\"sonu\",25)\n",
    "s2=student(102,\"rishav\",26)\n",
    "\n",
    "print(s1.roll,s1.name,s1.age)\n",
    "print(s2.roll,s2.name,s2.age)"
   ]
  },
  {
   "cell_type": "code",
   "execution_count": null,
   "id": "2c8700d6-be10-427f-bc6d-0447cb607de9",
   "metadata": {},
   "outputs": [],
   "source": []
  },
  {
   "cell_type": "code",
   "execution_count": null,
   "id": "d35e873e-c42d-4f89-a92d-c515e7bcb551",
   "metadata": {},
   "outputs": [],
   "source": []
  }
 ],
 "metadata": {
  "kernelspec": {
   "display_name": "Python 3 (ipykernel)",
   "language": "python",
   "name": "python3"
  },
  "language_info": {
   "codemirror_mode": {
    "name": "ipython",
    "version": 3
   },
   "file_extension": ".py",
   "mimetype": "text/x-python",
   "name": "python",
   "nbconvert_exporter": "python",
   "pygments_lexer": "ipython3",
   "version": "3.10.9"
  }
 },
 "nbformat": 4,
 "nbformat_minor": 5
}
