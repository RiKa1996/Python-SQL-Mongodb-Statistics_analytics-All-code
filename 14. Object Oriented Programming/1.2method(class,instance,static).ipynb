{
 "cells": [
  {
   "cell_type": "markdown",
   "id": "4fa0e42c-5e2b-4ab2-904d-3d559abce209",
   "metadata": {},
   "source": [
    "## **Method**\n",
    "- it represents a logic in class\n",
    "- in python, threr are three types of method\n",
    "    - 1.instance method\n",
    "    - 2.class method\n",
    "    - 3.static method"
   ]
  },
  {
   "cell_type": "code",
   "execution_count": 6,
   "id": "9e2a78df-c46b-4ad6-a4d9-37ed683302b9",
   "metadata": {},
   "outputs": [
    {
     "name": "stdout",
     "output_type": "stream",
     "text": [
      "this is m1\n",
      "this is m2\n",
      "this is m2\n",
      "this is m3\n"
     ]
    }
   ],
   "source": [
    "class test:\n",
    "    def m1(self):                 #isntance method(self represents current executed)\n",
    "        print(\"this is m1\")\n",
    "        \n",
    "    @classmethod\n",
    "    def m2(cls):                 #class method(cls represent current executed)\n",
    "        print(\"this is m2\")\n",
    "        \n",
    "    @staticmethod\n",
    "    def m3():                    #static method\n",
    "        print(\"this is m3\")\n",
    "        \n",
    "t=test()\n",
    "#test.m1()      #error ye sirf class aur static me hi ho skta hai. na ki instance method me\n",
    "t.m1()         #by interpreter---->t.m1(t)\n",
    "\n",
    "t.m2()         #by interpreter--->t.m2(test)\n",
    "test.m2()      # ye class ke name se bhi chal jata hai.        #by interpreter----->test.m2(test)\n",
    "\n",
    "t.m3           #by interpreter ----->t.m3()\n",
    "test.m3()      #by interpreter ----->test.m3()"
   ]
  },
  {
   "cell_type": "markdown",
   "id": "dac979b3-473a-4c7e-94e3-40e98fa0ca6c",
   "metadata": {},
   "source": [
    "#### **isntance** **method**-- if logic is based on instance data members\n",
    "#### **class** **method**-- if logic is based on class data members\n",
    "#### **static** **method**--if logic independent of instance/class data members"
   ]
  },
  {
   "cell_type": "markdown",
   "id": "35bd5b92-ed10-4fce-baf7-313b1b4b93fb",
   "metadata": {},
   "source": [
    "## **calculator** by instacne method se"
   ]
  },
  {
   "cell_type": "code",
   "execution_count": 13,
   "id": "01302dd4-9ced-4be9-9481-a7a553447a27",
   "metadata": {},
   "outputs": [
    {
     "name": "stdout",
     "output_type": "stream",
     "text": [
      "9\n"
     ]
    }
   ],
   "source": [
    "class calc:\n",
    "    def __init__(self):\n",
    "        self.x=4\n",
    "        self.y=5\n",
    "        \n",
    "    def add(self):\n",
    "        print(self.x+self.y)\n",
    "obj=calc()\n",
    "obj.add()\n",
    "    "
   ]
  },
  {
   "cell_type": "markdown",
   "id": "5e592722-ccb3-41e1-a82e-8985f2fac20c",
   "metadata": {},
   "source": [
    "## **calculator** by class data member se"
   ]
  },
  {
   "cell_type": "code",
   "execution_count": 18,
   "id": "e41327e7-1696-44db-ae63-60c40dc4e26a",
   "metadata": {},
   "outputs": [
    {
     "name": "stdout",
     "output_type": "stream",
     "text": [
      "11\n",
      "11\n"
     ]
    }
   ],
   "source": [
    "class calc:\n",
    "    x=5\n",
    "    y=6\n",
    "    \n",
    "    @classmethod\n",
    "    def add(cls):\n",
    "        print(calc.x+calc.y)\n",
    "        print(cls.x+cls.y)\n",
    "        \n",
    "calc.add()\n",
    "   "
   ]
  },
  {
   "cell_type": "markdown",
   "id": "652ca1df-b8c0-4181-af90-979b846dc74f",
   "metadata": {},
   "source": [
    "#### class ka name change krne per kha kha change krna pdega"
   ]
  },
  {
   "cell_type": "code",
   "execution_count": 21,
   "id": "208ebb22-dd19-4997-91c7-ab2f87dbc6f2",
   "metadata": {},
   "outputs": [
    {
     "name": "stdout",
     "output_type": "stream",
     "text": [
      "11\n",
      "11\n"
     ]
    }
   ],
   "source": [
    "class calculator:               #First yha change karna padega \n",
    "    x=5\n",
    "    y=6\n",
    "    \n",
    "    @classmethod\n",
    "    def add(cls):\n",
    "        print(calculator.x+calculator.y)           #second yha chage krna padega\n",
    "        print(cls.x+cls.y)\n",
    "        \n",
    "calculator.add()                 #third yha chage krna padega\n",
    "   "
   ]
  },
  {
   "cell_type": "code",
   "execution_count": null,
   "id": "e11a69e4-8c38-4662-80f9-48e5d9029169",
   "metadata": {},
   "outputs": [],
   "source": []
  }
 ],
 "metadata": {
  "kernelspec": {
   "display_name": "Python 3 (ipykernel)",
   "language": "python",
   "name": "python3"
  },
  "language_info": {
   "codemirror_mode": {
    "name": "ipython",
    "version": 3
   },
   "file_extension": ".py",
   "mimetype": "text/x-python",
   "name": "python",
   "nbconvert_exporter": "python",
   "pygments_lexer": "ipython3",
   "version": "3.10.9"
  }
 },
 "nbformat": 4,
 "nbformat_minor": 5
}
