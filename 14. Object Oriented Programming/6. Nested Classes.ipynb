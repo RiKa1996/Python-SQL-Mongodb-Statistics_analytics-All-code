{
 "cells": [
  {
   "cell_type": "markdown",
   "id": "03aa26a2-8bce-4196-9139-672885651a31",
   "metadata": {},
   "source": [
    "## Nested Classes\n",
    "    #### - A class is said to be nested if it is defined inside block of other class"
   ]
  },
  {
   "cell_type": "code",
   "execution_count": 2,
   "id": "4a2705ae-29c8-48ca-9fef-5cd111c03d93",
   "metadata": {},
   "outputs": [
    {
     "name": "stdout",
     "output_type": "stream",
     "text": [
      "show in A\n"
     ]
    },
    {
     "ename": "AttributeError",
     "evalue": "'A' object has no attribute 'disp'",
     "output_type": "error",
     "traceback": [
      "\u001b[1;31m---------------------------------------------------------------------------\u001b[0m",
      "\u001b[1;31mAttributeError\u001b[0m                            Traceback (most recent call last)",
      "Cell \u001b[1;32mIn[2], line 13\u001b[0m\n\u001b[0;32m     11\u001b[0m obj\u001b[38;5;241m=\u001b[39mA()\n\u001b[0;32m     12\u001b[0m obj\u001b[38;5;241m.\u001b[39mshow()\n\u001b[1;32m---> 13\u001b[0m \u001b[43mobj\u001b[49m\u001b[38;5;241;43m.\u001b[39;49m\u001b[43mdisp\u001b[49m()\n",
      "\u001b[1;31mAttributeError\u001b[0m: 'A' object has no attribute 'disp'"
     ]
    }
   ],
   "source": [
    "class A:        #outer/top level\n",
    "    \n",
    "    def show(self):\n",
    "        print(\"show in A\")\n",
    "        \n",
    "    class B:                  #nested class/ inner class\n",
    "        \n",
    "        def disp(self):\n",
    "            print(\"disp in B\")\n",
    "            \n",
    "obj=A()\n",
    "obj.show()\n",
    "obj.disp()"
   ]
  },
  {
   "cell_type": "code",
   "execution_count": 3,
   "id": "b41bd2cc-eb56-48c0-a4c1-7535330a1757",
   "metadata": {},
   "outputs": [
    {
     "ename": "NameError",
     "evalue": "name 'j' is not defined",
     "output_type": "error",
     "traceback": [
      "\u001b[1;31m---------------------------------------------------------------------------\u001b[0m",
      "\u001b[1;31mNameError\u001b[0m                                 Traceback (most recent call last)",
      "Cell \u001b[1;32mIn[3], line 2\u001b[0m\n\u001b[0;32m      1\u001b[0m i\u001b[38;5;241m=\u001b[39m\u001b[38;5;241m10\u001b[39m\n\u001b[1;32m----> 2\u001b[0m \u001b[38;5;28mprint\u001b[39m(\u001b[43mj\u001b[49m)\n",
      "\u001b[1;31mNameError\u001b[0m: name 'j' is not defined"
     ]
    }
   ],
   "source": [
    "i=10\n",
    "print(j)"
   ]
  },
  {
   "cell_type": "markdown",
   "id": "5088e9e7-e291-4c32-8911-c37fefcb72fa",
   "metadata": {},
   "source": [
    "### Difference between **AttributeError and NameError** (upper ke dono hai.)"
   ]
  },
  {
   "cell_type": "code",
   "execution_count": 10,
   "id": "e4086e73-15b8-4a91-aac3-3f9700b89dfb",
   "metadata": {},
   "outputs": [
    {
     "name": "stdout",
     "output_type": "stream",
     "text": [
      "show in A\n",
      "disp in B\n",
      "disp in B\n"
     ]
    }
   ],
   "source": [
    "class A:        #outer/top level\n",
    "    \n",
    "    def show(self):\n",
    "        print(\"show in A\")\n",
    "        \n",
    "    class B:                  #nested class/ inner class\n",
    "        \n",
    "        def disp(self):\n",
    "            print(\"disp in B\")\n",
    "            \n",
    "obj=A()\n",
    "obj.show()\n",
    "#obj.disp()   #error\n",
    "\n",
    "#1st way\n",
    "obj=obj.B()               # ya to obj=A() ka obj laga ke then dot laga ke B() method ko call karne per call ho jata hai.\n",
    "obj.disp()   #error\n",
    "\n",
    "#2nd way\n",
    "obj=A.B()      #so phle A() method ko call ke sath dot laga ke B() method ko call karna padega.\n",
    "obj.disp()"
   ]
  },
  {
   "cell_type": "markdown",
   "id": "57981e62-2aa8-4178-88da-d94b084ce4bd",
   "metadata": {},
   "source": [
    "### nested class hum kyo pade"
   ]
  },
  {
   "cell_type": "code",
   "execution_count": null,
   "id": "acc39aef-3bb5-49b1-8927-3f070324245b",
   "metadata": {},
   "outputs": [],
   "source": [
    "class India():\n",
    "    -------\n",
    "    \n",
    "class Noida():\n",
    "    -------\n",
    "    \n",
    "#is code me hum direct bahar country se direct noida me nhi aa skte, aane ke liye hume phle india me aana padega then noida me aa skte hai.\n",
    "# is liye ye code banaya jata hai. kyoki noida ko hum nested class bana skte hai.\n",
    "\n",
    "class emp():\n",
    "    def e1---\n",
    "    def e2---\n",
    "    \n",
    "    \n",
    "class address(emp):\n",
    "    a1=address()---\n",
    "    a2=address()---"
   ]
  }
 ],
 "metadata": {
  "kernelspec": {
   "display_name": "Python 3 (ipykernel)",
   "language": "python",
   "name": "python3"
  },
  "language_info": {
   "codemirror_mode": {
    "name": "ipython",
    "version": 3
   },
   "file_extension": ".py",
   "mimetype": "text/x-python",
   "name": "python",
   "nbconvert_exporter": "python",
   "pygments_lexer": "ipython3",
   "version": "3.10.9"
  }
 },
 "nbformat": 4,
 "nbformat_minor": 5
}
