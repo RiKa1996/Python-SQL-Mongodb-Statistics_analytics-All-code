{
 "cells": [
  {
   "cell_type": "code",
   "execution_count": 3,
   "id": "00f16844-22cd-4f23-9515-f70b9e4cc9a8",
   "metadata": {},
   "outputs": [
    {
     "name": "stdout",
     "output_type": "stream",
     "text": [
      "101 1000\n",
      "102 2000\n"
     ]
    }
   ],
   "source": [
    "class account:\n",
    "    pass\n",
    "a1=account()\n",
    "a2=account()\n",
    "\n",
    "a1.acn=101\n",
    "a1.bal=1000\n",
    "\n",
    "a2.acn=102\n",
    "a2.bal=2000\n",
    "\n",
    "print(a1.acn,a1.bal)\n",
    "print(a2.acn,a2.bal)"
   ]
  },
  {
   "cell_type": "markdown",
   "id": "61117c19-ebcb-4280-a3c9-2e3af3ddb729",
   "metadata": {},
   "source": [
    "## **Constructor** se hume call nhi karna padta ye khud hi call ho jata hai.\n",
    "- it is special method of python class and represented by _ _ init _ _ (self)\n",
    "- it is executed only once just after object creation\n",
    "- interpreter is responsible to excute constructor\n",
    "- it is used to initialize(**initial-->starting**) newly created object"
   ]
  },
  {
   "cell_type": "code",
   "execution_count": 4,
   "id": "7855ec4e-93b1-4430-8796-cd662843fe58",
   "metadata": {},
   "outputs": [
    {
     "name": "stdout",
     "output_type": "stream",
     "text": [
      "this is constructor\n",
      "this is constructor\n",
      "this is constructor\n"
     ]
    }
   ],
   "source": [
    "class account:\n",
    "    def __init__(self):\n",
    "        print(\"this is constructor\")\n",
    "\n",
    "a1=account()                  #Constructor se hume call nhi karna padta ye khud hi call ho jata hai.\n",
    "a2=account()\n",
    "a3=account()\n",
    "        "
   ]
  },
  {
   "cell_type": "markdown",
   "id": "4cc80b1e-c68f-4e89-b170-5b857b59e294",
   "metadata": {},
   "source": [
    "### **constructor** se hum do ya do se jyada method call kar skte hai. but jo sbse **latest** hoga, whi call hoga, dusra nhi hoga."
   ]
  },
  {
   "cell_type": "code",
   "execution_count": 5,
   "id": "ada9d840-2263-42a6-8544-9b4c2a5e5a0c",
   "metadata": {},
   "outputs": [
    {
     "name": "stdout",
     "output_type": "stream",
     "text": [
      "this is constructor-2\n",
      "this is constructor-2\n",
      "this is constructor-2\n"
     ]
    }
   ],
   "source": [
    "#interpreter is responsible to excute constructor\n",
    "class account:\n",
    "    def __init__(self):\n",
    "        print(\"this is constructor-1\")\n",
    "        \n",
    "    def __init__(self):\n",
    "        print(\"this is constructor-2\")\n",
    "\n",
    "a1=account()                  #Constructor se hume call nhi karna padta ye khud hi call ho jata hai.\n",
    "a2=account()              #by interpreter--->a2.__init__(a2)\n",
    "a3=account()              #by interpreter--->a3.__init__(a3)                  #this is constructor-2\n",
    "        "
   ]
  },
  {
   "cell_type": "markdown",
   "id": "7d2ea286-dc79-42d2-9445-2ec7c4e36394",
   "metadata": {},
   "source": [
    "### direct class me self.acn=101 or self.bal=1000 lagane per bhi ye call ho jata hai."
   ]
  },
  {
   "cell_type": "code",
   "execution_count": 7,
   "id": "fe0d758b-f495-4a2f-9cba-4ac30f832a50",
   "metadata": {},
   "outputs": [
    {
     "name": "stdout",
     "output_type": "stream",
     "text": [
      "101 1000\n",
      "101 1000\n",
      "101 1000\n"
     ]
    }
   ],
   "source": [
    "\n",
    "class account:\n",
    "    def __init__(self):\n",
    "        self.acn=101\n",
    "        self.bal=1000\n",
    "\n",
    "a1=account()                  #Constructor se hume call nhi karna padta ye khud hi call ho jata hai.\n",
    "a2=account()              #by interpreter--->a2.__init__(a2)\n",
    "a3=account()              #by interpreter--->a3.__init__(a3)                  #this is constructor-2\n",
    "    \n",
    "print(a1.acn,a1.bal)\n",
    "print(a2.acn,a2.bal)\n",
    "print(a3.acn,a3.bal)\n"
   ]
  },
  {
   "cell_type": "markdown",
   "id": "7cfa366a-ac7e-4650-90b1-007a9eed90ad",
   "metadata": {},
   "source": [
    "### aur direct __init__(self,a,b) bhi kar ke likha ja skta, isse hume result aur bhi clear and accha milega, aur value hume khud hi put krni pdti hai."
   ]
  },
  {
   "cell_type": "code",
   "execution_count": 9,
   "id": "84bacb82-38af-4af4-b166-2388d82bbfdd",
   "metadata": {},
   "outputs": [
    {
     "name": "stdout",
     "output_type": "stream",
     "text": [
      "101 1000\n",
      "102 2000\n",
      "103 3000\n"
     ]
    }
   ],
   "source": [
    "#it is used to initialize newly created object\n",
    "class account:\n",
    "    def __init__(self,a,b):\n",
    "        self.acn=a\n",
    "        self.bal=b\n",
    "\n",
    "a1=account(101,1000)          #Constructor se hume call nhi karna padta ye khud hi call ho jata hai.\n",
    "a2=account(102,2000)      #by interpreter--->a2.__init__(a2)\n",
    "a3=account(103,3000)      #by interpreter--->a3.__init__(a3)                  #this is constructor-2\n",
    "    \n",
    "print(a1.acn,a1.bal)\n",
    "print(a2.acn,a2.bal)\n",
    "print(a3.acn,a3.bal)\n"
   ]
  },
  {
   "cell_type": "markdown",
   "id": "89ac5cec-4b5d-4acc-a3ad-025b95f11c9d",
   "metadata": {},
   "source": [
    "### for loop laga ke bar bar print me call krne se bach skte hai. aur ye ek bari me sb call kiya ja skta hai."
   ]
  },
  {
   "cell_type": "code",
   "execution_count": 11,
   "id": "cd91e9e0-fb23-4906-ac7d-5dc9dae3c5d2",
   "metadata": {},
   "outputs": [
    {
     "name": "stdout",
     "output_type": "stream",
     "text": [
      "1 1000\n",
      "2 1000\n",
      "3 1000\n",
      "4 1000\n",
      "5 1000\n",
      "6 1000\n",
      "7 1000\n",
      "8 1000\n",
      "9 1000\n",
      "10 1000\n"
     ]
    }
   ],
   "source": [
    "class account:\n",
    "    def __init__(self,a,b):\n",
    "        self.acn=a\n",
    "        self.bal=b\n",
    "\n",
    "acts=[]\n",
    "for i in range(1,11):\n",
    "    account(1,101)\n",
    "    a=account(i,1000)\n",
    "    acts.append(a)\n",
    "  \n",
    "for a in acts:    \n",
    "    print(a.acn,a.bal)\n",
    "    "
   ]
  },
  {
   "cell_type": "markdown",
   "id": "7f5cfbb6-96b4-4428-8dd1-7e09c7ad8441",
   "metadata": {},
   "source": [
    "### **class** me method ko call karna aur "
   ]
  },
  {
   "cell_type": "code",
   "execution_count": 27,
   "id": "24f71f38-6293-49f3-86dd-f300bc5698b0",
   "metadata": {},
   "outputs": [
    {
     "name": "stdout",
     "output_type": "stream",
     "text": [
      "101 1000 abc123\n",
      "102 2000 abc123\n"
     ]
    }
   ],
   "source": [
    "class account:\n",
    "    def __init__(self,a,b,):\n",
    "        self.acn=a\n",
    "        self.bal=b       \n",
    "        self.ifsc=\"abc123\"             #first priority jo method me likha jata hai. use milti hai. na ki jo class me .\n",
    "    \n",
    "a1=account(101,1000)\n",
    "a2=account(102,2000)\n",
    "\n",
    "\n",
    "print(a1.acn,a1.bal,a1.ifsc)\n",
    "print(a2.acn,a2.bal,a2.ifsc)\n",
    "\n"
   ]
  },
  {
   "cell_type": "markdown",
   "id": "3f7e93c9-548b-459b-9162-3a2f34bfb99c",
   "metadata": {},
   "source": [
    "## Type of data member\n",
    "#### 1. instance data member\n",
    "    - separate copy for each object\n",
    "    - generally initialized inside constructor using self\n",
    "#### 2. class data member\n",
    "    - a single copy is shared to all objects\n",
    "    - generally initized inside class block directly"
   ]
  },
  {
   "cell_type": "code",
   "execution_count": 31,
   "id": "edc3aff4-22d7-4183-9511-26e0f86d82bf",
   "metadata": {},
   "outputs": [
    {
     "name": "stdout",
     "output_type": "stream",
     "text": [
      "101 1000 abc123 A-45,Ducat\n",
      "102 2000 abc123 A-45,Ducat\n",
      "103 3000 abc123 A-45,Ducat\n"
     ]
    }
   ],
   "source": [
    "class account:\n",
    "                                    #class data member- isme wo code aate hai jo sbke liye common hota hai.\n",
    "    ifsc=\"abc123\"\n",
    "    address=\"A-45,Ducat\"\n",
    "    def __init__(self,a,b,):\n",
    "                                    #instance data member- isme wo code aate hai. jo sbke ke liye common nhi hota.\n",
    "        self.acn=a\n",
    "        self.bal=b       \n",
    "\n",
    "    \n",
    "a1=account(101,1000)\n",
    "a2=account(102,2000)\n",
    "a3=account(103,3000)\n",
    "\n",
    "\n",
    "print(a1.acn,a1.bal,a1.ifsc,a1.address)\n",
    "print(a2.acn,a2.bal,a2.ifsc,a1.address)\n",
    "print(a3.acn,a3.bal,a3.ifsc,a3.address)\n"
   ]
  },
  {
   "cell_type": "markdown",
   "id": "11048107-6631-46ce-8a28-0a1db9f94e45",
   "metadata": {},
   "source": [
    "### balacne ko increase krne per or ifsc code chage krne per"
   ]
  },
  {
   "cell_type": "code",
   "execution_count": 36,
   "id": "f2290d56-7359-4a85-8c71-5dcea3a9cd84",
   "metadata": {},
   "outputs": [
    {
     "name": "stdout",
     "output_type": "stream",
     "text": [
      "101 1000 abc123 A-45,Ducat\n",
      "102 2000 abc123 A-45,Ducat\n",
      "103 3000 abc123 A-45,Ducat\n",
      "101 5000 pqr321 A-45,Ducat\n",
      "102 2000 pqr321 A-45,Ducat\n",
      "103 3000 pqr321 A-45,Ducat\n"
     ]
    }
   ],
   "source": [
    "class account:\n",
    "                                    #class data member- isme wo code aate hai jo sbke liye common hota hai.\n",
    "    ifsc=\"abc123\"\n",
    "    address=\"A-45,Ducat\"\n",
    "    def __init__(self,a,b,):\n",
    "                                    #instance data member- isme wo code aate hai. jo sbke ke liye common nhi hota.\n",
    "        self.acn=a\n",
    "        self.bal=b       \n",
    "\n",
    "    \n",
    "a1=account(101,1000)\n",
    "a2=account(102,2000)\n",
    "a3=account(103,3000)\n",
    "\n",
    "\n",
    "print(a1.acn,a1.bal,a1.ifsc,a1.address)\n",
    "print(a2.acn,a2.bal,a2.ifsc,a1.address)\n",
    "print(a3.acn,a3.bal,a3.ifsc,a3.address)\n",
    "\n",
    "a1.bal=5000                                #balacne ko increase krne per\n",
    "account.ifsc=\"pqr321\"                      #ifsc code change karne per\n",
    "\n",
    "print(a1.acn,a1.bal,a1.ifsc,a1.address)\n",
    "print(a2.acn,a2.bal,a2.ifsc,a1.address)\n",
    "print(a3.acn,a3.bal,a3.ifsc,a3.address)\n"
   ]
  },
  {
   "cell_type": "markdown",
   "id": "c15e690d-ba48-4dee-8fbf-3f8d2ff65fef",
   "metadata": {},
   "source": [
    "### class data member ko likhne ka ek dusra tarika- ise hum last me bhi call kr skte hai., but generally hum class data member se call krte hai. taki accha rhe."
   ]
  },
  {
   "cell_type": "code",
   "execution_count": 54,
   "id": "de4793df-058b-46ec-b089-c4ad8410853d",
   "metadata": {},
   "outputs": [
    {
     "name": "stdout",
     "output_type": "stream",
     "text": [
      "101 1000 abc123 A-45,Ducat this is massage\n",
      "102 2000 abc123 A-45,Ducat\n",
      "103 3000 abc123 A-45,Ducat\n",
      "101 5000 pqr321 A-45,Ducat\n",
      "102 2000 pqr321 A-45,Ducat\n",
      "103 3000 pqr321 A-45,Ducat\n",
      "101 5000 pqr321 A-45,Ducat this is massage\n",
      "102 2000 pqr321 A-45,Ducat this is massage\n",
      "103 3000 pqr321 A-45,Ducat this is massage\n"
     ]
    }
   ],
   "source": [
    "class account:\n",
    "                                    #class data member- isme wo code aate hai jo sbke liye common hota hai.\n",
    "    ifsc=\"abc123\"\n",
    "    address=\"A-45,Ducat\"\n",
    "    massage=\"this is massage\"\n",
    "    def __init__(self,a,b,):\n",
    "                                    #instance data member- isme wo code aate hai. jo sbke ke liye common nhi hota.\n",
    "        self.acn=a\n",
    "        self.bal=b       \n",
    "\n",
    "    \n",
    "a1=account(101,1000)\n",
    "a2=account(102,2000)\n",
    "a3=account(103,3000)\n",
    "\n",
    "\n",
    "print(a1.acn,a1.bal,a1.ifsc,a1.address,a1.massage)\n",
    "print(a2.acn,a2.bal,a2.ifsc,a1.address)\n",
    "print(a3.acn,a3.bal,a3.ifsc,a3.address)\n",
    "\n",
    "a1.bal=5000                                #balacne ko increase krne per\n",
    "account.ifsc=\"pqr321\"                      #ifsc code change karne per\n",
    "\n",
    "print(a1.acn,a1.bal,a1.ifsc,a1.address)\n",
    "print(a2.acn,a2.bal,a2.ifsc,a1.address)\n",
    "print(a3.acn,a3.bal,a3.ifsc,a3.address)\n",
    "\n",
    "account.msg=\"this is massage\"\n",
    "\n",
    "print(a1.acn,a1.bal,a1.ifsc,a1.address,a1.massage)\n",
    "print(a2.acn,a2.bal,a2.ifsc,a1.address,a2.massage)\n",
    "print(a3.acn,a3.bal,a3.ifsc,a3.address,a3.massage)"
   ]
  },
  {
   "cell_type": "code",
   "execution_count": null,
   "id": "8839dca1-c618-4bed-ab08-b2378c39368e",
   "metadata": {},
   "outputs": [],
   "source": [
    "class emp:\n",
    "    org=\"abc\"\n",
    "    weekoff=\"monday\"\n",
    "    \n",
    "    def __init__(self):\n",
    "        self.empid=...\n",
    "        self.dept=...\n",
    "        self.sal=...\n",
    "        self.name=...\n",
    "        \n",
    "e1=emp()\n",
    "e2=emp()\n",
    "e3=emp()"
   ]
  },
  {
   "cell_type": "markdown",
   "id": "7fe459a8-e501-4b2b-9b82-9ba7cfdfc6b6",
   "metadata": {},
   "source": [
    "### syntax of data member\n",
    "#### obj.instance_data---------------->instance data member ko sbse phli priority milti hai.\n",
    "#### obj.class_data\n",
    "\n",
    "### updating class data\n",
    "#### classname.class_data=value"
   ]
  },
  {
   "cell_type": "code",
   "execution_count": null,
   "id": "d3b28a48-3104-44ac-8135-966dc9984bd7",
   "metadata": {},
   "outputs": [],
   "source": []
  }
 ],
 "metadata": {
  "kernelspec": {
   "display_name": "Python 3 (ipykernel)",
   "language": "python",
   "name": "python3"
  },
  "language_info": {
   "codemirror_mode": {
    "name": "ipython",
    "version": 3
   },
   "file_extension": ".py",
   "mimetype": "text/x-python",
   "name": "python",
   "nbconvert_exporter": "python",
   "pygments_lexer": "ipython3",
   "version": "3.10.9"
  }
 },
 "nbformat": 4,
 "nbformat_minor": 5
}
