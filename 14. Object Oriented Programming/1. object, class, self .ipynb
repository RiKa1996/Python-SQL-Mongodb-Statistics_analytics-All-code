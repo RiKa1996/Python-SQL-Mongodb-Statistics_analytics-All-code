{
 "cells": [
  {
   "cell_type": "markdown",
   "id": "0da7fd13-ca3e-4f0a-9423-36e3d8fa503f",
   "metadata": {},
   "source": [
    "## Object Oriented Programming:\n",
    "- It is a technique/program to simplyfy automatic of real world objects.\n",
    "- It provides following concepts:\n",
    "    - object\n",
    "    - class\n",
    "    - inheritance\n",
    "    - encapsulation --data encapsulation(data hiding)\n",
    "    - polymorpshism\n",
    "    - abstraction\n",
    "    - etc.\n",
    "    \n",
    "- There are following languages that implement above concepts like:\n",
    "    - simula\n",
    "    - C++\n",
    "    - Java\n",
    "    - C#\n",
    "    - Python\n",
    "    - etc.\n",
    "### Object\n",
    "    - any real world entity(physical/logical) having properties/data member & behabiours/methods.\n",
    "        - human as object\n",
    "            - properties--->name,gender,height,age,etc.\n",
    "            - behaviours--->thinking,sleeping,eating,etc.\n",
    "        - account as object\n",
    "            - porperties--->acn,type,etc.\n",
    "            - behaviours--->deposit, withdraw, transfer,etc.\n",
    "    - from memory point of view, an object is dynamically allocated block, i.e. size of object can not be predict in advance.\n",
    "    - **from coding point of view, an object is an intance of a class.**\n",
    "\n",
    "### Class\n",
    "- it is a bluprint/design/template to create similar instance.\n",
    "- a class also represents a datatype"
   ]
  },
  {
   "cell_type": "markdown",
   "id": "a8516347-ad4e-4ee2-92fd-d8dbc2304428",
   "metadata": {},
   "source": [
    "#### **Instance**\n",
    "- executable copy of something or\n",
    "- existence of something\n",
    "- example:\n",
    "    - koi bhi chij jise hum count kr skte hai use instance khte hai.\n",
    "    - account,101,sonu,50000\n",
    "    - 01,roll no.,rishav,marks-76%\n",
    "#### **class**\n",
    "- division or\n",
    "- group or\n",
    "- category\n",
    "    - example:\n",
    "    - **class**(car design)-**instance**(car1,car2,car3,...carn)\n",
    "\n"
   ]
  },
  {
   "cell_type": "code",
   "execution_count": 1,
   "id": "fd019254-724f-41b9-8e0f-4b38755e6555",
   "metadata": {},
   "outputs": [
    {
     "name": "stdout",
     "output_type": "stream",
     "text": [
      "<class 'int'>\n"
     ]
    }
   ],
   "source": [
    "# a class is also represents a datatype.\n",
    "x=10\n",
    "print(type(x))    #<class 'int'>"
   ]
  },
  {
   "cell_type": "code",
   "execution_count": 2,
   "id": "3166be0f-6244-4fe7-8df1-3cce2ba46525",
   "metadata": {},
   "outputs": [
    {
     "name": "stdout",
     "output_type": "stream",
     "text": [
      "<class 'list'>\n"
     ]
    }
   ],
   "source": [
    "x=[]\n",
    "print(type(x))   #<class 'list'>"
   ]
  },
  {
   "cell_type": "markdown",
   "id": "572a2b1b-d4fc-432c-8b3e-06bc3e595aa5",
   "metadata": {},
   "source": [
    "### **Syntax to create class**\n",
    "- class classname:\n",
    "    - stmts"
   ]
  },
  {
   "cell_type": "code",
   "execution_count": 3,
   "id": "857bb8ea-f8ed-4af1-a744-0e9cc375c551",
   "metadata": {},
   "outputs": [],
   "source": [
    "class car:\n",
    "    pass\n",
    "class emp:\n",
    "    pass\n",
    "class account:\n",
    "    pass"
   ]
  },
  {
   "cell_type": "markdown",
   "id": "e353c48e-3813-498f-8ed4-e87352b5ca44",
   "metadata": {},
   "source": [
    "### **Syntax to create instance/object**\n",
    "- refrance variabl=emp() or\n",
    "- **refvar=classname()**"
   ]
  },
  {
   "cell_type": "code",
   "execution_count": 5,
   "id": "d42052f0-8c15-41c5-93bc-4a6185790d91",
   "metadata": {},
   "outputs": [
    {
     "name": "stdout",
     "output_type": "stream",
     "text": [
      "<__main__.emp object at 0x0000013F6C15ED70> <class '__main__.emp'>\n",
      "<__main__.emp object at 0x0000013F6C15FFD0>\n"
     ]
    }
   ],
   "source": [
    "e1=emp()\n",
    "e2=emp()\n",
    "print(e1,type(e1))\n",
    "print(e2)"
   ]
  },
  {
   "cell_type": "code",
   "execution_count": 6,
   "id": "dde244eb-085a-4af7-b14c-18c0860ce068",
   "metadata": {},
   "outputs": [
    {
     "name": "stdout",
     "output_type": "stream",
     "text": [
      "<__main__.car object at 0x0000013F6C15CC40>\n",
      "<__main__.car object at 0x0000013F6C15C9D0>\n"
     ]
    }
   ],
   "source": [
    "c1=car()\n",
    "c2=car()\n",
    "print(c1)\n",
    "print(c2)"
   ]
  },
  {
   "cell_type": "markdown",
   "id": "609188c6-5652-4181-b00a-6da6b95911ff",
   "metadata": {},
   "source": [
    "#### **aise object ko anonymous ya unreachable object kha jata hai.**"
   ]
  },
  {
   "cell_type": "code",
   "execution_count": 7,
   "id": "b4c77851-5f27-4525-806e-32d1d34a505f",
   "metadata": {},
   "outputs": [
    {
     "data": {
      "text/plain": [
       "<__main__.emp at 0x13f6c15ff70>"
      ]
     },
     "execution_count": 7,
     "metadata": {},
     "output_type": "execute_result"
    }
   ],
   "source": [
    "#aise object ko anonymous ya unreachable object kha jata hai. jisme koi refvar na ho to.\n",
    "car()\n",
    "account()\n",
    "emp()"
   ]
  },
  {
   "cell_type": "code",
   "execution_count": 12,
   "id": "c12ef460-8fee-46c2-bd93-8a5d619fd3f3",
   "metadata": {},
   "outputs": [
    {
     "name": "stdout",
     "output_type": "stream",
     "text": [
      "this is show fucntion\n",
      "this is show fucntion\n",
      "this is show method\n"
     ]
    }
   ],
   "source": [
    "# normal fucntion call hum aise kete the\n",
    "def show():\n",
    "    print(\"this is show fucntion\")\n",
    "    \n",
    "#class bna ke call karne per/ jo function class ke ander banaye jate hai. use method ya behaviour khte hai.\n",
    "class test:\n",
    "    def show():                               #nested function\n",
    "        print(\"this is show method\")\n",
    "        \n",
    "show()\n",
    "\n",
    "# kisi bhi class me uske method ya behaviour ko call krne ka tarika\n",
    "show()\n",
    "t=test()\n",
    "t.show()"
   ]
  },
  {
   "cell_type": "markdown",
   "id": "cfa4808c-0531-4065-8074-41d4cf61e218",
   "metadata": {},
   "source": [
    "## **self** kha likha jata hai.- self is not a keyword or function.\n",
    "#### vaise to method me kuch bhi likhne per aa jata hai . but hum jyada tar self likhana prefer krte hai."
   ]
  },
  {
   "cell_type": "code",
   "execution_count": 15,
   "id": "b9d36307-3258-4474-b809-e43382c6ab0b",
   "metadata": {},
   "outputs": [
    {
     "name": "stdout",
     "output_type": "stream",
     "text": [
      "this is show fucntion\n",
      "this is show fucntion\n",
      "<__main__.test object at 0x0000013F6C1DCB50>\n",
      "this is show method\n"
     ]
    }
   ],
   "source": [
    "# normal fucntion call hum aise kete the\n",
    "def show():\n",
    "    print(\"this is show fucntion\")\n",
    "    \n",
    "#class bna ke call karne per/ jo function class ke ander banaye jate hai. use method ya behaviour khte hai.\n",
    "class test:\n",
    "    def show(se):                               #nested function\n",
    "        print(\"this is show method\")\n",
    "        \n",
    "show()\n",
    "\n",
    "# kisi bhi class me uske method ya behaviour ko call krne ka tarika\n",
    "show()\n",
    "t=test()\n",
    "print(t)      #test object ka address hai ye.\n",
    "t.show()      #by interpreter-->t.show(t)       #interpreter ke dwara kiya ja raha hai."
   ]
  },
  {
   "cell_type": "code",
   "execution_count": null,
   "id": "eaa930f1-e1a3-4cdc-90eb-e56934d6735a",
   "metadata": {},
   "outputs": [],
   "source": [
    "class test:                              #jis class me method call kiya jata hai.\n",
    "    def show(self):                       #jis object ne method call kiya , whi object as argument khud(self) hi aata hai. 99.99% log self hi likhte hai. \n",
    "        print(\"this is show method\")\n",
    "\n",
    "t1=test()\n",
    "t2=test()\n",
    "t3=test()\n",
    "t1.show()    #by interpreter--->t1.show(t1)\n",
    "t2.show()    #by interpreter--->t2.show(t2)\n",
    "t3.show()    #by interpreter--->t3.show(t3)"
   ]
  },
  {
   "cell_type": "code",
   "execution_count": null,
   "id": "563c7c64-bd1e-47d5-b364-cdf8bace1e1d",
   "metadata": {},
   "outputs": [],
   "source": [
    "### ek program me do ya do se jyada class banaye ja skte hai."
   ]
  },
  {
   "cell_type": "code",
   "execution_count": 24,
   "id": "481a3f15-fb9a-4c52-8ec2-24c43ee76217",
   "metadata": {},
   "outputs": [
    {
     "name": "stdout",
     "output_type": "stream",
     "text": [
      "this is show method in test\n",
      "this is show method in other\n",
      "this is disp method in other\n"
     ]
    }
   ],
   "source": [
    "class test:\n",
    "    def show(self):\n",
    "        print(\"this is show method in test\")\n",
    "        \n",
    "class other:\n",
    "    def show(self):\n",
    "        print(\"this is show method in other\")\n",
    "        \n",
    "    def disp(self):\n",
    "        print(\"this is disp method in other\")\n",
    "        \n",
    "t=test()\n",
    "o=other()\n",
    "t.show()\n",
    "o.show()\n",
    "o.disp()"
   ]
  },
  {
   "cell_type": "code",
   "execution_count": 25,
   "id": "75092715-b528-47a8-a1db-cfdc9c16473a",
   "metadata": {},
   "outputs": [
    {
     "data": {
      "text/plain": [
       "'ABC'"
      ]
     },
     "execution_count": 25,
     "metadata": {},
     "output_type": "execute_result"
    }
   ],
   "source": [
    "x=\"abc\"\n",
    "x.upper()"
   ]
  },
  {
   "cell_type": "markdown",
   "id": "a4bfea42-0fd5-41aa-9648-0412cc018388",
   "metadata": {},
   "source": [
    "#### AttributeError: 'list' object has no attribute 'upper'"
   ]
  },
  {
   "cell_type": "code",
   "execution_count": 26,
   "id": "9cf0fa8d-7662-4b0c-8426-1dfed0df5a58",
   "metadata": {},
   "outputs": [
    {
     "ename": "AttributeError",
     "evalue": "'list' object has no attribute 'upper'",
     "output_type": "error",
     "traceback": [
      "\u001b[1;31m---------------------------------------------------------------------------\u001b[0m",
      "\u001b[1;31mAttributeError\u001b[0m                            Traceback (most recent call last)",
      "Cell \u001b[1;32mIn[26], line 2\u001b[0m\n\u001b[0;32m      1\u001b[0m x\u001b[38;5;241m=\u001b[39m[\u001b[38;5;241m1\u001b[39m,\u001b[38;5;241m23\u001b[39m,\u001b[38;5;241m2\u001b[39m]\n\u001b[1;32m----> 2\u001b[0m \u001b[43mx\u001b[49m\u001b[38;5;241;43m.\u001b[39;49m\u001b[43mupper\u001b[49m()\n",
      "\u001b[1;31mAttributeError\u001b[0m: 'list' object has no attribute 'upper'"
     ]
    }
   ],
   "source": [
    "x=[1,23,2]\n",
    "x.upper()"
   ]
  },
  {
   "cell_type": "code",
   "execution_count": null,
   "id": "38187517-8f8d-4729-a72e-d50562111eb5",
   "metadata": {},
   "outputs": [],
   "source": []
  }
 ],
 "metadata": {
  "kernelspec": {
   "display_name": "Python 3 (ipykernel)",
   "language": "python",
   "name": "python3"
  },
  "language_info": {
   "codemirror_mode": {
    "name": "ipython",
    "version": 3
   },
   "file_extension": ".py",
   "mimetype": "text/x-python",
   "name": "python",
   "nbconvert_exporter": "python",
   "pygments_lexer": "ipython3",
   "version": "3.10.9"
  }
 },
 "nbformat": 4,
 "nbformat_minor": 5
}
