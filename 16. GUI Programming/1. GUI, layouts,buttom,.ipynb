{
 "cells": [
  {
   "cell_type": "markdown",
   "id": "11313f68-85ca-4ca4-95ec-6446786e915b",
   "metadata": {},
   "source": [
    "## User Interface\n",
    "- 1. CUI(char/**command user interface**)\n",
    "    - print()\n",
    "    - input()\n",
    "    \n",
    "- 2. GUI(**graphical user interface**)\n",
    "    - **desktop gui**\n",
    "        - tkinter\n",
    "        - wxpython\n",
    "        - kivy\n",
    "        - turtle\n",
    "        - rtc.\n",
    "    - **web gui**\n",
    "        - html\n",
    "        - css\n",
    "        - js\n",
    "        - bootstrap\n",
    "        - etc."
   ]
  },
  {
   "cell_type": "markdown",
   "id": "0d929464-7db4-4bd6-b266-c34a4a06c680",
   "metadata": {},
   "source": [
    "### **tkinter**\n",
    "- it is python library to create desktop based gui applications\n",
    "- in this library, each graphical components is represented by object"
   ]
  },
  {
   "cell_type": "code",
   "execution_count": 84,
   "id": "6876590e-30c8-465c-b804-9f23bff17f07",
   "metadata": {},
   "outputs": [],
   "source": [
    "#phle tkinter import karege\n",
    "from tkinter import *"
   ]
  },
  {
   "cell_type": "markdown",
   "id": "c329919c-6e5e-4d8c-9c6e-c0f5017fccdf",
   "metadata": {},
   "source": [
    "#### window banana, window ko lenght and height dena, "
   ]
  },
  {
   "cell_type": "code",
   "execution_count": 83,
   "id": "dc3b8842-1119-41d0-8503-2583baa32da9",
   "metadata": {},
   "outputs": [],
   "source": [
    "# sbse phle window banayege\n",
    "win=Tk()           #create win\n",
    "win.geometry(\"400x200\")     #win.geometry se window ki lenght aur height batai jati hai.   #wxh #aur ye incial hai jise hum run time pe use kr skte hai.\n",
    "win.mainloop()     #mainloop se window ban jati hai.\n"
   ]
  },
  {
   "cell_type": "markdown",
   "id": "4b0b0d95-bd27-4cc6-8461-bfdbf6835bb8",
   "metadata": {},
   "source": [
    "#### window ko resize krna-----(width=False) ko disable krne ke liye"
   ]
  },
  {
   "cell_type": "code",
   "execution_count": 12,
   "id": "9807926d-99d2-45af-99e0-6551164b4bba",
   "metadata": {},
   "outputs": [],
   "source": [
    "# sbse phle window banayege\n",
    "win=Tk()           #create win\n",
    "win.geometry(\"600x400\")     #win.geometry se window ki lenght aur height batai jati hai.   #wxh #aur ye incial hai jise hum run time pe use kr skte hai.\n",
    "win.resizable(width=False,height=False)\n",
    "win.mainloop()     #mainloop se window ban jati hai.\n"
   ]
  },
  {
   "cell_type": "markdown",
   "id": "e5dc1b90-9c46-4d62-832c-9d8bdd8bb049",
   "metadata": {},
   "source": [
    "#### window me background color dene liye-----------win.configure=(bg=\"color name\")\n",
    "#### win.configure(bg=\"#\")----color hex code picker---se bahot sare color le skte hai."
   ]
  },
  {
   "cell_type": "code",
   "execution_count": 19,
   "id": "e72685c0-bf08-4e86-bc03-5ba2f8448ba2",
   "metadata": {},
   "outputs": [],
   "source": [
    "# sbse phle window banayege\n",
    "win=Tk()           #create win\n",
    "win.geometry(\"600x400\")     #win.geometry se window ki lenght aur height batai jati hai.   #wxh #aur ye incial hai jise hum run time pe use kr skte hai.\n",
    "win.resizable(width=False,height=False)\n",
    "#win.configure(bg=\"red\")\n",
    "win.configure(bg=\"#a1aabb\")\n",
    "win.mainloop()     #mainloop se window ban jati hai.\n"
   ]
  },
  {
   "cell_type": "markdown",
   "id": "ce319265-2e42-47bc-80ca-2bc5c55cfc03",
   "metadata": {},
   "source": [
    "#### **Button**\n",
    "#### Button banane ke bad button ko place bhi krna prta hai. to use hum **b1.place()** kr skte hai."
   ]
  },
  {
   "cell_type": "code",
   "execution_count": 25,
   "id": "501820c4-74d0-47a6-837d-acfee6a9698c",
   "metadata": {},
   "outputs": [],
   "source": [
    "# sbse phle window banayege\n",
    "win=Tk()           #create win\n",
    "win.geometry(\"600x400\")     #win.geometry se window ki lenght aur height batai jati hai.   #wxh #aur ye incial hai jise hum run time pe use kr skte hai.\n",
    "win.resizable(width=False,height=False)\n",
    "win.configure(bg=\"red\")\n",
    "#win.configure(bg=\"#a1aabb\")\n",
    "b1=Button(win,text=\"submit\")       #but ye buttom dikhege nhi kyoki wo window ke color se cover ho gye hai.\n",
    "b2=Button(win,text=\"ok\")           #but ye buttom dikhege nhi kyoki wo window ke color se cover ho gye hai.\n",
    "\n",
    "win.mainloop()     #mainloop se window ban jati hai.\n"
   ]
  },
  {
   "cell_type": "markdown",
   "id": "491f12a3-0e14-461e-a3d6-dd3cdf3d80c8",
   "metadata": {},
   "source": [
    "#### **layouts**---- 3 tarike ke humare layouts hote hai.\n",
    "- place\n",
    "- pack\n",
    "- grid"
   ]
  },
  {
   "cell_type": "markdown",
   "id": "9b45523d-57d3-4f3e-94a7-1e16dcb992cc",
   "metadata": {},
   "source": [
    "#### 1. **place** layouts,**(absoute wala place layouts)** ,(bd=boadar,bg=back ground, fg=for ground'submit)\n",
    "- place ek aisa tarika hai jo over lap hota hai. na pack aur na hi grid hota hai."
   ]
  },
  {
   "cell_type": "code",
   "execution_count": 53,
   "id": "d383a31b-51de-4c0d-9090-bce1675db9b4",
   "metadata": {},
   "outputs": [],
   "source": [
    "# sbse phle window banayege\n",
    "win=Tk()           #create win\n",
    "win.geometry(\"600x400\")     #win.geometry se window ki lenght aur height batai jati hai.   #wxh #aur ye incial hai jise hum run time pe use kr skte hai.\n",
    "win.resizable(width=False,height=False)\n",
    "win.configure(bg=\"red\")\n",
    "#win.configure(bg=\"#a1aabb\")\n",
    "b1=Button(win,text=\"submit\",font=(\"Arial\",15,\"bold\"),fg='blue',bg=\"green\",width=10,bd=3)    #but ye buttom dikhege nhi kyoki wo window ke color se cover ho gye hai.\n",
    "b2=Button(win,text=\"ok\",font=(\"Arial\",15,\"bold\"),fg='blue',bg=\"pink\",width=10,bd=3)        #but ye buttom dikhege nhi kyoki wo window ke color se cover ho gye hai.\n",
    "\n",
    "b1.place(x=150,y=250)\n",
    "b2.place(x=300,y=250)\n",
    "win.mainloop()     #mainloop se window ban jati hai.\n"
   ]
  },
  {
   "cell_type": "code",
   "execution_count": 54,
   "id": "db5bfdb8-fa07-4f08-a8f2-f57d87757e6d",
   "metadata": {},
   "outputs": [],
   "source": [
    "# sbse phle window banayege\n",
    "win=Tk()           #create win\n",
    "win.geometry(\"600x400\")     #win.geometry se window ki lenght aur height batai jati hai.   #wxh #aur ye incial hai jise hum run time pe use kr skte hai.\n",
    "#win.resizable(width=False,height=False)\n",
    "win.configure(bg=\"red\")\n",
    "#win.configure(bg=\"#a1aabb\")\n",
    "b1=Button(win,text=\"submit\",font=(\"Arial\",15,\"bold\"),fg='blue',bg=\"green\",width=10,bd=3)    #but ye buttom dikhege nhi kyoki wo window ke color se cover ho gye hai.\n",
    "b2=Button(win,text=\"ok\",font=(\"Arial\",15,\"bold\"),fg='blue',bg=\"pink\",width=10,bd=3)        #but ye buttom dikhege nhi kyoki wo window ke color se cover ho gye hai.\n",
    "\n",
    "b1.place(x=150,y=250)\n",
    "b2.place(x=300,y=250)\n",
    "win.mainloop()     #mainloop se window ban jati hai.\n"
   ]
  },
  {
   "cell_type": "markdown",
   "id": "2a201d8e-5504-43fd-a069-50b8ed911795",
   "metadata": {},
   "source": [
    "#### **responsive** gui- ye resize ko khud se resize kr leta hai\n",
    "#### **(relative wala place layouts)**-- aur ye 0 se 1 tak value me likha jata hai.\n",
    "-relx and rely"
   ]
  },
  {
   "cell_type": "code",
   "execution_count": 74,
   "id": "ff67f98e-9aae-4413-8da0-52b5d62edb60",
   "metadata": {},
   "outputs": [],
   "source": [
    "# sbse phle window banayege\n",
    "win=Tk()           #create win\n",
    "win.geometry(\"600x400\")     #win.geometry se window ki lenght aur height batai jati hai.   #wxh #aur ye incial hai jise hum run time pe use kr skte hai.\n",
    "#win.resizable(width=False,height=False)\n",
    "win.configure(bg=\"red\")\n",
    "#win.configure(bg=\"#a1aabb\")\n",
    "b1=Button(win,text=\"submit\",font=(\"Arial\",15,\"bold\"),fg='blue',bg=\"green\",width=10,bd=3)    #but ye buttom dikhege nhi kyoki wo window ke color se cover ho gye hai.\n",
    "b2=Button(win,text=\"ok\",font=(\"Arial\",15,\"bold\"),fg='blue',bg=\"pink\",width=10,bd=3)        #but ye buttom dikhege nhi kyoki wo window ke color se cover ho gye hai.\n",
    "\n",
    "b1.place(relx=.25,rely=.7)\n",
    "b2.place(relx=.5,rely=.7)\n",
    "win.mainloop()     #mainloop se window ban jati hai.\n"
   ]
  },
  {
   "cell_type": "markdown",
   "id": "e8b3fae6-c128-45c4-8333-29a1a2dd5963",
   "metadata": {},
   "source": [
    "#### 2. **pack** layouts- ye component ko overlap nhi hone deta \n",
    "- top--bottom--left--right **anchor**(west,center,east)(north,south)"
   ]
  },
  {
   "cell_type": "code",
   "execution_count": 57,
   "id": "73d217a7-c82b-4ea4-bf3e-58a6c019eaaf",
   "metadata": {},
   "outputs": [],
   "source": [
    "# sbse phle window banayege\n",
    "win=Tk()           #create win\n",
    "win.geometry(\"600x400\")     #win.geometry se window ki lenght aur height batai jati hai.   #wxh #aur ye incial hai jise hum run time pe use kr skte hai.\n",
    "#win.resizable(width=False,height=False)\n",
    "win.configure(bg=\"red\")\n",
    "#win.configure(bg=\"#a1aabb\")\n",
    "b1=Button(win,text=\"submit\",font=(\"Arial\",15,\"bold\"),fg='blue',bg=\"green\",width=10,bd=3)    #but ye buttom dikhege nhi kyoki wo window ke color se cover ho gye hai.\n",
    "b2=Button(win,text=\"ok\",font=(\"Arial\",15,\"bold\"),fg='blue',bg=\"pink\",width=10,bd=3)        #but ye buttom dikhege nhi kyoki wo window ke color se cover ho gye hai.\n",
    "\n",
    "b1.pack(side=\"bottom\",anchor=\"w\")\n",
    "b2.pack(side=\"top\",anchor=\"c\")\n",
    "win.mainloop()     #mainloop se window ban jati hai.\n"
   ]
  },
  {
   "cell_type": "markdown",
   "id": "225f6c32-b288-4dbf-a9ab-d36618301832",
   "metadata": {},
   "source": [
    "#### pack me ydi same component pe top ya bottom ya center pe ko buttom lagayege to wo ek ke upper ek nhi aayega bulki wo flow ho jayega\n",
    "#### **padx=pixel** -- **pady=pixel**"
   ]
  },
  {
   "cell_type": "code",
   "execution_count": 72,
   "id": "4ea14bb7-7f41-446a-b2a4-6935f46bcf19",
   "metadata": {},
   "outputs": [],
   "source": [
    "# sbse phle window banayege\n",
    "win=Tk()           #create win\n",
    "win.geometry(\"600x400\")     #win.geometry se window ki lenght aur height batai jati hai.   #wxh #aur ye incial hai jise hum run time pe use kr skte hai.\n",
    "#win.resizable(width=False,height=False)\n",
    "win.configure(bg=\"red\")\n",
    "#win.configure(bg=\"#a1aabb\")\n",
    "b1=Button(win,text=\"submit\",font=(\"Arial\",15,\"bold\"),fg='blue',bg=\"green\",width=10,bd=3)    #but ye buttom dikhege nhi kyoki wo window ke color se cover ho gye hai.\n",
    "b2=Button(win,text=\"ok\",font=(\"Arial\",15,\"bold\"),fg='blue',bg=\"pink\",width=10,bd=3)        #but ye buttom dikhege nhi kyoki wo window ke color se cover ho gye hai.\n",
    "\n",
    "b1.pack(side=\"bottom\",anchor=\"e\",padx=20,pady=25)\n",
    "b2.pack(side=\"bottom\",anchor=\"e\",padx=20)\n",
    "win.mainloop()     #mainloop se window ban jati hai.\n"
   ]
  },
  {
   "cell_type": "markdown",
   "id": "bbbcf10d-0a09-49dd-96e8-c02568e06b67",
   "metadata": {},
   "source": [
    "#### 3. **grid** layouts\n",
    "- grid layouts window ke origin point se banta hai.\n",
    "- grid allways window ke rectangle area me banta hai.\n"
   ]
  },
  {
   "cell_type": "code",
   "execution_count": 67,
   "id": "b760dff2-1057-4fd7-88cb-c857c0440fa5",
   "metadata": {},
   "outputs": [],
   "source": [
    "# sbse phle window banayege\n",
    "win=Tk()           #create win\n",
    "win.geometry(\"600x400\")     #win.geometry se window ki lenght aur height batai jati hai.   #wxh #aur ye incial hai jise hum run time pe use kr skte hai.\n",
    "#win.resizable(width=False,height=False)\n",
    "win.configure(bg=\"red\")\n",
    "#win.configure(bg=\"#a1aabb\")\n",
    "b1=Button(win,text=\"submit-1\",font=(\"Arial\",15,\"bold\"),bd=3)    #but ye buttom dikhege nhi kyoki wo window ke color se cover ho gye hai.\n",
    "b2=Button(win,text=\"submit-2\",font=(\"Arial\",15,\"bold\"),bd=3)      #but ye buttom dikhege nhi kyoki wo window ke color se cover ho gye hai.\n",
    "b3=Button(win,text=\"submit-3\",font=(\"Arial\",15,\"bold\"),bd=3)\n",
    "b4=Button(win,text=\"submit-4\",font=(\"Arial\",15,\"bold\"),bd=3)\n",
    "b5=Button(win,text=\"submit-5\",font=(\"Arial\",15,\"bold\"),bd=3)\n",
    "b6=Button(win,text=\"submit-6\",font=(\"Arial\",15,\"bold\"),bd=3)\n",
    "\n",
    "\n",
    "\n",
    "b1.grid(row=0,column=0)\n",
    "b2.grid(row=1,column=0)\n",
    "b3.grid(row=2,column=0)\n",
    "b4.grid(row=3,column=0)\n",
    "b5.grid(row=4,column=0)\n",
    "b6.grid(row=5,column=0)\n",
    "\n",
    "\n",
    "\n",
    "win.mainloop()     #mainloop se window ban jati hai.\n"
   ]
  },
  {
   "cell_type": "markdown",
   "id": "c5506966-2174-461c-a939-3969b0580c62",
   "metadata": {},
   "source": [
    "#### grid ko center me lane ke --- child window banaya jata **fram** component se \n",
    "#### **frm=Frame(win)"
   ]
  },
  {
   "cell_type": "code",
   "execution_count": 80,
   "id": "a4024f37-1a6a-47ad-b111-83eb9a8e3f3c",
   "metadata": {},
   "outputs": [],
   "source": [
    "# sbse phle window banayege\n",
    "win=Tk()           #create win\n",
    "win.geometry(\"600x400\")     #win.geometry se window ki lenght aur height batai jati hai.   #wxh #aur ye incial hai jise hum run time pe use kr skte hai.\n",
    "#win.resizable(width=False,height=False)\n",
    "win.configure(bg=\"red\")\n",
    "#win.configure(bg=\"#a1aabb\")\n",
    "\n",
    "frm=Frame(win)\n",
    "frm.place(x=200,y=100,width=200,height=5000)\n",
    "\n",
    "b1=Button(frm,text=\"submit-1\",font=(\"Arial\",15,\"bold\"),bd=3)    #but ye buttom dikhege nhi kyoki wo window ke color se cover ho gye hai.\n",
    "b2=Button(frm,text=\"submit-2\",font=(\"Arial\",15,\"bold\"),bd=3)      #but ye buttom dikhege nhi kyoki wo window ke color se cover ho gye hai.\n",
    "b3=Button(frm,text=\"submit-3\",font=(\"Arial\",15,\"bold\"),bd=3)\n",
    "b4=Button(frm,text=\"submit-4\",font=(\"Arial\",15,\"bold\"),bd=3)\n",
    "b5=Button(frm,text=\"submit-5\",font=(\"Arial\",15,\"bold\"),bd=3)\n",
    "b6=Button(frm,text=\"submit-6\",font=(\"Arial\",15,\"bold\"),bd=3)\n",
    "\n",
    "\n",
    "\n",
    "b1.grid(row=0,column=0)\n",
    "b2.grid(row=1,column=0)\n",
    "b3.grid(row=2,column=0)\n",
    "b4.grid(row=3,column=0)\n",
    "b5.grid(row=4,column=0)\n",
    "b6.grid(row=5,column=0)\n",
    "\n",
    "\n",
    "\n",
    "win.mainloop()     #mainloop se window ban jati hai.\n"
   ]
  },
  {
   "cell_type": "code",
   "execution_count": null,
   "id": "5147c464-c514-43e1-ad92-e9aa8bbb75ee",
   "metadata": {},
   "outputs": [],
   "source": []
  }
 ],
 "metadata": {
  "kernelspec": {
   "display_name": "Python 3 (ipykernel)",
   "language": "python",
   "name": "python3"
  },
  "language_info": {
   "codemirror_mode": {
    "name": "ipython",
    "version": 3
   },
   "file_extension": ".py",
   "mimetype": "text/x-python",
   "name": "python",
   "nbconvert_exporter": "python",
   "pygments_lexer": "ipython3",
   "version": "3.10.9"
  }
 },
 "nbformat": 4,
 "nbformat_minor": 5
}
