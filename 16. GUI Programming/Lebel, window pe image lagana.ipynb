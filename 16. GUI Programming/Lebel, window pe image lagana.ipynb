{
 "cells": [
  {
   "cell_type": "markdown",
   "id": "2dce3100-299a-4a07-bd59-1dbd5c5e8eaa",
   "metadata": {},
   "source": [
    "## **Lebel**\n",
    "- it is used to show a msg/image"
   ]
  },
  {
   "cell_type": "code",
   "execution_count": 2,
   "id": "9ed05867-78c8-429f-96be-24a39d2ba3c8",
   "metadata": {},
   "outputs": [],
   "source": [
    "from tkinter import *"
   ]
  },
  {
   "cell_type": "code",
   "execution_count": 3,
   "id": "47fd0156-7c36-4d1a-8857-3a20dd16cf7d",
   "metadata": {},
   "outputs": [
    {
     "name": "stdout",
     "output_type": "stream",
     "text": [
      "Requirement already satisfied: pillow in c:\\users\\pappu kumar\\anaconda3\\lib\\site-packages (9.4.0)\n",
      "Note: you may need to restart the kernel to use updated packages.\n"
     ]
    }
   ],
   "source": [
    "pip install pillow"
   ]
  },
  {
   "cell_type": "markdown",
   "id": "e2887a29-6292-498f-b574-5a6200fb472b",
   "metadata": {},
   "source": [
    "#### **Note**--background--tk inter me kisi bhi graphical component ka back ground **color** change nhi hota, wo humesha same rahta hai\n",
    "- ul=**\"underline\"**"
   ]
  },
  {
   "cell_type": "code",
   "execution_count": 4,
   "id": "2251342a-ea4b-4ce2-822e-ce9f7bed260e",
   "metadata": {},
   "outputs": [],
   "source": [
    "win=Tk()\n",
    "win.geometry(\"600x400\")\n",
    "win.configure(bg=\"green\")\n",
    "\n",
    "l1=Label(win,text=\"this is python\",font=('',15,\"bold\",\"underline\"),bg=\"green\",)\n",
    "l1.pack(side=\"top\",anchor=\"c\")\n",
    "\n",
    "win.mainloop()"
   ]
  },
  {
   "cell_type": "markdown",
   "id": "d5cd45e6-41c3-43aa-a3c7-55354adea8ab",
   "metadata": {},
   "source": [
    "#### **kisi image ko dikhana**\n",
    "- tk inter me kisi image ko dikhane ke liye sbse phle ek library install karni padti hi --**pip install pillow**\n",
    "- **ImageTk.PhotoImage(master=win,img)** module"
   ]
  },
  {
   "cell_type": "code",
   "execution_count": 35,
   "id": "0b430a02-a983-4216-89ca-e152525cf052",
   "metadata": {},
   "outputs": [],
   "source": [
    "from PIL import Image, ImageTk\n",
    "win=Tk()\n",
    "win.geometry(\"600x400\")\n",
    "win.configure(bg=\"green\")\n",
    "\n",
    "l1=Label(win,text=\"this is python\",font=('',15,\"bold\",\"underline\"),bg=\"green\",)\n",
    "l1.pack(side=\"top\",anchor=\"c\")\n",
    "\n",
    "# image ko lagane ke liye\n",
    "img=Image.open(\"c:e-logo/SystemLogo.bmp\")   #ye humne us image ko read kr liya hai.\n",
    "\n",
    "imgtk=ImageTk.PhotoImage(img,master=win)    #is line ka mtlb hi us image ko humne tkinter me convert kr liya hai.\n",
    "img=img.resize((150,100))\n",
    "imgtk=ImageTk.PhotoImage(img,master=win)\n",
    "\n",
    "l2=Label(win,image=imgtk)\n",
    "l2.place(x=200,y=200)\n",
    "\n",
    "win.mainloop()"
   ]
  },
  {
   "cell_type": "markdown",
   "id": "42f3bd73-c373-4b8d-b301-5b4db4967f72",
   "metadata": {},
   "source": [
    "#### window pe background color na laga ke **window pe image hi lagana chahte hai**.\n",
    "- background image lagne ka koi direct tarika nhi hai hota hai. tkinter me .\n",
    "- ek trick hota hai."
   ]
  },
  {
   "cell_type": "code",
   "execution_count": 37,
   "id": "5eeee001-ba72-4032-bee6-304f6c58fcbe",
   "metadata": {},
   "outputs": [],
   "source": [
    "from PIL import Image, ImageTk\n",
    "win=Tk()\n",
    "win.geometry(\"600x400\")\n",
    "\n",
    "\n",
    "# image ko lagane ke liye\n",
    "img=Image.open(\"E:/peacock.jpeg\")   #ye humne us image ko read kr liya hai.\n",
    "\n",
    "imgtk=ImageTk.PhotoImage(img,master=win)    #is line ka mtlb hi us image ko humne tkinter me convert kr liya hai.\n",
    "img=img.resize((600,400))\n",
    "imgtk=ImageTk.PhotoImage(img,master=win)\n",
    "\n",
    "l2=Label(win,image=imgtk)\n",
    "l2.place(x=0,y=0)\n",
    "\n",
    "b1=Button(win,text=\"submit\",font=(\"Arial\",15,\"bold\"),fg='blue',bg=\"green\",width=10,bd=3)    #but ye buttom dikhege nhi kyoki wo window ke color se cover ho gye hai.\n",
    "b2=Button(win,text=\"ok\",font=(\"Arial\",15,\"bold\"),fg='blue',bg=\"pink\",width=10,bd=3)        #but ye buttom dikhege nhi kyoki wo window ke color se cover ho gye hai.\n",
    "\n",
    "b1.place(relx=.25,rely=.7)\n",
    "b2.place(relx=.5,rely=.7)\n",
    "\n",
    "\n",
    "win.mainloop()"
   ]
  },
  {
   "cell_type": "code",
   "execution_count": null,
   "id": "cd7b9606-f261-40aa-98d4-92fe0bb9fdcc",
   "metadata": {},
   "outputs": [],
   "source": []
  },
  {
   "cell_type": "code",
   "execution_count": null,
   "id": "e9f39813-660d-4b37-a729-8c361de2703e",
   "metadata": {},
   "outputs": [],
   "source": []
  }
 ],
 "metadata": {
  "kernelspec": {
   "display_name": "Python 3 (ipykernel)",
   "language": "python",
   "name": "python3"
  },
  "language_info": {
   "codemirror_mode": {
    "name": "ipython",
    "version": 3
   },
   "file_extension": ".py",
   "mimetype": "text/x-python",
   "name": "python",
   "nbconvert_exporter": "python",
   "pygments_lexer": "ipython3",
   "version": "3.10.9"
  }
 },
 "nbformat": 4,
 "nbformat_minor": 5
}
