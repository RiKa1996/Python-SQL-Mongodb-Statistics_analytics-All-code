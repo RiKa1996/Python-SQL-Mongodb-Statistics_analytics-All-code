{
 "cells": [
  {
   "cell_type": "markdown",
   "id": "2dce3100-299a-4a07-bd59-1dbd5c5e8eaa",
   "metadata": {},
   "source": [
    "## **Lebel**\n",
    "- it is used to show a msg/image"
   ]
  },
  {
   "cell_type": "code",
   "execution_count": 2,
   "id": "9ed05867-78c8-429f-96be-24a39d2ba3c8",
   "metadata": {},
   "outputs": [],
   "source": [
    "from tkinter import *"
   ]
  },
  {
   "cell_type": "code",
   "execution_count": 3,
   "id": "47fd0156-7c36-4d1a-8857-3a20dd16cf7d",
   "metadata": {},
   "outputs": [
    {
     "name": "stdout",
     "output_type": "stream",
     "text": [
      "Requirement already satisfied: pillow in c:\\users\\pappu kumar\\anaconda3\\lib\\site-packages (9.4.0)\n",
      "Note: you may need to restart the kernel to use updated packages.\n"
     ]
    }
   ],
   "source": [
    "pip install pillow"
   ]
  },
  {
   "cell_type": "markdown",
   "id": "e2887a29-6292-498f-b574-5a6200fb472b",
   "metadata": {},
   "source": [
    "#### **Note**--background--tk inter me kisi bhi graphical component ka back ground **color** change nhi hota, wo humesha same rahta hai\n",
    "- ul=**\"underline\"**"
   ]
  },
  {
   "cell_type": "code",
   "execution_count": 4,
   "id": "2251342a-ea4b-4ce2-822e-ce9f7bed260e",
   "metadata": {},
   "outputs": [],
   "source": [
    "win=Tk()\n",
    "win.geometry(\"600x400\")\n",
    "win.configure(bg=\"green\")\n",
    "\n",
    "l1=Label(win,text=\"this is python\",font=('',15,\"bold\",\"underline\"),bg=\"green\",)\n",
    "l1.pack(side=\"top\",anchor=\"c\")\n",
    "\n",
    "win.mainloop()"
   ]
  },
  {
   "cell_type": "markdown",
   "id": "d5cd45e6-41c3-43aa-a3c7-55354adea8ab",
   "metadata": {},
   "source": [
    "#### **kisi image ko dikhana**\n",
    "- tk inter me kisi image ko dikhane ke liye sbse phle ek library install karni padti hi --**pip install pillow**\n",
    "- **ImageTk.PhotoImage(master=win,img)** module"
   ]
  },
  {
   "cell_type": "code",
   "execution_count": 20,
   "id": "0b430a02-a983-4216-89ca-e152525cf052",
   "metadata": {},
   "outputs": [],
   "source": [
    "from PIL import Image, ImageTk\n",
    "win=Tk()\n",
    "win.geometry(\"600x400\")\n",
    "win.configure(bg=\"green\")\n",
    "\n",
    "l1=Label(win,text=\"this is python\",font=('',15,\"bold\",\"underline\"),bg=\"green\",)\n",
    "l1.pack(side=\"top\",anchor=\"c\")\n",
    "\n",
    "# image ko lagane ke liye\n",
    "img=Image.open(\"c:e-logo/SystemLogo.bmp\")   #ye humne us image ko read kr liya hai.\n",
    "\n",
    "imgtk=ImageTk.PhotoImage(img,master=win)    #is line ka mtlb hi us image ko humne tkinter me convert kr liya hai.\n",
    "img=img.resize((100,80))\n",
    "ImageTk.PhotoImage(img,master=win)\n",
    "l1.pack(side=\"top\",anchor=\"c\")\n",
    "\n",
    "l2=Label(win,image=imgtk)\n",
    "l2.place(x=200,y=200)\n",
    "\n",
    "win.mainloop()"
   ]
  },
  {
   "cell_type": "code",
   "execution_count": null,
   "id": "34bab63a-85a0-4201-b3aa-4b474230b611",
   "metadata": {},
   "outputs": [],
   "source": []
  }
 ],
 "metadata": {
  "kernelspec": {
   "display_name": "Python 3 (ipykernel)",
   "language": "python",
   "name": "python3"
  },
  "language_info": {
   "codemirror_mode": {
    "name": "ipython",
    "version": 3
   },
   "file_extension": ".py",
   "mimetype": "text/x-python",
   "name": "python",
   "nbconvert_exporter": "python",
   "pygments_lexer": "ipython3",
   "version": "3.10.9"
  }
 },
 "nbformat": 4,
 "nbformat_minor": 5
}
