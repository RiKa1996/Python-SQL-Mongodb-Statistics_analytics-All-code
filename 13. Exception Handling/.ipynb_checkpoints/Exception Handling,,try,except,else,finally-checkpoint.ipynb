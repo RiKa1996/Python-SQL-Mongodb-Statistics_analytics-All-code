{
 "cells": [
  {
   "cell_type": "markdown",
   "id": "8a2f872c-c496-40ee-b4b0-92794229f23a",
   "metadata": {},
   "source": [
    "### **Exception Handling**\n",
    "- it is a technique to avoid abnormal program termination \n",
    "- following keyword are used to implement Exception Handling\n",
    "    - **try**\n",
    "    - **except**\n",
    "    - **finally**\n",
    "    - **else**\n",
    "    - **raise**\n"
   ]
  },
  {
   "cell_type": "code",
   "execution_count": 12,
   "id": "dcbcec85-3872-4543-bbe0-52e9197a6023",
   "metadata": {},
   "outputs": [
    {
     "name": "stdout",
     "output_type": "stream",
     "text": [
      "hi\n"
     ]
    },
    {
     "name": "stdin",
     "output_type": "stream",
     "text": [
      "enter index: 2\n"
     ]
    },
    {
     "name": "stdout",
     "output_type": "stream",
     "text": [
      "30\n",
      "bye\n"
     ]
    }
   ],
   "source": [
    "print(\"hi\")\n",
    "x=[10,20,30,40]\n",
    "index=int(input(\"enter index:\"))\n",
    "print(x[index])\n",
    "print(\"bye\")"
   ]
  },
  {
   "cell_type": "markdown",
   "id": "7e474297-9917-4ce3-93d7-53d6be252c4f",
   "metadata": {},
   "source": [
    "## **IndexError**"
   ]
  },
  {
   "cell_type": "code",
   "execution_count": 11,
   "id": "222f30cb-8457-41ce-87a3-fadcbdfc5b54",
   "metadata": {},
   "outputs": [
    {
     "name": "stdout",
     "output_type": "stream",
     "text": [
      "hi\n"
     ]
    },
    {
     "name": "stdin",
     "output_type": "stream",
     "text": [
      "enter index: 25\n"
     ]
    },
    {
     "ename": "IndexError",
     "evalue": "list index out of range",
     "output_type": "error",
     "traceback": [
      "\u001b[1;31m---------------------------------------------------------------------------\u001b[0m",
      "\u001b[1;31mIndexError\u001b[0m                                Traceback (most recent call last)",
      "Cell \u001b[1;32mIn[11], line 4\u001b[0m\n\u001b[0;32m      2\u001b[0m x\u001b[38;5;241m=\u001b[39m[\u001b[38;5;241m10\u001b[39m,\u001b[38;5;241m20\u001b[39m,\u001b[38;5;241m30\u001b[39m,\u001b[38;5;241m40\u001b[39m]\n\u001b[0;32m      3\u001b[0m index\u001b[38;5;241m=\u001b[39m\u001b[38;5;28mint\u001b[39m(\u001b[38;5;28minput\u001b[39m(\u001b[38;5;124m\"\u001b[39m\u001b[38;5;124menter index:\u001b[39m\u001b[38;5;124m\"\u001b[39m))\n\u001b[1;32m----> 4\u001b[0m \u001b[38;5;28mprint\u001b[39m(\u001b[43mx\u001b[49m\u001b[43m[\u001b[49m\u001b[43mindex\u001b[49m\u001b[43m]\u001b[49m)\n\u001b[0;32m      5\u001b[0m \u001b[38;5;28mprint\u001b[39m(\u001b[38;5;124m\"\u001b[39m\u001b[38;5;124mbye\u001b[39m\u001b[38;5;124m\"\u001b[39m)\n",
      "\u001b[1;31mIndexError\u001b[0m: list index out of range"
     ]
    }
   ],
   "source": [
    "print(\"hi\")\n",
    "x=[10,20,30,40]\n",
    "index=int(input(\"enter index:\"))\n",
    "print(x[index])\n",
    "print(\"bye\")"
   ]
  },
  {
   "cell_type": "markdown",
   "id": "441688a6-0f78-467b-80e1-d9623e75c70e",
   "metadata": {},
   "source": [
    "## **ValueError**"
   ]
  },
  {
   "cell_type": "code",
   "execution_count": 5,
   "id": "66d046cf-f422-4578-8798-c0586c50bf93",
   "metadata": {},
   "outputs": [
    {
     "name": "stdin",
     "output_type": "stream",
     "text": [
      "enter num: fg\n"
     ]
    },
    {
     "ename": "ValueError",
     "evalue": "invalid literal for int() with base 10: 'fg'",
     "output_type": "error",
     "traceback": [
      "\u001b[1;31m---------------------------------------------------------------------------\u001b[0m",
      "\u001b[1;31mValueError\u001b[0m                                Traceback (most recent call last)",
      "Cell \u001b[1;32mIn[5], line 1\u001b[0m\n\u001b[1;32m----> 1\u001b[0m \u001b[38;5;28;43mint\u001b[39;49m\u001b[43m(\u001b[49m\u001b[38;5;28;43minput\u001b[39;49m\u001b[43m(\u001b[49m\u001b[38;5;124;43m\"\u001b[39;49m\u001b[38;5;124;43menter num:\u001b[39;49m\u001b[38;5;124;43m\"\u001b[39;49m\u001b[43m)\u001b[49m\u001b[43m)\u001b[49m\n",
      "\u001b[1;31mValueError\u001b[0m: invalid literal for int() with base 10: 'fg'"
     ]
    }
   ],
   "source": [
    "int(input(\"enter num:\"))"
   ]
  },
  {
   "cell_type": "markdown",
   "id": "70aa6eec-7e31-451a-9c7f-a9345d7dd161",
   "metadata": {},
   "source": [
    "## **KeyError**"
   ]
  },
  {
   "cell_type": "code",
   "execution_count": 7,
   "id": "cf21700f-8133-43bf-b69e-77f29c8a7928",
   "metadata": {},
   "outputs": [
    {
     "data": {
      "text/plain": [
       "'apple'"
      ]
     },
     "execution_count": 7,
     "metadata": {},
     "output_type": "execute_result"
    }
   ],
   "source": [
    "d={\"a\":\"apple\"}\n",
    "d[\"a\"]"
   ]
  },
  {
   "cell_type": "code",
   "execution_count": 8,
   "id": "1e6eacd3-95f3-4003-b7e1-fe9cfd471800",
   "metadata": {},
   "outputs": [
    {
     "ename": "KeyError",
     "evalue": "'b'",
     "output_type": "error",
     "traceback": [
      "\u001b[1;31m---------------------------------------------------------------------------\u001b[0m",
      "\u001b[1;31mKeyError\u001b[0m                                  Traceback (most recent call last)",
      "Cell \u001b[1;32mIn[8], line 2\u001b[0m\n\u001b[0;32m      1\u001b[0m d\u001b[38;5;241m=\u001b[39m{\u001b[38;5;124m\"\u001b[39m\u001b[38;5;124ma\u001b[39m\u001b[38;5;124m\"\u001b[39m:\u001b[38;5;124m\"\u001b[39m\u001b[38;5;124mapple\u001b[39m\u001b[38;5;124m\"\u001b[39m}\n\u001b[1;32m----> 2\u001b[0m \u001b[43md\u001b[49m\u001b[43m[\u001b[49m\u001b[38;5;124;43m\"\u001b[39;49m\u001b[38;5;124;43mb\u001b[39;49m\u001b[38;5;124;43m\"\u001b[39;49m\u001b[43m]\u001b[49m\n",
      "\u001b[1;31mKeyError\u001b[0m: 'b'"
     ]
    }
   ],
   "source": [
    "d={\"a\":\"apple\"}\n",
    "d[\"b\"]"
   ]
  },
  {
   "cell_type": "markdown",
   "id": "a0d5026d-2c69-46ff-8078-fac286e02b1d",
   "metadata": {},
   "source": [
    "## **try**/**except**"
   ]
  },
  {
   "cell_type": "code",
   "execution_count": 15,
   "id": "2044f292-74b3-4e33-9d5f-895658579f34",
   "metadata": {},
   "outputs": [
    {
     "name": "stdout",
     "output_type": "stream",
     "text": [
      "hi\n"
     ]
    },
    {
     "name": "stdin",
     "output_type": "stream",
     "text": [
      "enter index: sdf\n"
     ]
    },
    {
     "name": "stdout",
     "output_type": "stream",
     "text": [
      "invalid index\n",
      "bye\n"
     ]
    }
   ],
   "source": [
    "print(\"hi\")\n",
    "x=[10,20,30,40]\n",
    "try:\n",
    "    index=int(input(\"enter index:\"))\n",
    "    print(x[index])\n",
    "except ValueError:\n",
    "    print(\"invalid index\")\n",
    "print(\"bye\")"
   ]
  },
  {
   "cell_type": "markdown",
   "id": "5067fce1-44bd-4733-b925-14664ea4e556",
   "metadata": {},
   "source": [
    "#### **except me ValueError and IndexError likhne per**"
   ]
  },
  {
   "cell_type": "code",
   "execution_count": 17,
   "id": "505f60d3-7b9d-43f5-8c0d-06c8ed22477d",
   "metadata": {},
   "outputs": [
    {
     "name": "stdout",
     "output_type": "stream",
     "text": [
      "hi\n"
     ]
    },
    {
     "name": "stdin",
     "output_type": "stream",
     "text": [
      "enter index: sfdsd\n"
     ]
    },
    {
     "name": "stdout",
     "output_type": "stream",
     "text": [
      "invalid index\n",
      "bye\n"
     ]
    }
   ],
   "source": [
    "print(\"hi\")\n",
    "x=[10,20,30,40]\n",
    "try:\n",
    "    index=int(input(\"enter index:\"))\n",
    "    print(x[index])\n",
    "except (ValueError,IndexError):\n",
    "    print(\"invalid index\")\n",
    "print(\"bye\")"
   ]
  },
  {
   "cell_type": "markdown",
   "id": "75792b5a-42bc-47da-8c5a-04122a578276",
   "metadata": {},
   "source": [
    "#### except me ValueError and IndexError alag alag kar ke likhne per"
   ]
  },
  {
   "cell_type": "code",
   "execution_count": 21,
   "id": "a234ec24-39d6-4b93-af24-2d4ae37dd338",
   "metadata": {},
   "outputs": [
    {
     "name": "stdout",
     "output_type": "stream",
     "text": [
      "hi\n"
     ]
    },
    {
     "name": "stdin",
     "output_type": "stream",
     "text": [
      "enter index: 65\n"
     ]
    },
    {
     "name": "stdout",
     "output_type": "stream",
     "text": [
      "invalid range, valid range--> 0-3 \n",
      "bye\n"
     ]
    }
   ],
   "source": [
    "print(\"hi\")\n",
    "x=[10,20,30,40]\n",
    "try:\n",
    "    index=int(input(\"enter index:\"))\n",
    "    print(x[index])\n",
    "except ValueError:\n",
    "    print(\"invalid value , input like 0,1,2,...\")\n",
    "except IndexError:\n",
    "    print(\"invalid range, valid range--> 0-3 \")\n",
    "print(\"bye\")"
   ]
  },
  {
   "cell_type": "code",
   "execution_count": 22,
   "id": "a28810c9-66eb-493d-b266-c16edfe6d573",
   "metadata": {},
   "outputs": [
    {
     "name": "stdout",
     "output_type": "stream",
     "text": [
      "hi\n"
     ]
    },
    {
     "name": "stdin",
     "output_type": "stream",
     "text": [
      "enter index: sdfsd\n"
     ]
    },
    {
     "name": "stdout",
     "output_type": "stream",
     "text": [
      "invalid value , input like 0,1,2,...\n",
      "bye\n"
     ]
    }
   ],
   "source": [
    "print(\"hi\")\n",
    "x=[10,20,30,40]\n",
    "try:\n",
    "    index=int(input(\"enter index:\"))\n",
    "    print(x[index])\n",
    "except ValueError:\n",
    "    print(\"invalid value , input like 0,1,2,...\")\n",
    "except IndexError:\n",
    "    print(\"invalid range, valid range--> 0-3 \")\n",
    "print(\"bye\")"
   ]
  },
  {
   "cell_type": "markdown",
   "id": "2d9ffda3-dcbb-4ab2-bf27-91bea9ea025e",
   "metadata": {},
   "source": [
    "#### **default except** koi bhi error likhne ki jarurat nhi hai."
   ]
  },
  {
   "cell_type": "code",
   "execution_count": 26,
   "id": "b67d393b-9dc9-4514-bce1-314a10525012",
   "metadata": {},
   "outputs": [
    {
     "name": "stdout",
     "output_type": "stream",
     "text": [
      "hi\n"
     ]
    },
    {
     "name": "stdin",
     "output_type": "stream",
     "text": [
      "enter index: 56\n"
     ]
    },
    {
     "name": "stdout",
     "output_type": "stream",
     "text": [
      "invalid input,valid input--->0-3\n",
      "bye\n"
     ]
    }
   ],
   "source": [
    "print(\"hi\")\n",
    "x=[10,20,30,40]\n",
    "try:\n",
    "    index=int(input(\"enter index:\"))\n",
    "    print(x[index])\n",
    "except:                                #default except\n",
    "    print(\"invalid input,valid input--->0-3\")\n",
    "print(\"bye\")"
   ]
  },
  {
   "cell_type": "code",
   "execution_count": 27,
   "id": "b67eb403-f743-46f2-931a-0a08a6b213b0",
   "metadata": {},
   "outputs": [
    {
     "name": "stdout",
     "output_type": "stream",
     "text": [
      "hi\n"
     ]
    },
    {
     "name": "stdin",
     "output_type": "stream",
     "text": [
      "enter index: dfsdf\n"
     ]
    },
    {
     "name": "stdout",
     "output_type": "stream",
     "text": [
      "invalid input,valid input--->0-3\n",
      "bye\n"
     ]
    }
   ],
   "source": [
    "print(\"hi\")\n",
    "x=[10,20,30,40]\n",
    "try:\n",
    "    index=int(input(\"enter index:\"))\n",
    "    print(x[index])\n",
    "except:                                #default except\n",
    "    print(\"invalid input,valid input--->0-3\")\n",
    "print(\"bye\")"
   ]
  },
  {
   "cell_type": "markdown",
   "id": "eac8c7de-bc39-4b8c-a19a-ed13347a9cac",
   "metadata": {},
   "source": [
    "#### agar hume **except** lagana hai. to aur default except bhi lagana ho to / **default except humesha last me hona chaiye**"
   ]
  },
  {
   "cell_type": "code",
   "execution_count": 29,
   "id": "a2cbd551-7845-42c2-8d1d-f22622e5150c",
   "metadata": {},
   "outputs": [
    {
     "name": "stdout",
     "output_type": "stream",
     "text": [
      "hi\n"
     ]
    },
    {
     "name": "stdin",
     "output_type": "stream",
     "text": [
      "enter index: acd\n"
     ]
    },
    {
     "name": "stdout",
     "output_type": "stream",
     "text": [
      "invalid value input\n",
      "bye\n"
     ]
    }
   ],
   "source": [
    "print(\"hi\")\n",
    "x=[10,20,30,40]\n",
    "try:\n",
    "    index=int(input(\"enter index:\"))\n",
    "    print(x[index])\n",
    "except ValueError:\n",
    "    print(\"invalid value input\")\n",
    "except:                                #default except\n",
    "    print(\"invalid input,valid input--->0-3\")\n",
    "print(\"bye\")"
   ]
  },
  {
   "cell_type": "markdown",
   "id": "7de844f3-8850-42f5-8411-1b7a2265437f",
   "metadata": {},
   "source": [
    "#### **default except humesha last me hona chaiye** isliye ye error aai hai."
   ]
  },
  {
   "cell_type": "code",
   "execution_count": 30,
   "id": "21658530-4fea-4810-851d-60a1d8af9dee",
   "metadata": {},
   "outputs": [
    {
     "name": "stdout",
     "output_type": "stream",
     "text": [
      "hi\n"
     ]
    },
    {
     "ename": "SyntaxError",
     "evalue": "default 'except:' must be last (3665736410.py, line 7)",
     "output_type": "error",
     "traceback": [
      "\u001b[1;36m  Cell \u001b[1;32mIn[30], line 7\u001b[1;36m\u001b[0m\n\u001b[1;33m    except:                                #default except\u001b[0m\n\u001b[1;37m    ^\u001b[0m\n\u001b[1;31mSyntaxError\u001b[0m\u001b[1;31m:\u001b[0m default 'except:' must be last\n"
     ]
    }
   ],
   "source": [
    "print(\"hi\")\n",
    "x=[10,20,30,40]\n",
    "try:\n",
    "    index=int(input(\"enter index:\"))\n",
    "    print(x[index])\n",
    "\n",
    "except:                                #default except\n",
    "    print(\"invalid input,valid input--->0-3\")\n",
    "except ValueError:\n",
    "    print(\"invalid value input\")\n",
    "print(\"bye\")"
   ]
  },
  {
   "cell_type": "markdown",
   "id": "14455b78-05ef-4b90-9fd0-913518648789",
   "metadata": {},
   "source": [
    "## **try/except-- else** -- else keyword humesha try keyword ke sath hi chalta hai. ye kabhi akele ya kisi aur keyword ke sath nhi chalta hai."
   ]
  },
  {
   "cell_type": "code",
   "execution_count": 31,
   "id": "f4bcea1d-4bdb-4dd6-bb01-b42377f38e48",
   "metadata": {},
   "outputs": [
    {
     "name": "stdout",
     "output_type": "stream",
     "text": [
      "hi\n"
     ]
    },
    {
     "name": "stdin",
     "output_type": "stream",
     "text": [
      "enter index: 221\n"
     ]
    },
    {
     "name": "stdout",
     "output_type": "stream",
     "text": [
      "invalid input,valid input--->0-3\n",
      "bye\n"
     ]
    }
   ],
   "source": [
    "print(\"hi\")\n",
    "x=[10,20,30,40]\n",
    "try:\n",
    "    index=int(input(\"enter index:\"))\n",
    "    print(x[index])\n",
    "\n",
    "except:                                #default except\n",
    "    print(\"invalid input,valid input--->0-3\")\n",
    "else:\n",
    "    print(\"this is else\")\n",
    "print(\"bye\")"
   ]
  },
  {
   "cell_type": "code",
   "execution_count": 32,
   "id": "a3235945-be93-47c0-993e-a7101f81979e",
   "metadata": {},
   "outputs": [
    {
     "name": "stdout",
     "output_type": "stream",
     "text": [
      "hi\n"
     ]
    },
    {
     "name": "stdin",
     "output_type": "stream",
     "text": [
      "enter index: 2\n"
     ]
    },
    {
     "name": "stdout",
     "output_type": "stream",
     "text": [
      "30\n",
      "this is else\n",
      "bye\n"
     ]
    }
   ],
   "source": [
    "print(\"hi\")\n",
    "x=[10,20,30,40]\n",
    "try:\n",
    "    index=int(input(\"enter index:\"))\n",
    "    print(x[index])\n",
    "\n",
    "except:                                #default except\n",
    "    print(\"invalid input,valid input--->0-3\")\n",
    "else:\n",
    "    print(\"this is else\")\n",
    "print(\"bye\")"
   ]
  },
  {
   "cell_type": "markdown",
   "id": "a1698922-8570-41f0-9400-0cf908285b23",
   "metadata": {},
   "source": [
    "## **try/except/else--finally**-- finally keyword humesha chalta hai. koi chale ya nhi ye humesha chalega."
   ]
  },
  {
   "cell_type": "code",
   "execution_count": 33,
   "id": "8a5c8626-c84b-448a-9613-2e6a7abf2b6a",
   "metadata": {},
   "outputs": [
    {
     "name": "stdout",
     "output_type": "stream",
     "text": [
      "hi\n"
     ]
    },
    {
     "name": "stdin",
     "output_type": "stream",
     "text": [
      "enter index: 656\n"
     ]
    },
    {
     "name": "stdout",
     "output_type": "stream",
     "text": [
      "invalid input,valid input--->0-3\n",
      "this is finally\n",
      "bye\n"
     ]
    }
   ],
   "source": [
    "print(\"hi\")\n",
    "x=[10,20,30,40]\n",
    "try:\n",
    "    index=int(input(\"enter index:\"))\n",
    "    print(x[index])\n",
    "\n",
    "except:                                #default except\n",
    "    print(\"invalid input,valid input--->0-3\")\n",
    "else:\n",
    "    print(\"this is else\")\n",
    "finally:\n",
    "    print(\"this is finally\")\n",
    "print(\"bye\")"
   ]
  },
  {
   "cell_type": "code",
   "execution_count": 34,
   "id": "b98eb783-cbb6-4ce7-b90f-ec4ba9a55fb3",
   "metadata": {},
   "outputs": [
    {
     "name": "stdout",
     "output_type": "stream",
     "text": [
      "hi\n"
     ]
    },
    {
     "name": "stdin",
     "output_type": "stream",
     "text": [
      "enter index: zdcda\n"
     ]
    },
    {
     "name": "stdout",
     "output_type": "stream",
     "text": [
      "invalid input,valid input--->0-3\n",
      "this is finally\n",
      "bye\n"
     ]
    }
   ],
   "source": [
    "print(\"hi\")\n",
    "x=[10,20,30,40]\n",
    "try:\n",
    "    index=int(input(\"enter index:\"))\n",
    "    print(x[index])\n",
    "\n",
    "except:                                #default except\n",
    "    print(\"invalid input,valid input--->0-3\")\n",
    "else:\n",
    "    print(\"this is else\")\n",
    "finally:\n",
    "    print(\"this is finally\")\n",
    "print(\"bye\")"
   ]
  },
  {
   "cell_type": "code",
   "execution_count": 35,
   "id": "57ce8f09-3171-450f-b692-b1a7e6cf4f05",
   "metadata": {},
   "outputs": [
    {
     "name": "stdout",
     "output_type": "stream",
     "text": [
      "hi\n"
     ]
    },
    {
     "name": "stdin",
     "output_type": "stream",
     "text": [
      "enter index: 2\n"
     ]
    },
    {
     "name": "stdout",
     "output_type": "stream",
     "text": [
      "30\n",
      "this is else\n",
      "this is finally\n",
      "bye\n"
     ]
    }
   ],
   "source": [
    "print(\"hi\")\n",
    "x=[10,20,30,40]\n",
    "try:\n",
    "    index=int(input(\"enter index:\"))\n",
    "    print(x[index])\n",
    "\n",
    "except:                                #default except\n",
    "    print(\"invalid input,valid input--->0-3\")\n",
    "else:\n",
    "    print(\"this is else\")\n",
    "finally:\n",
    "    print(\"this is finally\")\n",
    "print(\"bye\")"
   ]
  },
  {
   "cell_type": "code",
   "execution_count": null,
   "id": "744563e9-1b3f-4e64-88b2-247bc049b205",
   "metadata": {},
   "outputs": [],
   "source": []
  }
 ],
 "metadata": {
  "kernelspec": {
   "display_name": "Python 3 (ipykernel)",
   "language": "python",
   "name": "python3"
  },
  "language_info": {
   "codemirror_mode": {
    "name": "ipython",
    "version": 3
   },
   "file_extension": ".py",
   "mimetype": "text/x-python",
   "name": "python",
   "nbconvert_exporter": "python",
   "pygments_lexer": "ipython3",
   "version": "3.10.9"
  }
 },
 "nbformat": 4,
 "nbformat_minor": 5
}
