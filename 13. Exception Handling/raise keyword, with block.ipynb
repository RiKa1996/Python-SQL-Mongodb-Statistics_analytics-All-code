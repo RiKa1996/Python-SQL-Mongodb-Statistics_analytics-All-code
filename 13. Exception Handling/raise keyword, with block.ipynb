{
 "cells": [
  {
   "cell_type": "raw",
   "id": "2c5c6e17-ee31-4beb-beaf-80190d0551cd",
   "metadata": {},
   "source": [
    "## with block\n",
    "       ....\n",
    "       ....\n",
    "       ....\n",
    "       \n",
    "....          #with block se file automectic close ho jata hai."
   ]
  },
  {
   "cell_type": "markdown",
   "id": "247b9f87-8bb6-401f-9149-62ddaca819d9",
   "metadata": {},
   "source": [
    "#### example"
   ]
  },
  {
   "cell_type": "code",
   "execution_count": 7,
   "id": "a441fe0f-b873-4604-9fd3-47649c9a59d0",
   "metadata": {},
   "outputs": [
    {
     "name": "stdout",
     "output_type": "stream",
     "text": [
      "5.0\n"
     ]
    },
    {
     "ename": "ZeroDivisionError",
     "evalue": "division by zero",
     "output_type": "error",
     "traceback": [
      "\u001b[1;31m---------------------------------------------------------------------------\u001b[0m",
      "\u001b[1;31mZeroDivisionError\u001b[0m                         Traceback (most recent call last)",
      "Cell \u001b[1;32mIn[7], line 5\u001b[0m\n\u001b[0;32m      3\u001b[0m     \u001b[38;5;28;01mreturn\u001b[39;00m z\n\u001b[0;32m      4\u001b[0m \u001b[38;5;28mprint\u001b[39m(div(\u001b[38;5;241m10\u001b[39m,\u001b[38;5;241m2\u001b[39m))\n\u001b[1;32m----> 5\u001b[0m \u001b[38;5;28mprint\u001b[39m(\u001b[43mdiv\u001b[49m\u001b[43m(\u001b[49m\u001b[38;5;241;43m10\u001b[39;49m\u001b[43m,\u001b[49m\u001b[38;5;241;43m0\u001b[39;49m\u001b[43m)\u001b[49m)    \u001b[38;5;66;03m#error\u001b[39;00m\n\u001b[0;32m      6\u001b[0m \u001b[38;5;28mprint\u001b[39m(div(\u001b[38;5;241m10\u001b[39m,\u001b[38;5;241m5\u001b[39m))\n",
      "Cell \u001b[1;32mIn[7], line 2\u001b[0m, in \u001b[0;36mdiv\u001b[1;34m(x, y)\u001b[0m\n\u001b[0;32m      1\u001b[0m \u001b[38;5;28;01mdef\u001b[39;00m \u001b[38;5;21mdiv\u001b[39m(x,y):\n\u001b[1;32m----> 2\u001b[0m     z\u001b[38;5;241m=\u001b[39m\u001b[43mx\u001b[49m\u001b[38;5;241;43m/\u001b[39;49m\u001b[43my\u001b[49m\n\u001b[0;32m      3\u001b[0m     \u001b[38;5;28;01mreturn\u001b[39;00m z\n",
      "\u001b[1;31mZeroDivisionError\u001b[0m: division by zero"
     ]
    }
   ],
   "source": [
    "def div(x,y):\n",
    "    z=x/y\n",
    "    return z\n",
    "print(div(10,2))\n",
    "print(div(10,0))    #error\n",
    "print(div(10,5))"
   ]
  },
  {
   "cell_type": "code",
   "execution_count": 4,
   "id": "954de3a1-01b5-42a3-a5a1-cd9177a48496",
   "metadata": {},
   "outputs": [
    {
     "name": "stdout",
     "output_type": "stream",
     "text": [
      "5.0\n",
      "something went worng\n",
      "2.0\n"
     ]
    }
   ],
   "source": [
    "def div(x,y):\n",
    "    z=x/y\n",
    "    return z\n",
    "print(div(10,2))\n",
    "try:\n",
    "    print(div(10,0))\n",
    "except:\n",
    "    print(\"something went worng\")\n",
    "        \n",
    "print(div(10,5))"
   ]
  },
  {
   "cell_type": "code",
   "execution_count": 11,
   "id": "a1458429-3237-44de-ac97-8ef46ae37039",
   "metadata": {},
   "outputs": [
    {
     "name": "stdout",
     "output_type": "stream",
     "text": [
      "5.0\n",
      "something went wrong\n",
      "None\n",
      "2.0\n",
      "something went wrong\n",
      "None\n",
      "0.0\n"
     ]
    }
   ],
   "source": [
    "def div(x,y):\n",
    "    try:\n",
    "        z=x/y\n",
    "        return z\n",
    "    except:\n",
    "        return print(\"something went wrong\")\n",
    "print(div(10,2))\n",
    "print(div(10,0))\n",
    "print(div(10,5))\n",
    "print(div(\"hi\",5))\n",
    "print(div(0,10))"
   ]
  },
  {
   "cell_type": "markdown",
   "id": "6deccb5e-6edf-4d4f-9fac-fcbfea29156a",
   "metadata": {},
   "source": [
    "## **raise keyword**--raise keyword se hume exception lani hoti hai taki jo chij phle se wrong hai usse bachne ke liye."
   ]
  },
  {
   "cell_type": "code",
   "execution_count": 13,
   "id": "15bf9518-1a2a-42af-b92e-65f066c1a04b",
   "metadata": {},
   "outputs": [
    {
     "name": "stdin",
     "output_type": "stream",
     "text": [
      "enter age: -3\n"
     ]
    },
    {
     "name": "stdout",
     "output_type": "stream",
     "text": [
      "after 5 years: 2\n"
     ]
    }
   ],
   "source": [
    "#raise keyword\n",
    "age=int(input(\"enter age:\"))\n",
    "age=age+5\n",
    "print(\"after 5 years:\",age)"
   ]
  },
  {
   "cell_type": "code",
   "execution_count": 15,
   "id": "b31b3279-8128-48e4-885e-6f4d392b36de",
   "metadata": {},
   "outputs": [
    {
     "name": "stdin",
     "output_type": "stream",
     "text": [
      "enter age: -6\n"
     ]
    },
    {
     "ename": "ValueError",
     "evalue": "-ve age found",
     "output_type": "error",
     "traceback": [
      "\u001b[1;31m---------------------------------------------------------------------------\u001b[0m",
      "\u001b[1;31mValueError\u001b[0m                                Traceback (most recent call last)",
      "Cell \u001b[1;32mIn[15], line 4\u001b[0m\n\u001b[0;32m      2\u001b[0m age\u001b[38;5;241m=\u001b[39m\u001b[38;5;28mint\u001b[39m(\u001b[38;5;28minput\u001b[39m(\u001b[38;5;124m\"\u001b[39m\u001b[38;5;124menter age:\u001b[39m\u001b[38;5;124m\"\u001b[39m))\n\u001b[0;32m      3\u001b[0m \u001b[38;5;28;01mif\u001b[39;00m(age\u001b[38;5;241m<\u001b[39m\u001b[38;5;241m0\u001b[39m):\n\u001b[1;32m----> 4\u001b[0m     \u001b[38;5;28;01mraise\u001b[39;00m \u001b[38;5;167;01mValueError\u001b[39;00m(\u001b[38;5;124m\"\u001b[39m\u001b[38;5;124m-ve age found\u001b[39m\u001b[38;5;124m\"\u001b[39m)\n\u001b[0;32m      5\u001b[0m age\u001b[38;5;241m=\u001b[39mage\u001b[38;5;241m+\u001b[39m\u001b[38;5;241m5\u001b[39m\n\u001b[0;32m      7\u001b[0m \u001b[38;5;28mprint\u001b[39m(\u001b[38;5;124m\"\u001b[39m\u001b[38;5;124mafter 5 years:\u001b[39m\u001b[38;5;124m\"\u001b[39m,age)\n",
      "\u001b[1;31mValueError\u001b[0m: -ve age found"
     ]
    }
   ],
   "source": [
    "#raise keyword\n",
    "age=int(input(\"enter age:\"))\n",
    "if(age<0):\n",
    "    raise ValueError(\"-ve age found\")\n",
    "age=age+5\n",
    "    \n",
    "print(\"after 5 years:\",age)"
   ]
  },
  {
   "cell_type": "code",
   "execution_count": 16,
   "id": "1b479394-ebc6-4c6c-a705-dad0124e1826",
   "metadata": {},
   "outputs": [
    {
     "name": "stdin",
     "output_type": "stream",
     "text": [
      "enter age: 3\n"
     ]
    },
    {
     "name": "stdout",
     "output_type": "stream",
     "text": [
      "after 5 years: 8\n"
     ]
    }
   ],
   "source": [
    "#raise keyword\n",
    "age=int(input(\"enter age:\"))\n",
    "if(age<0):\n",
    "    raise ValueError(\"-ve age found\")\n",
    "age=age+5\n",
    "    \n",
    "print(\"after 5 years:\",age)"
   ]
  },
  {
   "cell_type": "markdown",
   "id": "383bbf2e-228e-4b7e-bd64-272c3e000898",
   "metadata": {},
   "source": [
    "### Practice question"
   ]
  },
  {
   "cell_type": "code",
   "execution_count": 17,
   "id": "2df981e0-71d1-48c0-8f12-3c1deee66a5e",
   "metadata": {},
   "outputs": [
    {
     "name": "stdout",
     "output_type": "stream",
     "text": [
      "1\n",
      "2\n",
      "5\n",
      "7\n",
      "8\n"
     ]
    }
   ],
   "source": [
    "print(1)\n",
    "try:\n",
    "    print(2)\n",
    "    print(3/0)     #ye nhi aayega kyoki\n",
    "    print(4)\n",
    "except:\n",
    "    print(5)\n",
    "finally:\n",
    "    print(7)\n",
    "print(8)"
   ]
  },
  {
   "cell_type": "code",
   "execution_count": 18,
   "id": "a58db92d-2863-4409-b59d-b62fd2c8e294",
   "metadata": {},
   "outputs": [
    {
     "ename": "ZeroDivisionError",
     "evalue": "division by zero",
     "output_type": "error",
     "traceback": [
      "\u001b[1;31m---------------------------------------------------------------------------\u001b[0m",
      "\u001b[1;31mZeroDivisionError\u001b[0m                         Traceback (most recent call last)",
      "Cell \u001b[1;32mIn[18], line 1\u001b[0m\n\u001b[1;32m----> 1\u001b[0m \u001b[38;5;28mprint\u001b[39m(\u001b[38;5;241;43m1\u001b[39;49m\u001b[38;5;241;43m/\u001b[39;49m\u001b[38;5;241;43m0\u001b[39;49m)\n\u001b[0;32m      2\u001b[0m \u001b[38;5;28;01mtry\u001b[39;00m:\n\u001b[0;32m      3\u001b[0m     \u001b[38;5;28mprint\u001b[39m(\u001b[38;5;241m2\u001b[39m)\n",
      "\u001b[1;31mZeroDivisionError\u001b[0m: division by zero"
     ]
    }
   ],
   "source": [
    "print(1/0)    #error ho gya isliye program band ho gya\n",
    "try:\n",
    "    print(2)\n",
    "    print(3)     #ye nhi aayega kyoki\n",
    "    print(4)\n",
    "except:\n",
    "    print(5)\n",
    "finally:\n",
    "    print(7)\n",
    "print(8)"
   ]
  },
  {
   "cell_type": "raw",
   "id": "8155a138-38c4-4dca-834a-f78fb7d3341c",
   "metadata": {},
   "source": [
    "try:\n",
    "    file=open(...)\n",
    "    file.read()\n",
    "    file.seek(5)\n",
    "    file.read(2)\n",
    "    .\n",
    "    con=pytube(..)\n",
    "    .\n",
    "    .\n",
    "    download()\n",
    "except:\n",
    "    ...\n",
    "    ...\n",
    "...\n",
    "...\n",
    "...\n"
   ]
  },
  {
   "cell_type": "raw",
   "id": "62e174f6-2540-45f8-850b-5f98019c086f",
   "metadata": {},
   "source": [
    "try:\n",
    "    file=open(...)\n",
    "    file.read()\n",
    "    file.seek(5)\n",
    "    file.read(2)\n",
    "except:\n",
    "    ...\n",
    "    .\n",
    "try:                   #hume alag alag try except banna chaiye taki error na sake\n",
    "    con=pytube(..)\n",
    "    .\n",
    "    .\n",
    "    download()\n",
    "except:\n",
    "    ...\n",
    "    ...\n",
    "...\n",
    "...\n",
    "...\n"
   ]
  }
 ],
 "metadata": {
  "kernelspec": {
   "display_name": "Python 3 (ipykernel)",
   "language": "python",
   "name": "python3"
  },
  "language_info": {
   "codemirror_mode": {
    "name": "ipython",
    "version": 3
   },
   "file_extension": ".py",
   "mimetype": "text/x-python",
   "name": "python",
   "nbconvert_exporter": "python",
   "pygments_lexer": "ipython3",
   "version": "3.10.9"
  }
 },
 "nbformat": 4,
 "nbformat_minor": 5
}
