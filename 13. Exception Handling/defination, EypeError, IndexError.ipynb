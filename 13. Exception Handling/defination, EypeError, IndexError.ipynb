{
 "cells": [
  {
   "cell_type": "markdown",
   "id": "d2182940-5c85-4440-9725-2335136dac77",
   "metadata": {},
   "source": [
    "### **Type of Errors**\n",
    "- 1. **Syntax Error** (compile time)- **program is not executed.**\n",
    "    - if we do not follow rules while coding\n",
    "- 2. **Exception** (run time)- **program is excuted but abnormally terminated when exception raise.**\n",
    "    - anything is not found in library\n",
    "    - resource(file/network/memory)is not available\n",
    "    - unsupported operations"
   ]
  },
  {
   "cell_type": "markdown",
   "id": "0bb0c8ec-99cf-4777-9f78-2519b42c0178",
   "metadata": {},
   "source": [
    "### **Exception**\n",
    "- it is a type of error that occurs at runtime and it terminates the program abnormally.\n",
    "    - Commonly used exceptions:\n",
    "        - **TypeError**\n",
    "        - **ValueError**\n",
    "        \n",
    "- **Termination**\n",
    "    - 1. normal - ye pura compleate ho jata hai.\n",
    "    - 2. abnormal - bich me hi exception aa jata hai."
   ]
  },
  {
   "cell_type": "code",
   "execution_count": 1,
   "id": "022afb55-42fd-4c97-9306-e28ea995e0f9",
   "metadata": {},
   "outputs": [
    {
     "ename": "TypeError",
     "evalue": "unsupported operand type(s) for /: 'str' and 'str'",
     "output_type": "error",
     "traceback": [
      "\u001b[1;31m---------------------------------------------------------------------------\u001b[0m",
      "\u001b[1;31mTypeError\u001b[0m                                 Traceback (most recent call last)",
      "Cell \u001b[1;32mIn[1], line 1\u001b[0m\n\u001b[1;32m----> 1\u001b[0m \u001b[38;5;28mprint\u001b[39m(\u001b[38;5;124;43m\"\u001b[39;49m\u001b[38;5;124;43mx\u001b[39;49m\u001b[38;5;124;43m\"\u001b[39;49m\u001b[38;5;241;43m/\u001b[39;49m\u001b[38;5;124;43m\"\u001b[39;49m\u001b[38;5;124;43my\u001b[39;49m\u001b[38;5;124;43m\"\u001b[39;49m)\n",
      "\u001b[1;31mTypeError\u001b[0m: unsupported operand type(s) for /: 'str' and 'str'"
     ]
    }
   ],
   "source": [
    "print(\"x\"/\"y\")"
   ]
  },
  {
   "cell_type": "code",
   "execution_count": 2,
   "id": "2ff873ce-bcd6-4010-8b62-1b051c792bea",
   "metadata": {},
   "outputs": [
    {
     "ename": "IndexError",
     "evalue": "list index out of range",
     "output_type": "error",
     "traceback": [
      "\u001b[1;31m---------------------------------------------------------------------------\u001b[0m",
      "\u001b[1;31mIndexError\u001b[0m                                Traceback (most recent call last)",
      "Cell \u001b[1;32mIn[2], line 2\u001b[0m\n\u001b[0;32m      1\u001b[0m x\u001b[38;5;241m=\u001b[39m[\u001b[38;5;241m10\u001b[39m,\u001b[38;5;241m20\u001b[39m,\u001b[38;5;241m30\u001b[39m,]\n\u001b[1;32m----> 2\u001b[0m \u001b[38;5;28mprint\u001b[39m(\u001b[43mx\u001b[49m\u001b[43m[\u001b[49m\u001b[38;5;241;43m5\u001b[39;49m\u001b[43m]\u001b[49m)\n",
      "\u001b[1;31mIndexError\u001b[0m: list index out of range"
     ]
    }
   ],
   "source": [
    "x=[10,20,30,]\n",
    "print(x[5])"
   ]
  },
  {
   "cell_type": "code",
   "execution_count": 3,
   "id": "101cb36e-0873-4b35-8127-0729ce49848f",
   "metadata": {},
   "outputs": [
    {
     "ename": "TypeError",
     "evalue": "list indices must be integers or slices, not float",
     "output_type": "error",
     "traceback": [
      "\u001b[1;31m---------------------------------------------------------------------------\u001b[0m",
      "\u001b[1;31mTypeError\u001b[0m                                 Traceback (most recent call last)",
      "Cell \u001b[1;32mIn[3], line 2\u001b[0m\n\u001b[0;32m      1\u001b[0m x\u001b[38;5;241m=\u001b[39m[\u001b[38;5;241m10\u001b[39m,\u001b[38;5;241m20\u001b[39m,\u001b[38;5;241m30\u001b[39m,]\n\u001b[1;32m----> 2\u001b[0m \u001b[38;5;28mprint\u001b[39m(\u001b[43mx\u001b[49m\u001b[43m[\u001b[49m\u001b[38;5;241;43m2.5\u001b[39;49m\u001b[43m]\u001b[49m)\n",
      "\u001b[1;31mTypeError\u001b[0m: list indices must be integers or slices, not float"
     ]
    }
   ],
   "source": [
    "x=[10,20,30,]\n",
    "print(x[2.5])"
   ]
  },
  {
   "cell_type": "code",
   "execution_count": null,
   "id": "57e073a2-9891-4f92-b83c-34c251d5efe3",
   "metadata": {},
   "outputs": [],
   "source": []
  }
 ],
 "metadata": {
  "kernelspec": {
   "display_name": "Python 3 (ipykernel)",
   "language": "python",
   "name": "python3"
  },
  "language_info": {
   "codemirror_mode": {
    "name": "ipython",
    "version": 3
   },
   "file_extension": ".py",
   "mimetype": "text/x-python",
   "name": "python",
   "nbconvert_exporter": "python",
   "pygments_lexer": "ipython3",
   "version": "3.10.9"
  }
 },
 "nbformat": 4,
 "nbformat_minor": 5
}
