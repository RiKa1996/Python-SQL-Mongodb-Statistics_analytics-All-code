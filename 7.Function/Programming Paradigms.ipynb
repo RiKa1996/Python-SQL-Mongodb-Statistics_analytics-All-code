{
 "cells": [
  {
   "cell_type": "markdown",
   "id": "6d4f2df6-4ec7-4f39-99f6-1443c06ddee0",
   "metadata": {},
   "source": [
    "## **Programming Paradigms(code design/way of coding):**\n",
    "#### Paradigms ka mtlb hai.- way of writing code\n",
    "\n",
    "- **Top level** - jo abhi tak hume padte aa rhe the\n",
    "- **Procedural** -\n",
    "- **Object Oriented** - aage jo hum padege"
   ]
  },
  {
   "cell_type": "code",
   "execution_count": null,
   "id": "52a57941-c447-47ac-82b5-c7a92f528d28",
   "metadata": {},
   "outputs": [],
   "source": []
  }
 ],
 "metadata": {
  "kernelspec": {
   "display_name": "Python 3 (ipykernel)",
   "language": "python",
   "name": "python3"
  },
  "language_info": {
   "codemirror_mode": {
    "name": "ipython",
    "version": 3
   },
   "file_extension": ".py",
   "mimetype": "text/x-python",
   "name": "python",
   "nbconvert_exporter": "python",
   "pygments_lexer": "ipython3",
   "version": "3.10.9"
  }
 },
 "nbformat": 4,
 "nbformat_minor": 5
}
