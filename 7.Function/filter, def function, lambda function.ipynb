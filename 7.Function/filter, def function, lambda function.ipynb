{
 "cells": [
  {
   "cell_type": "markdown",
   "id": "7eef4b9b-a420-4d6a-bb23-cfe466f32672",
   "metadata": {},
   "source": [
    "## **filter() fucntion**\n",
    "- it is another high order function that filters elements from a container on the basis of arguments fucntion.\n",
    "- arg fucntion should return boolean result. if is not boolean then:\n",
    "    - 0/0.0/None/\"\"---------->False\n",
    "    - other values----------->True\n",
    "- res=filter(fucntion,container)"
   ]
  },
  {
   "cell_type": "markdown",
   "id": "fb768951-e593-496d-9ba9-b59cf9693f18",
   "metadata": {},
   "source": [
    "### (who will define ?)\n",
    "#### **Types of Fucntion**\n",
    "#### 1. predefined(library)\n",
    "#### 2. programmer defined"
   ]
  },
  {
   "cell_type": "markdown",
   "id": "bd71d4cf-2e29-4e63-9fa6-8f899a1e8c0c",
   "metadata": {},
   "source": [
    "### (how a fun is defined?)\n",
    "#### **Types of Function**\n",
    "#### 1. named fucntion (def keyword)\n",
    "#### 2. anonymous fucntion(without name)--lambda keyword(lambda fucntion)"
   ]
  },
  {
   "cell_type": "markdown",
   "id": "94697782-9b4e-473c-9918-5a147ce57cc9",
   "metadata": {},
   "source": [
    "#### for even"
   ]
  },
  {
   "cell_type": "code",
   "execution_count": 1,
   "id": "829f33c8-70a5-4030-b473-a78509e7e0f0",
   "metadata": {},
   "outputs": [
    {
     "name": "stdout",
     "output_type": "stream",
     "text": [
      "[2, 4, 6, 8, 10]\n"
     ]
    }
   ],
   "source": [
    "x=[1,2,3,4,5,6,7,8,9,10]\n",
    "\n",
    "def checkeven(num):\n",
    "    if(num%2==0):\n",
    "        return True\n",
    "    else:\n",
    "        return False\n",
    "\n",
    "r=list(filter(checkeven,x))\n",
    "print(r)"
   ]
  },
  {
   "cell_type": "markdown",
   "id": "619bc01f-b01f-41da-b406-6108e0529f0a",
   "metadata": {},
   "source": [
    "#### agar hum return me boolian value True aur False ko change karege to even, odd me change ho jayega"
   ]
  },
  {
   "cell_type": "code",
   "execution_count": 3,
   "id": "019357c4-1e19-4954-9824-c65f6b82e7df",
   "metadata": {},
   "outputs": [
    {
     "name": "stdout",
     "output_type": "stream",
     "text": [
      "[1, 3, 5, 7, 9]\n"
     ]
    }
   ],
   "source": [
    "x=[1,2,3,4,5,6,7,8,9,10]\n",
    "\n",
    "def checkeven(num):\n",
    "    if(num%2==0):\n",
    "        return False\n",
    "    else:\n",
    "        return True\n",
    "\n",
    "r=list(filter(checkeven,x))\n",
    "print(r)"
   ]
  },
  {
   "cell_type": "markdown",
   "id": "75afa78c-e334-4dfa-abd6-0a584d8fbb4c",
   "metadata": {},
   "source": [
    "#### dono return me True likhne per--sabhi odd aur even value ek sath aa jayega"
   ]
  },
  {
   "cell_type": "code",
   "execution_count": 4,
   "id": "820eab58-c7e5-41a9-b532-1772e65c1148",
   "metadata": {},
   "outputs": [
    {
     "name": "stdout",
     "output_type": "stream",
     "text": [
      "[1, 2, 3, 4, 5, 6, 7, 8, 9, 10]\n"
     ]
    }
   ],
   "source": [
    "x=[1,2,3,4,5,6,7,8,9,10]\n",
    "\n",
    "def checkeven(num):\n",
    "    if(num%2==0):\n",
    "        return True\n",
    "    else:\n",
    "        return True\n",
    "\n",
    "r=list(filter(checkeven,x))\n",
    "print(r)"
   ]
  },
  {
   "cell_type": "markdown",
   "id": "5d3e03ed-00af-4a85-86fc-5d814e1732a1",
   "metadata": {},
   "source": [
    "#### dono return me False likhne per--khali list ban jayega"
   ]
  },
  {
   "cell_type": "code",
   "execution_count": 5,
   "id": "f8dcc7cd-af30-4d1e-8812-e0fe2e70708b",
   "metadata": {},
   "outputs": [
    {
     "name": "stdout",
     "output_type": "stream",
     "text": [
      "[]\n"
     ]
    }
   ],
   "source": [
    "x=[1,2,3,4,5,6,7,8,9,10]\n",
    "\n",
    "def checkeven(num):\n",
    "    if(num%2==0):\n",
    "        return False\n",
    "    else:\n",
    "        return False\n",
    "\n",
    "r=list(filter(checkeven,x))\n",
    "print(r)"
   ]
  },
  {
   "cell_type": "markdown",
   "id": "039623d7-d401-4d01-adf5-5f9df80c0a60",
   "metadata": {},
   "source": [
    "#### 0/0.0/None/\"\"---------->False\n",
    "#### other values----------->True"
   ]
  },
  {
   "cell_type": "code",
   "execution_count": 6,
   "id": "e715b7ee-62b5-4c2f-9582-bd339d585e46",
   "metadata": {},
   "outputs": [
    {
     "name": "stdout",
     "output_type": "stream",
     "text": [
      "[1, 2, 3, 4, 5, 6, 7, 8, 9, 10]\n"
     ]
    }
   ],
   "source": [
    "x=[1,2,3,4,5,6,7,8,9,10]\n",
    "\n",
    "def checkeven(num):\n",
    "    if(num%2==0):\n",
    "        return \"hi\"\n",
    "    else:\n",
    "        return \"bye\"                #isme value likhne per True aayega \n",
    "\n",
    "r=list(filter(checkeven,x))\n",
    "print(r)"
   ]
  },
  {
   "cell_type": "markdown",
   "id": "70a22b4e-72a0-45fa-a84a-e02e7872ebda",
   "metadata": {},
   "source": [
    "#### **def keyword**\n",
    "#### 1. name is given\n",
    "#### 2. defined using lindented block\n",
    "#### 3. we need to return a value\n",
    "#### 4. can be used anywhere in same or other program."
   ]
  },
  {
   "cell_type": "markdown",
   "id": "9ab01fb1-7793-42a4-9d2e-cfeb92f4101e",
   "metadata": {},
   "source": [
    "#### **lambda keyword**\n",
    "#### 1. name is not given\n",
    "#### 2. defined using inline block (as expression)\n",
    "#### 3. return is implicite (i.e. we can not use return keyword explicity)\n",
    "#### 4. can only be used at one place in program."
   ]
  },
  {
   "cell_type": "code",
   "execution_count": 11,
   "id": "50e2f2ff-25de-440b-897a-da2ddbb203b0",
   "metadata": {},
   "outputs": [
    {
     "data": {
      "text/plain": [
       "<function __main__.<lambda>(x, y)>"
      ]
     },
     "execution_count": 11,
     "metadata": {},
     "output_type": "execute_result"
    }
   ],
   "source": [
    "# This is example\n",
    "def mul(x,y):\n",
    "    z=x*y\n",
    "    return z\n",
    "\n",
    "lambda x,y:x*y\n",
    "\n"
   ]
  },
  {
   "cell_type": "code",
   "execution_count": 23,
   "id": "1df2a20a-1e6c-4b9e-bbb2-f8f0c803cd93",
   "metadata": {},
   "outputs": [
    {
     "name": "stdout",
     "output_type": "stream",
     "text": [
      "[1, 4, 9, 16]\n",
      "[1, 4, 9, 16]\n",
      "[1, 8, 27, 64]\n",
      "[1, 32, 243, 1024]\n",
      "[2, 4]\n",
      "[1, 3]\n"
     ]
    }
   ],
   "source": [
    "x=[1,2,3,4]\n",
    "\n",
    "def sqr(num):\n",
    "    return num**2\n",
    "\n",
    "print(list(map(sqr,x)))                #from def        #can be used anywhere in same or other program.\n",
    "print(list(map(lambda num:num**2,x)))  #from lambda\n",
    "print(list(map(lambda num:num**3,x)))  #from lambda\n",
    "print(list(map(lambda num:num**5,x)))  #from lambda     #can only be used at one place in program.\n",
    "print(list(filter(lambda num:num%2==0,x)))  #from lambda\n",
    "print(list(filter(lambda num:num%2==1,x)))  #from lambda"
   ]
  },
  {
   "cell_type": "code",
   "execution_count": 17,
   "id": "23438664-ca25-4891-8523-4d1d029dd0d8",
   "metadata": {},
   "outputs": [
    {
     "name": "stdout",
     "output_type": "stream",
     "text": [
      "True\n",
      "False\n"
     ]
    }
   ],
   "source": [
    "print(2%2==0)\n",
    "print(3%2==0)"
   ]
  },
  {
   "cell_type": "markdown",
   "id": "646e2e67-47cd-4928-8108-53eceff6d614",
   "metadata": {},
   "source": [
    "#### lambda fucntion me multiple expression likha ja skta hai.kya./ straigh forword no answer hai. /matlab confirm nhi hai."
   ]
  },
  {
   "cell_type": "code",
   "execution_count": 26,
   "id": "d017d594-d68b-48e2-920a-d2e2141a3ffa",
   "metadata": {},
   "outputs": [
    {
     "data": {
      "text/plain": [
       "<function __main__.<lambda>(x, y)>"
      ]
     },
     "execution_count": 26,
     "metadata": {},
     "output_type": "execute_result"
    }
   ],
   "source": [
    "def arithmetic(x,y):\n",
    "    a=x+y\n",
    "    b=x*y\n",
    "    c=x/y\n",
    "    return [a,b,c]\n",
    "\n",
    "lambda x,y:[x+y,x*y,x/y]\n",
    "lambda x,y:airthmetic(x,y)  #lambda fucntion me expression me likha ja skta hai."
   ]
  },
  {
   "cell_type": "markdown",
   "id": "ee3e234c-9162-421e-9ab6-d52180674298",
   "metadata": {},
   "source": [
    "#### koi tarika--lambda fucntion ko kisi variable me likha skte hai."
   ]
  },
  {
   "cell_type": "code",
   "execution_count": null,
   "id": "24a70a55-a49e-4868-a447-b93eef548aeb",
   "metadata": {},
   "outputs": [],
   "source": [
    "def arithmetic(x,y):\n",
    "    a=x+y\n",
    "    b=x*y\n",
    "    c=x/y\n",
    "    return [a,b,c]\n",
    "\n",
    "lambda x,y:[x+y,x*y,x/y]\n",
    "lambda x,y:airthmetic(x,y)  #lambda fucntion me expression me likha ja skta hai."
   ]
  },
  {
   "cell_type": "code",
   "execution_count": 30,
   "id": "2dc4eb09-40d8-4ec9-8143-3ea02601e87b",
   "metadata": {},
   "outputs": [
    {
     "data": {
      "text/plain": [
       "12"
      ]
     },
     "execution_count": 30,
     "metadata": {},
     "output_type": "execute_result"
    }
   ],
   "source": [
    "fun=lambda x,y:x*y\n",
    "fun(2,6)                #aisa kiya ja skta hai, but aisa nhi krte hai."
   ]
  },
  {
   "cell_type": "code",
   "execution_count": null,
   "id": "e131d82f-011d-46ea-be1f-49a2352eb40c",
   "metadata": {},
   "outputs": [],
   "source": []
  }
 ],
 "metadata": {
  "kernelspec": {
   "display_name": "Python 3 (ipykernel)",
   "language": "python",
   "name": "python3"
  },
  "language_info": {
   "codemirror_mode": {
    "name": "ipython",
    "version": 3
   },
   "file_extension": ".py",
   "mimetype": "text/x-python",
   "name": "python",
   "nbconvert_exporter": "python",
   "pygments_lexer": "ipython3",
   "version": "3.10.9"
  }
 },
 "nbformat": 4,
 "nbformat_minor": 5
}
