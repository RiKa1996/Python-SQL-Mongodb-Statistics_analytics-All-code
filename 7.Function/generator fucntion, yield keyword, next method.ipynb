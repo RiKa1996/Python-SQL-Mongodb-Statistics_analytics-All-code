{
 "cells": [
  {
   "cell_type": "markdown",
   "id": "8a9b834e-397d-4770-98d6-b9b9f3dc7f97",
   "metadata": {},
   "source": [
    "## **Generator fucntion**\n",
    "- generator fucntion is a funtion that returns elements of a sequence.\n",
    "- these elements are returned one by one (i. e. at a time only one element is present in memory)\n",
    "- we use **yield keyword** to implement this behaviour\n",
    "- in order to use this done by simply calling it.\n",
    "    - gen=generator_fucntion()\n",
    "    - then we need to pass this generator type to next() to get next elements\n",
    "        - e=next(gen)\n",
    "        - e=next(gen)\n",
    "        -\n",
    "        -\n",
    "        "
   ]
  },
  {
   "cell_type": "code",
   "execution_count": 3,
   "id": "12fcd1e8-12b9-4215-b78a-f4d0afea76ec",
   "metadata": {},
   "outputs": [
    {
     "data": {
      "text/plain": [
       "[1, 2, 3, 4, 5, 6, 7, 8, 9, 10]"
      ]
     },
     "execution_count": 3,
     "metadata": {},
     "output_type": "execute_result"
    }
   ],
   "source": [
    "set(range(1,11))\n",
    "list(range(1,11))"
   ]
  },
  {
   "cell_type": "code",
   "execution_count": 5,
   "id": "dcbb901b-fea4-4bb6-99cf-cce6b7056c3a",
   "metadata": {},
   "outputs": [
    {
     "name": "stdout",
     "output_type": "stream",
     "text": [
      "1\n",
      "2\n",
      "3\n",
      "4\n",
      "5\n",
      "6\n",
      "7\n",
      "8\n",
      "9\n",
      "10\n",
      "1\n",
      "2\n",
      "3\n",
      "4\n",
      "5\n",
      "6\n",
      "7\n",
      "8\n",
      "9\n",
      "10\n"
     ]
    }
   ],
   "source": [
    "x=[1,2,3,4,5,6,7,8,9,10]\n",
    "for i in x:\n",
    "    print(i)                  ##iske difrence ko sikhege hum, in dono me\n",
    "    \n",
    "for i in range(1,11):          #for loop ek bar me ek hi value leta hai , behind on sean\n",
    "    print(i)                   # range fucntion me always int value hi hota hai."
   ]
  },
  {
   "cell_type": "markdown",
   "id": "25e7d6fe-e588-4211-afd4-5970dc87db1b",
   "metadata": {},
   "source": [
    "### **how to run generator fun** /yield keyword/ **next fucntion**"
   ]
  },
  {
   "cell_type": "code",
   "execution_count": 33,
   "id": "9ea5e6e8-c46f-4921-9c24-a84cc9fbc2d2",
   "metadata": {},
   "outputs": [
    {
     "name": "stdout",
     "output_type": "stream",
     "text": [
      "<generator object myrange at 0x00000222896DCD60>\n",
      "hi\n",
      "10\n",
      "2.5\n",
      "True\n"
     ]
    },
    {
     "ename": "StopIteration",
     "evalue": "",
     "output_type": "error",
     "traceback": [
      "\u001b[1;31m---------------------------------------------------------------------------\u001b[0m",
      "\u001b[1;31mStopIteration\u001b[0m                             Traceback (most recent call last)",
      "Cell \u001b[1;32mIn[33], line 17\u001b[0m\n\u001b[0;32m     15\u001b[0m \u001b[38;5;28mprint\u001b[39m(\u001b[38;5;28mnext\u001b[39m(gen))\n\u001b[0;32m     16\u001b[0m \u001b[38;5;28mprint\u001b[39m(\u001b[38;5;28mnext\u001b[39m(gen))\n\u001b[1;32m---> 17\u001b[0m \u001b[38;5;28mprint\u001b[39m(\u001b[38;5;28;43mnext\u001b[39;49m\u001b[43m(\u001b[49m\u001b[43mgen\u001b[49m\u001b[43m)\u001b[49m)\n",
      "\u001b[1;31mStopIteration\u001b[0m: "
     ]
    }
   ],
   "source": [
    "#aur ye def fucntion se hi banta hai.\n",
    "#yield keyword -- generator fucntion\n",
    "def myrange():\n",
    "    yield 'hi'\n",
    "    yield 10\n",
    "    yield 2.5\n",
    "    yield True\n",
    "    \n",
    "            \n",
    "    \n",
    "gen=myrange()           #generator fucntion ko call karne ka tarika next method se     #getting generator types\n",
    "print(gen)              # ye huem ek object deta hai jo ki hum ise aage print me next fucntion me use karke aage ka code print karte hai.\n",
    "print(next(gen))\n",
    "print(next(gen))\n",
    "print(next(gen))\n",
    "print(next(gen))\n",
    "print(next(gen))       #error iske aage kuch call nhi kiya gya hai is liye error aaya hai. itni value hogi utni value aa jati hai."
   ]
  },
  {
   "cell_type": "code",
   "execution_count": 22,
   "id": "6500a782-3b28-419b-ab14-6232796acecf",
   "metadata": {},
   "outputs": [
    {
     "name": "stdout",
     "output_type": "stream",
     "text": [
      "hi\n",
      "10\n",
      "2.5\n",
      "True\n"
     ]
    }
   ],
   "source": [
    "for i in myrange():     #generator fucntion ko for loop se bhi kiya ja skta hai. uper wale ke jaise \n",
    "    print(i)\n",
    "\n"
   ]
  },
  {
   "cell_type": "markdown",
   "id": "02a79def-8f61-45d6-a986-012e962a6587",
   "metadata": {},
   "source": [
    "### **meaning full generator function**\n",
    "#### - generator fucntion, ye humare hath me hota hai aur hum ise control kar kste hai. exclusive and inclusive lagana hai ya nhi aur bhi bahot kuch"
   ]
  },
  {
   "cell_type": "markdown",
   "id": "08d6afc1-c0ee-4f93-b82e-82ef7f4eb5b8",
   "metadata": {},
   "source": [
    "#### exclusive menner me"
   ]
  },
  {
   "cell_type": "code",
   "execution_count": 40,
   "id": "7b3984ef-f2db-4d96-b047-e1e9595def24",
   "metadata": {},
   "outputs": [
    {
     "name": "stdout",
     "output_type": "stream",
     "text": [
      "<generator object myrange at 0x00000222896DFC30>\n",
      "4\n",
      "------------------------------------\n",
      "1\n",
      "2\n",
      "3\n",
      "4\n"
     ]
    }
   ],
   "source": [
    "def myrange(start,end):\n",
    "    while(start<end):\n",
    "        yield start\n",
    "        start+=1\n",
    "\n",
    "gen=myrange(4,5)           # next fucntion se bhi kar skte hai\n",
    "print(gen)\n",
    "print(next(gen))\n",
    "\n",
    "print(\"------------------------------------\")        \n",
    "for i in myrange(1,5):     # for loop se bhi kar skte hai.\n",
    "    print(i)"
   ]
  },
  {
   "cell_type": "markdown",
   "id": "845c5419-7888-4bed-96c0-de4ac1dfbabe",
   "metadata": {},
   "source": [
    "#### inclusive menner me"
   ]
  },
  {
   "cell_type": "code",
   "execution_count": 31,
   "id": "37815c01-bacc-42f5-af43-9554a6e98fdc",
   "metadata": {},
   "outputs": [
    {
     "name": "stdout",
     "output_type": "stream",
     "text": [
      "10\n",
      "11\n",
      "12\n",
      "13\n",
      "14\n",
      "15\n",
      "16\n",
      "17\n",
      "18\n",
      "19\n",
      "20\n"
     ]
    }
   ],
   "source": [
    "def myrange(start,end):\n",
    "    while(start<=end):\n",
    "        yield start\n",
    "        start+=1\n",
    "        \n",
    "for i in myrange(10,20):\n",
    "    print(i)"
   ]
  },
  {
   "cell_type": "code",
   "execution_count": 32,
   "id": "8ace52b1-386b-47d2-a257-c82a8436634b",
   "metadata": {},
   "outputs": [
    {
     "name": "stdout",
     "output_type": "stream",
     "text": [
      "10\n",
      "10.5\n",
      "11.0\n",
      "11.5\n",
      "12.0\n",
      "12.5\n",
      "13.0\n",
      "13.5\n",
      "14.0\n",
      "14.5\n",
      "15.0\n",
      "15.5\n",
      "16.0\n",
      "16.5\n",
      "17.0\n",
      "17.5\n",
      "18.0\n",
      "18.5\n",
      "19.0\n",
      "19.5\n",
      "20.0\n"
     ]
    }
   ],
   "source": [
    "\n",
    "def myrange(start,end,step):\n",
    "    while(start<=end):\n",
    "        yield start\n",
    "        start+=step\n",
    "        \n",
    "for i in myrange(10,20,.5):\n",
    "    print(i)"
   ]
  },
  {
   "cell_type": "code",
   "execution_count": null,
   "id": "64b157da-a371-4b45-87ff-05a537cc3f9e",
   "metadata": {},
   "outputs": [],
   "source": []
  }
 ],
 "metadata": {
  "kernelspec": {
   "display_name": "Python 3 (ipykernel)",
   "language": "python",
   "name": "python3"
  },
  "language_info": {
   "codemirror_mode": {
    "name": "ipython",
    "version": 3
   },
   "file_extension": ".py",
   "mimetype": "text/x-python",
   "name": "python",
   "nbconvert_exporter": "python",
   "pygments_lexer": "ipython3",
   "version": "3.10.9"
  }
 },
 "nbformat": 4,
 "nbformat_minor": 5
}
