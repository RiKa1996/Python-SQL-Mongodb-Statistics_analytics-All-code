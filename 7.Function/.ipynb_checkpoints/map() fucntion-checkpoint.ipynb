{
 "cells": [
  {
   "cell_type": "markdown",
   "id": "1997a373-143d-46a1-901f-dea20ecfc7a5",
   "metadata": {},
   "source": [
    "## **3. map() fucntion**\n",
    "- it is high order fucntion that internally call **arg fucntion for each element of arg container (list/tuple/set/etc)**\n",
    "- res=map(**fucntion,container**)\n",
    "- we need to convert result of map into a container to make result readable\n",
    "    - list(res)\n",
    "        or\n",
    "    - tuple(res)\n",
    "        or\n",
    "    - set(res)"
   ]
  },
  {
   "cell_type": "markdown",
   "id": "1cfde8fb-7123-4ec1-8509-f20733781827",
   "metadata": {},
   "source": [
    "### **mainual**"
   ]
  },
  {
   "cell_type": "code",
   "execution_count": 7,
   "id": "d7faa7db-c147-4a21-aaf9-016289c10ef2",
   "metadata": {},
   "outputs": [
    {
     "name": "stdout",
     "output_type": "stream",
     "text": [
      "[1, 2, 3, 4, 5]\n",
      "[1, 4, 9, 16, 25, 36]\n"
     ]
    }
   ],
   "source": [
    "x=[1,2,3,4,5]\n",
    "def sqr(num):\n",
    "    return num**2\n",
    "y=[]\n",
    "y.append(sqr(1))\n",
    "y.append(sqr(2))\n",
    "y.append(sqr(3))\n",
    "y.append(sqr(4))\n",
    "y.append(sqr(5))\n",
    "y.append(sqr(6))\n",
    "print(x)\n",
    "print(y)"
   ]
  },
  {
   "cell_type": "markdown",
   "id": "9a2e1a20-a771-4e1a-a3f6-d832e410d3f1",
   "metadata": {},
   "source": [
    "### **for loop se**"
   ]
  },
  {
   "cell_type": "code",
   "execution_count": 9,
   "id": "9e15f804-cd34-4f63-a118-0e470370e8b8",
   "metadata": {},
   "outputs": [
    {
     "name": "stdout",
     "output_type": "stream",
     "text": [
      "[1, 2, 3, 4, 5]\n",
      "[1, 4, 9, 16, 25]\n"
     ]
    }
   ],
   "source": [
    "x=[1,2,3,4,5]\n",
    "def sqr(num):\n",
    "    return num**2\n",
    "y=[]\n",
    "\n",
    "for i in x:\n",
    "    y.append(sqr(i))\n",
    "print(x)\n",
    "print(y)"
   ]
  },
  {
   "cell_type": "code",
   "execution_count": 10,
   "id": "4807c03c-e575-4bb1-b7d8-fd92939f96da",
   "metadata": {},
   "outputs": [
    {
     "name": "stdout",
     "output_type": "stream",
     "text": [
      "[1, 2, 3, 4, 5, 25, 253, 55, 2, 5, 5]\n",
      "[1, 4, 9, 16, 25, 625, 64009, 3025, 4, 25, 25]\n"
     ]
    }
   ],
   "source": [
    "x=[1,2,3,4,5,25,253,55,2,5,5]\n",
    "def sqr(num):\n",
    "    return num**2\n",
    "y=[]\n",
    "\n",
    "for i in x:\n",
    "    y.append(sqr(i))\n",
    "print(x)\n",
    "print(y)"
   ]
  },
  {
   "cell_type": "markdown",
   "id": "06304d41-5af1-4fee-b11e-899eb4b4f033",
   "metadata": {},
   "source": [
    "## **now map() se karte hai.**"
   ]
  },
  {
   "cell_type": "code",
   "execution_count": 24,
   "id": "5d546c56-d36b-47c2-8a76-ddd43a9df14d",
   "metadata": {},
   "outputs": [
    {
     "name": "stdout",
     "output_type": "stream",
     "text": [
      "[1, 2, 3, 4, 5, 25, 253, 55, 2, 5, 5]\n",
      "[1, 4, 9, 16, 25, 625, 64009, 3025, 4, 25, 25]\n",
      "(1, 4, 9, 16, 25, 625, 64009, 3025, 4, 25, 25)\n",
      "{1, 4, 9, 64009, 16, 625, 3025, 25}\n"
     ]
    }
   ],
   "source": [
    "x=[1,2,3,4,5,25,253,55,2,5,5]\n",
    "def sqr(num):\n",
    "    return num**2\n",
    "\n",
    "print(x)\n",
    "u=list(map(sqr,x))        #list se\n",
    "v=tuple(map(sqr,x))       #tuple se\n",
    "s=set(map(sqr,x))         #set se\n",
    "print(u)\n",
    "print(v)\n",
    "print(s)"
   ]
  },
  {
   "cell_type": "markdown",
   "id": "048016b7-e221-4707-a14d-5637c7b1dc9f",
   "metadata": {},
   "source": [
    "#### map() function sirf **ek bari** hi chalta hai. use kisi me bhi convert kar jaye list me, tuple me ya phir set me."
   ]
  },
  {
   "cell_type": "code",
   "execution_count": 25,
   "id": "059bff60-b48e-4ab1-8c08-fc7e22daca03",
   "metadata": {},
   "outputs": [
    {
     "name": "stdout",
     "output_type": "stream",
     "text": [
      "[1, 2, 3, 4, 5, 25, 253, 55, 2, 5, 5]\n",
      "[1, 4, 9, 16, 25, 625, 64009, 3025, 4, 25, 25]\n",
      "()\n",
      "set()\n"
     ]
    }
   ],
   "source": [
    "x=[1,2,3,4,5,25,253,55,2,5,5]\n",
    "def sqr(num):\n",
    "    return num**2\n",
    "\n",
    "print(x)\n",
    "m=(map(sqr,x)) \n",
    "\n",
    "print(list(m))\n",
    "print(tuple(m))\n",
    "print(set(m))"
   ]
  },
  {
   "cell_type": "markdown",
   "id": "6f87750f-2a3a-4773-a3f3-f35771b35e99",
   "metadata": {},
   "source": [
    "### map() function me **range fucntion** bhi use kar skte hai."
   ]
  },
  {
   "cell_type": "code",
   "execution_count": 29,
   "id": "2e839c1a-50d7-4c06-8531-25e5eade6c38",
   "metadata": {},
   "outputs": [
    {
     "name": "stdout",
     "output_type": "stream",
     "text": [
      "[1, 4, 9, 16, 25, 36, 49, 64, 81, 100]\n"
     ]
    }
   ],
   "source": [
    "\n",
    "def sqr(num):\n",
    "    return num**2\n",
    "\n",
    "\n",
    "m=(map(sqr,range(1,11))) \n",
    "\n",
    "print(list(m))"
   ]
  },
  {
   "cell_type": "code",
   "execution_count": 32,
   "id": "a376ad2f-f646-4dc6-a425-a98e74f2989e",
   "metadata": {},
   "outputs": [
    {
     "name": "stdout",
     "output_type": "stream",
     "text": [
      "range(1, 6)\n",
      "[1, 4, 9, 16, 25]\n"
     ]
    }
   ],
   "source": [
    "# ye kisi me bhi pass kiya ja skta hai. list me, tuple me , set me , range fucntion se\n",
    "x=[1,2,3,4,5]\n",
    "x=(1,2,3,4,5)\n",
    "x={1,2,3,4,5}\n",
    "x=range(1,6,1)\n",
    "def sqr(num):\n",
    "    return num**2\n",
    "\n",
    "print(x)\n",
    "m=(map(sqr,x)) \n",
    "\n",
    "print(list(m))"
   ]
  },
  {
   "cell_type": "code",
   "execution_count": 33,
   "id": "edffa85e-8e12-40a4-bab1-c444a5a9544a",
   "metadata": {},
   "outputs": [
    {
     "name": "stdout",
     "output_type": "stream",
     "text": [
      "[1, 2, 3, 4, 5]\n",
      "[1, 4, 9, 16, 25]\n"
     ]
    }
   ],
   "source": [
    "# ye kisi me bhi pass kiya ja skta hai. list me, tuple me , set me , range fucntion se\n",
    "x=[1,2,3,4,5]\n",
    "\n",
    "def sqr(num):\n",
    "    return num**2\n",
    "\n",
    "print(x)\n",
    "print(list(map(sqr,x)))  #ek line me bhi nikala ja skta hai.\n",
    "\n"
   ]
  },
  {
   "cell_type": "markdown",
   "id": "99c51cb8-2787-4cbf-9bac-a605d65a2b79",
   "metadata": {},
   "source": [
    "### cube"
   ]
  },
  {
   "cell_type": "code",
   "execution_count": 39,
   "id": "b3efc692-5add-4164-87ad-12105fd65795",
   "metadata": {},
   "outputs": [
    {
     "name": "stdout",
     "output_type": "stream",
     "text": [
      "[1, 2, 3, 4, 5]\n",
      "[1, 8, 27, 64, 125]\n"
     ]
    }
   ],
   "source": [
    "#cube nikale ka tarika\n",
    "x=[1,2,3,4,5]\n",
    "\n",
    "def cube(num):\n",
    "    return num**3\n",
    "\n",
    "print(x)\n",
    "print(list(map(cube,x)))  #ek line me bhi nikala ja skta hai.\n",
    "\n"
   ]
  },
  {
   "cell_type": "markdown",
   "id": "f9fc9699-747a-4296-bcdb-54992a70ab4d",
   "metadata": {},
   "source": [
    "### uper method, len fucntion"
   ]
  },
  {
   "cell_type": "code",
   "execution_count": 40,
   "id": "a26ffb05-b3ad-4a30-bfcf-51bd8ec5e927",
   "metadata": {},
   "outputs": [
    {
     "name": "stdout",
     "output_type": "stream",
     "text": [
      "[5, 4, 5, 12]\n"
     ]
    }
   ],
   "source": [
    "n=[\"dhoni\",\"viru\",\"rohit\",\"virat kohali\"]\n",
    "print(list(map(len,n)))"
   ]
  },
  {
   "cell_type": "code",
   "execution_count": null,
   "id": "b465710b-9214-4271-8ff1-bc6c14bf918d",
   "metadata": {},
   "outputs": [],
   "source": []
  }
 ],
 "metadata": {
  "kernelspec": {
   "display_name": "Python 3 (ipykernel)",
   "language": "python",
   "name": "python3"
  },
  "language_info": {
   "codemirror_mode": {
    "name": "ipython",
    "version": 3
   },
   "file_extension": ".py",
   "mimetype": "text/x-python",
   "name": "python",
   "nbconvert_exporter": "python",
   "pygments_lexer": "ipython3",
   "version": "3.10.9"
  }
 },
 "nbformat": 4,
 "nbformat_minor": 5
}
