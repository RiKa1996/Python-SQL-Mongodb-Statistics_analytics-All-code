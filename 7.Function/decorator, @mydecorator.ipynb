{
 "cells": [
  {
   "cell_type": "markdown",
   "id": "4c3d0364-175b-43ba-bd5a-47299b6ca84c",
   "metadata": {},
   "source": [
    "## **Decorator**\n",
    "- it is a special of function that extend behaviour of a fucntion without modifying it.\n",
    "- generally, we use decorator to provide common code to multiple fucntions so that we can easily maintain this common code.\n",
    "- in coding, a decorator fucntion is implemented as:\n",
    "    - accepts other function(that you want to extend) as argument\n",
    "    - define a nested fucntion and this nested function adds code as well as calls argument function\n",
    "    - now decorator needs to return this nested function\n",
    "    \n",
    "- in order to apply decorator to a funtion we have two approaches\n",
    "    - explicitly calls decorator by passing fun as arg and receive it's extended version into a name\n",
    "        - fun=decorator(fun)\n",
    "    \n",
    "    - simply use @decorator when we define fun\n",
    "        - @decorator def fun():...."
   ]
  },
  {
   "cell_type": "code",
   "execution_count": 2,
   "id": "b4b30abf-f5d2-4cd3-b261-8baf3d8b68bc",
   "metadata": {},
   "outputs": [
    {
     "name": "stdout",
     "output_type": "stream",
     "text": [
      "this is login\n",
      "this is register\n"
     ]
    }
   ],
   "source": [
    "def login():\n",
    "    print(\"this is login\")\n",
    "    \n",
    "def register():\n",
    "    print(\"this is register\")\n",
    "    \n",
    "login()\n",
    "register()"
   ]
  },
  {
   "cell_type": "markdown",
   "id": "bad46cf1-5398-462f-b221-2f4090a61786",
   "metadata": {},
   "source": [
    "#### decorator function me as argument function ko rakhege like: decorator(fun)"
   ]
  },
  {
   "cell_type": "raw",
   "id": "ea81f6aa-8d37-4608-b069-8fa54268a4e5",
   "metadata": {},
   "source": [
    "def mydecorator(fun):\n",
    "    pass"
   ]
  },
  {
   "cell_type": "markdown",
   "id": "82c08ec2-609e-457f-95ab-78f59b2109a2",
   "metadata": {},
   "source": [
    "#### decorator fucntion apne ander se nested fucntion call karta hai."
   ]
  },
  {
   "cell_type": "code",
   "execution_count": 32,
   "id": "34955a53-2cbf-4159-929f-c9eff057e4aa",
   "metadata": {},
   "outputs": [],
   "source": [
    "def mydecorator(fun):\n",
    "    def nested():\n",
    "        print(\"this is datetime decorator\")\n",
    "        import time\n",
    "        print(time.ctime())\n",
    "        fun()                  #1st fun() ko hum nested fucntion ke ander likhne per---login/register-mydecorator-fun()\n",
    "    return nested              # nested()---->datetime+register()\n",
    "                               # nested()---->datetime+login()"
   ]
  },
  {
   "cell_type": "markdown",
   "id": "dd2bbb32-3baa-4c39-b282-6a34913eccf8",
   "metadata": {},
   "source": [
    "#### then hum **pass** kar ke phir decorator ko call karege"
   ]
  },
  {
   "cell_type": "code",
   "execution_count": 33,
   "id": "db76a143-a14e-4e3a-bff3-fa7cccd893d7",
   "metadata": {},
   "outputs": [],
   "source": [
    "login1=mydecorator(login)\n",
    "\n",
    "register1=mydecorator(register)"
   ]
  },
  {
   "cell_type": "code",
   "execution_count": 34,
   "id": "b60fed26-ee9a-42de-9a0d-7872c00a1f6f",
   "metadata": {},
   "outputs": [
    {
     "name": "stdout",
     "output_type": "stream",
     "text": [
      "this is register\n",
      "this is login\n",
      "---------------------\n",
      "this is datetime decorator\n",
      "Fri Oct 27 18:01:13 2023\n",
      "this is login\n",
      "this is datetime decorator\n",
      "Fri Oct 27 18:01:13 2023\n",
      "this is register\n"
     ]
    }
   ],
   "source": [
    "register()\n",
    "login()\n",
    "print(\"---------------------\")\n",
    "\n",
    "login1()\n",
    "register1()"
   ]
  },
  {
   "cell_type": "markdown",
   "id": "a39b973f-c196-4762-8c11-11271acd459b",
   "metadata": {},
   "source": [
    "#### ek bari decorator fucntion lagane se sabhi code me apply ho skta hai."
   ]
  },
  {
   "cell_type": "code",
   "execution_count": 27,
   "id": "026162b5-e872-4d66-b2b1-56c009b3ccb6",
   "metadata": {},
   "outputs": [],
   "source": [
    "def upload():\n",
    "    print(\"this is upload\")\n",
    "    "
   ]
  },
  {
   "cell_type": "code",
   "execution_count": 25,
   "id": "e27ccf0b-e397-4bed-9d83-b7af36e56e30",
   "metadata": {},
   "outputs": [
    {
     "name": "stdout",
     "output_type": "stream",
     "text": [
      "this is datetime decorator\n",
      "Fri Oct 27 17:59:14 2023\n",
      "this is upload\n"
     ]
    }
   ],
   "source": [
    "upload1=mydecorator(upload)\n",
    "upload1()"
   ]
  },
  {
   "cell_type": "code",
   "execution_count": 23,
   "id": "78bc3455-b628-47ce-a304-a220a60cc9e8",
   "metadata": {},
   "outputs": [
    {
     "name": "stdout",
     "output_type": "stream",
     "text": [
      "this is upload\n"
     ]
    }
   ],
   "source": [
    "upload()"
   ]
  },
  {
   "cell_type": "code",
   "execution_count": null,
   "id": "a134ce20-2e07-42ff-9d16-acbbeb7570ec",
   "metadata": {},
   "outputs": [],
   "source": []
  },
  {
   "cell_type": "code",
   "execution_count": 35,
   "id": "c9270179-ded4-41b8-b3f2-40a2cb932e0f",
   "metadata": {},
   "outputs": [
    {
     "name": "stdout",
     "output_type": "stream",
     "text": [
      "this is datetime decorator\n",
      "Fri Oct 27 18:01:18 2023\n",
      "this is register\n"
     ]
    }
   ],
   "source": [
    "register1()"
   ]
  },
  {
   "cell_type": "markdown",
   "id": "eb2b987f-216f-4ad0-9159-2e65c7feb2b9",
   "metadata": {},
   "source": [
    "#### ydi hum same name ka variable banate hai to wo purana wala code nhi chalega like this:"
   ]
  },
  {
   "cell_type": "code",
   "execution_count": 37,
   "id": "47ff208b-ca02-41bd-bf89-6c211e12a092",
   "metadata": {},
   "outputs": [
    {
     "name": "stdout",
     "output_type": "stream",
     "text": [
      "this is datetime decorator\n",
      "Fri Oct 27 18:05:40 2023\n",
      "this is login\n"
     ]
    }
   ],
   "source": [
    "login=mydecorator(login)\n",
    "login()"
   ]
  },
  {
   "cell_type": "code",
   "execution_count": 38,
   "id": "b30a8886-c120-419b-bd59-989883116c7d",
   "metadata": {},
   "outputs": [
    {
     "name": "stdout",
     "output_type": "stream",
     "text": [
      "this is datetime decorator\n",
      "Fri Oct 27 18:05:50 2023\n",
      "this is login\n"
     ]
    }
   ],
   "source": [
    "login()   #ab purana wala login nhi chalega."
   ]
  },
  {
   "cell_type": "markdown",
   "id": "db3a0667-8663-4c72-836c-4db4d7c62740",
   "metadata": {},
   "source": [
    "#### ab fucntion ko phle call karne per\n",
    "## **@mydecorator**  \n",
    "#### is one single line se wo sb ho jayega jo uper ke codo se ho rha rha tha\n",
    "\n",
    "#### fun() ko uper likhne per"
   ]
  },
  {
   "cell_type": "code",
   "execution_count": 50,
   "id": "c53fa968-394b-4f05-a953-76a5cd0a28cd",
   "metadata": {},
   "outputs": [
    {
     "name": "stdout",
     "output_type": "stream",
     "text": [
      "this is copy\n"
     ]
    }
   ],
   "source": [
    "def mydecorator(fun):\n",
    "    def nested():\n",
    "        fun()\n",
    "        print(\"this is datetime decorator\")\n",
    "        import time\n",
    "        print(time.ctime())\n",
    "                          #1st fun() ko hum nested fucntion ke ander likhne per---login/register-mydecorator-fun()\n",
    "    return nested              # nested()---->datetime+register()\n",
    "                               # nested()---->datetime+login()\n",
    "                   # is line se wo sb ho jayega jo uper ke codo se ho rha rha tha\n",
    "def copy():\n",
    "    print(\"this is copy\")\n",
    "copy()"
   ]
  },
  {
   "cell_type": "code",
   "execution_count": 52,
   "id": "be8ec870-2f75-411e-a236-f7597fb58792",
   "metadata": {},
   "outputs": [
    {
     "name": "stdout",
     "output_type": "stream",
     "text": [
      "this is copy\n",
      "this is datetime decorator\n",
      "Fri Oct 27 18:15:21 2023\n"
     ]
    }
   ],
   "source": [
    "def mydecorator(fun):\n",
    "    def nested():\n",
    "        fun()\n",
    "        print(\"this is datetime decorator\")\n",
    "        import time\n",
    "        print(time.ctime())\n",
    "                          #1st fun() ko hum nested fucntion ke ander likhne per---login/register-mydecorator-fun()\n",
    "    return nested              # nested()---->datetime+register()\n",
    "                               # nested()---->datetime+login()\n",
    "@mydecorator                  # is line se wo sb ho jayega jo uper ke codo se ho rha rha tha\n",
    "def copy():\n",
    "    print(\"this is copy\")\n",
    "copy()"
   ]
  },
  {
   "cell_type": "code",
   "execution_count": null,
   "id": "2c25a72d-3ba2-4bfa-9f96-daa2bcbca42b",
   "metadata": {},
   "outputs": [],
   "source": []
  }
 ],
 "metadata": {
  "kernelspec": {
   "display_name": "Python 3 (ipykernel)",
   "language": "python",
   "name": "python3"
  },
  "language_info": {
   "codemirror_mode": {
    "name": "ipython",
    "version": 3
   },
   "file_extension": ".py",
   "mimetype": "text/x-python",
   "name": "python",
   "nbconvert_exporter": "python",
   "pygments_lexer": "ipython3",
   "version": "3.10.9"
  }
 },
 "nbformat": 4,
 "nbformat_minor": 5
}
