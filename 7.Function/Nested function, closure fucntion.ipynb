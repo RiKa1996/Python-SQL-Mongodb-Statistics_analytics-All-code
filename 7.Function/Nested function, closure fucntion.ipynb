{
 "cells": [
  {
   "cell_type": "markdown",
   "id": "21d6b8e4-c925-4d7b-ba0a-6458aea926ed",
   "metadata": {},
   "source": [
    "## Advance Concepts in Function\n",
    "- Nested function\n",
    "- closure function\n",
    "- Generator function\n",
    "- map()\n",
    "- filter()\n",
    "- lambda function\n",
    "- Decorators"
   ]
  },
  {
   "cell_type": "markdown",
   "id": "a06ed5a3-30e9-4b6b-85da-c7b08bce0ef4",
   "metadata": {},
   "source": [
    "## **1. Nested Function**\n",
    "- nested fucntion is a function which is define inside block of other fucntion\n",
    "\n",
    "### Why Nested Function\n",
    "- if we want to reuse a fucntion from a specific fucntion only."
   ]
  },
  {
   "cell_type": "code",
   "execution_count": 4,
   "id": "6bb35157-d031-4e34-9dee-9afc9e06021f",
   "metadata": {},
   "outputs": [
    {
     "name": "stdout",
     "output_type": "stream",
     "text": [
      "start of show\n",
      "this is disp\n",
      "end os show\n"
     ]
    }
   ],
   "source": [
    "def show():                            #top level(outer) function\n",
    "    print(\"start of show\")\n",
    "    def disp():                        #nested functon/inner function--ye local scope hota hai.\n",
    "        print(\"this is disp\")\n",
    "    \n",
    "    print(\"end os show\")\n",
    "\n",
    "show()\n",
    "#disp()                                #error"
   ]
  },
  {
   "cell_type": "code",
   "execution_count": 6,
   "id": "254c259b-077a-49d6-aed4-82716f1a9688",
   "metadata": {},
   "outputs": [
    {
     "name": "stdout",
     "output_type": "stream",
     "text": [
      "start of show\n",
      "this is disp\n",
      "this is disp\n",
      "end os show\n"
     ]
    }
   ],
   "source": [
    "def show():                            #top level(outer) function\n",
    "    print(\"start of show\")\n",
    "    def disp():                        #nested functon/inner function--ye local scope hota hai.\n",
    "        print(\"this is disp\")\n",
    "    disp()                             #nested fucntion sirf outer se hi aa skta hai.\n",
    "    disp()                             #nested fucntion sabhi ke liye nhi hai ye sirf specific fucntion ke liye hai, isliye ye special hai.\n",
    "    print(\"end os show\")\n",
    "\n",
    "show()\n",
    "#disp()                                #error"
   ]
  },
  {
   "cell_type": "markdown",
   "id": "1ca904e8-84fb-48bb-a201-7d557be1c02e",
   "metadata": {},
   "source": [
    "## **2. Closure Function**\n",
    "- closure fucntion is a fucntion that uses local data of it's outer fucntion\n",
    "    - ### nonlocal keyword"
   ]
  },
  {
   "cell_type": "code",
   "execution_count": 13,
   "id": "76cdbf6f-37ff-4db7-b801-66e84af724fe",
   "metadata": {},
   "outputs": [
    {
     "name": "stdout",
     "output_type": "stream",
     "text": [
      "this is disp 20\n",
      "this is show 10\n"
     ]
    }
   ],
   "source": [
    "def show():\n",
    "    x=10\n",
    "    def disp():                   #closure fucntion\n",
    "        \n",
    "        x=20                      #new local variable to disp\n",
    "        print(\"this is disp\",x)   #closure fucntion  hai. kyoki isme show fucntion ka x use ho rha hai isliye nhi to ye nested fucntion kahlata.\n",
    "    disp()\n",
    "    print(\"this is show\",x)       #\n",
    "show()"
   ]
  },
  {
   "cell_type": "markdown",
   "id": "24a1ca70-23a6-4a7b-a11c-2b3e5f9dad8f",
   "metadata": {},
   "source": [
    "#### nonlocal keyword"
   ]
  },
  {
   "cell_type": "code",
   "execution_count": 15,
   "id": "52b629a2-9091-4deb-8000-53e2dde4f1fc",
   "metadata": {},
   "outputs": [
    {
     "name": "stdout",
     "output_type": "stream",
     "text": [
      "this is disp 20\n",
      "this is show 20\n"
     ]
    }
   ],
   "source": [
    "# nonlocal keyword- nonlocal fucntion ye outer fucntion ka hi same value print karne me aata hai. like-(this is show, x)\n",
    "def show():\n",
    "    x=10\n",
    "    def disp():                   #closure fucntion\n",
    "        nonlocal x\n",
    "        x=20                      #new local variable to disp\n",
    "        print(\"this is disp\",x)   #closure fucntion  hai. kyoki isme show fucntion ka x use ho rha hai isliye nhi to ye nested fucntion kahlata.\n",
    "    disp()\n",
    "    print(\"this is show\",x)       #\n",
    "show()"
   ]
  },
  {
   "cell_type": "markdown",
   "id": "83e7a27a-7d1e-443d-a563-1371095f4506",
   "metadata": {},
   "source": [
    "### fucntion ko bhi **return** kiya ja skta hai."
   ]
  },
  {
   "cell_type": "code",
   "execution_count": 18,
   "id": "df3bc3ef-cd99-4308-938b-71b3eeb3c615",
   "metadata": {},
   "outputs": [
    {
     "ename": "NameError",
     "evalue": "name 'x' is not defined",
     "output_type": "error",
     "traceback": [
      "\u001b[1;31m---------------------------------------------------------------------------\u001b[0m",
      "\u001b[1;31mNameError\u001b[0m                                 Traceback (most recent call last)",
      "Cell \u001b[1;32mIn[18], line 6\u001b[0m\n\u001b[0;32m      3\u001b[0m     \u001b[38;5;28;01mreturn\u001b[39;00m x\n\u001b[0;32m      5\u001b[0m show()\n\u001b[1;32m----> 6\u001b[0m \u001b[38;5;28mprint\u001b[39m(\u001b[43mx\u001b[49m)\n",
      "\u001b[1;31mNameError\u001b[0m: name 'x' is not defined"
     ]
    }
   ],
   "source": [
    "def show():\n",
    "    x=10\n",
    "    return x\n",
    "\n",
    "show()\n",
    "print(x)"
   ]
  },
  {
   "cell_type": "code",
   "execution_count": 26,
   "id": "09bb0620-b5f2-45e1-8432-3522c7478365",
   "metadata": {},
   "outputs": [
    {
     "name": "stdout",
     "output_type": "stream",
     "text": [
      "this is show 10\n",
      "this is disp 10\n",
      "this is show 10\n",
      "this is disp 10\n",
      "this is show 10\n"
     ]
    },
    {
     "data": {
      "text/plain": [
       "<function __main__.show.<locals>.disp()>"
      ]
     },
     "execution_count": 26,
     "metadata": {},
     "output_type": "execute_result"
    }
   ],
   "source": [
    "def show():\n",
    "    x=10\n",
    "    def disp():\n",
    "        print(\"this is disp\",x)       #closure fucntion\n",
    "    print(\"this is show\",x)\n",
    "    \n",
    "    return disp                       #disp fucntion r variable ko present kar rha hai.\n",
    "    return show\n",
    "r=show()\n",
    "r()\n",
    "show()\n",
    "r()\n",
    "show()"
   ]
  },
  {
   "cell_type": "raw",
   "id": "712810a0-a755-4b6b-b53a-14e23f9a33ff",
   "metadata": {},
   "source": [
    "#diff b/w followin 2 stmts\n",
    "x=fun()   #fucntion will be executed and return value is stored into x var \n",
    "x=fun     #fucntion will not be executed and it is simply copied to x var"
   ]
  },
  {
   "cell_type": "code",
   "execution_count": null,
   "id": "fd09f328-6b1b-4b51-a8e3-ba7d1c2d7de9",
   "metadata": {},
   "outputs": [],
   "source": []
  }
 ],
 "metadata": {
  "kernelspec": {
   "display_name": "Python 3 (ipykernel)",
   "language": "python",
   "name": "python3"
  },
  "language_info": {
   "codemirror_mode": {
    "name": "ipython",
    "version": 3
   },
   "file_extension": ".py",
   "mimetype": "text/x-python",
   "name": "python",
   "nbconvert_exporter": "python",
   "pygments_lexer": "ipython3",
   "version": "3.10.9"
  }
 },
 "nbformat": 4,
 "nbformat_minor": 5
}
