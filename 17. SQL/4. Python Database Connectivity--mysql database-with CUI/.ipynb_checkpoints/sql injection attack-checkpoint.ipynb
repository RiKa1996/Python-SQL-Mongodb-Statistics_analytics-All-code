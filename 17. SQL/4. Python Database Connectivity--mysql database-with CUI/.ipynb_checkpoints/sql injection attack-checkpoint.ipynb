{
 "cells": [
  {
   "cell_type": "markdown",
   "id": "cf9a996d-7b65-4270-8453-d0e213d2f7e6",
   "metadata": {},
   "source": [
    "### SQL Injection Attack\n",
    "- inserting special characters in query with runtime values and these characters may modify meaning of query.\n",
    "- in python, we can avoid it **using parameterized** query rather than using **f-string** approach for **inserting runtime values**.\n",
    "\n",
    "### PARAMETERIZED QUERY\n",
    "- Parameterized query is a query that user database parameters(represented by special symbols).\n",
    "- in case of mysql+python, bd parameters are represented by **%s**"
   ]
  },
  {
   "cell_type": "code",
   "execution_count": 14,
   "id": "c9abc907-e7f3-4d4e-ad12-1a5f4ca2b5b7",
   "metadata": {},
   "outputs": [
    {
     "name": "stdin",
     "output_type": "stream",
     "text": [
      "enter username: rishav' -- \n",
      "enter password: sldjfljsdlfljkf\n"
     ]
    },
    {
     "name": "stdout",
     "output_type": "stream",
     "text": [
      "valid user\n",
      "('rishav', 'rishav123')\n"
     ]
    }
   ],
   "source": [
    "import pymysql\n",
    "conobj=pymysql.connect(user=\"root\",password=\"root\",database=\"11to1230\")\n",
    "curobj=conobj.cursor()\n",
    "\n",
    "user=input(\"enter username:\")\n",
    "pwd=input(\"enter password:\")\n",
    "\n",
    "rowcount=curobj.execute(f\"select * from login where username='{user}' and pwd='{pwd}'\")\n",
    "\n",
    "\n",
    "if(rowcount==0):\n",
    "    print(\"invalid username or password\")\n",
    "    \n",
    "else:\n",
    "    print(\"valid user\")\n",
    "    print(curobj.fetchone())\n",
    "    \n",
    "curobj.close()"
   ]
  },
  {
   "cell_type": "markdown",
   "id": "1caa59f5-3580-4ce7-9d1c-faf14630fb51",
   "metadata": {},
   "source": [
    "### Message"
   ]
  },
  {
   "cell_type": "code",
   "execution_count": 26,
   "id": "09196e16-eeb3-44c3-8e0c-24560c357c04",
   "metadata": {},
   "outputs": [
    {
     "name": "stdin",
     "output_type": "stream",
     "text": [
      "enter username: rishav' -- \n",
      "enter password: lsdjfkjdshfdsfkjds\n"
     ]
    },
    {
     "name": "stdout",
     "output_type": "stream",
     "text": [
      "select * from login where username='rishav' -- ' and pwd='lsdjfkjdshfdsfkjds'\n",
      "valid user\n",
      "('rishav', 'rishav123')\n"
     ]
    }
   ],
   "source": [
    "import pymysql\n",
    "conobj=pymysql.connect(user=\"root\",password=\"root\",database=\"11to1230\")\n",
    "curobj=conobj.cursor()\n",
    "\n",
    "user=input(\"enter username:\")\n",
    "pwd=input(\"enter password:\")\n",
    "\n",
    "q=f\"select * from login where username='{user}' and pwd='{pwd}'\"\n",
    "print(q)\n",
    "rowcount=curobj.execute(q)\n",
    "if(rowcount==0):\n",
    "    print(\"invalid username or password\")\n",
    "    \n",
    "else:\n",
    "    print(\"valid user\")\n",
    "    print(curobj.fetchone())\n",
    "    \n",
    "curobj.close()                           #(enter username: rishav' -- )"
   ]
  },
  {
   "cell_type": "markdown",
   "id": "0ace8796-7aab-456f-ad3d-7798c34e5bb5",
   "metadata": {},
   "source": [
    "### PARAMETERIZED QUERY:"
   ]
  },
  {
   "cell_type": "code",
   "execution_count": 28,
   "id": "e13e6db0-d5f3-4a9f-be28-6cbd87985fc0",
   "metadata": {},
   "outputs": [
    {
     "name": "stdin",
     "output_type": "stream",
     "text": [
      "enter username: rishav' -- \n",
      "enter password: lasfdjfdjf\n"
     ]
    },
    {
     "name": "stdout",
     "output_type": "stream",
     "text": [
      "invalid username or password\n"
     ]
    }
   ],
   "source": [
    "import pymysql\n",
    "conobj=pymysql.connect(user=\"root\",password=\"root\",database=\"11to1230\")\n",
    "curobj=conobj.cursor()\n",
    "\n",
    "user=input(\"enter username:\")\n",
    "pwd=input(\"enter password:\")\n",
    "\n",
    "rowcount=curobj.execute(f\"select * from login where username=%s and pwd=%s\",(user,pwd))\n",
    "\n",
    "\n",
    "if(rowcount==0):\n",
    "    print(\"invalid username or password\")\n",
    "    \n",
    "else:\n",
    "    print(\"valid user\")\n",
    "    print(curobj.fetchone())\n",
    "    \n",
    "curobj.close()"
   ]
  },
  {
   "cell_type": "markdown",
   "id": "b04b8060-bcf5-48fb-adb6-49b4748b6b12",
   "metadata": {},
   "source": [
    "### function ko call krna"
   ]
  },
  {
   "cell_type": "code",
   "execution_count": 29,
   "id": "339aa25f-e79e-4261-ba33-08fe51d26cce",
   "metadata": {},
   "outputs": [
    {
     "name": "stdout",
     "output_type": "stream",
     "text": [
      "(10,)\n"
     ]
    }
   ],
   "source": [
    "import pymysql\n",
    "conobj=pymysql.connect(user=\"root\",password=\"root\",database=\"11to1230\")\n",
    "curobj=conobj.cursor()\n",
    "\n",
    "curobj.execute(\"select f1()\")\n",
    "print(curobj.fetchone())\n",
    "\n",
    "curobj.close()"
   ]
  },
  {
   "cell_type": "code",
   "execution_count": 30,
   "id": "7b8882ba-3876-4fd2-9841-879a18ff9161",
   "metadata": {},
   "outputs": [
    {
     "name": "stdout",
     "output_type": "stream",
     "text": [
      "(484,)\n"
     ]
    }
   ],
   "source": [
    "import pymysql\n",
    "conobj=pymysql.connect(user=\"root\",password=\"root\",database=\"11to1230\")\n",
    "curobj=conobj.cursor()\n",
    "\n",
    "#curobj.execute(\"select f1()\")\n",
    "curobj.execute(\"select f2(22,22)\")\n",
    "print(curobj.fetchone())\n",
    "\n",
    "curobj.close()"
   ]
  },
  {
   "cell_type": "markdown",
   "id": "e215ccce-75ed-4852-9024-d04b49dfcb88",
   "metadata": {},
   "source": [
    "### Procedure call krne ka tarika"
   ]
  },
  {
   "cell_type": "code",
   "execution_count": 38,
   "id": "a719e643-6351-4694-af9f-7fa7fdec05e8",
   "metadata": {},
   "outputs": [
    {
     "name": "stdout",
     "output_type": "stream",
     "text": [
      "((151, 'dhoni', 82500.0, 'coding'), (152, 'pant', 38500.0, 'coding'), (300, 'ajay', 50000.0, 'coding'), (301, 'virat', 44000.0, 'accounts'), (302, 'karan', 50000.0, 'accounts'), (502, 'karan', 30000.0, 'hr'), (503, 'vijay', 30000.0, 'hr'), (151, 'dhoni', 82500.0, 'coding\\n152'), (151, 'dhoni', 82500.0, 'coding'), (152, 'pant', 38500.0, 'coding'), (300, 'ajay', 50000.0, 'coding'), (301, 'virat', 44000.0, 'accounts'), (302, 'karan', 50000.0, 'accounts'), (502, 'karan', 30000.0, 'hr'), (503, 'vijay', 30000.0, 'hr'), (302, 'karan', 50000.0, 'accounts'), (502, 'karan', 30000.0, 'hr'), (503, 'vijay', 30000.0, 'hr'), (151, 'dhoni', 82500.0, 'coding'), (152, 'pant', 38500.0, 'coding'), (300, 'ajay', 50000.0, 'coding'), (301, 'virat', 44000.0, 'accounts'), (302, 'karan', 50000.0, 'accounts'), (502, 'karan', 30000.0, 'hr'), (503, 'vijay', 30000.0, 'hr'), (151, 'dhoni', 82500.0, 'coding'), (152, 'pant', 38500.0, 'coding'), (300, 'ajay', 50000.0, 'coding'), (301, 'virat', 44000.0, 'accounts'), (302, 'karan', 50000.0, 'accounts'), (502, 'karan', 30000.0, 'hr'), (503, 'vijay', 30000.0, 'hr'))\n"
     ]
    }
   ],
   "source": [
    "import pymysql\n",
    "conobj=pymysql.connect(user=\"root\",password=\"root\",database=\"11to1230\")\n",
    "curobj=conobj.cursor()\n",
    "\n",
    "curobj.callproc(\"p1\")\n",
    "print(curobj.fetchall())\n",
    "\n",
    "curobj.close()"
   ]
  },
  {
   "cell_type": "code",
   "execution_count": 51,
   "id": "a5bf030e-6d33-4418-adb5-86e6af777d02",
   "metadata": {},
   "outputs": [
    {
     "name": "stdout",
     "output_type": "stream",
     "text": [
      "((270, 59),)\n"
     ]
    }
   ],
   "source": [
    "import pymysql\n",
    "conobj=pymysql.connect(user=\"root\",password=\"root\",database=\"11to1230\")\n",
    "curobj=conobj.cursor()\n",
    "\n",
    "curobj.callproc(\"p5\",(54,5,0,0))    #4--in,5--out,0,0-->out parameter\n",
    "curobj.execute('select @_p5_2,@_p5_3')    #to select out parameters\n",
    "print(curobj.fetchall())\n",
    "\n",
    "curobj.close()"
   ]
  },
  {
   "cell_type": "markdown",
   "id": "65e3e9d8-433a-4023-a5e7-5826a25b6cb4",
   "metadata": {},
   "source": [
    "### Database me **image** ko store krna."
   ]
  },
  {
   "cell_type": "code",
   "execution_count": 11,
   "id": "867a8634-c551-4d2e-8621-f691d3beee00",
   "metadata": {},
   "outputs": [],
   "source": [
    "import pymysql\n",
    "conobj=pymysql.connect(user=\"root\",password=\"root\",database=\"11to1230\")\n",
    "curobj=conobj.cursor()\n",
    "\n",
    "name=\"HERO.jpeg\"\n",
    "file=open(\"E:/New folder (2)/17. SQL/Python Database Connectivity/HERO.jpeg\",\"rb\")\n",
    "img=file.read()\n",
    "file.close()\n",
    "\n",
    "curobj.execute(\"insert into myimage values(%s,%s)\",(name,img))   #is me image nhi dikhega image ke byte dikhte hai.\n",
    "\n",
    "conobj.commit()\n",
    "conobj.close()"
   ]
  },
  {
   "cell_type": "code",
   "execution_count": 12,
   "id": "ac1106f5-78f4-4f08-820e-8ac88d69fa75",
   "metadata": {},
   "outputs": [
    {
     "ename": "ProgrammingError",
     "evalue": "(1064, \"You have an error in your SQL syntax; check the manual that corresponds to your MySQL server version for the right syntax to use near 'form myimage' at line 1\")",
     "output_type": "error",
     "traceback": [
      "\u001b[1;31m---------------------------------------------------------------------------\u001b[0m",
      "\u001b[1;31mProgrammingError\u001b[0m                          Traceback (most recent call last)",
      "Cell \u001b[1;32mIn[12], line 5\u001b[0m\n\u001b[0;32m      2\u001b[0m conobj\u001b[38;5;241m=\u001b[39mpymysql\u001b[38;5;241m.\u001b[39mconnect(user\u001b[38;5;241m=\u001b[39m\u001b[38;5;124m\"\u001b[39m\u001b[38;5;124mroot\u001b[39m\u001b[38;5;124m\"\u001b[39m,password\u001b[38;5;241m=\u001b[39m\u001b[38;5;124m\"\u001b[39m\u001b[38;5;124mroot\u001b[39m\u001b[38;5;124m\"\u001b[39m,database\u001b[38;5;241m=\u001b[39m\u001b[38;5;124m\"\u001b[39m\u001b[38;5;124m11to1230\u001b[39m\u001b[38;5;124m\"\u001b[39m)\n\u001b[0;32m      3\u001b[0m curobj\u001b[38;5;241m=\u001b[39mconobj\u001b[38;5;241m.\u001b[39mcursor()\n\u001b[1;32m----> 5\u001b[0m \u001b[43mcurobj\u001b[49m\u001b[38;5;241;43m.\u001b[39;49m\u001b[43mexecute\u001b[49m\u001b[43m(\u001b[49m\u001b[38;5;124;43m\"\u001b[39;49m\u001b[38;5;124;43mselect * form myimage\u001b[39;49m\u001b[38;5;124;43m\"\u001b[39;49m\u001b[43m)\u001b[49m\n\u001b[0;32m      6\u001b[0m row\u001b[38;5;241m=\u001b[39mcurobj\u001b[38;5;241m.\u001b[39mfetchone()\n\u001b[0;32m      7\u001b[0m \u001b[38;5;28mprint\u001b[39m(row[\u001b[38;5;241m0\u001b[39m])\n",
      "File \u001b[1;32m~\\anaconda3\\lib\\site-packages\\pymysql\\cursors.py:158\u001b[0m, in \u001b[0;36mCursor.execute\u001b[1;34m(self, query, args)\u001b[0m\n\u001b[0;32m    154\u001b[0m     \u001b[38;5;28;01mpass\u001b[39;00m\n\u001b[0;32m    156\u001b[0m query \u001b[38;5;241m=\u001b[39m \u001b[38;5;28mself\u001b[39m\u001b[38;5;241m.\u001b[39mmogrify(query, args)\n\u001b[1;32m--> 158\u001b[0m result \u001b[38;5;241m=\u001b[39m \u001b[38;5;28;43mself\u001b[39;49m\u001b[38;5;241;43m.\u001b[39;49m\u001b[43m_query\u001b[49m\u001b[43m(\u001b[49m\u001b[43mquery\u001b[49m\u001b[43m)\u001b[49m\n\u001b[0;32m    159\u001b[0m \u001b[38;5;28mself\u001b[39m\u001b[38;5;241m.\u001b[39m_executed \u001b[38;5;241m=\u001b[39m query\n\u001b[0;32m    160\u001b[0m \u001b[38;5;28;01mreturn\u001b[39;00m result\n",
      "File \u001b[1;32m~\\anaconda3\\lib\\site-packages\\pymysql\\cursors.py:325\u001b[0m, in \u001b[0;36mCursor._query\u001b[1;34m(self, q)\u001b[0m\n\u001b[0;32m    323\u001b[0m conn \u001b[38;5;241m=\u001b[39m \u001b[38;5;28mself\u001b[39m\u001b[38;5;241m.\u001b[39m_get_db()\n\u001b[0;32m    324\u001b[0m \u001b[38;5;28mself\u001b[39m\u001b[38;5;241m.\u001b[39m_clear_result()\n\u001b[1;32m--> 325\u001b[0m \u001b[43mconn\u001b[49m\u001b[38;5;241;43m.\u001b[39;49m\u001b[43mquery\u001b[49m\u001b[43m(\u001b[49m\u001b[43mq\u001b[49m\u001b[43m)\u001b[49m\n\u001b[0;32m    326\u001b[0m \u001b[38;5;28mself\u001b[39m\u001b[38;5;241m.\u001b[39m_do_get_result()\n\u001b[0;32m    327\u001b[0m \u001b[38;5;28;01mreturn\u001b[39;00m \u001b[38;5;28mself\u001b[39m\u001b[38;5;241m.\u001b[39mrowcount\n",
      "File \u001b[1;32m~\\anaconda3\\lib\\site-packages\\pymysql\\connections.py:549\u001b[0m, in \u001b[0;36mConnection.query\u001b[1;34m(self, sql, unbuffered)\u001b[0m\n\u001b[0;32m    547\u001b[0m     sql \u001b[38;5;241m=\u001b[39m sql\u001b[38;5;241m.\u001b[39mencode(\u001b[38;5;28mself\u001b[39m\u001b[38;5;241m.\u001b[39mencoding, \u001b[38;5;124m\"\u001b[39m\u001b[38;5;124msurrogateescape\u001b[39m\u001b[38;5;124m\"\u001b[39m)\n\u001b[0;32m    548\u001b[0m \u001b[38;5;28mself\u001b[39m\u001b[38;5;241m.\u001b[39m_execute_command(COMMAND\u001b[38;5;241m.\u001b[39mCOM_QUERY, sql)\n\u001b[1;32m--> 549\u001b[0m \u001b[38;5;28mself\u001b[39m\u001b[38;5;241m.\u001b[39m_affected_rows \u001b[38;5;241m=\u001b[39m \u001b[38;5;28;43mself\u001b[39;49m\u001b[38;5;241;43m.\u001b[39;49m\u001b[43m_read_query_result\u001b[49m\u001b[43m(\u001b[49m\u001b[43munbuffered\u001b[49m\u001b[38;5;241;43m=\u001b[39;49m\u001b[43munbuffered\u001b[49m\u001b[43m)\u001b[49m\n\u001b[0;32m    550\u001b[0m \u001b[38;5;28;01mreturn\u001b[39;00m \u001b[38;5;28mself\u001b[39m\u001b[38;5;241m.\u001b[39m_affected_rows\n",
      "File \u001b[1;32m~\\anaconda3\\lib\\site-packages\\pymysql\\connections.py:779\u001b[0m, in \u001b[0;36mConnection._read_query_result\u001b[1;34m(self, unbuffered)\u001b[0m\n\u001b[0;32m    777\u001b[0m \u001b[38;5;28;01melse\u001b[39;00m:\n\u001b[0;32m    778\u001b[0m     result \u001b[38;5;241m=\u001b[39m MySQLResult(\u001b[38;5;28mself\u001b[39m)\n\u001b[1;32m--> 779\u001b[0m     \u001b[43mresult\u001b[49m\u001b[38;5;241;43m.\u001b[39;49m\u001b[43mread\u001b[49m\u001b[43m(\u001b[49m\u001b[43m)\u001b[49m\n\u001b[0;32m    780\u001b[0m \u001b[38;5;28mself\u001b[39m\u001b[38;5;241m.\u001b[39m_result \u001b[38;5;241m=\u001b[39m result\n\u001b[0;32m    781\u001b[0m \u001b[38;5;28;01mif\u001b[39;00m result\u001b[38;5;241m.\u001b[39mserver_status \u001b[38;5;129;01mis\u001b[39;00m \u001b[38;5;129;01mnot\u001b[39;00m \u001b[38;5;28;01mNone\u001b[39;00m:\n",
      "File \u001b[1;32m~\\anaconda3\\lib\\site-packages\\pymysql\\connections.py:1157\u001b[0m, in \u001b[0;36mMySQLResult.read\u001b[1;34m(self)\u001b[0m\n\u001b[0;32m   1155\u001b[0m \u001b[38;5;28;01mdef\u001b[39;00m \u001b[38;5;21mread\u001b[39m(\u001b[38;5;28mself\u001b[39m):\n\u001b[0;32m   1156\u001b[0m     \u001b[38;5;28;01mtry\u001b[39;00m:\n\u001b[1;32m-> 1157\u001b[0m         first_packet \u001b[38;5;241m=\u001b[39m \u001b[38;5;28;43mself\u001b[39;49m\u001b[38;5;241;43m.\u001b[39;49m\u001b[43mconnection\u001b[49m\u001b[38;5;241;43m.\u001b[39;49m\u001b[43m_read_packet\u001b[49m\u001b[43m(\u001b[49m\u001b[43m)\u001b[49m\n\u001b[0;32m   1159\u001b[0m         \u001b[38;5;28;01mif\u001b[39;00m first_packet\u001b[38;5;241m.\u001b[39mis_ok_packet():\n\u001b[0;32m   1160\u001b[0m             \u001b[38;5;28mself\u001b[39m\u001b[38;5;241m.\u001b[39m_read_ok_packet(first_packet)\n",
      "File \u001b[1;32m~\\anaconda3\\lib\\site-packages\\pymysql\\connections.py:729\u001b[0m, in \u001b[0;36mConnection._read_packet\u001b[1;34m(self, packet_type)\u001b[0m\n\u001b[0;32m    727\u001b[0m     \u001b[38;5;28;01mif\u001b[39;00m \u001b[38;5;28mself\u001b[39m\u001b[38;5;241m.\u001b[39m_result \u001b[38;5;129;01mis\u001b[39;00m \u001b[38;5;129;01mnot\u001b[39;00m \u001b[38;5;28;01mNone\u001b[39;00m \u001b[38;5;129;01mand\u001b[39;00m \u001b[38;5;28mself\u001b[39m\u001b[38;5;241m.\u001b[39m_result\u001b[38;5;241m.\u001b[39munbuffered_active \u001b[38;5;129;01mis\u001b[39;00m \u001b[38;5;28;01mTrue\u001b[39;00m:\n\u001b[0;32m    728\u001b[0m         \u001b[38;5;28mself\u001b[39m\u001b[38;5;241m.\u001b[39m_result\u001b[38;5;241m.\u001b[39munbuffered_active \u001b[38;5;241m=\u001b[39m \u001b[38;5;28;01mFalse\u001b[39;00m\n\u001b[1;32m--> 729\u001b[0m     \u001b[43mpacket\u001b[49m\u001b[38;5;241;43m.\u001b[39;49m\u001b[43mraise_for_error\u001b[49m\u001b[43m(\u001b[49m\u001b[43m)\u001b[49m\n\u001b[0;32m    730\u001b[0m \u001b[38;5;28;01mreturn\u001b[39;00m packet\n",
      "File \u001b[1;32m~\\anaconda3\\lib\\site-packages\\pymysql\\protocol.py:221\u001b[0m, in \u001b[0;36mMysqlPacket.raise_for_error\u001b[1;34m(self)\u001b[0m\n\u001b[0;32m    219\u001b[0m \u001b[38;5;28;01mif\u001b[39;00m DEBUG:\n\u001b[0;32m    220\u001b[0m     \u001b[38;5;28mprint\u001b[39m(\u001b[38;5;124m\"\u001b[39m\u001b[38;5;124merrno =\u001b[39m\u001b[38;5;124m\"\u001b[39m, errno)\n\u001b[1;32m--> 221\u001b[0m \u001b[43merr\u001b[49m\u001b[38;5;241;43m.\u001b[39;49m\u001b[43mraise_mysql_exception\u001b[49m\u001b[43m(\u001b[49m\u001b[38;5;28;43mself\u001b[39;49m\u001b[38;5;241;43m.\u001b[39;49m\u001b[43m_data\u001b[49m\u001b[43m)\u001b[49m\n",
      "File \u001b[1;32m~\\anaconda3\\lib\\site-packages\\pymysql\\err.py:143\u001b[0m, in \u001b[0;36mraise_mysql_exception\u001b[1;34m(data)\u001b[0m\n\u001b[0;32m    141\u001b[0m \u001b[38;5;28;01mif\u001b[39;00m errorclass \u001b[38;5;129;01mis\u001b[39;00m \u001b[38;5;28;01mNone\u001b[39;00m:\n\u001b[0;32m    142\u001b[0m     errorclass \u001b[38;5;241m=\u001b[39m InternalError \u001b[38;5;28;01mif\u001b[39;00m errno \u001b[38;5;241m<\u001b[39m \u001b[38;5;241m1000\u001b[39m \u001b[38;5;28;01melse\u001b[39;00m OperationalError\n\u001b[1;32m--> 143\u001b[0m \u001b[38;5;28;01mraise\u001b[39;00m errorclass(errno, errval)\n",
      "\u001b[1;31mProgrammingError\u001b[0m: (1064, \"You have an error in your SQL syntax; check the manual that corresponds to your MySQL server version for the right syntax to use near 'form myimage' at line 1\")"
     ]
    }
   ],
   "source": [
    "import pymysql\n",
    "conobj=pymysql.connect(user=\"root\",password=\"root\",database=\"11to1230\")\n",
    "curobj=conobj.cursor()\n",
    "\n",
    "curobj.execute(\"select * form myimage\")\n",
    "row=curobj.fetchone()\n",
    "print(row[0])\n",
    "#print(row[1])\n",
    "file=open(\"c:/myhero.jpg\",\"wb\")\n",
    "file.write(row[1])\n",
    "file.close()\n",
    "\n",
    "conobj.commit()\n",
    "conobj.close()"
   ]
  },
  {
   "cell_type": "code",
   "execution_count": null,
   "id": "3f829249-c4f0-4342-8a69-bbdb17455814",
   "metadata": {},
   "outputs": [],
   "source": []
  }
 ],
 "metadata": {
  "kernelspec": {
   "display_name": "Python 3 (ipykernel)",
   "language": "python",
   "name": "python3"
  },
  "language_info": {
   "codemirror_mode": {
    "name": "ipython",
    "version": 3
   },
   "file_extension": ".py",
   "mimetype": "text/x-python",
   "name": "python",
   "nbconvert_exporter": "python",
   "pygments_lexer": "ipython3",
   "version": "3.10.9"
  }
 },
 "nbformat": 4,
 "nbformat_minor": 5
}
