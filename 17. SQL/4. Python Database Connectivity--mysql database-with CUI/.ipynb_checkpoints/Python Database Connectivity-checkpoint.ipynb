{
 "cells": [
  {
   "cell_type": "code",
   "execution_count": 3,
   "id": "98d01cc8-b944-4954-a73b-e436193cd859",
   "metadata": {},
   "outputs": [
    {
     "name": "stdout",
     "output_type": "stream",
     "text": [
      "Requirement already satisfied: pymysql in c:\\users\\pappu kumar\\anaconda3\\lib\\site-packages (1.0.3)\n",
      "Note: you may need to restart the kernel to use updated packages.\n"
     ]
    }
   ],
   "source": [
    "pip install pymysql"
   ]
  },
  {
   "cell_type": "code",
   "execution_count": 7,
   "id": "d89de067-b7b6-438a-a75b-c49f7d699f84",
   "metadata": {},
   "outputs": [
    {
     "name": "stdout",
     "output_type": "stream",
     "text": [
      "<pymysql.connections.Connection object at 0x0000022C9B6DF1C0>\n",
      "1 record inserted\n",
      "4 record updated\n",
      "1 record deleted\n"
     ]
    }
   ],
   "source": [
    "#Step-1: import db specific driver module\n",
    "import pymysql\n",
    "\n",
    "#Step-2: create connection with database\n",
    "conobj=pymysql.connect(host=\"localhost\",port=3306,user=\"root\",password=\"root\",database=\"11to1230\")\n",
    "print(con)\n",
    "\n",
    "#Step-3: create cursor to execute query\n",
    "curobj=conobj.cursor()\n",
    "\n",
    "#Step-4: execute query with curobj\n",
    "res1=curobj.execute(\"insert into pnb values(5,6000,'arun',554)\")\n",
    "res2=curobj.execute(\"update pnb set pnb_bal=pnb_bal+1000\")\n",
    "res3=curobj.execute(\"delete from pnb where pnb_acn=1\")\n",
    "\n",
    "#Step-5: commit the connection\n",
    "conobj.commit()\n",
    "print(res1,\"record inserted\")\n",
    "print(res2,\"record updated\")\n",
    "print(res3,\"record deleted\")\n",
    "\n",
    "#Step-6: close the connection\n",
    "conobj.close()"
   ]
  },
  {
   "cell_type": "code",
   "execution_count": 14,
   "id": "3392a2bb-1e20-4db6-a922-97835839d4fa",
   "metadata": {},
   "outputs": [
    {
     "name": "stdout",
     "output_type": "stream",
     "text": [
      "<pymysql.connections.Connection object at 0x0000022C9B6DF1C0>\n",
      "3 record selected\n",
      "(2, 5000.0)\n",
      "(3, 7000.0)\n",
      "(5, 7000.0)\n",
      "None\n"
     ]
    }
   ],
   "source": [
    "import pymysql\n",
    "\n",
    "conobj=pymysql.connect(host=\"localhost\",port=3306,user=\"root\",password=\"root\",database=\"11to1230\")\n",
    "print(con)\n",
    "\n",
    "curobj=conobj.cursor()\n",
    "\n",
    "res=curobj.execute(\"select pnb_acn,pnb_bal from pnb\")\n",
    "\n",
    "print(res,\"record selected\")\n",
    "\n",
    "row=curobj.fetchone()\n",
    "print(row)\n",
    "\n",
    "row2=curobj.fetchone()\n",
    "print(row2)\n",
    "\n",
    "row3=curobj.fetchone()\n",
    "print(row3)\n",
    "\n",
    "row4=curobj.fetchone()\n",
    "print(row4)\n",
    "\n",
    "conobj.close()"
   ]
  },
  {
   "cell_type": "code",
   "execution_count": 16,
   "id": "edeb8aa1-2669-4e3f-841d-34fff2b2792b",
   "metadata": {},
   "outputs": [
    {
     "name": "stdout",
     "output_type": "stream",
     "text": [
      "3 record selected\n",
      "((2, 5000.0), (3, 7000.0), (5, 7000.0))\n"
     ]
    }
   ],
   "source": [
    "import pymysql\n",
    "conobj=pymysql.connect(host=\"localhost\",port=3306,user=\"root\",password=\"root\",database=\"11to1230\")\n",
    "curobj=conobj.cursor()\n",
    "res=curobj.execute(\"select pnb_acn,pnb_bal from pnb\")\n",
    "print(res,\"record selected\")\n",
    "row=curobj.fetchmany(3)\n",
    "print(row)\n",
    "conobj.close()"
   ]
  },
  {
   "cell_type": "code",
   "execution_count": 18,
   "id": "36e8d1ce-4043-4dc3-8d2e-cc3f956e302c",
   "metadata": {},
   "outputs": [
    {
     "name": "stdout",
     "output_type": "stream",
     "text": [
      "3 record selected\n",
      "((2, 5000.0), (3, 7000.0), (5, 7000.0))\n"
     ]
    }
   ],
   "source": [
    "import pymysql\n",
    "conobj=pymysql.connect(host=\"localhost\",port=3306,user=\"root\",password=\"root\",database=\"11to1230\")\n",
    "curobj=conobj.cursor()\n",
    "res=curobj.execute(\"select pnb_acn,pnb_bal from pnb\")\n",
    "print(res,\"record selected\")\n",
    "row=curobj.fetchall()\n",
    "print(row)\n",
    "conobj.close()"
   ]
  },
  {
   "cell_type": "code",
   "execution_count": 19,
   "id": "d705e3a2-c3af-4784-9348-2d9c99f217b0",
   "metadata": {},
   "outputs": [
    {
     "name": "stdout",
     "output_type": "stream",
     "text": [
      "3 record selected\n",
      "((2, 5000.0), (3, 7000.0), (5, 7000.0))\n",
      "None\n"
     ]
    }
   ],
   "source": [
    "import pymysql\n",
    "conobj=pymysql.connect(host=\"localhost\",port=3306,user=\"root\",password=\"root\",database=\"11to1230\")\n",
    "curobj=conobj.cursor()\n",
    "res=curobj.execute(\"select pnb_acn,pnb_bal from pnb\")\n",
    "print(res,\"record selected\")\n",
    "row=curobj.fetchall()\n",
    "print(row)\n",
    "\n",
    "row=curobj.fetchone()\n",
    "print(row)\n",
    "conobj.close()"
   ]
  },
  {
   "cell_type": "code",
   "execution_count": 3,
   "id": "b8fea7c2-e606-480a-8260-03b55e2d739a",
   "metadata": {},
   "outputs": [
    {
     "name": "stdout",
     "output_type": "stream",
     "text": [
      "3 record selected\n",
      "((2, 5000.0), (3, 7000.0), (5, 7000.0))\n",
      "None\n",
      "(3, 7000.0)\n"
     ]
    }
   ],
   "source": [
    "import pymysql\n",
    "conobj=pymysql.connect(host=\"localhost\",port=3306,user=\"root\",password=\"root\",database=\"11to1230\")\n",
    "curobj=conobj.cursor()\n",
    "res=curobj.execute(\"select pnb_acn,pnb_bal from pnb\")\n",
    "print(res,\"record selected\")\n",
    "row=curobj.fetchall()\n",
    "print(row)\n",
    "\n",
    "\n",
    "row=curobj.scroll(1,mode='absolute')\n",
    "print(row)\n",
    "\n",
    "row=curobj.fetchone()\n",
    "print(row)\n",
    "conobj.close()"
   ]
  },
  {
   "cell_type": "code",
   "execution_count": 5,
   "id": "6a5f3892-2d96-4b5f-b679-4ccdb3d89b4b",
   "metadata": {},
   "outputs": [
    {
     "name": "stdout",
     "output_type": "stream",
     "text": [
      "3 record selected\n",
      "((2, 5000.0), (3, 7000.0), (5, 7000.0))\n",
      "None\n",
      "(2, 5000.0)\n",
      "((3, 7000.0), (5, 7000.0))\n"
     ]
    }
   ],
   "source": [
    "import pymysql\n",
    "conobj=pymysql.connect(host=\"localhost\",port=3306,user=\"root\",password=\"root\",database=\"11to1230\")\n",
    "curobj=conobj.cursor()\n",
    "res=curobj.execute(\"select pnb_acn,pnb_bal from pnb\")\n",
    "print(res,\"record selected\")\n",
    "row=curobj.fetchall()\n",
    "print(row)\n",
    "\n",
    "\n",
    "row=curobj.scroll(0,mode='absolute')\n",
    "print(row)\n",
    "\n",
    "row=curobj.fetchone()\n",
    "print(row)\n",
    "print(curobj.fetchmany(2))\n",
    "conobj.close()"
   ]
  },
  {
   "cell_type": "code",
   "execution_count": 13,
   "id": "086717d7-14b2-40f8-a217-28f4701083df",
   "metadata": {},
   "outputs": [
    {
     "name": "stdout",
     "output_type": "stream",
     "text": [
      "3 record selected\n",
      "((2, 5000.0), (3, 7000.0), (5, 7000.0))\n",
      "None\n",
      "(2, 5000.0)\n",
      "((3, 7000.0), (5, 7000.0))\n",
      "None\n",
      "None\n",
      "(2, 5000.0)\n"
     ]
    }
   ],
   "source": [
    "import pymysql\n",
    "conobj=pymysql.connect(host=\"localhost\",port=3306,user=\"root\",password=\"root\",database=\"11to1230\")\n",
    "curobj=conobj.cursor()\n",
    "res=curobj.execute(\"select pnb_acn,pnb_bal from pnb\")\n",
    "print(res,\"record selected\")\n",
    "row=curobj.fetchall()\n",
    "print(row)\n",
    "\n",
    "\n",
    "row=curobj.scroll(0,mode='absolute')\n",
    "print(row)\n",
    "\n",
    "row=curobj.fetchone()\n",
    "print(row)\n",
    "print(curobj.fetchmany(2))\n",
    "print(curobj.scroll(1,mode=\"absolute\"))     #just before first row\n",
    "print(curobj.scroll(-1,mode=\"relative\"))    #move cursor to backward by 1\n",
    "print(curobj.fetchone())\n",
    "conobj.close()"
   ]
  },
  {
   "cell_type": "code",
   "execution_count": 14,
   "id": "b289aefe-d1dd-4027-b6f7-0c0c79571a2d",
   "metadata": {},
   "outputs": [
    {
     "name": "stdout",
     "output_type": "stream",
     "text": [
      "(2, 5000.0)\n",
      "(3, 7000.0)\n",
      "(5, 7000.0)\n"
     ]
    }
   ],
   "source": [
    "import pymysql\n",
    "conobj=pymysql.connect(host=\"localhost\",port=3306,user=\"root\",password=\"root\",database=\"11to1230\")\n",
    "curobj=conobj.cursor()\n",
    "res=curobj.execute(\"select pnb_acn,pnb_bal from pnb\")\n",
    "#cursor is iterable\n",
    "for row in curobj:\n",
    "    print(row)\n",
    "conobj.close()"
   ]
  },
  {
   "cell_type": "code",
   "execution_count": 15,
   "id": "25efdc62-142e-40c6-ab5e-c661efa260d7",
   "metadata": {},
   "outputs": [
    {
     "name": "stdout",
     "output_type": "stream",
     "text": [
      "(2, 5000.0, 'b', 124)\n",
      "(3, 7000.0, 'c', 125)\n",
      "(5, 7000.0, 'arun', 554)\n"
     ]
    }
   ],
   "source": [
    "import pymysql\n",
    "conobj=pymysql.connect(host=\"localhost\",port=3306,user=\"root\",password=\"root\",database=\"11to1230\")\n",
    "curobj=conobj.cursor()\n",
    "res=curobj.execute(\"select * from pnb\")\n",
    "#cursor is iterable\n",
    "for row in curobj:\n",
    "    print(row)\n",
    "conobj.close()"
   ]
  },
  {
   "cell_type": "code",
   "execution_count": 28,
   "id": "d8c96e9f-812c-40f2-805f-8439b3985c9b",
   "metadata": {},
   "outputs": [
    {
     "name": "stdout",
     "output_type": "stream",
     "text": [
      "ACN\tBAL\tNAME\tADHAR\n",
      "2\t5000.0\tb\t124\n",
      "3\t7000.0\tc\t125\n",
      "5\t7000.0\tarun\t554\n",
      "3 record selected\n"
     ]
    }
   ],
   "source": [
    "import pymysql\n",
    "conobj=pymysql.connect(host=\"localhost\",port=3306,user=\"root\",password=\"root\",database=\"11to1230\")\n",
    "curobj=conobj.cursor()\n",
    "res=curobj.execute(\"select * from pnb where pnb_bal>=5000\")\n",
    "#cursor is iterable\n",
    "print(\"ACN\",'BAL','NAME','ADHAR',sep='\\t')\n",
    "for row in curobj:\n",
    "    print(row[0],row[1],row[2],row[3],sep='\\t')\n",
    "    \n",
    "print(res,'record selected')\n",
    "conobj.close()"
   ]
  },
  {
   "cell_type": "code",
   "execution_count": 29,
   "id": "befd4d9f-12b6-48de-be0e-7a288252b574",
   "metadata": {},
   "outputs": [
    {
     "name": "stdout",
     "output_type": "stream",
     "text": [
      "ACN\tBAL\tNAME\tADHAR\n",
      "2\t5000.0\tb\t124\n",
      "3\t7000.0\tc\t125\n",
      "5\t7000.0\tarun\t554\n",
      "3 record selected\n"
     ]
    }
   ],
   "source": [
    "import pymysql\n",
    "conobj=pymysql.connect(user=\"root\",password=\"root\",database=\"11to1230\")\n",
    "curobj=conobj.cursor()\n",
    "res=curobj.execute(\"select * from pnb where pnb_bal>=5000\")\n",
    "#cursor is iterable\n",
    "print(\"ACN\",'BAL','NAME','ADHAR',sep='\\t')\n",
    "for row in curobj:\n",
    "    print(row[0],row[1],row[2],row[3],sep='\\t')\n",
    "    \n",
    "print(res,'record selected')\n",
    "conobj.close()"
   ]
  },
  {
   "cell_type": "code",
   "execution_count": 6,
   "id": "5f87dff9-a652-4070-ad48-a4c1cb43f885",
   "metadata": {},
   "outputs": [
    {
     "name": "stdin",
     "output_type": "stream",
     "text": [
      "enter acn: 2\n"
     ]
    },
    {
     "name": "stdout",
     "output_type": "stream",
     "text": [
      "Name: b\n",
      "Bal: 5000.0\n"
     ]
    }
   ],
   "source": [
    "#user se acn no input mangne per\n",
    "import pymysql\n",
    "conobj=pymysql.connect(user=\"root\",password=\"root\",database=\"11to1230\")\n",
    "curobj=conobj.cursor()\n",
    "acn=int(input(\"enter acn:\"))\n",
    "rescount=curobj.execute(f\"select pnb_name,pnb_bal from pnb where pnb_acn={acn}\")\n",
    "if (rescount==0):\n",
    "    print(\"record does not exist\")\n",
    "else:\n",
    "    row=curobj.fetchone()\n",
    "    print(\"Name:\",row[0])\n",
    "    print(\"Bal:\",row[1])\n",
    "conobj.close()\n",
    "          "
   ]
  },
  {
   "cell_type": "code",
   "execution_count": null,
   "id": "bd6c61c2-c780-49f0-809d-88bc8816a01f",
   "metadata": {},
   "outputs": [],
   "source": []
  }
 ],
 "metadata": {
  "kernelspec": {
   "display_name": "Python 3 (ipykernel)",
   "language": "python",
   "name": "python3"
  },
  "language_info": {
   "codemirror_mode": {
    "name": "ipython",
    "version": 3
   },
   "file_extension": ".py",
   "mimetype": "text/x-python",
   "name": "python",
   "nbconvert_exporter": "python",
   "pygments_lexer": "ipython3",
   "version": "3.10.9"
  }
 },
 "nbformat": 4,
 "nbformat_minor": 5
}
