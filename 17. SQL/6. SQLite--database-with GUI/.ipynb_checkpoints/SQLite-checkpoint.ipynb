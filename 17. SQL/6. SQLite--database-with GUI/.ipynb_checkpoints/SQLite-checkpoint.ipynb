{
 "cells": [
  {
   "cell_type": "markdown",
   "id": "ed80befa-4d8a-4ca3-993a-124579cd3db0",
   "metadata": {},
   "source": [
    "## SQLite\n",
    "- it is light weight database and supports most of the concepts of RDBMS.\n",
    "- it is file based database that require zero configuration."
   ]
  },
  {
   "cell_type": "markdown",
   "id": "38bf82b7-a668-471d-a676-ac95bf4cf79b",
   "metadata": {},
   "source": [
    "### file me table banana"
   ]
  },
  {
   "cell_type": "code",
   "execution_count": 2,
   "id": "6c32be3d-cfb1-45ce-955e-c3e1ebd25a71",
   "metadata": {},
   "outputs": [
    {
     "ename": "OperationalError",
     "evalue": "table pnb already exists",
     "output_type": "error",
     "traceback": [
      "\u001b[1;31m---------------------------------------------------------------------------\u001b[0m",
      "\u001b[1;31mOperationalError\u001b[0m                          Traceback (most recent call last)",
      "Cell \u001b[1;32mIn[2], line 4\u001b[0m\n\u001b[0;32m      2\u001b[0m con\u001b[38;5;241m=\u001b[39msqlite3\u001b[38;5;241m.\u001b[39mconnect(database\u001b[38;5;241m=\u001b[39m\u001b[38;5;124m\"\u001b[39m\u001b[38;5;124mE:/New folder (2)/17. SQL/6. SQLite--database/bank.sqlite\u001b[39m\u001b[38;5;124m\"\u001b[39m)\n\u001b[0;32m      3\u001b[0m cur\u001b[38;5;241m=\u001b[39mcon\u001b[38;5;241m.\u001b[39mcursor()\n\u001b[1;32m----> 4\u001b[0m \u001b[43mcur\u001b[49m\u001b[38;5;241;43m.\u001b[39;49m\u001b[43mexecute\u001b[49m\u001b[43m(\u001b[49m\u001b[38;5;124;43m\"\u001b[39;49m\u001b[38;5;124;43mcreate table pnb(pnb_acn int primary key,pnb_bal float,pnb_name text)\u001b[39;49m\u001b[38;5;124;43m\"\u001b[39;49m\u001b[43m)\u001b[49m\n\u001b[0;32m      5\u001b[0m con\u001b[38;5;241m.\u001b[39mcommit()\n\u001b[0;32m      6\u001b[0m con\u001b[38;5;241m.\u001b[39mclose()\n",
      "\u001b[1;31mOperationalError\u001b[0m: table pnb already exists"
     ]
    }
   ],
   "source": [
    "import sqlite3\n",
    "con=sqlite3.connect(database=\"E:/New folder (2)/17. SQL/6. SQLite--database/bank.sqlite\")\n",
    "cur=con.cursor()\n",
    "cur.execute(\"create table pnb(pnb_acn int primary key,pnb_bal float,pnb_name text)\")\n",
    "con.commit()\n",
    "con.close()\n",
    "print(\"table created\")"
   ]
  },
  {
   "cell_type": "markdown",
   "id": "1326b7d4-4614-461d-9029-baba69373f8a",
   "metadata": {},
   "source": [
    "### jo file me table banaya hai usme record insert krna"
   ]
  },
  {
   "cell_type": "code",
   "execution_count": 3,
   "id": "a0f9f3ea-a3ab-447a-80c3-42541c0e2704",
   "metadata": {},
   "outputs": [
    {
     "name": "stdin",
     "output_type": "stream",
     "text": [
      "enter acn: 4\n",
      "enter bal: 256\n",
      "enter name: either\n"
     ]
    },
    {
     "name": "stdout",
     "output_type": "stream",
     "text": [
      "acn open successfully\n"
     ]
    }
   ],
   "source": [
    "import sqlite3\n",
    "con=sqlite3.connect(database=\"E:/New folder (2)/17. SQL/6. SQLite--database/bank.sqlite\")\n",
    "cur=con.cursor()\n",
    "acn=int(input(\"enter acn:\"))\n",
    "bal=float(input(\"enter bal:\"))\n",
    "name=input(\"enter name:\")\n",
    "\n",
    "cur.execute(\"insert into pnb values(?,?,?)\",(acn,bal,name))\n",
    "con.commit()\n",
    "con.close()\n",
    "print(\"acn open successfully\")"
   ]
  },
  {
   "cell_type": "markdown",
   "id": "cc596d68-4fa3-4ef0-bf90-0d4d002fbfea",
   "metadata": {},
   "source": [
    "### select query chalana aur records ko dekhne ke liye"
   ]
  },
  {
   "cell_type": "code",
   "execution_count": 4,
   "id": "c9ee8c70-f2b9-4ae9-9559-9c62fd016af9",
   "metadata": {},
   "outputs": [
    {
     "name": "stdout",
     "output_type": "stream",
     "text": [
      "[(1, 50000.0, 'rishav'), (2, 40000.0, 'karan'), (3, 65456.0, 'rehan'), (4, 256.0, 'either')]\n"
     ]
    }
   ],
   "source": [
    "import sqlite3\n",
    "con=sqlite3.connect(database=\"E:/New folder (2)/17. SQL/6. SQLite--database/bank.sqlite\")\n",
    "cur=con.cursor()\n",
    "\n",
    "cur.execute(\"select * from pnb\")\n",
    "print(cur.fetchall())\n",
    "\n",
    "\n",
    "con.close()\n"
   ]
  },
  {
   "cell_type": "markdown",
   "id": "747509ad-2ef3-4b24-930c-22330a4a30de",
   "metadata": {},
   "source": [
    "## GUI ke sath connectivity"
   ]
  },
  {
   "cell_type": "code",
   "execution_count": 5,
   "id": "d6290a6e-fd93-41cb-967d-e2a68e91fd96",
   "metadata": {},
   "outputs": [],
   "source": [
    "import sqlite3\n",
    "from tkinter import *\n",
    "\n",
    "win=Tk()\n",
    "win.geometry(\"500x400\")\n",
    "win.configure(bg=\"green\")\n",
    "\n",
    "def checkacn():\n",
    "    acn=entry.get()\n",
    "    con=sqlite3.connect(database=\"E:/New folder (2)/17. SQL/6. SQLite--database/bank.sqlite\")\n",
    "    cur=con.cursor()\n",
    "    cur.execute(\"select * from pnb where pnb_acn=?\",(acn,))\n",
    "    row=cur.fetchone()\n",
    "    if (row==None):\n",
    "        reslbl.configure(text='acn does no exist',fg='red')\n",
    "    else:\n",
    "        \n",
    "        reslbl.configure(text=f'Name:{row[2]}\\nBal:{row[1]}',fg='blue')\n",
    "    con.close()\n",
    "\n",
    "label=Label(win,text='ACN',font=('arial',20),bg=\"green\")\n",
    "label.place(x=130,y=50)\n",
    "\n",
    "entry=Entry(win,font=('arial,90'),bd=5)\n",
    "entry.place(x=130,y=90)\n",
    "\n",
    "btn=Button(win,font=('arial',19),bd=5,text=\"search\",command=checkacn)\n",
    "btn.place(x=250,y=140)\n",
    "\n",
    "reslbl=Label(win,text=\"\",font=('arial',20,'bold'),bg='green')\n",
    "reslbl.place(x=100,y=200)\n",
    "win.mainloop()"
   ]
  },
  {
   "cell_type": "markdown",
   "id": "def077a6-9f24-4962-a361-f3ccc343863d",
   "metadata": {},
   "source": [
    "### without file address"
   ]
  },
  {
   "cell_type": "code",
   "execution_count": 6,
   "id": "8d6cad0c-9ef9-4d47-a868-60b9921a9800",
   "metadata": {},
   "outputs": [
    {
     "ename": "OperationalError",
     "evalue": "table pnb already exists",
     "output_type": "error",
     "traceback": [
      "\u001b[1;31m---------------------------------------------------------------------------\u001b[0m",
      "\u001b[1;31mOperationalError\u001b[0m                          Traceback (most recent call last)",
      "Cell \u001b[1;32mIn[6], line 4\u001b[0m\n\u001b[0;32m      2\u001b[0m con\u001b[38;5;241m=\u001b[39msqlite3\u001b[38;5;241m.\u001b[39mconnect(database\u001b[38;5;241m=\u001b[39m\u001b[38;5;124m\"\u001b[39m\u001b[38;5;124mbank.sqlite\u001b[39m\u001b[38;5;124m\"\u001b[39m)\n\u001b[0;32m      3\u001b[0m cur\u001b[38;5;241m=\u001b[39mcon\u001b[38;5;241m.\u001b[39mcursor()\n\u001b[1;32m----> 4\u001b[0m \u001b[43mcur\u001b[49m\u001b[38;5;241;43m.\u001b[39;49m\u001b[43mexecute\u001b[49m\u001b[43m(\u001b[49m\u001b[38;5;124;43m\"\u001b[39;49m\u001b[38;5;124;43mcreate table pnb(pnb_acn int primary key,pnb_bal float,pnb_name text)\u001b[39;49m\u001b[38;5;124;43m\"\u001b[39;49m\u001b[43m)\u001b[49m\n\u001b[0;32m      5\u001b[0m con\u001b[38;5;241m.\u001b[39mcommit()\n\u001b[0;32m      6\u001b[0m con\u001b[38;5;241m.\u001b[39mclose()\n",
      "\u001b[1;31mOperationalError\u001b[0m: table pnb already exists"
     ]
    }
   ],
   "source": [
    "import sqlite3\n",
    "con=sqlite3.connect(database=\"bank.sqlite\")\n",
    "cur=con.cursor()\n",
    "cur.execute(\"create table pnb(pnb_acn int primary key,pnb_bal float,pnb_name text)\")\n",
    "con.commit()\n",
    "con.close()\n",
    "print(\"table created\")"
   ]
  },
  {
   "cell_type": "code",
   "execution_count": 9,
   "id": "f42c0f10-cf98-469d-b413-9c963843abd2",
   "metadata": {},
   "outputs": [
    {
     "name": "stdin",
     "output_type": "stream",
     "text": [
      "enter acn: 111\n",
      "enter bal: 6000\n",
      "enter name: c\n"
     ]
    },
    {
     "name": "stdout",
     "output_type": "stream",
     "text": [
      "acn open successfully\n"
     ]
    }
   ],
   "source": [
    "import sqlite3\n",
    "con=sqlite3.connect(database=\"bank.sqlite\")\n",
    "cur=con.cursor()\n",
    "acn=int(input(\"enter acn:\"))\n",
    "bal=float(input(\"enter bal:\"))\n",
    "name=input(\"enter name:\")\n",
    "\n",
    "cur.execute(\"insert into pnb values(?,?,?)\",(acn,bal,name))\n",
    "con.commit()\n",
    "con.close()\n",
    "print(\"acn open successfully\")"
   ]
  },
  {
   "cell_type": "code",
   "execution_count": 15,
   "id": "84933618-8ba2-4412-bc16-065ca644a9f1",
   "metadata": {},
   "outputs": [],
   "source": [
    "import sqlite3\n",
    "from tkinter import *\n",
    "\n",
    "win=Tk()\n",
    "win.geometry(\"500x400\")\n",
    "win.configure(bg=\"green\")\n",
    "\n",
    "def checkacn():\n",
    "    acn=entry.get()\n",
    "    con=sqlite3.connect(database=\"bank.sqlite\")\n",
    "    cur=con.cursor()\n",
    "    cur.execute(\"select * from pnb where pnb_acn=?\",(acn,))\n",
    "    row=cur.fetchone()\n",
    "    if (row==None):\n",
    "        reslbl.configure(text='acn does no exist',fg='red')\n",
    "    else:\n",
    "        \n",
    "        reslbl.configure(text=f'Name:{row[2]}\\nBal:{row[1]}',fg='blue')\n",
    "    con.close()\n",
    "\n",
    "label=Label(win,text='ACN',font=('arial',20),bg=\"green\")\n",
    "label.place(x=130,y=50)\n",
    "\n",
    "entry=Entry(win,font=('arial,90'),bd=5)\n",
    "entry.place(x=130,y=90)\n",
    "\n",
    "btn=Button(win,font=('arial',19),bd=5,text=\"search\",command=checkacn)\n",
    "btn.place(x=250,y=140)\n",
    "\n",
    "reslbl=Label(win,text=\"\",font=('arial',20,'bold'),bg='green')\n",
    "reslbl.place(x=100,y=200)\n",
    "win.mainloop()"
   ]
  },
  {
   "cell_type": "code",
   "execution_count": 13,
   "id": "34fa5814-551d-4782-8d80-d03a3b5576a9",
   "metadata": {},
   "outputs": [
    {
     "name": "stdout",
     "output_type": "stream",
     "text": [
      "[(1, 50000.0, 'rishav'), (2, 40000.0, 'karan'), (3, 65456.0, 'rehan'), (4, 256.0, 'either'), (123, 2000.0, 'a'), (122, 5000.0, 'b'), (111, 6000.0, 'c')]\n"
     ]
    }
   ],
   "source": [
    "import sqlite3\n",
    "con=sqlite3.connect(database=\"bank.sqlite\")\n",
    "cur=con.cursor()\n",
    "\n",
    "cur.execute(\"select * from pnb\")\n",
    "print(cur.fetchall())\n",
    "\n",
    "\n",
    "con.close()\n"
   ]
  },
  {
   "cell_type": "markdown",
   "id": "025d3627-24ec-4133-8ea6-a8446361cbbd",
   "metadata": {},
   "source": [
    "### Download db brower for sqlite"
   ]
  },
  {
   "cell_type": "code",
   "execution_count": null,
   "id": "b4b6bf50-9680-4653-912c-f35a1c29d97d",
   "metadata": {},
   "outputs": [],
   "source": []
  }
 ],
 "metadata": {
  "kernelspec": {
   "display_name": "Python 3 (ipykernel)",
   "language": "python",
   "name": "python3"
  },
  "language_info": {
   "codemirror_mode": {
    "name": "ipython",
    "version": 3
   },
   "file_extension": ".py",
   "mimetype": "text/x-python",
   "name": "python",
   "nbconvert_exporter": "python",
   "pygments_lexer": "ipython3",
   "version": "3.10.9"
  }
 },
 "nbformat": 4,
 "nbformat_minor": 5
}
