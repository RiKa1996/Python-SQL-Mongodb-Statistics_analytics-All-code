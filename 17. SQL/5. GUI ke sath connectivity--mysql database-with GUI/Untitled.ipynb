{
 "cells": [
  {
   "cell_type": "code",
   "execution_count": 48,
   "id": "5b28c72d-13a3-4071-b14d-f3ff3c9ddefb",
   "metadata": {},
   "outputs": [],
   "source": [
    "from tkinter import *\n",
    "import pymysql"
   ]
  },
  {
   "cell_type": "code",
   "execution_count": 53,
   "id": "1ad1b477-34b4-4c30-acee-74d50bf40e50",
   "metadata": {},
   "outputs": [
    {
     "name": "stdout",
     "output_type": "stream",
     "text": [
      "acn does not exist\n",
      "(2, 5000.0, 'b', 124)\n"
     ]
    }
   ],
   "source": [
    "win=Tk()\n",
    "win.geometry(\"500x400\")\n",
    "win.configure(bg=\"green\")\n",
    "\n",
    "def checkacn():\n",
    "    acn=entry.get()\n",
    "    con=pymysql.connect(user='root',password='root',database=\"11to1230\")\n",
    "    cur=con.cursor()\n",
    "    rowcount=cur.execute(\"select * from pnb where pnb_acn=%s\",(acn,))\n",
    "    if (rowcount==0):\n",
    "        print(\"acn does not exist\")\n",
    "    else:\n",
    "        row=cur.fetchone()\n",
    "        print(row)\n",
    "    con.close()\n",
    "\n",
    "label=Label(win,text='ACN',font=('arial',20),bg=\"green\")\n",
    "label.place(x=130,y=50)\n",
    "\n",
    "entry=Entry(win,font=('arial,90'),bd=5)\n",
    "entry.place(x=130,y=90)\n",
    "\n",
    "btn=Button(win,font=('arial',19),bd=5,text=\"search\",command=checkacn)\n",
    "btn.place(x=250,y=140)\n",
    "win.mainloop()"
   ]
  },
  {
   "cell_type": "markdown",
   "id": "b1c2f62b-e687-430d-ae3d-caaea0fdd76d",
   "metadata": {},
   "source": [
    "### label ke result ko window pe hi lana."
   ]
  },
  {
   "cell_type": "code",
   "execution_count": null,
   "id": "af6c6ae4-ed29-420f-bccf-eed9bb5b50dc",
   "metadata": {},
   "outputs": [],
   "source": [
    "win=Tk()\n",
    "win.geometry(\"500x400\")\n",
    "win.configure(bg=\"green\")\n",
    "\n",
    "def checkacn():\n",
    "    acn=entry.get()\n",
    "    con=pymysql.connect(user='root',password='root',database=\"11to1230\")\n",
    "    cur=con.cursor()\n",
    "    rowcount=cur.execute(\"select * from pnb where pnb_acn=%s\",(acn,))\n",
    "    if (rowcount==0):\n",
    "        reslbl.configure(text='acn does no exist',fg='red')\n",
    "    else:\n",
    "        row=cur.fetchone()\n",
    "        reslbl.configure(text=f'Name:{row[2]}\\nBal:{row[1]}',fg='blue')\n",
    "    con.close()\n",
    "\n",
    "label=Label(win,text='ACN',font=('arial',20),bg=\"green\")\n",
    "label.place(x=130,y=50)\n",
    "\n",
    "entry=Entry(win,font=('arial,90'),bd=5)\n",
    "entry.place(x=130,y=90)\n",
    "\n",
    "btn=Button(win,font=('arial',19),bd=5,text=\"search\",command=checkacn)\n",
    "btn.place(x=250,y=140)\n",
    "\n",
    "reslbl=Label(win,text=\"\",font=('arial',20,'bold'),bg='green')\n",
    "reslbl.place(x=100,y=200)\n",
    "win.mainloop()"
   ]
  },
  {
   "cell_type": "markdown",
   "id": "5fc50c81-5982-42f7-8516-a004cd38bab4",
   "metadata": {},
   "source": [
    "## "
   ]
  }
 ],
 "metadata": {
  "kernelspec": {
   "display_name": "Python 3 (ipykernel)",
   "language": "python",
   "name": "python3"
  },
  "language_info": {
   "codemirror_mode": {
    "name": "ipython",
    "version": 3
   },
   "file_extension": ".py",
   "mimetype": "text/x-python",
   "name": "python",
   "nbconvert_exporter": "python",
   "pygments_lexer": "ipython3",
   "version": "3.10.9"
  }
 },
 "nbformat": 4,
 "nbformat_minor": 5
}
