{
 "cells": [
  {
   "cell_type": "markdown",
   "id": "f8bf5ef7-2c4b-483f-be21-d5ee5dc1f5dc",
   "metadata": {},
   "source": [
    "### 1. readline"
   ]
  },
  {
   "cell_type": "code",
   "execution_count": 5,
   "id": "dd9e1788-ba41-4f25-a392-933efd312f08",
   "metadata": {},
   "outputs": [
    {
     "name": "stdout",
     "output_type": "stream",
     "text": [
      "Python is a funny language first released in \n",
      "\n",
      "1991 by guido van rossum\n",
      "\n"
     ]
    }
   ],
   "source": [
    "file=open(\"E:/New folder (2)/11. file I=O/msg.txt\",\"r\")\n",
    "line=file.readline()\n",
    "print(line)\n",
    "\n",
    "line=file.readline()\n",
    "print(line)\n",
    "\n",
    "file.close()"
   ]
  },
  {
   "cell_type": "code",
   "execution_count": 6,
   "id": "b052787f-04a5-432a-93f9-10694a63e843",
   "metadata": {},
   "outputs": [
    {
     "name": "stdout",
     "output_type": "stream",
     "text": [
      "Pytho\n",
      "n is a funny language first released in \n",
      "\n"
     ]
    }
   ],
   "source": [
    "file=open(\"E:/New folder (2)/11. file I=O/msg.txt\",\"r\")\n",
    "text=file.read(5)\n",
    "print(text)\n",
    "\n",
    "line=file.readline()\n",
    "print(line)\n",
    "file.close()"
   ]
  },
  {
   "cell_type": "markdown",
   "id": "c798ba7d-d03d-49c9-a0a3-4d60635acbe7",
   "metadata": {},
   "source": [
    "### 2. readlines -ye hume pura text ek list me rakh ke de deta hai."
   ]
  },
  {
   "cell_type": "code",
   "execution_count": 7,
   "id": "2ac85f0c-1a84-44ec-b91a-4057b98c5c33",
   "metadata": {},
   "outputs": [
    {
     "name": "stdout",
     "output_type": "stream",
     "text": [
      "['Python is a funny language first released in \\n', '1991 by guido van rossum\\n', 'python is easy to learn\\n', 'by']\n"
     ]
    }
   ],
   "source": [
    "file=open(\"e:/new folder (2)/11. file I=O/msg.txt\",\"r\")\n",
    "list_lines=file.readlines()\n",
    "print(list_lines)\n",
    "file.close()"
   ]
  },
  {
   "cell_type": "code",
   "execution_count": 9,
   "id": "df854574-c030-4ff6-9f0f-3e952f72945e",
   "metadata": {},
   "outputs": [
    {
     "name": "stdout",
     "output_type": "stream",
     "text": [
      "['a funny language first released in \\n', '1991 by guido van rossum\\n', 'python is easy to learn\\n', 'by']\n"
     ]
    }
   ],
   "source": [
    "file=open(\"e:/new folder (2)/11. file I=O/msg.txt\",\"r\")\n",
    "file.seek(10)\n",
    "list_lines=file.readlines()\n",
    "print(list_lines)\n",
    "file.close()"
   ]
  },
  {
   "cell_type": "markdown",
   "id": "7c4fa74f-4be4-4f33-a88c-e284f06d6452",
   "metadata": {},
   "source": [
    "### 3. for line in file- ye line by line read karta hai."
   ]
  },
  {
   "cell_type": "code",
   "execution_count": 12,
   "id": "ef5a6558-1932-4d6a-bd08-13344753cb02",
   "metadata": {},
   "outputs": [
    {
     "name": "stdout",
     "output_type": "stream",
     "text": [
      "Python is a funny language first released in \n",
      "\n",
      "1991 by guido van rossum\n",
      "\n",
      "python is easy to learn\n",
      "\n",
      "by\n"
     ]
    }
   ],
   "source": [
    "file=open(\"e:/new folder (2)/11. file I=O/msg.txt\",\"r\")\n",
    "for line in file:\n",
    "    print(line)\n",
    "file.close()"
   ]
  },
  {
   "cell_type": "markdown",
   "id": "e4cdaa42-8618-47b5-8d9a-e0ae64bc94aa",
   "metadata": {},
   "source": [
    "## count karne per"
   ]
  },
  {
   "cell_type": "code",
   "execution_count": 14,
   "id": "cd0b6fc0-8656-48f5-a545-689e4068e951",
   "metadata": {},
   "outputs": [
    {
     "name": "stdout",
     "output_type": "stream",
     "text": [
      "1 Python is a funny language first released in \n",
      "2 1991 by guido van rossum\n",
      "3 python is easy to learn\n",
      "4 by"
     ]
    }
   ],
   "source": [
    "file=open(\"e:/new folder (2)/11. file I=O/msg.txt\",\"r\")\n",
    "count=0\n",
    "for line in file:\n",
    "    count+=1\n",
    "    print(count,line,end=\"\")\n",
    "    \n",
    "file.close()"
   ]
  },
  {
   "cell_type": "code",
   "execution_count": null,
   "id": "26019d11-0cf3-43c5-876b-f9b1611e9bf3",
   "metadata": {},
   "outputs": [],
   "source": []
  }
 ],
 "metadata": {
  "kernelspec": {
   "display_name": "Python 3 (ipykernel)",
   "language": "python",
   "name": "python3"
  },
  "language_info": {
   "codemirror_mode": {
    "name": "ipython",
    "version": 3
   },
   "file_extension": ".py",
   "mimetype": "text/x-python",
   "name": "python",
   "nbconvert_exporter": "python",
   "pygments_lexer": "ipython3",
   "version": "3.10.9"
  }
 },
 "nbformat": 4,
 "nbformat_minor": 5
}
