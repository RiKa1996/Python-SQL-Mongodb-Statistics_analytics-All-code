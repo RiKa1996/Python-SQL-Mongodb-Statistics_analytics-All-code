{
 "cells": [
  {
   "cell_type": "code",
   "execution_count": 2,
   "id": "bf6d3167-66e6-4209-9580-0056a653847a",
   "metadata": {},
   "outputs": [
    {
     "name": "stdout",
     "output_type": "stream",
     "text": [
      "Python is a funny language first released in \n",
      "1991 by guido van rossum\n",
      "python is easy to learn\n",
      "by\n"
     ]
    }
   ],
   "source": [
    "file=open(\"E:/New folder (2)/11. file I=O/msg.txt\",\"r\")\n",
    "line=file.read()\n",
    "print(line)\n",
    "file.close()"
   ]
  },
  {
   "cell_type": "code",
   "execution_count": 3,
   "id": "2b0733b7-a826-49dd-8f9c-71c6d40e7612",
   "metadata": {},
   "outputs": [
    {
     "name": "stdout",
     "output_type": "stream",
     "text": [
      "PYTHON IS A FUNNY LANGUAGE FIRST RELEASED IN \n",
      "1991 BY GUIDO VAN ROSSUM\n",
      "PYTHON IS EASY TO LEARN\n",
      "BY\n"
     ]
    }
   ],
   "source": [
    "file=open(\"E:/New folder (2)/11. file I=O/msg.txt\",\"r\")\n",
    "line=file.read()\n",
    "print(line.upper())\n",
    "file.close()"
   ]
  },
  {
   "cell_type": "markdown",
   "id": "5819f1d7-44aa-4c1b-9218-5710af7f08d4",
   "metadata": {},
   "source": [
    "## \"write method\" mode"
   ]
  },
  {
   "cell_type": "code",
   "execution_count": 14,
   "id": "056e9aa7-f670-484e-90a6-4bface09c8fa",
   "metadata": {},
   "outputs": [
    {
     "data": {
      "text/plain": [
       "2"
      ]
     },
     "execution_count": 14,
     "metadata": {},
     "output_type": "execute_result"
    }
   ],
   "source": [
    "file=open(\"E:/New folder (2)/11. file I=O/abc.txt\",\"w\")\n",
    "file.write(\"sonu\")\n",
    "#file.write(\"20\")     #kyoki ye yha write method me always string hi leta hai.\n",
    "file.write(str(20))   #write method jb bhi chalta jo aakhri statement me jitne character print honge utne aa jayege.\n"
   ]
  },
  {
   "cell_type": "markdown",
   "id": "c9eb5ef4-3c93-49b9-a641-c0c380b88dff",
   "metadata": {},
   "source": [
    "## write method me New file pe over write/ replace kar deta hai."
   ]
  },
  {
   "cell_type": "code",
   "execution_count": 1,
   "id": "88d458d0-474f-41ee-ab8c-de7df6f9ac5c",
   "metadata": {},
   "outputs": [],
   "source": [
    "file=open(\"E:/New folder (2)/11. file I=O/fruits.txt\",\"w\")\n",
    "file.write(\"orange\")\n",
    "file.close()\n"
   ]
  },
  {
   "cell_type": "code",
   "execution_count": 18,
   "id": "afc4d6f5-9115-428f-a0c9-95d548e871b7",
   "metadata": {},
   "outputs": [],
   "source": [
    "file=open(\"E:/New folder (2)/11. file I=O/fruits.txt\",\"w\")\n",
    "file.write(\"orange\")\n",
    "file.write(\"\\n\")\n",
    "file.write(\"mango\")\n",
    "file.write(\"\\n\")\n",
    "file.write(\"apple\")\n",
    "file.close()\n"
   ]
  },
  {
   "cell_type": "markdown",
   "id": "c43e5a23-50da-41e2-9495-d25f1aae1100",
   "metadata": {},
   "source": [
    "### dubara write karne per jo write karege wo hi write ho jayega"
   ]
  },
  {
   "cell_type": "code",
   "execution_count": 12,
   "id": "e150fc4d-864e-46c3-8b3b-8edaffcf2d16",
   "metadata": {},
   "outputs": [],
   "source": [
    "file=open(\"E:/New folder (2)/11. file I=O/fruits.txt\",\"w\")\n",
    "file.write(\"banana\")\n",
    "file.close()"
   ]
  },
  {
   "cell_type": "markdown",
   "id": "0e7c6285-05be-45c5-8f32-e9b928f00d71",
   "metadata": {},
   "source": [
    "## \"append\" mode"
   ]
  },
  {
   "cell_type": "code",
   "execution_count": 24,
   "id": "65a2a7f6-a44e-4bd6-a888-7ef3a7556272",
   "metadata": {},
   "outputs": [],
   "source": [
    "file=open(\"E:/New folder (2)/11. file I=O/fruits.txt\",\"a\")\n",
    "file.write(\"\\nbanana\")\n",
    "file.close()"
   ]
  },
  {
   "cell_type": "markdown",
   "id": "b6270500-4ce8-49de-8178-431ae274d738",
   "metadata": {},
   "source": [
    "## \"x\" = mode"
   ]
  },
  {
   "cell_type": "code",
   "execution_count": 25,
   "id": "a33bdef8-fffe-4600-9013-c50bba2d4f45",
   "metadata": {},
   "outputs": [],
   "source": [
    "file=open(\"E:/New folder (2)/11. file I=O/fru.txt\",\"x\")\n",
    "file.write(\"orange\")\n",
    "file.close()"
   ]
  },
  {
   "cell_type": "markdown",
   "id": "d2365e41-f788-41df-a4a7-0fd66ca621dd",
   "metadata": {},
   "source": [
    "### write modes:   if file does not exist        --          if file exists\n",
    "###     w            --       create             --                  replace\n",
    "###     a            --       create             --                  append\n",
    "###     x            --       create             --                  error"
   ]
  },
  {
   "cell_type": "markdown",
   "id": "0da51f7f-082a-4917-aff6-fae53b6e4d20",
   "metadata": {},
   "source": [
    "## \"encoding=\"utf\"\"=unicode text formate"
   ]
  },
  {
   "cell_type": "code",
   "execution_count": 29,
   "id": "947e9764-e155-4833-8415-5eee94d0bfad",
   "metadata": {},
   "outputs": [],
   "source": [
    "file=open(\"E:/New folder (2)/11. file I=O/hindi.txt\",\"w\",encoding=\"utf\")\n",
    "file.write(\"मेरा नाम ऋषभ है\")\n",
    "file.close()"
   ]
  },
  {
   "cell_type": "code",
   "execution_count": 41,
   "id": "9d45a67b-5e3c-42d6-a708-bbf00e16a296",
   "metadata": {},
   "outputs": [
    {
     "name": "stdout",
     "output_type": "stream",
     "text": [
      "मेरा नाम ऋषभ है\n"
     ]
    }
   ],
   "source": [
    "file=open(\"E:/New folder (2)/11. file I=O/hindi.txt\",\"r\",encoding=\"utf\")\n",
    "text=file.read()\n",
    "print(text)\n",
    "file.close()"
   ]
  },
  {
   "cell_type": "markdown",
   "id": "f0502c3f-24bf-4887-a3fb-ce15384d3170",
   "metadata": {},
   "source": [
    "## \"r+\" = read and write dono kar skte hai."
   ]
  },
  {
   "cell_type": "code",
   "execution_count": 47,
   "id": "c649e36e-51de-4b8a-8d46-ec8f1f4da863",
   "metadata": {},
   "outputs": [
    {
     "name": "stdout",
     "output_type": "stream",
     "text": [
      "my name is rishav\n"
     ]
    }
   ],
   "source": [
    "file=open(\"E:/New folder (2)/11. file I=O/hindi.txt\",\"r+\")\n",
    "text=file.read()\n",
    "print(text)\n",
    "file.write(\"\\nindia\")\n",
    "file.close()"
   ]
  },
  {
   "cell_type": "markdown",
   "id": "cd21fcbc-699c-41b2-9b3f-74b45fea9a7b",
   "metadata": {},
   "source": [
    "## \"w+\" = write, seek, then read"
   ]
  },
  {
   "cell_type": "code",
   "execution_count": 50,
   "id": "c1b400e4-4add-4a50-9376-4803527d387f",
   "metadata": {},
   "outputs": [
    {
     "name": "stdout",
     "output_type": "stream",
     "text": [
      "my name is rishav\n"
     ]
    }
   ],
   "source": [
    "file=open(\"E:/New folder (2)/11. file I=O/hindi.txt\",\"w+\")\n",
    "file.write(\"my name is rishav\")\n",
    "file.seek(0)\n",
    "text=file.read()\n",
    "print(text)\n",
    "file.close()"
   ]
  },
  {
   "cell_type": "markdown",
   "id": "3f376bb6-5a18-45a2-be8c-815bbb3e59c4",
   "metadata": {},
   "source": [
    "## \"a+\" = append = append,seek then read"
   ]
  },
  {
   "cell_type": "code",
   "execution_count": 59,
   "id": "a0fe5570-b7c3-451c-bdca-abd9c611d15c",
   "metadata": {},
   "outputs": [
    {
     "name": "stdout",
     "output_type": "stream",
     "text": [
      "\n",
      "rishav\n",
      "rishavkumarrishavkumarrishavkumarrishavkumarrishavkumarrishavkumar\n"
     ]
    }
   ],
   "source": [
    "file=open(\"E:/New folder (2)/11. file I=O/eng.txt\",\"a+\")\n",
    "file.read()\n",
    "file.write(\"rishav\")\n",
    "file.seek(0)\n",
    "file.write(\"kumar\")\n",
    "text=file.read()\n",
    "print(text)\n",
    "file.seek(0)\n",
    "text=file.read()\n",
    "print(text)\n",
    "file.close()"
   ]
  },
  {
   "cell_type": "markdown",
   "id": "e658cae8-d458-49ff-a9ed-874a8e362492",
   "metadata": {},
   "source": [
    "### agar hum file mode nhi lagate hai to by default read mode considard hota hai."
   ]
  },
  {
   "cell_type": "code",
   "execution_count": 61,
   "id": "468f6d64-1f6e-4cfa-9e9e-a72d9e26c1fa",
   "metadata": {},
   "outputs": [
    {
     "name": "stdout",
     "output_type": "stream",
     "text": [
      "rishav\n",
      "rishavkumarrishavkumarrishavkumarrishavkumarrishavkumarrishavkumar\n"
     ]
    }
   ],
   "source": [
    "file=open(\"E:/New folder (2)/11. file I=O/eng.txt\")\n",
    "text=file.read()\n",
    "print(text)\n",
    "file.close()"
   ]
  },
  {
   "cell_type": "markdown",
   "id": "d8fa7459-fabe-47fb-8595-9aebcf9967ed",
   "metadata": {},
   "source": [
    "### upper case me convert karne per"
   ]
  },
  {
   "cell_type": "code",
   "execution_count": 65,
   "id": "f17e2fc9-4ef5-45a5-8413-ae085eb31502",
   "metadata": {},
   "outputs": [],
   "source": [
    "file=open(\"E:/New folder (2)/11. file I=O/hindi.txt\")\n",
    "text=file.read()\n",
    "text=text.upper()\n",
    "file.close()\n",
    "\n",
    "file=open(\"E:/New folder (2)/11. file I=O/hindi.txt\",\"w\")\n",
    "file.write(text)\n",
    "file.close()"
   ]
  },
  {
   "cell_type": "markdown",
   "id": "ec331e82-adec-49ab-afc5-d07ffc06524b",
   "metadata": {},
   "source": [
    "## multiply karne per"
   ]
  },
  {
   "cell_type": "code",
   "execution_count": 67,
   "id": "b0348fd1-ffe3-4766-acc9-21e8ebb3acce",
   "metadata": {},
   "outputs": [
    {
     "name": "stdout",
     "output_type": "stream",
     "text": [
      "30\n"
     ]
    }
   ],
   "source": [
    "file=open(\"E:/New folder (2)/11. file I=O/num.txt\")\n",
    "a=int(file.readline())\n",
    "b=int(file.readline())\n",
    "print(a*b)\n",
    "file.close()"
   ]
  },
  {
   "cell_type": "markdown",
   "id": "1f9bdcab-6ec9-456a-970b-1e5c2d72e73a",
   "metadata": {},
   "source": [
    "## \"split\" ye ek dusre ko change kar deta hai."
   ]
  },
  {
   "cell_type": "code",
   "execution_count": 73,
   "id": "dd8b8906-ea30-49d0-93d6-0436cdaec422",
   "metadata": {},
   "outputs": [
    {
     "name": "stdout",
     "output_type": "stream",
     "text": [
      "5,6\n",
      "30\n"
     ]
    }
   ],
   "source": [
    "file=open(\"E:/New folder (2)/11. file I=O/num2.txt\")\n",
    "text=file.read()\n",
    "print(text)\n",
    "a,b=text.split(\",\")\n",
    "print(int(a)*int(b))\n",
    "file.close()"
   ]
  },
  {
   "cell_type": "markdown",
   "id": "5ddb1b3b-41ab-4b98-b5fe-7eb99551f575",
   "metadata": {},
   "source": [
    "## \"with block\"    "
   ]
  },
  {
   "cell_type": "code",
   "execution_count": 74,
   "id": "9701d8c5-edcd-41ae-b3f3-63383b276818",
   "metadata": {},
   "outputs": [],
   "source": [
    "#with block\n",
    "with open(\"E:/New folder (2)/11. file I=O/with block.txt\",\"w\") as file:\n",
    "    file.write(\"hi\\n\")\n",
    "    file.write(\"bye\")\n",
    "    \n",
    "file.close()"
   ]
  },
  {
   "cell_type": "code",
   "execution_count": null,
   "id": "863f8b10-2002-4324-a39c-7b5c24263084",
   "metadata": {},
   "outputs": [],
   "source": []
  }
 ],
 "metadata": {
  "kernelspec": {
   "display_name": "Python 3 (ipykernel)",
   "language": "python",
   "name": "python3"
  },
  "language_info": {
   "codemirror_mode": {
    "name": "ipython",
    "version": 3
   },
   "file_extension": ".py",
   "mimetype": "text/x-python",
   "name": "python",
   "nbconvert_exporter": "python",
   "pygments_lexer": "ipython3",
   "version": "3.10.9"
  }
 },
 "nbformat": 4,
 "nbformat_minor": 5
}
