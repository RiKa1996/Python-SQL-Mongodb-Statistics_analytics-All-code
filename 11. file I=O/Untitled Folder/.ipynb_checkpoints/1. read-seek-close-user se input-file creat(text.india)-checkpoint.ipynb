{
 "cells": [
  {
   "cell_type": "raw",
   "id": "e42b5c4b-0a1e-4e98-a13b-77cfe689e569",
   "metadata": {},
   "source": [
    "File I/O\n",
    "========\n",
    "    >Process of reading/writing text data\n",
    "    >python provide io module to perform file i/o\n",
    "    Note:io module is auto imported by interpreter so it is optional to import it explicitly.\n",
    "    \n",
    "    Steps:\n",
    "        1. open a file in specific mode.\n",
    "        2. read/write text data.\n",
    "        3. close th file"
   ]
  },
  {
   "cell_type": "code",
   "execution_count": 1,
   "id": "1c24e3c2-d06e-4364-8838-9342361f39ab",
   "metadata": {},
   "outputs": [
    {
     "name": "stdout",
     "output_type": "stream",
     "text": [
      "Pytho\n",
      "n is a\n"
     ]
    }
   ],
   "source": [
    "file=open(\"E:/New folder (2)/11. file I=O/msg.txt\",\"r\")\n",
    "text=file.read(5)\n",
    "print(text)\n",
    "\n",
    "text=file.read(6)\n",
    "print(text)\n",
    "\n",
    "file.close()\n",
    "\n",
    "#text=file.read(2)      #ek bar file close hone ke bad file ko dubara read/write nhi kiya ja skta hai."
   ]
  },
  {
   "cell_type": "code",
   "execution_count": 5,
   "id": "7ae48eb2-16c4-4609-a342-f76c6ee481e9",
   "metadata": {},
   "outputs": [
    {
     "name": "stdout",
     "output_type": "stream",
     "text": [
      "ny la\n",
      "nguage first released in \n",
      "1991 by guido van rossum\n",
      "python is easy to learn\n",
      "by\n"
     ]
    }
   ],
   "source": [
    "#agar hum text me kuch character chor kar aage ke character ko print karna chahte hai to seek() fucntion ka use kar skte hai.\n",
    "\n",
    "file=open(\"E:/New folder (2)/11. file I=O/msg.txt\",\"r\")\n",
    "file.seek(15)\n",
    "text=file.read(5)\n",
    "print(text)\n",
    "\n",
    "text=file.read()      ##agar hum read fucntion ke under kuch nhi likhte hai. to hume puri ki puri text mil jati hai.\n",
    "print(text)"
   ]
  },
  {
   "cell_type": "code",
   "execution_count": null,
   "id": "b5a99caf-d8a1-4d8c-938d-2d57ad5d41e4",
   "metadata": {},
   "outputs": [],
   "source": [
    "# -1 index no. use kar ke \n",
    "file=open(\"E:/New folder (2)/11. file I=O/msg.txt\",\"r\")\n",
    "\n",
    "text=file.read(-1)\n",
    "print(text)"
   ]
  }
 ],
 "metadata": {
  "kernelspec": {
   "display_name": "Python 3 (ipykernel)",
   "language": "python",
   "name": "python3"
  },
  "language_info": {
   "codemirror_mode": {
    "name": "ipython",
    "version": 3
   },
   "file_extension": ".py",
   "mimetype": "text/x-python",
   "name": "python",
   "nbconvert_exporter": "python",
   "pygments_lexer": "ipython3",
   "version": "3.10.9"
  }
 },
 "nbformat": 4,
 "nbformat_minor": 5
}
