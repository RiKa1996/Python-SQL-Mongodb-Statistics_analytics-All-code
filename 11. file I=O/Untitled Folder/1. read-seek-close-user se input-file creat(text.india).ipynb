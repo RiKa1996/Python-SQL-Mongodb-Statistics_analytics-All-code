{
 "cells": [
  {
   "cell_type": "raw",
   "id": "e42b5c4b-0a1e-4e98-a13b-77cfe689e569",
   "metadata": {},
   "source": [
    "File I/O\n",
    "========\n",
    "    >Process of reading/writing text data\n",
    "    >python provide io module to perform file i/o\n",
    "    Note:io module is auto imported by interpreter so it is optional to import it explicitly.\n",
    "    \n",
    "    Steps:\n",
    "        1. open a file in specific mode.\n",
    "        2. read/write text data.\n",
    "        3. close th file"
   ]
  },
  {
   "cell_type": "markdown",
   "id": "3802e47f-ee6d-4e1d-9464-23483a2b7c17",
   "metadata": {},
   "source": [
    "#### ek bar file close hone ke bad file ko dubara read/write nhi kiya ja skta hai."
   ]
  },
  {
   "cell_type": "code",
   "execution_count": 1,
   "id": "1c24e3c2-d06e-4364-8838-9342361f39ab",
   "metadata": {},
   "outputs": [
    {
     "name": "stdout",
     "output_type": "stream",
     "text": [
      "Pytho\n",
      "n is a\n"
     ]
    }
   ],
   "source": [
    "file=open(\"E:/New folder (2)/11. file I=O/msg.txt\",\"r\")\n",
    "text=file.read(5)\n",
    "print(text)\n",
    "\n",
    "text=file.read(6)\n",
    "print(text)\n",
    "\n",
    "file.close()\n",
    "\n",
    "#text=file.read(2)      #ek bar file close hone ke bad file ko dubara read/write nhi kiya ja skta hai."
   ]
  },
  {
   "cell_type": "markdown",
   "id": "78be8b29-2d87-40ee-a760-aa18d47b4b4d",
   "metadata": {},
   "source": [
    "#### agar hum text me kuch character chor kar aage ke character ko print karna chahte hai to seek() fucntion ka use kar skte hai."
   ]
  },
  {
   "cell_type": "code",
   "execution_count": 2,
   "id": "7ae48eb2-16c4-4609-a342-f76c6ee481e9",
   "metadata": {},
   "outputs": [
    {
     "name": "stdout",
     "output_type": "stream",
     "text": [
      "ny la\n",
      "nguage first released in \n",
      "1991 by guido van rossum\n",
      "python is easy to learn\n",
      "by\n"
     ]
    }
   ],
   "source": [
    "\n",
    "\n",
    "file=open(\"E:/New folder (2)/11. file I=O/msg.txt\",\"r\")\n",
    "file.seek(15)\n",
    "text=file.read(5)\n",
    "print(text)\n",
    "\n",
    "text=file.read()      ##agar hum read fucntion ke under kuch nhi likhte hai. to hume puri ki puri text mil jati hai.\n",
    "print(text)"
   ]
  },
  {
   "cell_type": "markdown",
   "id": "2fb4b240-cdb4-41db-aadc-9dde36735d56",
   "metadata": {},
   "source": [
    "#### -1 index no. use kar ke "
   ]
  },
  {
   "cell_type": "code",
   "execution_count": 3,
   "id": "b5a99caf-d8a1-4d8c-938d-2d57ad5d41e4",
   "metadata": {},
   "outputs": [
    {
     "name": "stdout",
     "output_type": "stream",
     "text": [
      "Python is a funny language first released in \n",
      "1991 by guido van rossum\n",
      "python is easy to learn\n",
      "by\n"
     ]
    }
   ],
   "source": [
    "\n",
    "file=open(\"E:/New folder (2)/11. file I=O/msg.txt\",\"r\")\n",
    "\n",
    "text=file.read(-1)          ## -1 read fucntion me -1 likh kar ke puri ki puri text mil skti hai.\n",
    "print(text)"
   ]
  },
  {
   "cell_type": "markdown",
   "id": "a4c9775d-2b77-4a5a-8bda-6b6e22cb8eeb",
   "metadata": {},
   "source": [
    "#### () iske under kuch nhi likhne per bhi puri ki puri text hume mil jati hai."
   ]
  },
  {
   "cell_type": "code",
   "execution_count": 4,
   "id": "2d7f2da1-b46b-4343-8ff3-efaff0a849ad",
   "metadata": {},
   "outputs": [
    {
     "name": "stdout",
     "output_type": "stream",
     "text": [
      "Python is a funny language first released in \n",
      "1991 by guido van rossum\n",
      "python is easy to learn\n",
      "by\n"
     ]
    }
   ],
   "source": [
    "\n",
    "file=open(\"E:/New folder (2)/11. file I=O/msg.txt\",\"r\")\n",
    "\n",
    "text=file.read()          ##() iske under kuch nhi likhne per bhi puri ki puri text hume mil jati hai.\n",
    "print(text)"
   ]
  },
  {
   "cell_type": "markdown",
   "id": "56824fb7-ffeb-48c0-96bf-4a1465abad4f",
   "metadata": {},
   "source": [
    "#### do bar call karne per sirf ek bar hi wo bhi phla text call ho skta hai."
   ]
  },
  {
   "cell_type": "code",
   "execution_count": 5,
   "id": "06727dd6-88ef-49b0-85e6-a5b18be61931",
   "metadata": {},
   "outputs": [
    {
     "name": "stdout",
     "output_type": "stream",
     "text": [
      "Python is a funny language first released in \n",
      "1991 by guido van rossum\n",
      "python is easy to learn\n",
      "by\n",
      "\n"
     ]
    }
   ],
   "source": [
    "file=open(\"E:/New folder (2)/11. file I=O/msg.txt\",\"r\")\n",
    "\n",
    "text=file.read()          \n",
    "print(text)\n",
    "\n",
    "text=file.read()\n",
    "print(text)\n",
    "\n",
    "file.close()"
   ]
  },
  {
   "cell_type": "markdown",
   "id": "28826807-0c7a-4abe-ba56-ac16a191726f",
   "metadata": {},
   "source": [
    " #### do bar call karne per sirf ek bar hi wo bhi phla text call ho skta hai. but **(seek)** laga ke do bar text print kiya ja skta hai."
   ]
  },
  {
   "cell_type": "code",
   "execution_count": 6,
   "id": "9fbce43e-8241-46d3-8125-a2d401cf3325",
   "metadata": {},
   "outputs": [
    {
     "name": "stdout",
     "output_type": "stream",
     "text": [
      "Python is a funny language first released in \n",
      "1991 by guido van rossum\n",
      "python is easy to learn\n",
      "by\n",
      "Python is a funny language first released in \n",
      "1991 by guido van rossum\n",
      "python is easy to learn\n",
      "by\n"
     ]
    }
   ],
   "source": [
    "file=open(\"E:/New folder (2)/11. file I=O/msg.txt\",\"r\")\n",
    "\n",
    "text=file.read()          \n",
    "print(text)\n",
    "\n",
    "file.seek(0)\n",
    "\n",
    "text=file.read()\n",
    "print(text)\n",
    "\n",
    "file.close()"
   ]
  },
  {
   "cell_type": "code",
   "execution_count": 7,
   "id": "19139e46-130e-4b13-b063-f65897cadd7d",
   "metadata": {},
   "outputs": [
    {
     "name": "stdout",
     "output_type": "stream",
     "text": [
      "<class 'str'>\n",
      "92\n"
     ]
    }
   ],
   "source": [
    "file=open(\"E:/New folder (2)/11. file I=O/msg.txt\",\"r\")\n",
    "file.seek(5)\n",
    "text=file.read()          \n",
    "print(type(text))\n",
    "print(len(text))\n",
    "file.close()\n",
    "#text=file.read(5)   #error\n"
   ]
  },
  {
   "cell_type": "markdown",
   "id": "45a50b41-bb24-4988-a146-e9e0d4c8503e",
   "metadata": {},
   "source": [
    "#### **\"text.india\"**"
   ]
  },
  {
   "cell_type": "code",
   "execution_count": 8,
   "id": "1746a211-660b-4597-b50d-4084f003366d",
   "metadata": {},
   "outputs": [
    {
     "name": "stdout",
     "output_type": "stream",
     "text": [
      "Python is a simple language first released in \n",
      "1991 by guido van rossum\n",
      "python is easy to learn\n",
      "by\n"
     ]
    }
   ],
   "source": [
    "file=open(\"E:/New folder (2)/11. file I=O/msg.india\",\"r\")\n",
    "\n",
    "text=file.read()\n",
    "print(text)"
   ]
  },
  {
   "cell_type": "code",
   "execution_count": 9,
   "id": "c63131f6-06f0-4057-a378-3eabc64b1306",
   "metadata": {},
   "outputs": [
    {
     "name": "stdout",
     "output_type": "stream",
     "text": [
      "Python is a funny language first released in \n",
      "1991 by guido van rossum\n",
      "python is easy to learn\n",
      "by\n"
     ]
    }
   ],
   "source": [
    "file=open(\"E:/New folder (2)/11. file I=O/msg.txt\",\"r\")\n",
    "\n",
    "text=file.read()\n",
    "print(text)"
   ]
  },
  {
   "cell_type": "markdown",
   "id": "7b9ff3bf-2c0e-4791-a5ca-22ded85c29e7",
   "metadata": {},
   "source": [
    "### kisi aur file ko bhi print kiya ja skta hai."
   ]
  },
  {
   "cell_type": "code",
   "execution_count": 10,
   "id": "bf29a51d-251a-4d70-ad80-da5eb6c16c9e",
   "metadata": {},
   "outputs": [
    {
     "name": "stdout",
     "output_type": "stream",
     "text": [
      "#keywords\n",
      "# help(\"keywords\")\n",
      "#Here is a list of the Python keywords.  Enter any keyword to get more help.\n",
      "\n",
      "# ## False               class               ###from                ##or\n",
      "# ## None                ###continue         ###global              ###pass\n",
      "# ## True                def                 ### if                  raise\n",
      "# ## and                 del                 ###import              ###return\n",
      "### as                  ###elif                ##in                  try\n",
      "# assert              ###else                is                  ##while\n",
      "# async               except              lambda              with\n",
      "# await               finally             nonlocal            yield\n",
      "# ###break               ###for                 ##not                 \n",
      "\n",
      "\n",
      "###break \n",
      "###continue \n",
      "###pass\n",
      "### if  \n",
      "###elif\n",
      "###else\n",
      "###for \n",
      "###global\n",
      "###as-alise(assumed name)-8.import karna\n",
      "###import ----8.import karna\n",
      "###from   ----8.import karna\n",
      "###return     7.function\n",
      "#return keyword- sirf ek hi value return hota hai.--break\n",
      "\n",
      "\n",
      "\n",
      "\n",
      "\n",
      "\n",
      "\n",
      "\n",
      "\n",
      "help(\"for\")\n",
      "print()\n",
      "pass\n",
      "print()\n",
      "while\n",
      "for\n",
      "False\n",
      "None\n",
      "True\n",
      "and\n",
      "elif\n",
      "else\n",
      "for\n",
      "if\n",
      "in\n",
      "not\n",
      "global\n",
      "as\n",
      "or\n",
      "\n"
     ]
    }
   ],
   "source": [
    "file=open(\"E:/New folder (2)/#keywords.py\",\"r\")\n",
    "\n",
    "text=file.read()\n",
    "print(text)"
   ]
  },
  {
   "cell_type": "markdown",
   "id": "a7cab719-e9da-4d86-8746-f3f2c844acfd",
   "metadata": {},
   "source": [
    "### user se lene per file name"
   ]
  },
  {
   "cell_type": "code",
   "execution_count": 12,
   "id": "8092e8e9-8789-4339-8cf5-be0a7eb36c95",
   "metadata": {},
   "outputs": [
    {
     "name": "stdin",
     "output_type": "stream",
     "text": [
      "enter file: msg.text\n"
     ]
    },
    {
     "ename": "FileNotFoundError",
     "evalue": "[Errno 2] No such file or directory: 'msg.text'",
     "output_type": "error",
     "traceback": [
      "\u001b[1;31m---------------------------------------------------------------------------\u001b[0m",
      "\u001b[1;31mFileNotFoundError\u001b[0m                         Traceback (most recent call last)",
      "Cell \u001b[1;32mIn[12], line 2\u001b[0m\n\u001b[0;32m      1\u001b[0m f\u001b[38;5;241m=\u001b[39m\u001b[38;5;28minput\u001b[39m(\u001b[38;5;124m\"\u001b[39m\u001b[38;5;124menter file:\u001b[39m\u001b[38;5;124m\"\u001b[39m)\n\u001b[1;32m----> 2\u001b[0m file\u001b[38;5;241m=\u001b[39m\u001b[38;5;28;43mopen\u001b[39;49m\u001b[43m(\u001b[49m\u001b[43mf\u001b[49m\u001b[43m,\u001b[49m\u001b[38;5;124;43m\"\u001b[39;49m\u001b[38;5;124;43mr\u001b[39;49m\u001b[38;5;124;43m\"\u001b[39;49m\u001b[43m)\u001b[49m\n\u001b[0;32m      3\u001b[0m text\u001b[38;5;241m=\u001b[39mfile\u001b[38;5;241m.\u001b[39mread()\n\u001b[0;32m      4\u001b[0m \u001b[38;5;28mprint\u001b[39m(text)\n",
      "File \u001b[1;32m~\\anaconda3\\lib\\site-packages\\IPython\\core\\interactiveshell.py:282\u001b[0m, in \u001b[0;36m_modified_open\u001b[1;34m(file, *args, **kwargs)\u001b[0m\n\u001b[0;32m    275\u001b[0m \u001b[38;5;28;01mif\u001b[39;00m file \u001b[38;5;129;01min\u001b[39;00m {\u001b[38;5;241m0\u001b[39m, \u001b[38;5;241m1\u001b[39m, \u001b[38;5;241m2\u001b[39m}:\n\u001b[0;32m    276\u001b[0m     \u001b[38;5;28;01mraise\u001b[39;00m \u001b[38;5;167;01mValueError\u001b[39;00m(\n\u001b[0;32m    277\u001b[0m         \u001b[38;5;124mf\u001b[39m\u001b[38;5;124m\"\u001b[39m\u001b[38;5;124mIPython won\u001b[39m\u001b[38;5;124m'\u001b[39m\u001b[38;5;124mt let you open fd=\u001b[39m\u001b[38;5;132;01m{\u001b[39;00mfile\u001b[38;5;132;01m}\u001b[39;00m\u001b[38;5;124m by default \u001b[39m\u001b[38;5;124m\"\u001b[39m\n\u001b[0;32m    278\u001b[0m         \u001b[38;5;124m\"\u001b[39m\u001b[38;5;124mas it is likely to crash IPython. If you know what you are doing, \u001b[39m\u001b[38;5;124m\"\u001b[39m\n\u001b[0;32m    279\u001b[0m         \u001b[38;5;124m\"\u001b[39m\u001b[38;5;124myou can use builtins\u001b[39m\u001b[38;5;124m'\u001b[39m\u001b[38;5;124m open.\u001b[39m\u001b[38;5;124m\"\u001b[39m\n\u001b[0;32m    280\u001b[0m     )\n\u001b[1;32m--> 282\u001b[0m \u001b[38;5;28;01mreturn\u001b[39;00m io_open(file, \u001b[38;5;241m*\u001b[39margs, \u001b[38;5;241m*\u001b[39m\u001b[38;5;241m*\u001b[39mkwargs)\n",
      "\u001b[1;31mFileNotFoundError\u001b[0m: [Errno 2] No such file or directory: 'msg.text'"
     ]
    }
   ],
   "source": [
    "f=input(\"enter file:\")\n",
    "file=open(f,\"r\")\n",
    "text=file.read()\n",
    "print(text)\n",
    "file.close()"
   ]
  },
  {
   "cell_type": "code",
   "execution_count": null,
   "id": "f9a64217-30e8-4ad1-8025-c11822a9649f",
   "metadata": {},
   "outputs": [],
   "source": []
  }
 ],
 "metadata": {
  "kernelspec": {
   "display_name": "Python 3 (ipykernel)",
   "language": "python",
   "name": "python3"
  },
  "language_info": {
   "codemirror_mode": {
    "name": "ipython",
    "version": 3
   },
   "file_extension": ".py",
   "mimetype": "text/x-python",
   "name": "python",
   "nbconvert_exporter": "python",
   "pygments_lexer": "ipython3",
   "version": "3.10.9"
  }
 },
 "nbformat": 4,
 "nbformat_minor": 5
}
