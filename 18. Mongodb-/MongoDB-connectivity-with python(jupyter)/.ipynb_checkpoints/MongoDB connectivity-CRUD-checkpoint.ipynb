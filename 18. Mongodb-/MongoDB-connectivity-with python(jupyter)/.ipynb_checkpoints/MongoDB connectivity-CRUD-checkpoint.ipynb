{
 "cells": [
  {
   "cell_type": "markdown",
   "id": "d99f6791-88df-4244-a0f2-fd3fde4c9f9d",
   "metadata": {},
   "source": [
    "### install mongo db specific driver module"
   ]
  },
  {
   "cell_type": "code",
   "execution_count": 6,
   "id": "8dae40ab-a052-4b38-a7f6-18921ef85577",
   "metadata": {},
   "outputs": [
    {
     "name": "stdout",
     "output_type": "stream",
     "text": [
      "Requirement already satisfied: pymongo in c:\\users\\pappu kumar\\anaconda3\\lib\\site-packages (4.3.3)\n",
      "Requirement already satisfied: dnspython<3.0.0,>=1.16.0 in c:\\users\\pappu kumar\\anaconda3\\lib\\site-packages (from pymongo) (2.3.0)\n",
      "Note: you may need to restart the kernel to use updated packages.\n"
     ]
    },
    {
     "name": "stderr",
     "output_type": "stream",
     "text": [
      "WARNING: There was an error checking the latest version of pip.\n"
     ]
    }
   ],
   "source": [
    "pip install pymongo"
   ]
  },
  {
   "cell_type": "markdown",
   "id": "1e51057f-5b72-4aee-8637-3f4cf24decc4",
   "metadata": {},
   "source": [
    "#### **import mongodb module**"
   ]
  },
  {
   "cell_type": "code",
   "execution_count": 5,
   "id": "60ebd864-a316-4bd5-8183-7537c01d21d5",
   "metadata": {},
   "outputs": [],
   "source": [
    "import pymongo"
   ]
  },
  {
   "cell_type": "markdown",
   "id": "a172cc4f-f290-492c-856f-a4142218e817",
   "metadata": {},
   "source": [
    "#### **create connection with mongodb**"
   ]
  },
  {
   "cell_type": "code",
   "execution_count": 7,
   "id": "8071e1ce-1936-4a71-97e4-8a6ed6fe9c72",
   "metadata": {},
   "outputs": [
    {
     "name": "stdout",
     "output_type": "stream",
     "text": [
      "MongoClient(host=['localhost:27017'], document_class=dict, tz_aware=False, connect=True)\n"
     ]
    }
   ],
   "source": [
    "con=pymongo.MongoClient('localhost',27017)\n",
    "print(con)"
   ]
  },
  {
   "cell_type": "markdown",
   "id": "a9b1f36a-2c33-4f8a-8835-3d1415710aef",
   "metadata": {},
   "source": [
    "#### **get database from con (created if does not exist)**"
   ]
  },
  {
   "cell_type": "code",
   "execution_count": 8,
   "id": "dc46efcd-8b61-43bd-86d4-f2cdc01a2ceb",
   "metadata": {},
   "outputs": [],
   "source": [
    "db=con['11to1230']"
   ]
  },
  {
   "cell_type": "markdown",
   "id": "784f27d8-852f-4fee-9667-fccf16eb32e3",
   "metadata": {},
   "source": [
    "## CRUD\n",
    "#### **get collection from db**---------------Select(Insert Document)---------This is **R**"
   ]
  },
  {
   "cell_type": "code",
   "execution_count": 15,
   "id": "62be3f05-0cda-4f05-a0a7-33fe29e817bc",
   "metadata": {},
   "outputs": [
    {
     "name": "stdout",
     "output_type": "stream",
     "text": [
      "{'_id': 1, 'Name': 'reena', 'marks': 76.7, 'Branch': 'cs'}\n",
      "{'_id': 151, 'Name': 'dhoni', 'marks': 82, 'Branch': 'cs'}\n",
      "{'_id': 152, 'Name': 'pant', 'marks': 38.0, 'Branch': 'civil'}\n",
      "{'_id': 300, 'Name': 'ajay', 'marks': 50.0, 'Branch': 'ca'}\n",
      "{'_id': 301, 'Name': 'virat', 'marks': 44.0, 'Branch': 'account'}\n",
      "{'_id': 302, 'Name': 'karan', 'marks': 50.0, 'Branch': 'b.com'}\n",
      "{'_id': 502, 'Name': 'karan', 'marks': 30.0, 'Branch': 'ba'}\n",
      "{'_id': 503, 'Name': 'vijay', 'marks': 30.0, 'Branch': 'ec'}\n",
      "{'_id': 1000, 'Name': 'vijay', 'marks': 30.0, 'Branch': 'b.tech'}\n",
      "{'_id': 1003, 'Name': 'arjun', 'marks': 45.0, 'Branch': 'ca'}\n",
      "{'_id': 1004, 'Name': 'rohit', 'marks': 60.0, 'Branch': 'cs'}\n"
     ]
    }
   ],
   "source": [
    "col=db['Students']\n",
    "\n",
    "docs=col.find()         #will get all documents\n",
    "for doc in docs:\n",
    "    print(doc)\n",
    "          "
   ]
  },
  {
   "cell_type": "markdown",
   "id": "fa1a894e-84c0-4373-b627-ede968e15763",
   "metadata": {},
   "source": [
    "#### **get any perticular document**"
   ]
  },
  {
   "cell_type": "code",
   "execution_count": 16,
   "id": "858efdfa-65c6-4f18-9bda-43ec6e034045",
   "metadata": {},
   "outputs": [
    {
     "name": "stdout",
     "output_type": "stream",
     "text": [
      "{'_id': 1, 'Name': 'reena', 'marks': 76.7, 'Branch': 'cs'}\n",
      "{'_id': 151, 'Name': 'dhoni', 'marks': 82, 'Branch': 'cs'}\n",
      "{'_id': 1004, 'Name': 'rohit', 'marks': 60.0, 'Branch': 'cs'}\n"
     ]
    }
   ],
   "source": [
    "col.db['Students']\n",
    "\n",
    "docs=col.find({'Branch':'cs'})\n",
    "for doc in docs:\n",
    "    print(doc)"
   ]
  },
  {
   "cell_type": "code",
   "execution_count": 18,
   "id": "984ea2d9-17f3-4fa1-b79c-99c6b4215634",
   "metadata": {},
   "outputs": [
    {
     "name": "stdout",
     "output_type": "stream",
     "text": [
      "[dict_keys(['_id', 'Name', 'marks', 'Branch']), dict_keys(['_id', 'Name', 'marks', 'Branch']), dict_keys(['_id', 'Name', 'marks', 'Branch']), dict_keys(['_id', 'Name', 'marks', 'Branch']), dict_keys(['_id', 'Name', 'marks', 'Branch']), dict_keys(['_id', 'Name', 'marks', 'Branch']), dict_keys(['_id', 'Name', 'marks', 'Branch']), dict_keys(['_id', 'Name', 'marks', 'Branch']), dict_keys(['_id', 'Name', 'marks', 'Branch']), dict_keys(['_id', 'Name', 'marks', 'Branch']), dict_keys(['_id', 'Name', 'marks', 'Branch'])]\n",
      "[dict_values([1, 'reena', 76.7, 'cs']), dict_values([151, 'dhoni', 82, 'cs']), dict_values([152, 'pant', 38.0, 'civil']), dict_values([300, 'ajay', 50.0, 'ca']), dict_values([301, 'virat', 44.0, 'account']), dict_values([302, 'karan', 50.0, 'b.com']), dict_values([502, 'karan', 30.0, 'ba']), dict_values([503, 'vijay', 30.0, 'ec']), dict_values([1000, 'vijay', 30.0, 'b.tech']), dict_values([1003, 'arjun', 45.0, 'ca']), dict_values([1004, 'rohit', 60.0, 'cs'])]\n"
     ]
    }
   ],
   "source": [
    "col.db['Students']\n",
    "keys=[]\n",
    "values=[]\n",
    "\n",
    "docs=col.find()\n",
    "for doc in docs:\n",
    "    keys.append(doc.keys())\n",
    "    values.append(doc.values())\n",
    "    \n",
    "print(keys)\n",
    "print(values)"
   ]
  },
  {
   "cell_type": "code",
   "execution_count": 23,
   "id": "a8672784-2a33-49f4-83b4-cbf2e7a57f4c",
   "metadata": {},
   "outputs": [
    {
     "name": "stdout",
     "output_type": "stream",
     "text": [
      "dict_keys(['_id', 'Name', 'marks', 'Branch'])\n",
      "dict_keys(['_id', 'Name', 'marks', 'Branch'])\n",
      "dict_keys(['_id', 'Name', 'marks', 'Branch'])\n",
      "dict_keys(['_id', 'Name', 'marks', 'Branch'])\n",
      "dict_keys(['_id', 'Name', 'marks', 'Branch'])\n",
      "dict_keys(['_id', 'Name', 'marks', 'Branch'])\n",
      "dict_keys(['_id', 'Name', 'marks', 'Branch'])\n",
      "dict_keys(['_id', 'Name', 'marks', 'Branch'])\n",
      "dict_keys(['_id', 'Name', 'marks', 'Branch'])\n",
      "dict_keys(['_id', 'Name', 'marks', 'Branch'])\n",
      "dict_keys(['_id', 'Name', 'marks', 'Branch'])\n",
      "dict_values([1, 'reena', 76.7, 'cs'])\n",
      "dict_values([151, 'dhoni', 82, 'cs'])\n",
      "dict_values([152, 'pant', 38.0, 'civil'])\n",
      "dict_values([300, 'ajay', 50.0, 'ca'])\n",
      "dict_values([301, 'virat', 44.0, 'account'])\n",
      "dict_values([302, 'karan', 50.0, 'b.com'])\n",
      "dict_values([502, 'karan', 30.0, 'ba'])\n",
      "dict_values([503, 'vijay', 30.0, 'ec'])\n",
      "dict_values([1000, 'vijay', 30.0, 'b.tech'])\n",
      "dict_values([1003, 'arjun', 45.0, 'ca'])\n",
      "dict_values([1004, 'rohit', 60.0, 'cs'])\n"
     ]
    }
   ],
   "source": [
    "for k in keys:\n",
    "    print(k)\n",
    "    \n",
    "for v in values:\n",
    "    print(v)"
   ]
  },
  {
   "cell_type": "code",
   "execution_count": 37,
   "id": "784f1582-5bbe-4942-a40a-423f4ca5442e",
   "metadata": {},
   "outputs": [
    {
     "name": "stdout",
     "output_type": "stream",
     "text": [
      "_id\tName\tmarks\tBranch\t\n",
      "1\treena\t76.7\tcs\t\n",
      "151\tdhoni\t82\tcs\t\n",
      "152\tpant\t38.0\tcivil\t\n",
      "300\tajay\t50.0\tca\t\n",
      "301\tvirat\t44.0\taccount\t\n",
      "302\tkaran\t50.0\tb.com\t\n",
      "502\tkaran\t30.0\tba\t\n",
      "503\tvijay\t30.0\tec\t\n",
      "1000\tvijay\t30.0\tb.tech\t\n",
      "1003\tarjun\t45.0\tca\t\n",
      "1004\trohit\t60.0\tcs\t\n"
     ]
    }
   ],
   "source": [
    "for k in keys[0]:\n",
    "    print(k,end='\\t')\n",
    "print()   \n",
    "for row in values:\n",
    "    for v in row:\n",
    "        print(v,end='\\t')\n",
    "    print()"
   ]
  },
  {
   "cell_type": "markdown",
   "id": "7bc4818b-cc8c-42f4-be39-8d5fb5947519",
   "metadata": {},
   "source": [
    "### **C**---------Create Document-------**Insert Document**"
   ]
  },
  {
   "cell_type": "code",
   "execution_count": 38,
   "id": "8bfecc18-15a0-47b4-8d05-b2899b8fceb2",
   "metadata": {},
   "outputs": [
    {
     "data": {
      "text/plain": [
       "<pymongo.results.InsertOneResult at 0x19d2f48e110>"
      ]
     },
     "execution_count": 38,
     "metadata": {},
     "output_type": "execute_result"
    }
   ],
   "source": [
    "col.insert_one({\"_id\":2,'Name':'veer',\"marks\":67.2,'Branch':'civil'})"
   ]
  },
  {
   "cell_type": "code",
   "execution_count": 39,
   "id": "a8df775b-4d57-483b-b4db-bc4fefd0bc70",
   "metadata": {},
   "outputs": [
    {
     "name": "stdout",
     "output_type": "stream",
     "text": [
      "{'_id': 152, 'Name': 'pant', 'marks': 38.0, 'Branch': 'civil'}\n",
      "{'_id': 2, 'Name': 'veer', 'marks': 67.2, 'Branch': 'civil'}\n"
     ]
    }
   ],
   "source": [
    "docs=col.find({'Branch':'civil'})\n",
    "for doc in docs:\n",
    "    print(doc)"
   ]
  },
  {
   "cell_type": "code",
   "execution_count": 40,
   "id": "d524f6a7-1c3a-4aee-812a-8b5ed931c308",
   "metadata": {},
   "outputs": [],
   "source": [
    "con.close()"
   ]
  },
  {
   "cell_type": "markdown",
   "id": "b8c15b66-5a45-41a0-8e2f-4e974cecd36f",
   "metadata": {},
   "source": [
    "## image ko insert krna;"
   ]
  },
  {
   "cell_type": "code",
   "execution_count": 5,
   "id": "c8b7d3c9-7b8e-443c-baef-d67fb0b592dd",
   "metadata": {},
   "outputs": [
    {
     "name": "stdout",
     "output_type": "stream",
     "text": [
      "Document inserted\n"
     ]
    }
   ],
   "source": [
    "import pymongo\n",
    "con=pymongo.MongoClient(\"localhost\",27017)\n",
    "db=con['11to1230']\n",
    "col=db[\"Students\"]\n",
    "\n",
    "file=open(\"E:/heroin-for mongodb.jpeg\",\"rb\")\n",
    "img=file.read()\n",
    "file.close()\n",
    "\n",
    "col.insert_one({\"_id\":5,\"Name\":\"rita\",'marks':100,'Branch':\"Actor\",'pic':img})\n",
    "print(\"Document inserted\")\n",
    "con.close()"
   ]
  },
  {
   "cell_type": "code",
   "execution_count": 9,
   "id": "198bcbe3-ee03-48a3-b9a3-d0b9b0167035",
   "metadata": {},
   "outputs": [
    {
     "name": "stdout",
     "output_type": "stream",
     "text": [
      "image fetched and saved\n"
     ]
    }
   ],
   "source": [
    "import pymongo\n",
    "con=pymongo.MongoClient(\"localhost\",27017)\n",
    "db=con['11to1230']\n",
    "col=db[\"Students\"]\n",
    "\n",
    "doc=col.find_one({'_id':5})\n",
    "#print(doc)\n",
    "img=doc['pic']\n",
    "#print(img)\n",
    "file=open(\"heroin-for mongodb.jpeg\",\"wb\")\n",
    "file.write(img)\n",
    "file.close()\n",
    "print(\"image fetched and saved\")\n",
    "con.close()"
   ]
  },
  {
   "cell_type": "code",
   "execution_count": null,
   "id": "bd0aace1-3a03-4910-b759-e59ab9447f2e",
   "metadata": {},
   "outputs": [],
   "source": []
  }
 ],
 "metadata": {
  "kernelspec": {
   "display_name": "Python 3 (ipykernel)",
   "language": "python",
   "name": "python3"
  },
  "language_info": {
   "codemirror_mode": {
    "name": "ipython",
    "version": 3
   },
   "file_extension": ".py",
   "mimetype": "text/x-python",
   "name": "python",
   "nbconvert_exporter": "python",
   "pygments_lexer": "ipython3",
   "version": "3.10.9"
  }
 },
 "nbformat": 4,
 "nbformat_minor": 5
}
