{
 "cells": [
  {
   "cell_type": "code",
   "execution_count": 5,
   "id": "d5958c71-e53b-4a9e-8654-25273b5ba996",
   "metadata": {},
   "outputs": [
    {
     "name": "stdin",
     "output_type": "stream",
     "text": [
      "enter num: kjsdfh\n"
     ]
    },
    {
     "ename": "ValueError",
     "evalue": "invalid literal for int() with base 10: 'kjsdfh'",
     "output_type": "error",
     "traceback": [
      "\u001b[1;31m---------------------------------------------------------------------------\u001b[0m",
      "\u001b[1;31mValueError\u001b[0m                                Traceback (most recent call last)",
      "Cell \u001b[1;32mIn[5], line 15\u001b[0m\n\u001b[0;32m     12\u001b[0m     \u001b[38;5;28;01mimport\u001b[39;00m \u001b[38;5;21;01mos\u001b[39;00m\n\u001b[0;32m     13\u001b[0m     os\u001b[38;5;241m.\u001b[39mrename(\u001b[38;5;124m\"\u001b[39m\u001b[38;5;124mE:\u001b[39m\u001b[38;5;130;01m\\\\\u001b[39;00m\u001b[38;5;124mNew folder (2)\u001b[39m\u001b[38;5;130;01m\\\\\u001b[39;00m\u001b[38;5;124m15. Multi-Threading Programming\u001b[39m\u001b[38;5;130;01m\\\\\u001b[39;00m\u001b[38;5;124mNew folder\u001b[39m\u001b[38;5;124m\"\u001b[39m,\u001b[38;5;124m\"\u001b[39m\u001b[38;5;124mE:\u001b[39m\u001b[38;5;130;01m\\\\\u001b[39;00m\u001b[38;5;124mNew folder (2)\u001b[39m\u001b[38;5;130;01m\\\\\u001b[39;00m\u001b[38;5;124m15. Multi-Threading Programming\u001b[39m\u001b[38;5;130;01m\\\\\u001b[39;00m\u001b[38;5;124mrishu\u001b[39m\u001b[38;5;124m\"\u001b[39m)\n\u001b[1;32m---> 15\u001b[0m \u001b[43mevenodd\u001b[49m\u001b[43m(\u001b[49m\u001b[43m)\u001b[49m\n\u001b[0;32m     16\u001b[0m change()\n",
      "Cell \u001b[1;32mIn[5], line 3\u001b[0m, in \u001b[0;36mevenodd\u001b[1;34m()\u001b[0m\n\u001b[0;32m      2\u001b[0m \u001b[38;5;28;01mdef\u001b[39;00m \u001b[38;5;21mevenodd\u001b[39m():\n\u001b[1;32m----> 3\u001b[0m     num\u001b[38;5;241m=\u001b[39m\u001b[38;5;28;43mint\u001b[39;49m\u001b[43m(\u001b[49m\u001b[38;5;28;43minput\u001b[39;49m\u001b[43m(\u001b[49m\u001b[38;5;124;43m\"\u001b[39;49m\u001b[38;5;124;43menter num:\u001b[39;49m\u001b[38;5;124;43m\"\u001b[39;49m\u001b[43m)\u001b[49m\u001b[43m)\u001b[49m\n\u001b[0;32m      4\u001b[0m     \u001b[38;5;28;01mif\u001b[39;00m (num\u001b[38;5;241m%\u001b[39m\u001b[38;5;241m2\u001b[39m\u001b[38;5;241m==\u001b[39m\u001b[38;5;241m0\u001b[39m):\n\u001b[0;32m      5\u001b[0m         \u001b[38;5;28mprint\u001b[39m(\u001b[38;5;124m\"\u001b[39m\u001b[38;5;124meven\u001b[39m\u001b[38;5;124m\"\u001b[39m)\n",
      "\u001b[1;31mValueError\u001b[0m: invalid literal for int() with base 10: 'kjsdfh'"
     ]
    }
   ],
   "source": [
    "# 1st code\n",
    "def evenodd():\n",
    "    num=int(input(\"enter num:\"))\n",
    "    if (num%2==0):\n",
    "        print(\"even\")\n",
    "        \n",
    "    else:\n",
    "        print(\"odd\")\n",
    "        \n",
    "# 2nd code\n",
    "def change():\n",
    "    import os\n",
    "    os.rename(\"E:\\\\New folder (2)\\\\15. Multi-Threading Programming\\\\New folder\",\"E:\\\\New folder (2)\\\\15. Multi-Threading Programming\\\\rishu\")\n",
    "    \n",
    "evenodd()\n",
    "change()"
   ]
  },
  {
   "cell_type": "markdown",
   "id": "f629b250-326e-4f38-b9a9-bf0e8bab1e94",
   "metadata": {},
   "source": [
    "## Multi-Threading Programm\n",
    "### **Multi-threading**\n",
    "- It is a technique to execute multiple function concurrently(time sharing)."
   ]
  },
  {
   "cell_type": "code",
   "execution_count": 6,
   "id": "49d08351-32d1-4f10-8506-fe31ecace9bc",
   "metadata": {},
   "outputs": [
    {
     "name": "stdin",
     "output_type": "stream",
     "text": [
      "enter num: 58\n"
     ]
    },
    {
     "name": "stdout",
     "output_type": "stream",
     "text": [
      "even\n"
     ]
    }
   ],
   "source": [
    "# 1st code\n",
    "from threading import Thread\n",
    "def evenodd():\n",
    "    num=int(input(\"enter num:\"))\n",
    "    if (num%2==0):\n",
    "        print(\"even\")\n",
    "        \n",
    "    else:\n",
    "        print(\"odd\")\n",
    "        \n",
    "# 2nd code\n",
    "def change():\n",
    "    import os\n",
    "    os.rename(\"E:\\\\New folder (2)\\\\15. Multi-Threading Programming\\\\New folder\",\"E:\\\\New folder (2)\\\\15. Multi-Threading Programming\\\\rishu\")\n",
    "    \n",
    "t1=Thread(target=evenodd,name=\"thread-1\")\n",
    "t2=Thread(target=change,name=\"thread-2\")\n",
    "t1.start()\n",
    "t2.start()"
   ]
  },
  {
   "cell_type": "code",
   "execution_count": null,
   "id": "09f85bee-0f76-4ae1-8203-ea6e410ccdc1",
   "metadata": {},
   "outputs": [],
   "source": []
  }
 ],
 "metadata": {
  "kernelspec": {
   "display_name": "Python 3 (ipykernel)",
   "language": "python",
   "name": "python3"
  },
  "language_info": {
   "codemirror_mode": {
    "name": "ipython",
    "version": 3
   },
   "file_extension": ".py",
   "mimetype": "text/x-python",
   "name": "python",
   "nbconvert_exporter": "python",
   "pygments_lexer": "ipython3",
   "version": "3.10.9"
  }
 },
 "nbformat": 4,
 "nbformat_minor": 5
}
