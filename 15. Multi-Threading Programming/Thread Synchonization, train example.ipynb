{
 "cells": [
  {
   "cell_type": "markdown",
   "id": "92602f5f-66ec-416b-90c7-5664fc566106",
   "metadata": {},
   "source": [
    "### **Thread Synchonization** ---talmel nhi hona---multiple thread me talmel na hona\n",
    "- bydefault execution of multiple threads sharing the task(function) is not synchronized "
   ]
  },
  {
   "cell_type": "markdown",
   "id": "a6cf94c7-a1c4-4823-916d-e6a7e29c4434",
   "metadata": {},
   "source": [
    "#### **ye program synchonized nhi hota**"
   ]
  },
  {
   "cell_type": "code",
   "execution_count": 10,
   "id": "e16515d0-031a-40e7-acc5-f91b89204698",
   "metadata": {},
   "outputs": [],
   "source": [
    "from threading import current_thread,Thread"
   ]
  },
  {
   "cell_type": "code",
   "execution_count": 19,
   "id": "2d80a241-2c03-40c0-be84-e01e220deae1",
   "metadata": {},
   "outputs": [
    {
     "name": "stdout",
     "output_type": "stream",
     "text": [
      "Rajdhani is arriving on platform\n",
      "Rajdhani is on platform\n",
      "Shatabdi is arriving on platform\n",
      "Shatabdi is on platform\n",
      "Shatabdi is leaving platform\n",
      "Shatabdi has lelf platform\n",
      "Rajdhani is leaving platform\n",
      "Rajdhani has lelf platform\n"
     ]
    }
   ],
   "source": [
    "def platform():\n",
    "    n=current_thread().name\n",
    "    print(n,\"is arriving on platform\")\n",
    "    print(n,\"is on platform\")\n",
    "    time.sleep(2)\n",
    "    print(n,\"is leaving platform\")\n",
    "    print(n,\"has lelf platform\")\n",
    "    \n",
    "t1=Thread(target=platform,name=\"Rajdhani\")\n",
    "t2=Thread(target=platform,name=\"Shatabdi\")\n",
    "\n",
    "t1.start()\n",
    "t2.start()"
   ]
  },
  {
   "cell_type": "markdown",
   "id": "627bc426-5cb8-4129-84bf-8c058d0806a3",
   "metadata": {},
   "source": [
    "#### **synchonized hota hai.**\n",
    "- to make above execution synchonize, we need to use locking\n",
    "- locking system krke\n",
    "- **Lock()--obj.acquired and  obj.release()** krke"
   ]
  },
  {
   "cell_type": "code",
   "execution_count": 18,
   "id": "fa7674a4-498f-4792-8748-d0b164a9416a",
   "metadata": {},
   "outputs": [
    {
     "name": "stdout",
     "output_type": "stream",
     "text": [
      "Rajdhani is arriving on platform\n",
      "Rajdhani is on platform\n",
      "Rajdhani is leaving platform\n",
      "Rajdhani has lelf platform\n",
      "Shatabdi is arriving on platform\n",
      "Shatabdi is on platform\n",
      "Shatabdi is leaving platform\n",
      "Shatabdi has lelf platform\n"
     ]
    }
   ],
   "source": [
    "from threading import Lock,Thread\n",
    "obj=Lock()\n",
    "def platform():\n",
    "    obj.acquire()\n",
    "    n=current_thread().name\n",
    "    print(n,\"is arriving on platform\")\n",
    "    print(n,\"is on platform\")\n",
    "    time.sleep(2)\n",
    "    print(n,\"is leaving platform\")\n",
    "    print(n,\"has lelf platform\")\n",
    "    obj.release()\n",
    "    \n",
    "t1=Thread(target=platform,name=\"Rajdhani\")\n",
    "t2=Thread(target=platform,name=\"Shatabdi\")\n",
    "\n",
    "t1.start()\n",
    "t2.start()"
   ]
  },
  {
   "cell_type": "markdown",
   "id": "b4ba2545-1858-4b0c-9f96-2b8343bb73db",
   "metadata": {},
   "source": [
    "#### **Note:** --->Deadlock is a condition where a thread is wating to acquire a lock in blocked state but other thread has not called release() after acquire()."
   ]
  },
  {
   "cell_type": "code",
   "execution_count": 21,
   "id": "2cbbe14c-98b3-4783-97cf-7d64d6605d03",
   "metadata": {},
   "outputs": [
    {
     "name": "stdout",
     "output_type": "stream",
     "text": [
      "this is thread logic\n"
     ]
    }
   ],
   "source": [
    "#single thread ke liye banaya gya hai.\n",
    "from threading import Thread\n",
    "class mythread(Thread):\n",
    "    def run(self):\n",
    "        print(\"this is thread logic\")\n",
    "        \n",
    "t1=mythread()\n",
    "t1.start()"
   ]
  },
  {
   "cell_type": "code",
   "execution_count": null,
   "id": "2e279334-1ef6-499b-9b7f-01b48ddcb3e5",
   "metadata": {},
   "outputs": [],
   "source": []
  }
 ],
 "metadata": {
  "kernelspec": {
   "display_name": "Python 3 (ipykernel)",
   "language": "python",
   "name": "python3"
  },
  "language_info": {
   "codemirror_mode": {
    "name": "ipython",
    "version": 3
   },
   "file_extension": ".py",
   "mimetype": "text/x-python",
   "name": "python",
   "nbconvert_exporter": "python",
   "pygments_lexer": "ipython3",
   "version": "3.10.9"
  }
 },
 "nbformat": 4,
 "nbformat_minor": 5
}
