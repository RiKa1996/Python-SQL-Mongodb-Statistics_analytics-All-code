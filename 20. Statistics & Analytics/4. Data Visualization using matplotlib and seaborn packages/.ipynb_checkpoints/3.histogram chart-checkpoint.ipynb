{
 "cells": [
  {
   "cell_type": "markdown",
   "id": "a839769b-9b2c-4d67-8a2e-4662bee38371",
   "metadata": {},
   "source": [
    "### **Histogram chart**\n"
   ]
  }
 ],
 "metadata": {
  "kernelspec": {
   "display_name": "Python 3 (ipykernel)",
   "language": "python",
   "name": "python3"
  },
  "language_info": {
   "codemirror_mode": {
    "name": "ipython",
    "version": 3
   },
   "file_extension": ".py",
   "mimetype": "text/x-python",
   "name": "python",
   "nbconvert_exporter": "python",
   "pygments_lexer": "ipython3",
   "version": "3.10.9"
  }
 },
 "nbformat": 4,
 "nbformat_minor": 5
}
