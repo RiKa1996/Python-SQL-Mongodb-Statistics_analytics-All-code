{
 "cells": [
  {
   "cell_type": "raw",
   "id": "84597473-27fa-491e-94fa-e2481d0228c8",
   "metadata": {},
   "source": [
    " #Container/data structure/Collection----->list"
   ]
  },
  {
   "cell_type": "markdown",
   "id": "c054a51c-76c3-4e2d-8fc9-462a2fa3751d",
   "metadata": {},
   "source": [
    "### **Array**\n",
    "- Array python ke ander data structure/container /collection hai.\n",
    "- jisme koi bhi type ki value ho but wo sari values ek hi jaisi type ki honi chaiye.\n",
    "- it is 3rd party container that stores similar values\n",
    "- there is 3rd party package named **numpy** and numpy provides implementation of array.\n",
    "- **numpy**---2005\n",
    "    - numpy package also provides functions/methods related to descriptive(summary,relationship,visualization) statistics, matrx and other linear alzebra.\n",
    "    - numpy package was first introduced in **2005** by **Travis Oliphant.**\n",
    "    "
   ]
  },
  {
   "cell_type": "raw",
   "id": "223313cb-1beb-4b96-b748-72d5d6ebaba5",
   "metadata": {},
   "source": [
    "#pip install numpy -----------y anaconda package ke sath hi aata hai"
   ]
  },
  {
   "cell_type": "code",
   "execution_count": 1,
   "id": "a4a6fd57-816d-4228-b4f1-e306362831b1",
   "metadata": {},
   "outputs": [],
   "source": [
    "import numpy as np"
   ]
  },
  {
   "cell_type": "code",
   "execution_count": 3,
   "id": "57f53e54-992d-4222-b717-2f5a78986cc9",
   "metadata": {},
   "outputs": [
    {
     "data": {
      "text/plain": [
       "'1.23.5'"
      ]
     },
     "execution_count": 3,
     "metadata": {},
     "output_type": "execute_result"
    }
   ],
   "source": [
    "np.__version__"
   ]
  },
  {
   "cell_type": "markdown",
   "id": "6a7a8f28-c181-4bb6-b67a-19f5f0b31a8b",
   "metadata": {},
   "source": [
    "#### numpy me **array** ko create krna:------>array banane ke kai tarike hote hai------->we are going to study minimum 10 way."
   ]
  },
  {
   "cell_type": "markdown",
   "id": "5133e84e-7dab-4135-bc67-af351069b762",
   "metadata": {},
   "source": [
    "#### 1st tarika numpy me array banane ke liye;\n",
    "    - in coding, array is represented by an object of ndarray class"
   ]
  },
  {
   "cell_type": "code",
   "execution_count": 16,
   "id": "e4fab315-f842-4243-979a-697530fd9184",
   "metadata": {},
   "outputs": [
    {
     "name": "stdout",
     "output_type": "stream",
     "text": [
      "<class 'numpy.ndarray'>\n"
     ]
    }
   ],
   "source": [
    "#integer type\n",
    "a=np.array([1,2,3,4])\n",
    "print(type(a))           #class 'numpy.ndarray"
   ]
  },
  {
   "cell_type": "code",
   "execution_count": 17,
   "id": "0accc25b-bfe3-41d5-a10f-57f8687cb381",
   "metadata": {},
   "outputs": [
    {
     "name": "stdout",
     "output_type": "stream",
     "text": [
      "[1 2 3 4]\n"
     ]
    }
   ],
   "source": [
    "print(a)"
   ]
  },
  {
   "cell_type": "code",
   "execution_count": 10,
   "id": "8a8bd1e1-3177-4348-9e9d-ebf74edda8f0",
   "metadata": {},
   "outputs": [
    {
     "name": "stdout",
     "output_type": "stream",
     "text": [
      "[1, 2, 3, 'a']\n"
     ]
    }
   ],
   "source": [
    "#this is list\n",
    "print([1,2,3,'a'])"
   ]
  },
  {
   "cell_type": "code",
   "execution_count": 20,
   "id": "992e6ff1-6974-47da-98c1-825cb57504c3",
   "metadata": {},
   "outputs": [
    {
     "name": "stdout",
     "output_type": "stream",
     "text": [
      "[1.  2.  3.  4.  5.5]\n"
     ]
    }
   ],
   "source": [
    "#integer type me ydi hum float ki ek bhi value likh de do wo sbko float me convert kr dega\n",
    "a=np.array([1,2,3,4,5.5,])\n",
    "print(a)          #class 'numpy.ndarray"
   ]
  },
  {
   "cell_type": "code",
   "execution_count": 21,
   "id": "36449295-338c-43bb-8ae1-16a14e8b886f",
   "metadata": {},
   "outputs": [
    {
     "name": "stdout",
     "output_type": "stream",
     "text": [
      "['1' '2' '3' '4' '5.5' 'hi']\n"
     ]
    }
   ],
   "source": [
    "#integer type me ydi hum float aur koi string value likh de to wo sari value ko string bana dega\n",
    "a=np.array([1,2,3,4,5.5,'hi'])\n",
    "print(a)          #class 'numpy.ndarray"
   ]
  },
  {
   "cell_type": "markdown",
   "id": "06866d5a-a9cf-4865-a6fe-211f8466c12d",
   "metadata": {},
   "source": [
    "- **dtype= data tpye-----jo ki hume array me batana padta hai taki jis tpye ki value hum chahte hai array se , wo hume la ke de dega.**\n",
    "- formula= **-(2) ki power n-1** to **(2) ki power n-1 minus 1** ------->ye formula sirf integer ke sath chalta hai.\n",
    "    - np.int8-----------        np.float8\n",
    "    - np.int16----------       np.float16\n",
    "    - np.int32----------       np.float32\n",
    "    - np.int64----------       np.float64\n",
    "    - np.uint8-----------unsinged me negetive value allowed nhi hoti-----0 se 255------------------->jaise [-1,-2]  127+128=255, -2 hone pe 154\n",
    "    - np.uint16\n",
    "    - np.uint32\n",
    "    - np.uint64"
   ]
  },
  {
   "cell_type": "code",
   "execution_count": 43,
   "id": "8906ed54-54aa-4d4c-ab2b-02fe1b4e5322",
   "metadata": {},
   "outputs": [
    {
     "name": "stdout",
     "output_type": "stream",
     "text": [
      "[1 2 3 4 5]\n"
     ]
    }
   ],
   "source": [
    "#integer type me ydi hum koi float value likh de aur tb per bhi hum pure array ko integer hi banana chahte-------to hume array me datatype batana padta hai.\n",
    "a=np.array([1,2,3,4,5.5],dtype='int8')\n",
    "print(a)          #class 'numpy.ndarray"
   ]
  },
  {
   "cell_type": "markdown",
   "id": "3555f0d2-7a89-4d94-b5f5-cdc1245bcf09",
   "metadata": {},
   "source": [
    "- **circuller round**"
   ]
  },
  {
   "cell_type": "code",
   "execution_count": 45,
   "id": "44774cc2-7f97-43cd-8d72-5d329ae27897",
   "metadata": {},
   "outputs": [
    {
     "name": "stdout",
     "output_type": "stream",
     "text": [
      "[   1    2    3    4    5   -1   -2 -126 -125]\n"
     ]
    }
   ],
   "source": [
    "#integer type me ydi hum koi float value likh de aur tb per bhi hum pure array ko integer hi banana chahte-------to hume array me datatype batana padta hai.\n",
    "a=np.array([1,2,3,4,5.5,-1,-2,130,131],dtype='int8')     #circuller round kr diya\n",
    "print(a)          #class 'numpy.ndarray"
   ]
  },
  {
   "cell_type": "code",
   "execution_count": 47,
   "id": "56f37740-185d-4e9e-9f80-4e9d5c6a3fec",
   "metadata": {},
   "outputs": [
    {
     "name": "stdout",
     "output_type": "stream",
     "text": [
      "[  1   2   3   4   5 255 254 126 131]\n"
     ]
    }
   ],
   "source": [
    "#integer type me ydi hum koi float value likh de aur tb per bhi hum pure array ko integer hi banana chahte-------to hume array me datatype batana padta hai.\n",
    "a=np.array([1,2,3,4,5.5,-1,-2,-130,131],dtype='uint8')     #circuller round kr diya\n",
    "print(a)          #class 'numpy.ndarray"
   ]
  },
  {
   "cell_type": "code",
   "execution_count": 63,
   "id": "c3e1f0bd-7387-4a3c-a529-96bc96a91624",
   "metadata": {},
   "outputs": [
    {
     "name": "stdout",
     "output_type": "stream",
     "text": [
      "[1.  2.  3.  6.  5.  4.  5.5]\n"
     ]
    }
   ],
   "source": [
    "a=np.array([1,2,3,6,5,4,5.5],dtype=\"float16\")\n",
    "print(a)"
   ]
  },
  {
   "cell_type": "code",
   "execution_count": 57,
   "id": "ac129a51-7103-4f57-be1b-ddad05e9292b",
   "metadata": {},
   "outputs": [
    {
     "ename": "ValueError",
     "evalue": "could not convert string to float: 'hi'",
     "output_type": "error",
     "traceback": [
      "\u001b[1;31m---------------------------------------------------------------------------\u001b[0m",
      "\u001b[1;31mValueError\u001b[0m                                Traceback (most recent call last)",
      "Cell \u001b[1;32mIn[57], line 1\u001b[0m\n\u001b[1;32m----> 1\u001b[0m a\u001b[38;5;241m=\u001b[39m\u001b[43mnp\u001b[49m\u001b[38;5;241;43m.\u001b[39;49m\u001b[43marray\u001b[49m\u001b[43m(\u001b[49m\u001b[43m[\u001b[49m\u001b[38;5;241;43m1\u001b[39;49m\u001b[43m,\u001b[49m\u001b[38;5;241;43m2\u001b[39;49m\u001b[43m,\u001b[49m\u001b[38;5;241;43m3\u001b[39;49m\u001b[43m,\u001b[49m\u001b[38;5;241;43m6\u001b[39;49m\u001b[43m,\u001b[49m\u001b[38;5;241;43m5\u001b[39;49m\u001b[43m,\u001b[49m\u001b[38;5;241;43m4\u001b[39;49m\u001b[43m,\u001b[49m\u001b[38;5;241;43m5.5\u001b[39;49m\u001b[43m,\u001b[49m\u001b[38;5;124;43m'\u001b[39;49m\u001b[38;5;124;43mhi\u001b[39;49m\u001b[38;5;124;43m'\u001b[39;49m\u001b[43m]\u001b[49m\u001b[43m,\u001b[49m\u001b[43mdtype\u001b[49m\u001b[38;5;241;43m=\u001b[39;49m\u001b[38;5;124;43m\"\u001b[39;49m\u001b[38;5;124;43mfloat16\u001b[39;49m\u001b[38;5;124;43m\"\u001b[39;49m\u001b[43m)\u001b[49m      \u001b[38;5;66;03m#ValueError could not convert string to float: 'hi'\u001b[39;00m\n\u001b[0;32m      2\u001b[0m \u001b[38;5;28mprint\u001b[39m(a)\n",
      "\u001b[1;31mValueError\u001b[0m: could not convert string to float: 'hi'"
     ]
    }
   ],
   "source": [
    "a=np.array([1,2,3,6,5,4,5.5,'hi'],dtype=\"float16\")      #ValueError could not convert string to float: 'hi'\n",
    "print(a)"
   ]
  },
  {
   "cell_type": "markdown",
   "id": "a6e6d6e1-6645-4b49-acb9-8a5afd7bc402",
   "metadata": {},
   "source": [
    "#### 2. array banane ka 2nd tarika"
   ]
  },
  {
   "cell_type": "code",
   "execution_count": 68,
   "id": "380913a8-ed92-4df3-ab14-6b6ec2ce9189",
   "metadata": {},
   "outputs": [
    {
     "name": "stdout",
     "output_type": "stream",
     "text": [
      "[ 1  3  5  7  9 11 13 15 17 19]\n"
     ]
    }
   ],
   "source": [
    "a=np.arange(1,20,2)       #start,end,step\n",
    "print(a)"
   ]
  },
  {
   "cell_type": "code",
   "execution_count": 69,
   "id": "f23600ff-49ca-4160-9049-07a65c757844",
   "metadata": {},
   "outputs": [
    {
     "name": "stdout",
     "output_type": "stream",
     "text": [
      "[ 0  1  2  3  4  5  6  7  8  9 10 11 12 13 14 15 16 17 18 19]\n"
     ]
    }
   ],
   "source": [
    "a=np.arange(20)       #start,end,step-----------default start is 0 ------default step is 1\n",
    "print(a)"
   ]
  },
  {
   "cell_type": "code",
   "execution_count": 73,
   "id": "928f546a-4e0c-46a1-86ac-716fa10fc2b2",
   "metadata": {},
   "outputs": [
    {
     "name": "stdout",
     "output_type": "stream",
     "text": [
      "[ 1.   1.5  2.   2.5  3.   3.5  4.   4.5  5.   5.5  6.   6.5  7.   7.5\n",
      "  8.   8.5  9.   9.5 10.  10.5 11.  11.5 12.  12.5 13.  13.5 14.  14.5\n",
      " 15.  15.5 16.  16.5 17.  17.5 18.  18.5 19.  19.5]\n"
     ]
    }
   ],
   "source": [
    "a=np.arange(1,20,0.5)       #start,end,step-----------default start is 0 ------default step is 1\n",
    "print(a)"
   ]
  },
  {
   "cell_type": "code",
   "execution_count": 75,
   "id": "27b2e3f2-7179-4b04-ab94-efc8b7be0c8d",
   "metadata": {},
   "outputs": [
    {
     "name": "stdout",
     "output_type": "stream",
     "text": [
      "[ 1.   1.5  2.   2.5  3.   3.5  4.   4.5  5.   5.5  6.   6.5  7.   7.5\n",
      "  8.   8.5  9.   9.5 10.  10.5 11.  11.5 12.  12.5 13.  13.5 14.  14.5\n",
      " 15.  15.5 16.  16.5 17.  17.5 18.  18.5 19.  19.5]\n"
     ]
    }
   ],
   "source": [
    "a=np.arange(1,20,.5)       #start,end,step-----------default start is 0 ------default step is 1\n",
    "print(a)"
   ]
  },
  {
   "cell_type": "code",
   "execution_count": 76,
   "id": "5215d846-43fa-4167-a1ea-52834b26b5b7",
   "metadata": {},
   "outputs": [
    {
     "name": "stdout",
     "output_type": "stream",
     "text": [
      "[]\n"
     ]
    }
   ],
   "source": [
    "a=np.arange(20,0.5)       #start,end,step-----------default start is 0 ------default step is 1\n",
    "print(a)"
   ]
  },
  {
   "cell_type": "markdown",
   "id": "2920243c-5500-42a6-add8-5c9308bb03d9",
   "metadata": {},
   "source": [
    "- **Difference between list and arange** for getsizeof\n",
    "    - memory consumption is high in list\n",
    "    - memory consumption is low in array"
   ]
  },
  {
   "cell_type": "code",
   "execution_count": 88,
   "id": "d949c96c-69d8-43db-8b67-94307442d41f",
   "metadata": {},
   "outputs": [],
   "source": [
    "x=(list(range(5000)))     #ye puri value dikhata hai\n",
    "#print(x)"
   ]
  },
  {
   "cell_type": "code",
   "execution_count": 91,
   "id": "27fb1220-621c-4e63-9bcf-973750eca87c",
   "metadata": {},
   "outputs": [
    {
     "name": "stdout",
     "output_type": "stream",
     "text": [
      "[   0    1    2 ... 4997 4998 4999]\n"
     ]
    }
   ],
   "source": [
    "y=np.arange(5000)     #ye puri value nhi dikhata hai, values ko short me dikhata hai.\n",
    "print(y)"
   ]
  },
  {
   "cell_type": "code",
   "execution_count": 89,
   "id": "07dfb863-8749-4fe8-8fae-63b5bb7ee4fe",
   "metadata": {},
   "outputs": [],
   "source": [
    "#memory consumption check krne ke liye\n",
    "import sys"
   ]
  },
  {
   "cell_type": "code",
   "execution_count": 92,
   "id": "240e0a86-8322-473a-be43-5333871ebc40",
   "metadata": {},
   "outputs": [
    {
     "name": "stdout",
     "output_type": "stream",
     "text": [
      "40056\n",
      "20112\n"
     ]
    }
   ],
   "source": [
    "print(sys.getsizeof(x))\n",
    "print(sys.getsizeof(y))      #getsizeof ye bytes me aate hai."
   ]
  },
  {
   "cell_type": "markdown",
   "id": "06ee48a3-e6ca-4f3f-9eae-c0caa7e7d5f2",
   "metadata": {},
   "source": [
    "- **broadcasting between list and arange**   ---------broadcasting ka example **whatapps group**"
   ]
  },
  {
   "cell_type": "code",
   "execution_count": 93,
   "id": "d9a55586-75b1-40f3-ace6-9829c99811af",
   "metadata": {},
   "outputs": [
    {
     "name": "stdout",
     "output_type": "stream",
     "text": [
      "[1000, 2000, 3000, 4000, 5000]\n"
     ]
    }
   ],
   "source": [
    "x=[1000,2000,3000,4000,5000]\n",
    "print(x)"
   ]
  },
  {
   "cell_type": "code",
   "execution_count": 94,
   "id": "c0aba614-bd84-4860-8532-cb208ef71ada",
   "metadata": {},
   "outputs": [
    {
     "ename": "TypeError",
     "evalue": "can only concatenate list (not \"int\") to list",
     "output_type": "error",
     "traceback": [
      "\u001b[1;31m---------------------------------------------------------------------------\u001b[0m",
      "\u001b[1;31mTypeError\u001b[0m                                 Traceback (most recent call last)",
      "Cell \u001b[1;32mIn[94], line 1\u001b[0m\n\u001b[1;32m----> 1\u001b[0m x\u001b[38;5;241m=\u001b[39m\u001b[43mx\u001b[49m\u001b[38;5;241;43m+\u001b[39;49m\u001b[38;5;241;43m500\u001b[39;49m\n\u001b[0;32m      2\u001b[0m \u001b[38;5;28mprint\u001b[39m(x)\n",
      "\u001b[1;31mTypeError\u001b[0m: can only concatenate list (not \"int\") to list"
     ]
    }
   ],
   "source": [
    "x=x+500\n",
    "print(x)      #yha list me broadcasting nhi hota hai."
   ]
  },
  {
   "cell_type": "code",
   "execution_count": 95,
   "id": "fc76d452-f28f-48ef-b9a7-0c46d2ed5348",
   "metadata": {},
   "outputs": [
    {
     "name": "stdout",
     "output_type": "stream",
     "text": [
      "[1000, 2000, 3000, 4000, 5000]\n"
     ]
    }
   ],
   "source": [
    "y=[1000,2000,3000,4000,5000]\n",
    "print(y)"
   ]
  },
  {
   "cell_type": "code",
   "execution_count": 98,
   "id": "510369db-73d7-438e-9860-86debcdbf21b",
   "metadata": {},
   "outputs": [
    {
     "name": "stdout",
     "output_type": "stream",
     "text": [
      "[1000 2000 3000 4000 5000]\n"
     ]
    }
   ],
   "source": [
    "y=np.array([1000,2000,3000,4000,5000])\n",
    "print(y)"
   ]
  },
  {
   "cell_type": "code",
   "execution_count": 99,
   "id": "d503d9cb-a303-467c-8c69-31fb59a9ac24",
   "metadata": {},
   "outputs": [
    {
     "name": "stdout",
     "output_type": "stream",
     "text": [
      "[1500 2500 3500 4500 5500]\n"
     ]
    }
   ],
   "source": [
    "y=y+500\n",
    "print(y)     #yha pe broadcasting wala concept chal jatia hai."
   ]
  },
  {
   "cell_type": "markdown",
   "id": "24bf1dcf-3a42-465f-8ed3-531a7440a148",
   "metadata": {},
   "source": [
    "- **support int indexing in list** and **support int & boolean(indexing AND CONDITION wali baat ho rhi hai.) indexing in array**"
   ]
  },
  {
   "cell_type": "code",
   "execution_count": 101,
   "id": "5607337a-1954-4ceb-a1a8-362e775fd14b",
   "metadata": {},
   "outputs": [
    {
     "name": "stdout",
     "output_type": "stream",
     "text": [
      "[1000, 2000, 3000, 4000, 5000]\n"
     ]
    }
   ],
   "source": [
    "x=[1000,2000,3000,4000,5000]\n",
    "print(x)"
   ]
  },
  {
   "cell_type": "code",
   "execution_count": 102,
   "id": "4b3ad42a-07c2-4058-9671-e546c620cc94",
   "metadata": {},
   "outputs": [
    {
     "data": {
      "text/plain": [
       "5000"
      ]
     },
     "execution_count": 102,
     "metadata": {},
     "output_type": "execute_result"
    }
   ],
   "source": [
    "x[-1]"
   ]
  },
  {
   "cell_type": "code",
   "execution_count": 103,
   "id": "693cdc84-8276-41a4-a316-df4183b46e41",
   "metadata": {},
   "outputs": [
    {
     "name": "stdout",
     "output_type": "stream",
     "text": [
      "[1000 2000 3000 4000 5000]\n"
     ]
    }
   ],
   "source": [
    "y=np.array([1000,2000,3000,4000,5000])\n",
    "print(y)"
   ]
  },
  {
   "cell_type": "code",
   "execution_count": 105,
   "id": "4490e545-3826-4d02-aef8-54003031679e",
   "metadata": {},
   "outputs": [
    {
     "data": {
      "text/plain": [
       "5000"
      ]
     },
     "execution_count": 105,
     "metadata": {},
     "output_type": "execute_result"
    }
   ],
   "source": [
    "y[-1]"
   ]
  },
  {
   "cell_type": "code",
   "execution_count": 107,
   "id": "35b3a53e-a9c1-4bcc-9ddc-af3fb4ba0f8d",
   "metadata": {},
   "outputs": [
    {
     "name": "stdout",
     "output_type": "stream",
     "text": [
      "[5000]\n"
     ]
    }
   ],
   "source": [
    "print(y[y>=5000])"
   ]
  },
  {
   "cell_type": "code",
   "execution_count": 108,
   "id": "bbce28b3-fa4a-413f-b878-a30a9a347896",
   "metadata": {},
   "outputs": [
    {
     "ename": "TypeError",
     "evalue": "'>=' not supported between instances of 'list' and 'int'",
     "output_type": "error",
     "traceback": [
      "\u001b[1;31m---------------------------------------------------------------------------\u001b[0m",
      "\u001b[1;31mTypeError\u001b[0m                                 Traceback (most recent call last)",
      "Cell \u001b[1;32mIn[108], line 1\u001b[0m\n\u001b[1;32m----> 1\u001b[0m \u001b[38;5;28mprint\u001b[39m(x[\u001b[43mx\u001b[49m\u001b[38;5;241;43m>\u001b[39;49m\u001b[38;5;241;43m=\u001b[39;49m\u001b[38;5;241;43m5000\u001b[39;49m])\n",
      "\u001b[1;31mTypeError\u001b[0m: '>=' not supported between instances of 'list' and 'int'"
     ]
    }
   ],
   "source": [
    "print(x[x>=5000])"
   ]
  },
  {
   "cell_type": "markdown",
   "id": "e2a3b40b-c814-4279-990e-bbdec8e57ecc",
   "metadata": {},
   "source": [
    "#### 3. **array banane ka 3rd tarika**------with zeros function"
   ]
  },
  {
   "cell_type": "code",
   "execution_count": 2,
   "id": "89347f26-3f13-4a20-9d72-33535d170112",
   "metadata": {},
   "outputs": [
    {
     "name": "stdout",
     "output_type": "stream",
     "text": [
      "[0. 0. 0. 0. 0.]\n"
     ]
    }
   ],
   "source": [
    "a=np.zeros(5)\n",
    "print(a)          #by default float considerd kr leta hai."
   ]
  },
  {
   "cell_type": "code",
   "execution_count": 5,
   "id": "c49e27b2-ce26-4beb-a07d-b2c6dcce0064",
   "metadata": {},
   "outputs": [
    {
     "name": "stdout",
     "output_type": "stream",
     "text": [
      "[  5.   0.   0.   0. 500.]\n"
     ]
    }
   ],
   "source": [
    "a[0]=5\n",
    "a[-1]=500\n",
    "print(a)       #isme indexing ho jati jati hai.-------mutable"
   ]
  },
  {
   "cell_type": "markdown",
   "id": "5a68099e-8fdb-4e28-8da3-9401ebee30fe",
   "metadata": {},
   "source": [
    "#### 4. **array banane ka 4th tarika**------with ones function"
   ]
  },
  {
   "cell_type": "code",
   "execution_count": 7,
   "id": "b865f115-3a02-43a1-8044-8ac9ea8e4c8c",
   "metadata": {},
   "outputs": [
    {
     "name": "stdout",
     "output_type": "stream",
     "text": [
      "[1. 1. 1. 1. 1.]\n"
     ]
    }
   ],
   "source": [
    "o=np.ones(5)\n",
    "print(o)                  #ones function me hume 1 vlaue hi milti hai.-ye bhi mutable hai----modifiable hai."
   ]
  },
  {
   "cell_type": "code",
   "execution_count": 8,
   "id": "40f3ceae-abf3-4915-baab-b11e864dcd0b",
   "metadata": {},
   "outputs": [
    {
     "name": "stdout",
     "output_type": "stream",
     "text": [
      "[  6.   1.   1.   1. 200.]\n"
     ]
    }
   ],
   "source": [
    "o[0]=6\n",
    "o[-1]=200\n",
    "print(o)"
   ]
  },
  {
   "cell_type": "markdown",
   "id": "e17d3da9-3fc1-43bf-bcfc-4a0e8b7b125e",
   "metadata": {},
   "source": [
    "#### 5. **array banane ka 5th tarika**------with full function"
   ]
  },
  {
   "cell_type": "code",
   "execution_count": 17,
   "id": "94495895-3d22-4a6a-8ba8-e2d24a3b6d50",
   "metadata": {},
   "outputs": [
    {
     "name": "stdout",
     "output_type": "stream",
     "text": [
      "[50000.555 50000.555 50000.555 50000.555 50000.555]\n"
     ]
    }
   ],
   "source": [
    "f=np.full(5,50000.555)       #(size, intial_value)\n",
    "print(f)"
   ]
  },
  {
   "cell_type": "code",
   "execution_count": 15,
   "id": "f83ba353-f52c-4596-bc7e-cd22a55d8fce",
   "metadata": {},
   "outputs": [
    {
     "name": "stdout",
     "output_type": "stream",
     "text": [
      "[60000 50000 50000 50000 35000]\n"
     ]
    }
   ],
   "source": [
    "f[0]=60000\n",
    "f[-1]=35000\n",
    "print(f)           #full function bhi mutable and modifiable hota hai. "
   ]
  },
  {
   "cell_type": "code",
   "execution_count": 14,
   "id": "5256d822-9b72-4dfe-9552-45f7b4c21b8d",
   "metadata": {},
   "outputs": [
    {
     "name": "stdout",
     "output_type": "stream",
     "text": [
      "[[10 10]\n",
      " [10 10]]\n"
     ]
    }
   ],
   "source": [
    "d=np.full((2,2), [10])\n",
    "print(d)"
   ]
  },
  {
   "cell_type": "markdown",
   "id": "751cce92-32fe-4358-91fe-748df66102dc",
   "metadata": {},
   "source": [
    "#### 6. **array banane ka 6th tarika**------with linspace function\n",
    "- ye start aur end me jo bhi , ydi hum use size me convert krna chahte hai wo size wise bat kr de deta hai."
   ]
  },
  {
   "cell_type": "code",
   "execution_count": 19,
   "id": "d8b5839f-0f2d-4eeb-8c9c-c72a2e8ae2fe",
   "metadata": {},
   "outputs": [
    {
     "name": "stdout",
     "output_type": "stream",
     "text": [
      "[ 1.   2.8  4.6  6.4  8.2 10. ]\n"
     ]
    }
   ],
   "source": [
    "l=np.linspace(1,10,6)       #low(first),high(last-inclusive),size\n",
    "print(l)"
   ]
  },
  {
   "cell_type": "code",
   "execution_count": 20,
   "id": "80214a7e-de43-4db9-90ad-8c3b835c66be",
   "metadata": {},
   "outputs": [
    {
     "name": "stdout",
     "output_type": "stream",
     "text": [
      "[   1.    250.75  500.5   750.25 1000.  ]\n"
     ]
    }
   ],
   "source": [
    "l=np.linspace(1,1000,5)       #low(first),high(last-inclusive),size\n",
    "print(l)"
   ]
  },
  {
   "cell_type": "code",
   "execution_count": 21,
   "id": "5ffd3ff0-c5c9-41ac-93ce-581e0f5ff668",
   "metadata": {},
   "outputs": [
    {
     "name": "stdout",
     "output_type": "stream",
     "text": [
      "[ 1.          1.18367347  1.36734694  1.55102041  1.73469388  1.91836735\n",
      "  2.10204082  2.28571429  2.46938776  2.65306122  2.83673469  3.02040816\n",
      "  3.20408163  3.3877551   3.57142857  3.75510204  3.93877551  4.12244898\n",
      "  4.30612245  4.48979592  4.67346939  4.85714286  5.04081633  5.2244898\n",
      "  5.40816327  5.59183673  5.7755102   5.95918367  6.14285714  6.32653061\n",
      "  6.51020408  6.69387755  6.87755102  7.06122449  7.24489796  7.42857143\n",
      "  7.6122449   7.79591837  7.97959184  8.16326531  8.34693878  8.53061224\n",
      "  8.71428571  8.89795918  9.08163265  9.26530612  9.44897959  9.63265306\n",
      "  9.81632653 10.        ]\n"
     ]
    }
   ],
   "source": [
    "l=np.linspace(1,10)       #low(first),high(last-inclusive),size -------default size ki value 50 hoti hai.\n",
    "print(l)"
   ]
  },
  {
   "cell_type": "code",
   "execution_count": 22,
   "id": "cdd5f718-e14d-49a5-b6e2-8e7bd9d3a31c",
   "metadata": {},
   "outputs": [],
   "source": [
    "import random"
   ]
  },
  {
   "cell_type": "markdown",
   "id": "69b57c06-c9bd-4f3d-9b1d-c8cc1ce77d45",
   "metadata": {},
   "source": [
    "#### 7. **array banane ka 7th tarika**------with sub module random.randint "
   ]
  },
  {
   "cell_type": "code",
   "execution_count": 32,
   "id": "1816accf-07c9-48d7-85f3-45e74e93bef0",
   "metadata": {},
   "outputs": [
    {
     "name": "stdout",
     "output_type": "stream",
     "text": [
      "[ 9  4 11 11  9  2  9]\n",
      "<class 'numpy.ndarray'>\n"
     ]
    }
   ],
   "source": [
    "a=np.random.randint(1,15,7)        #low,high,size(jitni value hume chaiye)\n",
    "print(a)\n",
    "print(type(a))"
   ]
  },
  {
   "cell_type": "code",
   "execution_count": 33,
   "id": "f67bd7b9-460c-420f-808b-bab0bf3a133f",
   "metadata": {},
   "outputs": [
    {
     "name": "stdout",
     "output_type": "stream",
     "text": [
      "[32.4630982  28.3215948  20.60924755 11.83855878 38.73495725 22.9248895\n",
      " 38.53872232  8.09605558 28.54610568 42.45236198 52.59538291 54.50284605\n",
      " 23.49445491 22.19662833 23.54472831 15.88219613 15.43947516 15.92815653\n",
      " 47.59940104 16.23271906]\n"
     ]
    }
   ],
   "source": [
    "a=np.random.uniform(3,55,20)      #bydefault floating value hi generate krta hai.\n",
    "print(a)"
   ]
  },
  {
   "cell_type": "code",
   "execution_count": null,
   "id": "7f0d22ea-64f7-4e0a-84c8-bf2f9df526bd",
   "metadata": {},
   "outputs": [],
   "source": []
  }
 ],
 "metadata": {
  "kernelspec": {
   "display_name": "Python 3 (ipykernel)",
   "language": "python",
   "name": "python3"
  },
  "language_info": {
   "codemirror_mode": {
    "name": "ipython",
    "version": 3
   },
   "file_extension": ".py",
   "mimetype": "text/x-python",
   "name": "python",
   "nbconvert_exporter": "python",
   "pygments_lexer": "ipython3",
   "version": "3.10.9"
  }
 },
 "nbformat": 4,
 "nbformat_minor": 5
}
