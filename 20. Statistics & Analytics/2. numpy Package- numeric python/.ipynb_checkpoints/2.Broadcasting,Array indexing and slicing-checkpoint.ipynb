{
 "cells": [
  {
   "cell_type": "markdown",
   "id": "09f46329-40ee-42ed-9dbd-0bbbe25fb202",
   "metadata": {},
   "source": [
    "### **BROADCASTING**"
   ]
  },
  {
   "cell_type": "code",
   "execution_count": 4,
   "id": "01900706-3118-4026-8c25-47addfed2ba7",
   "metadata": {},
   "outputs": [],
   "source": [
    "import numpy as np\n",
    "import random"
   ]
  },
  {
   "cell_type": "code",
   "execution_count": 5,
   "id": "54ba942c-20da-49ca-8cea-9e154ccc65c8",
   "metadata": {},
   "outputs": [
    {
     "name": "stdout",
     "output_type": "stream",
     "text": [
      "[ 3 18 18 18  5  9 18 16 13 13  9 14 17 18 11]\n"
     ]
    }
   ],
   "source": [
    "a=np.random.randint(1,20,15)\n",
    "print(a)"
   ]
  },
  {
   "cell_type": "markdown",
   "id": "98e63a80-0a0e-48ed-9dab-252482ce4467",
   "metadata": {},
   "source": [
    "- **square function**"
   ]
  },
  {
   "cell_type": "code",
   "execution_count": 7,
   "id": "1d06333a-0118-4228-b266-cb793377057e",
   "metadata": {},
   "outputs": [
    {
     "name": "stdout",
     "output_type": "stream",
     "text": [
      "[  9 324 324 324  25  81 324 256 169 169  81 196 289 324 121]\n"
     ]
    }
   ],
   "source": [
    "b=np.square(a)   #return sqr of each element as new array\n",
    "print(b)"
   ]
  },
  {
   "cell_type": "markdown",
   "id": "1d5e1dda-3877-41ec-ac4b-4ca1e2113498",
   "metadata": {},
   "source": [
    "- **sqrt function**"
   ]
  },
  {
   "cell_type": "code",
   "execution_count": 10,
   "id": "7b9116cb-f963-4534-94f3-55ddb29da1ee",
   "metadata": {},
   "outputs": [
    {
     "name": "stdout",
     "output_type": "stream",
     "text": [
      "[ 3. 18. 18. 18.  5.  9. 18. 16. 13. 13.  9. 14. 17. 18. 11.]\n"
     ]
    }
   ],
   "source": [
    "c=np.sqrt(b)          #by default float krta hai.\n",
    "print(c)"
   ]
  },
  {
   "cell_type": "markdown",
   "id": "47c8fe0a-beb5-4eab-bd12-f805f981b8f0",
   "metadata": {},
   "source": [
    "- **log function**"
   ]
  },
  {
   "cell_type": "code",
   "execution_count": 11,
   "id": "ad56b990-8485-4784-a780-ea30d588f004",
   "metadata": {},
   "outputs": [
    {
     "name": "stdout",
     "output_type": "stream",
     "text": [
      "[1.09861229 2.89037176 2.89037176 2.89037176 1.60943791 2.19722458\n",
      " 2.89037176 2.77258872 2.56494936 2.56494936 2.19722458 2.63905733\n",
      " 2.83321334 2.89037176 2.39789527]\n"
     ]
    }
   ],
   "source": [
    "d=np.log(c)     #return natural log(base e) of each element as new array\n",
    "print(d)"
   ]
  },
  {
   "cell_type": "markdown",
   "id": "10b96f9e-7184-42a6-90c1-8fb15a1b2e32",
   "metadata": {},
   "source": [
    "- **sum function**"
   ]
  },
  {
   "cell_type": "code",
   "execution_count": 12,
   "id": "54bd8f9f-69a3-4069-9415-e6ed3b042731",
   "metadata": {},
   "outputs": [
    {
     "name": "stdout",
     "output_type": "stream",
     "text": [
      "37.32701152888817\n"
     ]
    }
   ],
   "source": [
    "e=np.sum(d)\n",
    "print(e)"
   ]
  },
  {
   "cell_type": "markdown",
   "id": "eb4fae8f-3554-490b-bb2a-14c686138430",
   "metadata": {},
   "source": [
    "- **kisi do array ko plus krna ho to**"
   ]
  },
  {
   "cell_type": "code",
   "execution_count": 18,
   "id": "a5c25fb2-c781-4260-bec4-a37ac730f30b",
   "metadata": {},
   "outputs": [
    {
     "name": "stdout",
     "output_type": "stream",
     "text": [
      "[8 3 8 3 2 6 4 2 3 7]\n",
      "[7 7 6 2 8 6 2 6 4 5]\n"
     ]
    }
   ],
   "source": [
    "a=np.random.randint(1,10,10)\n",
    "print(a)\n",
    "\n",
    "b=np.random.randint(1,10,10)\n",
    "print(b)"
   ]
  },
  {
   "cell_type": "code",
   "execution_count": 19,
   "id": "72034852-8f15-4b1b-8f74-6efd95053e1b",
   "metadata": {},
   "outputs": [
    {
     "name": "stdout",
     "output_type": "stream",
     "text": [
      "[15 10 14  5 10 12  6  8  7 12]\n"
     ]
    }
   ],
   "source": [
    "c=a+b      #add two array element wise and returns result as new array\n",
    "print(c)"
   ]
  },
  {
   "cell_type": "code",
   "execution_count": 20,
   "id": "1f6c21f0-7f08-4ad9-9cff-bfeac8bdd2ec",
   "metadata": {},
   "outputs": [
    {
     "name": "stdout",
     "output_type": "stream",
     "text": [
      "[6 7 4 4 1 5 7 6 9 3 1 6]\n",
      "[7 8 7 4 3 9 7 7 6 5]\n"
     ]
    }
   ],
   "source": [
    "a=np.random.randint(1,10,12)\n",
    "print(a)\n",
    "\n",
    "b=np.random.randint(1,10,10)\n",
    "print(b)"
   ]
  },
  {
   "cell_type": "code",
   "execution_count": 21,
   "id": "6b3442be-52fd-4316-b024-77498dc419ad",
   "metadata": {},
   "outputs": [
    {
     "ename": "ValueError",
     "evalue": "operands could not be broadcast together with shapes (12,) (10,) ",
     "output_type": "error",
     "traceback": [
      "\u001b[1;31m---------------------------------------------------------------------------\u001b[0m",
      "\u001b[1;31mValueError\u001b[0m                                Traceback (most recent call last)",
      "Cell \u001b[1;32mIn[21], line 1\u001b[0m\n\u001b[1;32m----> 1\u001b[0m c\u001b[38;5;241m=\u001b[39m\u001b[43ma\u001b[49m\u001b[38;5;241;43m+\u001b[39;49m\u001b[43mb\u001b[49m      \u001b[38;5;66;03m#add two array element wise and returns result as new array\u001b[39;00m\n\u001b[0;32m      2\u001b[0m \u001b[38;5;28mprint\u001b[39m(c)\n",
      "\u001b[1;31mValueError\u001b[0m: operands could not be broadcast together with shapes (12,) (10,) "
     ]
    }
   ],
   "source": [
    "c=a+b      #add two array element wise and returns result as new array\n",
    "print(c)"
   ]
  },
  {
   "cell_type": "markdown",
   "id": "c1c6bf87-dafb-4d9e-8412-86bfd8780194",
   "metadata": {},
   "source": [
    "- **Kisi file se data ko lana broadcasting krna.**"
   ]
  },
  {
   "cell_type": "code",
   "execution_count": 30,
   "id": "d5cb0e29-f4b9-40ba-a12e-bc58fd4160d3",
   "metadata": {},
   "outputs": [
    {
     "name": "stdout",
     "output_type": "stream",
     "text": [
      "[ 12  21  35  25  45  98  65  25 233 222 111 444 555 555]\n"
     ]
    }
   ],
   "source": [
    "f=np.loadtxt(\"E:\\\\New folder (2)\\\\20. Statistics & Analytics\\\\2. numpy- numeric python\\\\TEXT.txt\",delimiter=',',dtype='int16')\n",
    "print(f)"
   ]
  },
  {
   "cell_type": "code",
   "execution_count": 35,
   "id": "d7b0831c-bbfe-4a92-81de-9280880c8703",
   "metadata": {},
   "outputs": [
    {
     "name": "stdout",
     "output_type": "stream",
     "text": [
      "[ 12.  21.  35.  25.  45.  98.  65.  25. 233. 222. 111. 444. 555. 555.]\n"
     ]
    }
   ],
   "source": [
    "g=np.loadtxt(\"E:\\\\New folder (2)\\\\20. Statistics & Analytics\\\\2. numpy- numeric python\\\\TEXT2.txt\")\n",
    "print(g)                                         #control character 'delimiter' cannot be a newline (`\\r` or `\\n`)"
   ]
  },
  {
   "cell_type": "markdown",
   "id": "5e4b1ac8-c9c5-4d89-ba99-66fc4d7686df",
   "metadata": {},
   "source": [
    "- **statistics wale - sum,max,min,mean,mode,median** -----numpy ke funciton list ke sath bhi comfortable hote hai"
   ]
  },
  {
   "cell_type": "code",
   "execution_count": 36,
   "id": "b103d85f-cbfe-4b85-90d7-e64032765d79",
   "metadata": {},
   "outputs": [
    {
     "name": "stdout",
     "output_type": "stream",
     "text": [
      "[80618 56971 16384 99726 81924 63543 60982 37983 33336 27795]\n"
     ]
    }
   ],
   "source": [
    "a=np.random.randint(10000,100000,10)\n",
    "print(a)"
   ]
  },
  {
   "cell_type": "code",
   "execution_count": 42,
   "id": "c61e2482-447b-43e2-ac34-63f769a3c66c",
   "metadata": {},
   "outputs": [
    {
     "name": "stdout",
     "output_type": "stream",
     "text": [
      "559262\n",
      "99726\n",
      "16384\n",
      "55926.2\n",
      "58976.5\n"
     ]
    }
   ],
   "source": [
    "print(np.sum(a))\n",
    "print(np.max(a))\n",
    "print(np.min(a))\n",
    "print(np.mean(a))\n",
    "#print(np.mode(a))            #module 'numpy' has no attribute 'mode'\n",
    "print(np.median(a))"
   ]
  },
  {
   "cell_type": "code",
   "execution_count": 43,
   "id": "aa063bed-1dcb-4d64-b560-7d9db039454f",
   "metadata": {},
   "outputs": [
    {
     "name": "stdout",
     "output_type": "stream",
     "text": [
      "16\n",
      "6\n",
      "5\n",
      "5.333333333333333\n",
      "5.0\n"
     ]
    }
   ],
   "source": [
    "x=[5,6,5]\n",
    "print(np.sum(x))\n",
    "print(np.max(x))\n",
    "print(np.min(x))\n",
    "print(np.mean(x))\n",
    "#print(np.mode(x))            #module 'numpy' has no attribute 'mode'\n",
    "print(np.median(x))"
   ]
  },
  {
   "cell_type": "markdown",
   "id": "ec60daca-9130-4935-b28d-4418b6dfc9d8",
   "metadata": {},
   "source": [
    "- **statistics wale - sum,max,min,mean,mode,median**-------**inke index ko batana**"
   ]
  },
  {
   "cell_type": "code",
   "execution_count": 47,
   "id": "da1a7cc2-71d0-4cd8-ac88-294bd1d38c63",
   "metadata": {},
   "outputs": [
    {
     "name": "stdout",
     "output_type": "stream",
     "text": [
      "3\n",
      "2\n"
     ]
    }
   ],
   "source": [
    "print(np.argmax(a))     #return index of max element\n",
    "print(np.argmin(a))     #return index of min element\n"
   ]
  },
  {
   "cell_type": "markdown",
   "id": "a67f0db5-df8d-4772-843c-d21d5f67b508",
   "metadata": {},
   "source": [
    "## **Array indexing and slicing**\n",
    "- **index number se value ko find kr skte hai.**\n",
    "- there are two types of array slicing\n",
    "    - 1. index based\n",
    "    - 2. boolean/condition based"
   ]
  },
  {
   "cell_type": "code",
   "execution_count": 49,
   "id": "d6313fdb-8892-4f7a-ad74-fa642af78e14",
   "metadata": {},
   "outputs": [
    {
     "name": "stdout",
     "output_type": "stream",
     "text": [
      "[55531 63920 51209 74658 55832 76338 96386 78422 30820 86534]\n",
      "51209\n",
      "76338\n"
     ]
    }
   ],
   "source": [
    "a=np.random.randint(10000,100000,10)\n",
    "print(a)\n",
    "print(a[2])             #index number se us value ka pata lagaya ja skta hai.\n",
    "print(a[5])"
   ]
  },
  {
   "cell_type": "code",
   "execution_count": 51,
   "id": "05b57307-a7cc-485a-bf9e-f9cc3758fda9",
   "metadata": {},
   "outputs": [
    {
     "name": "stdout",
     "output_type": "stream",
     "text": [
      "[55531 63920 51209 74658 55832 76338 96386 78422 30820 86534]\n"
     ]
    }
   ],
   "source": [
    "a[::1]\n",
    "print(a)"
   ]
  },
  {
   "cell_type": "code",
   "execution_count": 52,
   "id": "d09de986-7144-4620-9aff-785e5c5496aa",
   "metadata": {},
   "outputs": [
    {
     "data": {
      "text/plain": [
       "array([51209, 63920, 55531])"
      ]
     },
     "execution_count": 52,
     "metadata": {},
     "output_type": "execute_result"
    }
   ],
   "source": [
    "a[2::-1]"
   ]
  },
  {
   "cell_type": "code",
   "execution_count": 53,
   "id": "cf3e84b0-12f1-443f-843c-e20f7e2dd519",
   "metadata": {},
   "outputs": [
    {
     "data": {
      "text/plain": [
       "array([55531, 63920, 51209, 74658, 55832, 76338, 96386, 78422, 30820,\n",
       "       86534])"
      ]
     },
     "execution_count": 53,
     "metadata": {},
     "output_type": "execute_result"
    }
   ],
   "source": [
    "a[::]"
   ]
  },
  {
   "cell_type": "code",
   "execution_count": 56,
   "id": "7ef68b2f-5aeb-428d-8f5e-bfd8f62a6563",
   "metadata": {},
   "outputs": [
    {
     "name": "stdout",
     "output_type": "stream",
     "text": [
      "[63920 74658 76338 96386 78422 86534]\n",
      "(array([1, 3, 5, 6, 7, 9], dtype=int64),)\n"
     ]
    }
   ],
   "source": [
    "print(a[a>=60000])    #returns elements that satisfy given condition\n",
    "print(np.where(a>=60000))      #returns index of elements that satisfy given condition"
   ]
  },
  {
   "cell_type": "markdown",
   "id": "1d43c15d-6db2-463b-9e1d-8309c7a50f20",
   "metadata": {},
   "source": [
    "- **do condition ka use krne per**-----------with **and(&)** ----**or(|)** condition"
   ]
  },
  {
   "cell_type": "code",
   "execution_count": 60,
   "id": "fd880781-3096-4e69-8e88-984c97c96f6b",
   "metadata": {},
   "outputs": [
    {
     "name": "stdout",
     "output_type": "stream",
     "text": [
      "[55531 51209 55832 30820]\n"
     ]
    }
   ],
   "source": [
    "print(a[(a>=20000) & (a<=60000)])     #yha and condition ke liye byts wise & ka use kiya jata hai"
   ]
  },
  {
   "cell_type": "code",
   "execution_count": 62,
   "id": "ae314f48-58d4-45be-b68f-aee57d5024d0",
   "metadata": {},
   "outputs": [
    {
     "name": "stdout",
     "output_type": "stream",
     "text": [
      "[55531 63920 51209 74658 55832 76338 96386 78422 30820 86534]\n"
     ]
    }
   ],
   "source": [
    "print(a[(a>=20000) | (a<=60000)])     #yha or condition ke liye byts wise | ka use kiya jata hai"
   ]
  },
  {
   "cell_type": "code",
   "execution_count": 64,
   "id": "ae2b57f7-8db5-402b-b441-5eb9e56243b0",
   "metadata": {},
   "outputs": [
    {
     "name": "stdout",
     "output_type": "stream",
     "text": [
      "[55531 63920 51209 74658 55832 76338 96386 78422 30820 86534]\n"
     ]
    }
   ],
   "source": [
    "print(a[(a>=50000) | (a%2==0)])     #yha or condition ke liye byts wise | ka use kiya jata hai"
   ]
  },
  {
   "cell_type": "markdown",
   "id": "7a897c0e-1832-41b0-9ba1-0bfb9d6aa4e2",
   "metadata": {},
   "source": [
    "### **Scaller--->koi value integer, float, string, boolean**\n",
    "    - numpy array me sirf 2D matrix wala hi support hota hai.\n",
    "- aisa  2D array jiske ander array ho aur, har element same size ke ho -----------use **2 diamential** array khte hai.-------aur **matrix** khte hai.\n",
    "- aisa array jiske ander scaller ho **one diamential** array khte hai--------aur ise hum **vector** khte hai.\n",
    "- aisa 2D array jiske ander array ho aur, har element alag alag ho use **jagged** khte hai.\n",
    "\n",
    "- **SIR KI DI GAI HU DEFINATION**---(General definition of Array)\n",
    "- An Array is a sequence of (n-1) dim arrays\n",
    "- LIKE:\n",
    "    - 1d array is a seq of 0d arrays **scalar values(int/float/str/boolean)**\n",
    "    - 2d array is a seq of 1d arrays\n",
    "    - 3d array is a seq of 1d arrays\n",
    "    - 4d array is a seq of 3d arrays\n",
    "    - .\n",
    "    - .\n",
    "- **NOTE**\n",
    "    -  **1d array in numpy is know as vector**\n",
    "    -  **2d array in numpy is know as matrix**"
   ]
  },
  {
   "cell_type": "markdown",
   "id": "42e24d68-73de-47a0-9ee7-e2812e603a27",
   "metadata": {},
   "source": [
    "#### 1. **zeros function** "
   ]
  },
  {
   "cell_type": "code",
   "execution_count": 70,
   "id": "a37c9c40-d679-4172-9e77-a921437bd3ba",
   "metadata": {},
   "outputs": [
    {
     "name": "stdout",
     "output_type": "stream",
     "text": [
      "[[0. 0. 0. 0.]\n",
      " [0. 0. 0. 0.]\n",
      " [0. 0. 0. 0.]]\n"
     ]
    }
   ],
   "source": [
    "a=np.zeros((3,4))\n",
    "print(a)"
   ]
  },
  {
   "cell_type": "code",
   "execution_count": 71,
   "id": "6f362e47-1296-4131-b70b-7020e5b06e7c",
   "metadata": {},
   "outputs": [
    {
     "name": "stdout",
     "output_type": "stream",
     "text": [
      "[[255. 255. 255. 255.]\n",
      " [  0.   0.   0.   0.]\n",
      " [254. 254. 254. 254.]]\n"
     ]
    }
   ],
   "source": [
    "a[0]=255\n",
    "a[-1]=254      #single indexing krne pe puri ki puri row print ho ja rhi hai jaise [254. 254. 254. 254.]\n",
    "print(a)\n"
   ]
  },
  {
   "cell_type": "markdown",
   "id": "3e34ccfd-239d-4c11-8abb-57a74b0d971a",
   "metadata": {},
   "source": [
    "#### 2. **ones function**"
   ]
  },
  {
   "cell_type": "code",
   "execution_count": 79,
   "id": "07a57ff8-8c1a-4945-9047-9daa99cd2413",
   "metadata": {},
   "outputs": [
    {
     "name": "stdout",
     "output_type": "stream",
     "text": [
      "[[1. 1. 1. 1. 1.]\n",
      " [1. 1. 1. 1. 1.]\n",
      " [1. 1. 1. 1. 1.]\n",
      " [1. 1. 1. 1. 1.]\n",
      " [1. 1. 1. 1. 1.]]\n"
     ]
    }
   ],
   "source": [
    "a=np.ones((5,5))\n",
    "print(a)"
   ]
  },
  {
   "cell_type": "code",
   "execution_count": 80,
   "id": "00cb0bee-3313-4fcd-8a9f-673bab8664a9",
   "metadata": {},
   "outputs": [
    {
     "name": "stdout",
     "output_type": "stream",
     "text": [
      "[[  1.   1.   1. 900.   1.]\n",
      " [500.   1.   1.   1.   1.]\n",
      " [  1.   1.   1.   1.   1.]\n",
      " [ 60.  60.  60.  60.  60.]\n",
      " [  1.   1.  35.   1.   1.]]\n"
     ]
    }
   ],
   "source": [
    "a[1][0]=500\n",
    "a[0][3]=900\n",
    "a[3]=60           #single indexing krne pe puri ki puri row print ho ja rhi hai jaise [ 60.  60.  60.  60.  60.]\n",
    "a[-1][-3]=35\n",
    "print(a)"
   ]
  },
  {
   "cell_type": "markdown",
   "id": "d98b4481-b22a-469d-a69e-2a811e6cad5c",
   "metadata": {},
   "source": [
    "#### 3. **full function**"
   ]
  },
  {
   "cell_type": "code",
   "execution_count": 84,
   "id": "4a4c085d-fdcd-41a5-ae07-ffaaf725d002",
   "metadata": {},
   "outputs": [
    {
     "name": "stdout",
     "output_type": "stream",
     "text": [
      "[[500 500 500 500]\n",
      " [500 500 500 500]\n",
      " [500 500 500 500]]\n"
     ]
    }
   ],
   "source": [
    "a=np.full((3,4),500)       #(row,column),initial value\n",
    "print(a)"
   ]
  },
  {
   "cell_type": "code",
   "execution_count": 86,
   "id": "fd863154-c4e0-4ef0-a849-b3ee49052f17",
   "metadata": {},
   "outputs": [
    {
     "name": "stdout",
     "output_type": "stream",
     "text": [
      "[[ 300  300  300  300]\n",
      " [ 500 1000  500  500]\n",
      " [ 500  500  500  500]]\n"
     ]
    }
   ],
   "source": [
    "a[0]=300\n",
    "a[-2][1]=1000\n",
    "print(a)"
   ]
  },
  {
   "cell_type": "markdown",
   "id": "2c432b6d-6a14-4a32-bea9-c7b94fcde5fe",
   "metadata": {},
   "source": [
    "#### 4. **random.randint**"
   ]
  },
  {
   "cell_type": "code",
   "execution_count": 90,
   "id": "d91a1827-80c2-44b1-bb44-0f8ed9fd6d87",
   "metadata": {},
   "outputs": [
    {
     "name": "stdout",
     "output_type": "stream",
     "text": [
      "[[1635 1773 1321 1016]\n",
      " [1701 1107 1887 1978]\n",
      " [1159 1039 1884 1908]\n",
      " [1276 1274 1556 1651]\n",
      " [1635 1656 1636 1770]]\n"
     ]
    }
   ],
   "source": [
    "a=np.random.randint(1000,2000,(5,4))          #low,high,(row,column)\n",
    "print(a)"
   ]
  },
  {
   "cell_type": "markdown",
   "id": "25a520e5-9210-4cca-9858-1b84db1eee67",
   "metadata": {},
   "source": [
    "#### 5. **eye function**-------jiska main diagonal one hota hai."
   ]
  },
  {
   "cell_type": "code",
   "execution_count": 93,
   "id": "1fb34098-8288-4318-bc66-133155fa0607",
   "metadata": {},
   "outputs": [
    {
     "name": "stdout",
     "output_type": "stream",
     "text": [
      "[[1. 0. 0.]\n",
      " [0. 1. 0.]\n",
      " [0. 0. 1.]\n",
      " [0. 0. 0.]\n",
      " [0. 0. 0.]]\n"
     ]
    }
   ],
   "source": [
    "a=np.eye(5,3)\n",
    "print(a)"
   ]
  },
  {
   "cell_type": "code",
   "execution_count": 95,
   "id": "d60ad8f8-d517-4631-a9ac-a296951161ad",
   "metadata": {},
   "outputs": [
    {
     "name": "stdout",
     "output_type": "stream",
     "text": [
      "[[1 0 0 0 0]\n",
      " [0 1 0 0 0]\n",
      " [0 0 1 0 0]\n",
      " [0 0 0 1 0]\n",
      " [0 0 0 0 1]]\n"
     ]
    }
   ],
   "source": [
    "a=np.eye(5,dtype='int8')\n",
    "print(a)"
   ]
  },
  {
   "cell_type": "code",
   "execution_count": 96,
   "id": "c44251c6-6d1f-4644-8d8a-fbb6e5cd5064",
   "metadata": {},
   "outputs": [
    {
     "name": "stdout",
     "output_type": "stream",
     "text": [
      "[[1. 0. 0. 0. 0.]\n",
      " [0. 1. 0. 0. 0.]\n",
      " [0. 0. 1. 0. 0.]\n",
      " [0. 0. 0. 1. 0.]\n",
      " [0. 0. 0. 0. 1.]]\n"
     ]
    }
   ],
   "source": [
    "a=np.eye(5)\n",
    "print(a)"
   ]
  },
  {
   "cell_type": "markdown",
   "id": "a1616914-7fed-4415-befb-32761d54e7cf",
   "metadata": {},
   "source": [
    "#### 6. **Transpose function**------------>ye ek matrix ke row aur column ko change kr ke **row ko column me** aur **columns ko row me** convert kr deta hai."
   ]
  },
  {
   "cell_type": "code",
   "execution_count": 99,
   "id": "93f31688-41f1-48e9-87a7-0cb96bc520e8",
   "metadata": {},
   "outputs": [
    {
     "name": "stdout",
     "output_type": "stream",
     "text": [
      "[[ 1  4 17 10]\n",
      " [ 9  1 19  5]\n",
      " [ 1  6  3  5]\n",
      " [ 4  8  4 15]\n",
      " [12  4  6  6]]\n"
     ]
    }
   ],
   "source": [
    "a=np.random.randint(1,20,(5,4))\n",
    "print(a)"
   ]
  },
  {
   "cell_type": "code",
   "execution_count": 100,
   "id": "33c41b81-a578-4f11-b8b6-6c12cfdee4e5",
   "metadata": {},
   "outputs": [
    {
     "name": "stdout",
     "output_type": "stream",
     "text": [
      "[[ 1  9  1  4 12]\n",
      " [ 4  1  6  8  4]\n",
      " [17 19  3  4  6]\n",
      " [10  5  5 15  6]]\n"
     ]
    }
   ],
   "source": [
    "b=np.transpose(a)\n",
    "print(b)"
   ]
  },
  {
   "cell_type": "markdown",
   "id": "44033754-3b63-4632-8753-972808df6074",
   "metadata": {},
   "source": [
    "#### **Terminology related to numpy array**\n",
    "- function-------->**np.funname(array)**\n",
    "- method---------->**array.methodname()**\n",
    "- property-------->**array.property**"
   ]
  },
  {
   "cell_type": "code",
   "execution_count": 101,
   "id": "075d45ed-c1ca-451c-9527-5fab67f74b9f",
   "metadata": {},
   "outputs": [
    {
     "name": "stdout",
     "output_type": "stream",
     "text": [
      "2\n"
     ]
    }
   ],
   "source": [
    "#property --------->ndim\n",
    "print(a.ndim)-------------->ndim property batata hai ki ye kon se diametial hai"
   ]
  },
  {
   "cell_type": "code",
   "execution_count": 102,
   "id": "39cebed1-9c3e-4a0d-befb-7ee9ac86d309",
   "metadata": {},
   "outputs": [
    {
     "name": "stdout",
     "output_type": "stream",
     "text": [
      "(4, 5)\n"
     ]
    }
   ],
   "source": [
    "#shape property hume row aur columns batati hai.\n",
    "print(b.shape)"
   ]
  },
  {
   "cell_type": "code",
   "execution_count": 103,
   "id": "97cecd6e-a85b-483e-861d-18dacdedf0ff",
   "metadata": {},
   "outputs": [
    {
     "name": "stdout",
     "output_type": "stream",
     "text": [
      "20\n"
     ]
    }
   ],
   "source": [
    "#size property hume total elements batati hai ek D\n",
    "print(a.size)"
   ]
  },
  {
   "cell_type": "code",
   "execution_count": 104,
   "id": "afe08b7b-5baa-4299-bf25-e908a430966b",
   "metadata": {},
   "outputs": [
    {
     "name": "stdout",
     "output_type": "stream",
     "text": [
      "int32\n"
     ]
    }
   ],
   "source": [
    "#dtype property element ke type batati hai.\n",
    "print(a.dtype)"
   ]
  },
  {
   "cell_type": "code",
   "execution_count": 106,
   "id": "59f89d0c-a26a-452b-8cff-bd382634a452",
   "metadata": {},
   "outputs": [
    {
     "name": "stdout",
     "output_type": "stream",
     "text": [
      "5\n"
     ]
    }
   ],
   "source": [
    "print(len(a))   #ye column wise batata hai."
   ]
  },
  {
   "cell_type": "code",
   "execution_count": null,
   "id": "f1aa922c-18d5-472e-8058-f95ac8962cdb",
   "metadata": {},
   "outputs": [],
   "source": []
  }
 ],
 "metadata": {
  "kernelspec": {
   "display_name": "Python 3 (ipykernel)",
   "language": "python",
   "name": "python3"
  },
  "language_info": {
   "codemirror_mode": {
    "name": "ipython",
    "version": 3
   },
   "file_extension": ".py",
   "mimetype": "text/x-python",
   "name": "python",
   "nbconvert_exporter": "python",
   "pygments_lexer": "ipython3",
   "version": "3.10.9"
  }
 },
 "nbformat": 4,
 "nbformat_minor": 5
}
