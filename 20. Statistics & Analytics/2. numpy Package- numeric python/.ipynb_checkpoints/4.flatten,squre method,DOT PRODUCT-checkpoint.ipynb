{
 "cells": [
  {
   "cell_type": "markdown",
   "id": "0579695d-c56a-4afc-9f7b-4940835f7d57",
   "metadata": {},
   "source": [
    "#### **Terminology related to numpy array**\n",
    "- function-------->**np.funname(array)**\n",
    "- method---------->**array.methodname()**\n",
    "- property-------->**array.property**"
   ]
  },
  {
   "cell_type": "markdown",
   "id": "dfd1cbf2-3c7f-456e-85b5-b839127ffe67",
   "metadata": {},
   "source": [
    "- PROPERTY\n",
    "    - array.ndim\n",
    "    "
   ]
  },
  {
   "cell_type": "code",
   "execution_count": 1,
   "id": "ee6a253d-662f-4459-905c-4f1ffc723383",
   "metadata": {},
   "outputs": [],
   "source": [
    "import numpy as np"
   ]
  },
  {
   "cell_type": "code",
   "execution_count": 2,
   "id": "766aca9b-93de-4509-80ec-91d9154cf30b",
   "metadata": {},
   "outputs": [
    {
     "name": "stdout",
     "output_type": "stream",
     "text": [
      "[[5 3 4 8]\n",
      " [5 5 5 2]\n",
      " [2 3 8 8]]\n"
     ]
    }
   ],
   "source": [
    "a=np.random.randint(1,10,(3,4))\n",
    "print(a)"
   ]
  },
  {
   "cell_type": "markdown",
   "id": "977cc9cf-c34c-4103-b216-d5e735c709f3",
   "metadata": {},
   "source": [
    "- **axix=0 krne per column wise sum krta hai ye**"
   ]
  },
  {
   "cell_type": "markdown",
   "id": "eb4e6401-5e98-487d-a8ce-d3b83707fc93",
   "metadata": {},
   "source": [
    "#method ke sath plus krne per\n",
    "print(a.sum(),a.sum(axis=0))      "
   ]
  },
  {
   "cell_type": "markdown",
   "id": "a4e23b86-b359-4851-be0b-ceeefc96f402",
   "metadata": {},
   "source": [
    "- **axix=1 krne per row wise sum krta hai ye**"
   ]
  },
  {
   "cell_type": "code",
   "execution_count": 9,
   "id": "2d781040-fe49-415b-8c3f-bd6c3d622b79",
   "metadata": {},
   "outputs": [
    {
     "name": "stdout",
     "output_type": "stream",
     "text": [
      "58 [20 17 21]\n"
     ]
    }
   ],
   "source": [
    "#method ke sath plus krne per\n",
    "print(a.sum(),a.sum(axis=1))      "
   ]
  },
  {
   "cell_type": "markdown",
   "id": "a1cdd941-1887-4280-a2d6-a208d9531122",
   "metadata": {},
   "source": [
    "- **pure matrix me sbse bada element pata krna ho to**"
   ]
  },
  {
   "cell_type": "code",
   "execution_count": 10,
   "id": "6017f537-cb59-4972-bc38-1a55a6da1460",
   "metadata": {},
   "outputs": [
    {
     "name": "stdout",
     "output_type": "stream",
     "text": [
      "8\n"
     ]
    }
   ],
   "source": [
    "print(a.max())"
   ]
  },
  {
   "cell_type": "markdown",
   "id": "2f1fdf2e-bbf4-48ac-af16-7311e22fbe41",
   "metadata": {},
   "source": [
    "- **pure matrix ke column aur row me sbse bada element kon hai.**"
   ]
  },
  {
   "cell_type": "code",
   "execution_count": 13,
   "id": "8ec3b7ca-5351-4050-b1ea-a676eccf2ae2",
   "metadata": {},
   "outputs": [
    {
     "name": "stdout",
     "output_type": "stream",
     "text": [
      "[5 5 8 8]\n",
      "[8 5 8]\n"
     ]
    }
   ],
   "source": [
    "print(a.max(axis=0))    #column wise\n",
    "print(a.max(axis=1))    #row wise"
   ]
  },
  {
   "cell_type": "markdown",
   "id": "6f4db650-8efd-4996-9f32-27a097a3c48d",
   "metadata": {},
   "source": [
    "- **pure matrix ke column aur row me sbse bada element kon hai.**----iske index nikalna"
   ]
  },
  {
   "cell_type": "code",
   "execution_count": 15,
   "id": "94508e04-0099-4afa-b571-6af24a1f2f6d",
   "metadata": {},
   "outputs": [
    {
     "name": "stdout",
     "output_type": "stream",
     "text": [
      "3\n",
      "7\n"
     ]
    }
   ],
   "source": [
    "print(a.argmax())\n",
    "print(a.argmin())      #internally flentten kr krne ke bad uska index nikalte hai."
   ]
  },
  {
   "cell_type": "markdown",
   "id": "44202722-a6b8-4c64-ac91-942f8f1595c3",
   "metadata": {},
   "source": [
    "#### **flatten method**\n",
    "    - a.flatten()"
   ]
  },
  {
   "cell_type": "code",
   "execution_count": 16,
   "id": "ae04c6ff-c76d-41b4-89a1-7faa9b032eed",
   "metadata": {},
   "outputs": [
    {
     "name": "stdout",
     "output_type": "stream",
     "text": [
      "[5 3 4 8 5 5 5 2 2 3 8 8]\n"
     ]
    }
   ],
   "source": [
    "print(a.flatten())    #bydefault order='c' ------row le liya hai."
   ]
  },
  {
   "cell_type": "code",
   "execution_count": 18,
   "id": "c83775e7-056f-4c15-a2dc-37b3eac0be26",
   "metadata": {},
   "outputs": [
    {
     "name": "stdout",
     "output_type": "stream",
     "text": [
      "[5 5 2 3 5 3 4 5 8 8 2 8]\n"
     ]
    }
   ],
   "source": [
    "print(a.flatten(order='f'))    #bydefault order='c' ------row le liya hai."
   ]
  },
  {
   "cell_type": "code",
   "execution_count": 20,
   "id": "e667fabb-8ffa-4ade-9e43-65e3cbfa0ef3",
   "metadata": {},
   "outputs": [
    {
     "name": "stdout",
     "output_type": "stream",
     "text": [
      "3\n",
      "7\n"
     ]
    }
   ],
   "source": [
    "#isme order='f' nhi ho rha hai.--------bydefault order='c' wala hi le rha hai.\n",
    "print(a.argmax())\n",
    "print(a.argmin())      #internally fletten krne ke bad uska index nikalte hai."
   ]
  },
  {
   "cell_type": "code",
   "execution_count": null,
   "id": "8be9cac3-2644-43c5-9f48-9ebc358d2be7",
   "metadata": {},
   "outputs": [],
   "source": []
  }
 ],
 "metadata": {
  "kernelspec": {
   "display_name": "Python 3 (ipykernel)",
   "language": "python",
   "name": "python3"
  },
  "language_info": {
   "codemirror_mode": {
    "name": "ipython",
    "version": 3
   },
   "file_extension": ".py",
   "mimetype": "text/x-python",
   "name": "python",
   "nbconvert_exporter": "python",
   "pygments_lexer": "ipython3",
   "version": "3.10.9"
  }
 },
 "nbformat": 4,
 "nbformat_minor": 5
}
