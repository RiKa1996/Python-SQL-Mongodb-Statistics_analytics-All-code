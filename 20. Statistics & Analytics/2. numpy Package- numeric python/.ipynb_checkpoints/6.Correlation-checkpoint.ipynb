{
 "cells": [
  {
   "cell_type": "markdown",
   "id": "85640348-4d56-41c7-86a2-b9b5e65e27c2",
   "metadata": {},
   "source": [
    "### **Correlation**\n",
    "- jaise koi employee ka data humare pass hai. usme column honge----->empid,empname,empsal,empexp.date of joining\n",
    "- ye sabhi column ek dusre se relation banate hai so...\n",
    "- find relationship between 2 columns\n",
    "- range is -1 to +1\n",
    "- result is towards 0, that means no relationship between columns\n",
    "- if result is towards +1,that means positive correlation\n",
    "- if result is towards -1 , that means negative correlation\n",
    "\n",
    "    - **note:**- noida to agra------->distance wala------>(200km-20ltrs), (400km-40ltrs), (150km-15ltrs).\n",
    "    \n",
    "    - noida to agra------->fule consumption--->(80km/h-3hrs), (60km/h-3.5hrs), (100km/h-2.5hrs)"
   ]
  },
  {
   "cell_type": "code",
   "execution_count": 1,
   "id": "aad29912-c61f-4cbc-8c93-9a7b4d5dc764",
   "metadata": {},
   "outputs": [],
   "source": [
    "import statistics"
   ]
  },
  {
   "cell_type": "markdown",
   "id": "81716e62-9cb5-4555-a5bf-b840cdc1f19b",
   "metadata": {},
   "source": [
    "- **Example of Positive(+1 wali) correlation**\n",
    "    - both factors change in same direction"
   ]
  },
  {
   "cell_type": "code",
   "execution_count": 2,
   "id": "ceb12eb8-3b06-4126-b91b-a41df19d0544",
   "metadata": {},
   "outputs": [
    {
     "name": "stdout",
     "output_type": "stream",
     "text": [
      "1.0\n"
     ]
    }
   ],
   "source": [
    "#positive correlation\n",
    "distance=[200,400,150]\n",
    "fule=[20,40,15]\n",
    "print(statistics.correlation(distance,fule))"
   ]
  },
  {
   "cell_type": "markdown",
   "id": "b2818518-1164-4f03-bd57-cf354cf6c072",
   "metadata": {},
   "source": [
    "- **Example of Negative(-1 wali) correlation**\n",
    "    - both factors change in opposite direction"
   ]
  },
  {
   "cell_type": "code",
   "execution_count": 9,
   "id": "4404fdc1-f119-4e63-9ad2-44e9983838b4",
   "metadata": {},
   "outputs": [
    {
     "name": "stdout",
     "output_type": "stream",
     "text": [
      "-1.0\n"
     ]
    }
   ],
   "source": [
    "#negative correlation\n",
    "speed=[80,60,100]\n",
    "hours=[3,3.5,2.5]\n",
    "print(statistics.correlation(speed,hours))"
   ]
  },
  {
   "cell_type": "code",
   "execution_count": null,
   "id": "91e71579-1f93-4a5c-9c7f-b5aadb260bdb",
   "metadata": {},
   "outputs": [],
   "source": []
  }
 ],
 "metadata": {
  "kernelspec": {
   "display_name": "Python 3 (ipykernel)",
   "language": "python",
   "name": "python3"
  },
  "language_info": {
   "codemirror_mode": {
    "name": "ipython",
    "version": 3
   },
   "file_extension": ".py",
   "mimetype": "text/x-python",
   "name": "python",
   "nbconvert_exporter": "python",
   "pygments_lexer": "ipython3",
   "version": "3.10.9"
  }
 },
 "nbformat": 4,
 "nbformat_minor": 5
}
