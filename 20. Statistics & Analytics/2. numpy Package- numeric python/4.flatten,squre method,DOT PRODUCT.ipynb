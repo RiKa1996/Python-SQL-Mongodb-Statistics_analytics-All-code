{
 "cells": [
  {
   "cell_type": "markdown",
   "id": "0579695d-c56a-4afc-9f7b-4940835f7d57",
   "metadata": {},
   "source": [
    "#### **Terminology related to numpy array**\n",
    "- function-------->**np.funname(array)**\n",
    "- method---------->**array.methodname()**\n",
    "- property-------->**array.property**"
   ]
  },
  {
   "cell_type": "markdown",
   "id": "dfd1cbf2-3c7f-456e-85b5-b839127ffe67",
   "metadata": {},
   "source": [
    "- PROPERTY\n",
    "    - array.ndim\n",
    "    "
   ]
  },
  {
   "cell_type": "code",
   "execution_count": 1,
   "id": "ee6a253d-662f-4459-905c-4f1ffc723383",
   "metadata": {},
   "outputs": [],
   "source": [
    "import numpy as np"
   ]
  },
  {
   "cell_type": "code",
   "execution_count": 2,
   "id": "766aca9b-93de-4509-80ec-91d9154cf30b",
   "metadata": {},
   "outputs": [
    {
     "name": "stdout",
     "output_type": "stream",
     "text": [
      "[[5 3 4 8]\n",
      " [5 5 5 2]\n",
      " [2 3 8 8]]\n"
     ]
    }
   ],
   "source": [
    "a=np.random.randint(1,10,(3,4))\n",
    "print(a)"
   ]
  },
  {
   "cell_type": "markdown",
   "id": "977cc9cf-c34c-4103-b216-d5e735c709f3",
   "metadata": {},
   "source": [
    "- **axix=0 krne per column wise sum krta hai ye**"
   ]
  },
  {
   "cell_type": "markdown",
   "id": "eb4e6401-5e98-487d-a8ce-d3b83707fc93",
   "metadata": {},
   "source": [
    "#method ke sath plus krne per\n",
    "print(a.sum(),a.sum(axis=0))      "
   ]
  },
  {
   "cell_type": "markdown",
   "id": "a4e23b86-b359-4851-be0b-ceeefc96f402",
   "metadata": {},
   "source": [
    "- **axix=1 krne per row wise sum krta hai ye**"
   ]
  },
  {
   "cell_type": "code",
   "execution_count": 9,
   "id": "2d781040-fe49-415b-8c3f-bd6c3d622b79",
   "metadata": {},
   "outputs": [
    {
     "name": "stdout",
     "output_type": "stream",
     "text": [
      "58 [20 17 21]\n"
     ]
    }
   ],
   "source": [
    "#method ke sath plus krne per\n",
    "print(a.sum(),a.sum(axis=1))      "
   ]
  },
  {
   "cell_type": "markdown",
   "id": "a1cdd941-1887-4280-a2d6-a208d9531122",
   "metadata": {},
   "source": [
    "- **pure matrix me sbse bada element pata krna ho to**"
   ]
  },
  {
   "cell_type": "code",
   "execution_count": 10,
   "id": "6017f537-cb59-4972-bc38-1a55a6da1460",
   "metadata": {},
   "outputs": [
    {
     "name": "stdout",
     "output_type": "stream",
     "text": [
      "8\n"
     ]
    }
   ],
   "source": [
    "print(a.max())"
   ]
  },
  {
   "cell_type": "markdown",
   "id": "2f1fdf2e-bbf4-48ac-af16-7311e22fbe41",
   "metadata": {},
   "source": [
    "- **pure matrix ke column aur row me sbse bada element kon hai.**"
   ]
  },
  {
   "cell_type": "code",
   "execution_count": 13,
   "id": "8ec3b7ca-5351-4050-b1ea-a676eccf2ae2",
   "metadata": {},
   "outputs": [
    {
     "name": "stdout",
     "output_type": "stream",
     "text": [
      "[5 5 8 8]\n",
      "[8 5 8]\n"
     ]
    }
   ],
   "source": [
    "print(a.max(axis=0))    #column wise\n",
    "print(a.max(axis=1))    #row wise"
   ]
  },
  {
   "cell_type": "markdown",
   "id": "6f4db650-8efd-4996-9f32-27a097a3c48d",
   "metadata": {},
   "source": [
    "- **pure matrix ke column aur row me sbse bada element kon hai.**----iske index nikalna"
   ]
  },
  {
   "cell_type": "code",
   "execution_count": 15,
   "id": "94508e04-0099-4afa-b571-6af24a1f2f6d",
   "metadata": {},
   "outputs": [
    {
     "name": "stdout",
     "output_type": "stream",
     "text": [
      "3\n",
      "7\n"
     ]
    }
   ],
   "source": [
    "print(a.argmax())\n",
    "print(a.argmin())      #internally flentten kr krne ke bad uska index nikalte hai."
   ]
  },
  {
   "cell_type": "markdown",
   "id": "44202722-a6b8-4c64-ac91-942f8f1595c3",
   "metadata": {},
   "source": [
    "#### **flatten method**\n",
    "    - a.flatten()"
   ]
  },
  {
   "cell_type": "code",
   "execution_count": 16,
   "id": "ae04c6ff-c76d-41b4-89a1-7faa9b032eed",
   "metadata": {},
   "outputs": [
    {
     "name": "stdout",
     "output_type": "stream",
     "text": [
      "[5 3 4 8 5 5 5 2 2 3 8 8]\n"
     ]
    }
   ],
   "source": [
    "print(a.flatten())    #bydefault order='c' ------row le liya hai."
   ]
  },
  {
   "cell_type": "code",
   "execution_count": 18,
   "id": "c83775e7-056f-4c15-a2dc-37b3eac0be26",
   "metadata": {},
   "outputs": [
    {
     "name": "stdout",
     "output_type": "stream",
     "text": [
      "[5 5 2 3 5 3 4 5 8 8 2 8]\n"
     ]
    }
   ],
   "source": [
    "print(a.flatten(order='f'))    #bydefault order='c' ------row le liya hai."
   ]
  },
  {
   "cell_type": "code",
   "execution_count": 20,
   "id": "e667fabb-8ffa-4ade-9e43-65e3cbfa0ef3",
   "metadata": {},
   "outputs": [
    {
     "name": "stdout",
     "output_type": "stream",
     "text": [
      "3\n",
      "7\n"
     ]
    }
   ],
   "source": [
    "#isme order='f' nhi ho rha hai.--------bydefault order='c' wala hi le rha hai.\n",
    "print(a.argmax())\n",
    "print(a.argmin())      #internally fletten krne ke bad uska index nikalte hai."
   ]
  },
  {
   "cell_type": "markdown",
   "id": "89045669-2ecd-4a42-8dbd-266e1a4978f9",
   "metadata": {},
   "source": [
    "- **square method** -----square method nhi chalta hai \n",
    "    - **NOTE** : square function chalta hai."
   ]
  },
  {
   "cell_type": "code",
   "execution_count": 23,
   "id": "b456c198-e2b0-4d76-bee3-75321678a163",
   "metadata": {},
   "outputs": [
    {
     "ename": "AttributeError",
     "evalue": "'numpy.ndarray' object has no attribute 'square'",
     "output_type": "error",
     "traceback": [
      "\u001b[1;31m---------------------------------------------------------------------------\u001b[0m",
      "\u001b[1;31mAttributeError\u001b[0m                            Traceback (most recent call last)",
      "Cell \u001b[1;32mIn[23], line 1\u001b[0m\n\u001b[1;32m----> 1\u001b[0m \u001b[38;5;28mprint\u001b[39m(\u001b[43ma\u001b[49m\u001b[38;5;241;43m.\u001b[39;49m\u001b[43msquare\u001b[49m())\n",
      "\u001b[1;31mAttributeError\u001b[0m: 'numpy.ndarray' object has no attribute 'square'"
     ]
    }
   ],
   "source": [
    "print(a.square())"
   ]
  },
  {
   "cell_type": "code",
   "execution_count": 24,
   "id": "56e59954-e1ed-4f9d-9143-cfd2b9f43afd",
   "metadata": {},
   "outputs": [
    {
     "name": "stdout",
     "output_type": "stream",
     "text": [
      "[[25  9 16 64]\n",
      " [25 25 25  4]\n",
      " [ 4  9 64 64]]\n"
     ]
    }
   ],
   "source": [
    "print(np.square(a))"
   ]
  },
  {
   "cell_type": "code",
   "execution_count": 25,
   "id": "b8a6b620-6d4f-4426-bd37-57aaf1050c39",
   "metadata": {},
   "outputs": [
    {
     "name": "stdout",
     "output_type": "stream",
     "text": [
      "[[5 3 4 8]\n",
      " [5 5 5 2]\n",
      " [2 3 8 8]]\n"
     ]
    }
   ],
   "source": [
    "print(a.squeeze())"
   ]
  },
  {
   "cell_type": "markdown",
   "id": "e25f1bb5-b3df-4884-891f-65c4f5113210",
   "metadata": {},
   "source": [
    "- **matrix pe airthmetic ka broadcasting ho jata hai.**"
   ]
  },
  {
   "cell_type": "code",
   "execution_count": 26,
   "id": "fb5027cf-2e9b-4c4b-84ba-8112779dd500",
   "metadata": {},
   "outputs": [
    {
     "name": "stdout",
     "output_type": "stream",
     "text": [
      "[[5 3 4 8]\n",
      " [5 5 5 2]\n",
      " [2 3 8 8]]\n"
     ]
    }
   ],
   "source": [
    "print(a)"
   ]
  },
  {
   "cell_type": "code",
   "execution_count": 27,
   "id": "12e986b6-74fa-448c-bcd8-6884d73029e0",
   "metadata": {},
   "outputs": [
    {
     "name": "stdout",
     "output_type": "stream",
     "text": [
      "[[505 503 504 508]\n",
      " [505 505 505 502]\n",
      " [502 503 508 508]]\n"
     ]
    }
   ],
   "source": [
    "b=a+500\n",
    "print(b)"
   ]
  },
  {
   "cell_type": "code",
   "execution_count": 28,
   "id": "adf02b83-56d8-4326-9dfe-df54ef53b0f5",
   "metadata": {},
   "outputs": [
    {
     "name": "stdout",
     "output_type": "stream",
     "text": [
      "[[25 15 20 40]\n",
      " [25 25 25 10]\n",
      " [10 15 40 40]]\n"
     ]
    }
   ],
   "source": [
    "c=a*5\n",
    "print(c)"
   ]
  },
  {
   "cell_type": "markdown",
   "id": "df7165ad-2dbb-45b1-b2a5-e770a733d775",
   "metadata": {},
   "source": [
    "- **ek matrix ka dusre matrix se operation krne per**"
   ]
  },
  {
   "cell_type": "code",
   "execution_count": 29,
   "id": "fe26137c-d8ef-4b52-8ae5-5d38a544de71",
   "metadata": {},
   "outputs": [
    {
     "name": "stdout",
     "output_type": "stream",
     "text": [
      "[[5 3 4 8]\n",
      " [5 5 5 2]\n",
      " [2 3 8 8]]\n",
      "[[505 503 504 508]\n",
      " [505 505 505 502]\n",
      " [502 503 508 508]]\n"
     ]
    }
   ],
   "source": [
    "print(a)\n",
    "print(b)"
   ]
  },
  {
   "cell_type": "code",
   "execution_count": 30,
   "id": "ceae137f-e9b8-4a02-8375-be2ace020474",
   "metadata": {},
   "outputs": [
    {
     "name": "stdout",
     "output_type": "stream",
     "text": [
      "[[510 506 508 516]\n",
      " [510 510 510 504]\n",
      " [504 506 516 516]]\n"
     ]
    }
   ],
   "source": [
    "e=a+b\n",
    "print(e)"
   ]
  },
  {
   "cell_type": "code",
   "execution_count": 31,
   "id": "08d9e9a6-c052-4665-b58c-555da64f80c3",
   "metadata": {},
   "outputs": [
    {
     "name": "stdout",
     "output_type": "stream",
     "text": [
      "[[2525 1509 2016 4064]\n",
      " [2525 2525 2525 1004]\n",
      " [1004 1509 4064 4064]]\n"
     ]
    }
   ],
   "source": [
    "f=a*b\n",
    "print(f)"
   ]
  },
  {
   "cell_type": "code",
   "execution_count": 37,
   "id": "6b93a07a-4408-4f55-a63b-259352661796",
   "metadata": {},
   "outputs": [
    {
     "ename": "ValueError",
     "evalue": "matmul: Input operand 1 has a mismatch in its core dimension 0, with gufunc signature (n?,k),(k,m?)->(n?,m?) (size 3 is different from 4)",
     "output_type": "error",
     "traceback": [
      "\u001b[1;31m---------------------------------------------------------------------------\u001b[0m",
      "\u001b[1;31mValueError\u001b[0m                                Traceback (most recent call last)",
      "Cell \u001b[1;32mIn[37], line 1\u001b[0m\n\u001b[1;32m----> 1\u001b[0m \u001b[43ma\u001b[49m\u001b[38;5;129;43m@b\u001b[39;49m\n",
      "\u001b[1;31mValueError\u001b[0m: matmul: Input operand 1 has a mismatch in its core dimension 0, with gufunc signature (n?,k),(k,m?)->(n?,m?) (size 3 is different from 4)"
     ]
    }
   ],
   "source": [
    "a@b"
   ]
  },
  {
   "cell_type": "code",
   "execution_count": 32,
   "id": "6c2b4077-7109-4a11-bb7a-db4531786904",
   "metadata": {},
   "outputs": [
    {
     "name": "stdout",
     "output_type": "stream",
     "text": [
      "[[0.00990099 0.00596421 0.00793651 0.01574803]\n",
      " [0.00990099 0.00990099 0.00990099 0.00398406]\n",
      " [0.00398406 0.00596421 0.01574803 0.01574803]]\n"
     ]
    }
   ],
   "source": [
    "g=a/b\n",
    "print(g)"
   ]
  },
  {
   "cell_type": "markdown",
   "id": "fdd29fde-d629-4c30-b7d3-fbd651106aab",
   "metadata": {},
   "source": [
    "- MATRIX ME **DOT PRODUCT**\n",
    "    - jb hum dot product krte hai to , matrix ka size same hona chaiye------like-----(3,3)  or  (4,4)\n",
    "    - (3,4)(3,4) IS WRONG\n",
    "    - (3,4)(4,5) IS RIGHT-----PHLE KA COLUMN AUR DUSRE KA ROW SAME HONA CHAIYE"
   ]
  },
  {
   "cell_type": "code",
   "execution_count": 36,
   "id": "48e2c7ef-fbee-44a1-8373-35102f7e2e20",
   "metadata": {},
   "outputs": [
    {
     "ename": "ValueError",
     "evalue": "matmul: Input operand 1 has a mismatch in its core dimension 0, with gufunc signature (n?,k),(k,m?)->(n?,m?) (size 3 is different from 4)",
     "output_type": "error",
     "traceback": [
      "\u001b[1;31m---------------------------------------------------------------------------\u001b[0m",
      "\u001b[1;31mValueError\u001b[0m                                Traceback (most recent call last)",
      "Cell \u001b[1;32mIn[36], line 1\u001b[0m\n\u001b[1;32m----> 1\u001b[0m \u001b[43mf\u001b[49m\u001b[38;5;129;43m@g\u001b[39;49m\n",
      "\u001b[1;31mValueError\u001b[0m: matmul: Input operand 1 has a mismatch in its core dimension 0, with gufunc signature (n?,k),(k,m?)->(n?,m?) (size 3 is different from 4)"
     ]
    }
   ],
   "source": [
    "f@g"
   ]
  },
  {
   "cell_type": "code",
   "execution_count": 44,
   "id": "9e325ab4-9166-4845-bb60-98a4dad506c7",
   "metadata": {},
   "outputs": [
    {
     "name": "stdout",
     "output_type": "stream",
     "text": [
      "[[ 3 11  4]\n",
      " [12 10  5]\n",
      " [13  8 10]]\n",
      "[[ 8  8  8]\n",
      " [14  6 12]\n",
      " [14  4  9]]\n"
     ]
    }
   ],
   "source": [
    "a=np.random.randint(1,15,(3,3))\n",
    "b=np.random.randint(1,15,(3,3))\n",
    "print(a)\n",
    "print(b)"
   ]
  },
  {
   "cell_type": "code",
   "execution_count": 45,
   "id": "d2bdfc50-2ecd-442f-a7cb-6360af557b39",
   "metadata": {},
   "outputs": [
    {
     "data": {
      "text/plain": [
       "array([[234, 106, 192],\n",
       "       [306, 176, 261],\n",
       "       [356, 192, 290]])"
      ]
     },
     "execution_count": 45,
     "metadata": {},
     "output_type": "execute_result"
    }
   ],
   "source": [
    "a@b"
   ]
  },
  {
   "cell_type": "code",
   "execution_count": null,
   "id": "b85d1e45-a898-4e15-9ba5-9f5608e56a07",
   "metadata": {},
   "outputs": [],
   "source": []
  }
 ],
 "metadata": {
  "kernelspec": {
   "display_name": "Python 3 (ipykernel)",
   "language": "python",
   "name": "python3"
  },
  "language_info": {
   "codemirror_mode": {
    "name": "ipython",
    "version": 3
   },
   "file_extension": ".py",
   "mimetype": "text/x-python",
   "name": "python",
   "nbconvert_exporter": "python",
   "pygments_lexer": "ipython3",
   "version": "3.10.9"
  }
 },
 "nbformat": 4,
 "nbformat_minor": 5
}
