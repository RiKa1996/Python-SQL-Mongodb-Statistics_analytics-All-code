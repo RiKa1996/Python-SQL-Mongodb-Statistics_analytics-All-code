{
 "cells": [
  {
   "cell_type": "code",
   "execution_count": 3,
   "id": "5e8ebfe7-4c6a-4224-ab29-7c2ca828fda3",
   "metadata": {},
   "outputs": [],
   "source": [
    "import numpy as np"
   ]
  },
  {
   "cell_type": "code",
   "execution_count": 11,
   "id": "607de6aa-84c5-49cf-b79f-18c5982d2f97",
   "metadata": {},
   "outputs": [
    {
     "name": "stdout",
     "output_type": "stream",
     "text": [
      "[[1 2 6 6]\n",
      " [8 3 6 2]\n",
      " [4 5 1 8]]\n"
     ]
    }
   ],
   "source": [
    "#matrix\n",
    "a=np.random.randint(1,10,(3,4))\n",
    "print(a)"
   ]
  },
  {
   "cell_type": "markdown",
   "id": "eef280b7-c387-4221-a51f-8c0e60151a40",
   "metadata": {},
   "source": [
    "- **reshape function**\n",
    "    - reshape jb banate hai exiting data ka use kr ke\n",
    "    - no. of element ko change kr nhi kr skte \n",
    "    - jaise a me 3*4 hai to use **2 * 6,3 * 4,4 * 3,6 * 2** kr skte hai."
   ]
  },
  {
   "cell_type": "code",
   "execution_count": 19,
   "id": "6495cbda-e10f-43a6-81ac-6be7e51f907a",
   "metadata": {},
   "outputs": [
    {
     "name": "stdout",
     "output_type": "stream",
     "text": [
      "[[1 2 6]\n",
      " [6 8 3]\n",
      " [6 2 4]\n",
      " [5 1 8]]\n"
     ]
    }
   ],
   "source": [
    "#order='c' ka mtlb hai row major order-------isme hume row padna hai aur row me hi likhna hai.---------by default ydi hum order nhi batate to wo order='c' me row wise hi le leta hai.\n",
    "b=np.reshape(a,(4,3),order='c')      #c= c Language\n",
    "print(b)"
   ]
  },
  {
   "cell_type": "code",
   "execution_count": 21,
   "id": "e6a1b5a5-e9ba-4677-9dbe-52b2469c39bd",
   "metadata": {},
   "outputs": [
    {
     "name": "stdout",
     "output_type": "stream",
     "text": [
      "[[1 6]\n",
      " [8 6]\n",
      " [4 1]\n",
      " [2 6]\n",
      " [3 2]\n",
      " [5 8]]\n"
     ]
    }
   ],
   "source": [
    "#order='f' ka mtlb hai column major order--------isme hume column padna hai aur column me hi likhna hai.\n",
    "c=np.reshape(a,(6,2),order='f')    #f=Fortran Language\n",
    "print(c)"
   ]
  },
  {
   "cell_type": "code",
   "execution_count": 22,
   "id": "dc5d6c45-37f9-4871-9c98-2d8e47665f88",
   "metadata": {},
   "outputs": [
    {
     "name": "stdout",
     "output_type": "stream",
     "text": [
      "[[1 2 6 6 8 3]\n",
      " [6 2 4 5 1 8]]\n"
     ]
    }
   ],
   "source": [
    "#order ='a' ka mtlb hai ki row major order---------isme hume row wise padna hai aur row wise hi likhna hai.\n",
    "d=np.reshape(a,(2,6),order='a')\n",
    "print(d)"
   ]
  },
  {
   "cell_type": "markdown",
   "id": "608cbeb5-6e4d-4d6e-aabb-85236303e47a",
   "metadata": {},
   "source": [
    "- **reshape function me negative indexing hoti hai.**"
   ]
  },
  {
   "cell_type": "code",
   "execution_count": 25,
   "id": "1b99dd53-112f-44a9-879c-8df7b2f9953b",
   "metadata": {},
   "outputs": [
    {
     "name": "stdout",
     "output_type": "stream",
     "text": [
      "[[1 2 6]\n",
      " [6 8 3]\n",
      " [6 2 4]\n",
      " [5 1 8]]\n"
     ]
    }
   ],
   "source": [
    "e=np.reshape(a,(-1,3),order='c')\n",
    "print(e)"
   ]
  },
  {
   "cell_type": "code",
   "execution_count": 26,
   "id": "f505aa3c-26de-456f-b630-41d602aa62ef",
   "metadata": {},
   "outputs": [
    {
     "name": "stdout",
     "output_type": "stream",
     "text": [
      "[[1 3 1]\n",
      " [8 5 6]\n",
      " [4 6 2]\n",
      " [2 6 8]]\n"
     ]
    }
   ],
   "source": [
    "f=np.reshape(a,(4,-1),order='f')\n",
    "print(f)"
   ]
  },
  {
   "cell_type": "markdown",
   "id": "18871005-28a5-4473-911a-fc7fb35d892b",
   "metadata": {},
   "source": [
    "- **resize function**\n",
    "    - resize function reshape function se isliye alag hai kyoki isme hum element **plus** aur **minus** bhi kr skte hai\n",
    "    - resize me **order='c'** wali facility nhi hoti hai.\n",
    "    - resize me negative indexing bhi nhi chalti hai.\n",
    "    - resize me element badane per **circuller fill** hota hai. aur dubara se 0 indexing se suru ho jata hai.\n",
    "    "
   ]
  },
  {
   "cell_type": "code",
   "execution_count": 28,
   "id": "ef49b319-42db-4de7-b910-f80b1245d6c5",
   "metadata": {},
   "outputs": [
    {
     "name": "stdout",
     "output_type": "stream",
     "text": [
      "[[17 10 16 10]\n",
      " [ 9  9 13 17]\n",
      " [ 7  1 17 17]]\n"
     ]
    }
   ],
   "source": [
    "x=np.random.randint(1,20,(3,4))\n",
    "print(x)"
   ]
  },
  {
   "cell_type": "code",
   "execution_count": 34,
   "id": "7c40fa15-702e-4b89-9ad7-7c88d4000117",
   "metadata": {},
   "outputs": [
    {
     "name": "stdout",
     "output_type": "stream",
     "text": [
      "[[17 10 16]\n",
      " [10  9  9]\n",
      " [13 17  7]\n",
      " [ 1 17 17]\n",
      " [17 10 16]]\n"
     ]
    }
   ],
   "source": [
    "a=np.resize(x,(5,3))\n",
    "print(a)"
   ]
  },
  {
   "cell_type": "code",
   "execution_count": 90,
   "id": "77a59778-7547-4372-8a01-86ac3f6b4c2c",
   "metadata": {},
   "outputs": [
    {
     "name": "stdout",
     "output_type": "stream",
     "text": [
      "[[17 10]\n",
      " [16 10]\n",
      " [ 9  9]]\n"
     ]
    }
   ],
   "source": [
    "b=np.resize(x,(3,2))\n",
    "print(b)"
   ]
  },
  {
   "cell_type": "code",
   "execution_count": 54,
   "id": "49b42ef4-41c5-487f-a47c-dd3e4877f35a",
   "metadata": {},
   "outputs": [],
   "source": [
    "#isme negative indexing nhi hotiw\n",
    "#c=np.resize(x,(-1,4))     #ValueError: all elements of `new_shape` must be non-negative\n",
    "#print(c)"
   ]
  },
  {
   "cell_type": "code",
   "execution_count": 91,
   "id": "08742c42-adb5-483f-98aa-d34ca47e8e4f",
   "metadata": {},
   "outputs": [
    {
     "name": "stdout",
     "output_type": "stream",
     "text": [
      "[[17 10 16 10  9]\n",
      " [ 9 17 10 16 10]\n",
      " [ 9  9 17 10 16]\n",
      " [10  9  9 17 10]\n",
      " [16 10  9  9 17]\n",
      " [10 16 10  9  9]]\n"
     ]
    }
   ],
   "source": [
    "c=np.resize(b,(6,5))    #ye wala resize b variable per ho rha hai.\n",
    "print(c)"
   ]
  },
  {
   "cell_type": "code",
   "execution_count": 39,
   "id": "94e87f4a-4cf2-4cb0-bee5-908f12872c88",
   "metadata": {},
   "outputs": [
    {
     "name": "stdout",
     "output_type": "stream",
     "text": [
      "[[17 10 16 10]\n",
      " [ 9  9 13 17]\n",
      " [ 7  1 17 17]]\n"
     ]
    }
   ],
   "source": [
    "print(x)"
   ]
  },
  {
   "cell_type": "markdown",
   "id": "9817b3de-fabb-4f97-948c-d8240dfcb1f2",
   "metadata": {},
   "source": [
    "## **numpy operations**\n",
    "    - function--------> **np.funname(array)**\n",
    "    - method----------> **array.methodname()**\n",
    "    - property--------> **array.property**\n",
    "### **numpy methods** ------------>array.methodname()------with reshape and resize method\n",
    "    - 1. isme permanent array ban jata hai , reshape ya resize krne ke bad\n",
    "    - 2. resize me autometic element nhi bada skte , badane ke **refcheck=False** ka use krna padta hai.-----isme zero  fill nhi hota hai."
   ]
  },
  {
   "cell_type": "code",
   "execution_count": 71,
   "id": "bfd591d6-9dda-49c2-a597-644b32e61bb1",
   "metadata": {},
   "outputs": [
    {
     "name": "stdout",
     "output_type": "stream",
     "text": [
      "[[12 12  2 17]\n",
      " [17 12  3 16]\n",
      " [16 14  5  9]]\n"
     ]
    }
   ],
   "source": [
    "a=np.random.randint(1,20,(3,4))\n",
    "print(a)"
   ]
  },
  {
   "cell_type": "code",
   "execution_count": 72,
   "id": "a3be42e5-f037-40cd-8614-b4a01792b43f",
   "metadata": {},
   "outputs": [
    {
     "data": {
      "text/plain": [
       "array([[12, 12,  5],\n",
       "       [17, 14, 17],\n",
       "       [16,  2, 16],\n",
       "       [12,  3,  9]])"
      ]
     },
     "execution_count": 72,
     "metadata": {},
     "output_type": "execute_result"
    }
   ],
   "source": [
    "# ab ispe method use krte hai. with order='f'\n",
    "a.reshape(4,3,order='f')"
   ]
  },
  {
   "cell_type": "code",
   "execution_count": 73,
   "id": "c203112f-3bbf-492f-a867-89b97cfea771",
   "metadata": {},
   "outputs": [
    {
     "data": {
      "text/plain": [
       "array([[12, 12,  2, 17],\n",
       "       [17, 12,  3, 16],\n",
       "       [16, 14,  5,  9]])"
      ]
     },
     "execution_count": 73,
     "metadata": {},
     "output_type": "execute_result"
    }
   ],
   "source": [
    "a"
   ]
  },
  {
   "cell_type": "markdown",
   "id": "ee448b3f-12bd-4780-99a5-5a65bb9a7ff0",
   "metadata": {},
   "source": [
    "- **resize** Method"
   ]
  },
  {
   "cell_type": "code",
   "execution_count": 80,
   "id": "a1d151f1-92b7-4e0f-84f6-d4d981d5506c",
   "metadata": {},
   "outputs": [
    {
     "name": "stdout",
     "output_type": "stream",
     "text": [
      "[[ 4  7 19 15]\n",
      " [ 9 11 15 10]\n",
      " [14  4 17 15]]\n"
     ]
    }
   ],
   "source": [
    "a=np.random.randint(1,20,(3,4))\n",
    "print(a)"
   ]
  },
  {
   "cell_type": "code",
   "execution_count": 81,
   "id": "0b0eb188-9c7a-4e2c-9741-a7642ba92b63",
   "metadata": {},
   "outputs": [],
   "source": [
    "#first time resize krne per\n",
    "a.resize(3,5,refcheck=False)                 #new_shape, refcheck=True-----ke bina resize nhi ho skta (refcheck=False)"
   ]
  },
  {
   "cell_type": "code",
   "execution_count": 82,
   "id": "ad7f8a0b-e284-497e-a539-f1228109a473",
   "metadata": {},
   "outputs": [
    {
     "data": {
      "text/plain": [
       "array([[ 4,  7, 19, 15,  9],\n",
       "       [11, 15, 10, 14,  4],\n",
       "       [17, 15,  0,  0,  0]])"
      ]
     },
     "execution_count": 82,
     "metadata": {},
     "output_type": "execute_result"
    }
   ],
   "source": [
    "a"
   ]
  },
  {
   "cell_type": "code",
   "execution_count": 83,
   "id": "35df570d-c0d8-4dc7-8080-2bab0ebbdc73",
   "metadata": {},
   "outputs": [
    {
     "data": {
      "text/plain": [
       "array([[ 4,  7, 19, 15,  9],\n",
       "       [11, 15, 10, 14,  4],\n",
       "       [17, 15,  0,  0,  0]])"
      ]
     },
     "execution_count": 83,
     "metadata": {},
     "output_type": "execute_result"
    }
   ],
   "source": [
    "a"
   ]
  },
  {
   "cell_type": "code",
   "execution_count": 84,
   "id": "3ef73f13-c781-416f-8ab1-6fbad95055a2",
   "metadata": {},
   "outputs": [],
   "source": [
    "#sencond time resize krne per\n",
    "a.resize(5,4,refcheck=False)"
   ]
  },
  {
   "cell_type": "code",
   "execution_count": 85,
   "id": "2a254bc0-d637-4804-9f8c-939280ccf06a",
   "metadata": {},
   "outputs": [
    {
     "data": {
      "text/plain": [
       "array([[ 4,  7, 19, 15],\n",
       "       [ 9, 11, 15, 10],\n",
       "       [14,  4, 17, 15],\n",
       "       [ 0,  0,  0,  0],\n",
       "       [ 0,  0,  0,  0]])"
      ]
     },
     "execution_count": 85,
     "metadata": {},
     "output_type": "execute_result"
    }
   ],
   "source": [
    "a"
   ]
  },
  {
   "cell_type": "code",
   "execution_count": 86,
   "id": "bf77f082-7322-480d-9ceb-7ae6f11c06d6",
   "metadata": {},
   "outputs": [
    {
     "data": {
      "text/plain": [
       "array([[ 4,  7, 19, 15],\n",
       "       [ 9, 11, 15, 10],\n",
       "       [14,  4, 17, 15],\n",
       "       [ 0,  0,  0,  0],\n",
       "       [ 0,  0,  0,  0]])"
      ]
     },
     "execution_count": 86,
     "metadata": {},
     "output_type": "execute_result"
    }
   ],
   "source": [
    "a"
   ]
  },
  {
   "cell_type": "code",
   "execution_count": 96,
   "id": "ce3d5b8c-44c4-41de-a412-97ea01215594",
   "metadata": {},
   "outputs": [],
   "source": [
    "# third time resize krne per\n",
    "a.resize(6,5,refcheck=False)"
   ]
  },
  {
   "cell_type": "code",
   "execution_count": 97,
   "id": "e3ba3244-8d62-4953-b320-95bb8e6e2c5c",
   "metadata": {},
   "outputs": [
    {
     "data": {
      "text/plain": [
       "array([[ 4,  7, 19, 15,  9],\n",
       "       [11, 15, 10, 14,  4],\n",
       "       [17, 15,  0,  0,  0],\n",
       "       [ 0,  0,  0,  0,  0],\n",
       "       [ 0,  0,  0,  0,  0],\n",
       "       [ 0,  0,  0,  0,  0]])"
      ]
     },
     "execution_count": 97,
     "metadata": {},
     "output_type": "execute_result"
    }
   ],
   "source": [
    "a"
   ]
  },
  {
   "cell_type": "code",
   "execution_count": 98,
   "id": "d71a33f2-a9b2-4957-b3a4-b505303714d4",
   "metadata": {},
   "outputs": [
    {
     "name": "stdout",
     "output_type": "stream",
     "text": [
      "None\n"
     ]
    }
   ],
   "source": [
    "# third time resize krne per\n",
    "r=a.resize(6,5,refcheck=False)\n",
    "print(r)"
   ]
  },
  {
   "cell_type": "markdown",
   "id": "45793112-98c7-4e01-9714-dc8d2f7decd1",
   "metadata": {},
   "source": [
    "- **function** and **method** dono hai kya kisi code ke liye"
   ]
  },
  {
   "cell_type": "code",
   "execution_count": 101,
   "id": "5cc00de6-aed5-4843-b1a2-e707b02a1574",
   "metadata": {},
   "outputs": [
    {
     "name": "stdout",
     "output_type": "stream",
     "text": [
      "[ 0  1  2  3  4  5  6  7  8  9 10 11 12 13 14 15 16 17 18 19]\n"
     ]
    }
   ],
   "source": [
    "a=np.arange(20)\n",
    "print(a)"
   ]
  },
  {
   "cell_type": "code",
   "execution_count": 106,
   "id": "45fb7179-f66e-4ae4-b064-69dc753f3117",
   "metadata": {},
   "outputs": [
    {
     "name": "stdout",
     "output_type": "stream",
     "text": [
      "190 190\n",
      "9.5 9.5\n",
      "0 0\n",
      "19 19\n"
     ]
    }
   ],
   "source": [
    "print(np.sum(a),a.sum())\n",
    "print(np.mean(a),a.mean())\n",
    "#print(np.median(a),a.median())     #median ---function hai. but method nhi hota \n",
    "print(np.min(a),a.min())\n",
    "print(np.max(a),a.max())\n"
   ]
  },
  {
   "cell_type": "code",
   "execution_count": 124,
   "id": "4de03a92-5b49-48fa-af0f-338e416c6319",
   "metadata": {},
   "outputs": [
    {
     "name": "stdout",
     "output_type": "stream",
     "text": [
      "43\n",
      "1\n",
      "23\n",
      "7.166666666666667\n",
      "5.0\n"
     ]
    },
    {
     "ename": "AttributeError",
     "evalue": "module 'numpy' has no attribute 'mode'",
     "output_type": "error",
     "traceback": [
      "\u001b[1;31m---------------------------------------------------------------------------\u001b[0m",
      "\u001b[1;31mAttributeError\u001b[0m                            Traceback (most recent call last)",
      "Cell \u001b[1;32mIn[124], line 6\u001b[0m\n\u001b[0;32m      4\u001b[0m \u001b[38;5;28mprint\u001b[39m(np\u001b[38;5;241m.\u001b[39mmean([\u001b[38;5;241m1\u001b[39m,\u001b[38;5;241m23\u001b[39m,\u001b[38;5;241m5\u001b[39m,\u001b[38;5;241m4\u001b[39m,\u001b[38;5;241m5\u001b[39m,\u001b[38;5;241m5\u001b[39m,]))\n\u001b[0;32m      5\u001b[0m \u001b[38;5;28mprint\u001b[39m(np\u001b[38;5;241m.\u001b[39mmedian([\u001b[38;5;241m1\u001b[39m,\u001b[38;5;241m23\u001b[39m,\u001b[38;5;241m5\u001b[39m,\u001b[38;5;241m4\u001b[39m,\u001b[38;5;241m5\u001b[39m,\u001b[38;5;241m5\u001b[39m,\u001b[38;5;241m55\u001b[39m]))\n\u001b[1;32m----> 6\u001b[0m \u001b[38;5;28mprint\u001b[39m(\u001b[43mnp\u001b[49m\u001b[38;5;241;43m.\u001b[39;49m\u001b[43mmode\u001b[49m([\u001b[38;5;241m1\u001b[39m,\u001b[38;5;241m23\u001b[39m,\u001b[38;5;241m5\u001b[39m,\u001b[38;5;241m4\u001b[39m,\u001b[38;5;241m5\u001b[39m,\u001b[38;5;241m5\u001b[39m,\u001b[38;5;241m55\u001b[39m]))\n",
      "File \u001b[1;32m~\\anaconda3\\lib\\site-packages\\numpy\\__init__.py:311\u001b[0m, in \u001b[0;36m__getattr__\u001b[1;34m(attr)\u001b[0m\n\u001b[0;32m    308\u001b[0m     \u001b[38;5;28;01mfrom\u001b[39;00m \u001b[38;5;21;01m.\u001b[39;00m\u001b[38;5;21;01mtesting\u001b[39;00m \u001b[38;5;28;01mimport\u001b[39;00m Tester\n\u001b[0;32m    309\u001b[0m     \u001b[38;5;28;01mreturn\u001b[39;00m Tester\n\u001b[1;32m--> 311\u001b[0m \u001b[38;5;28;01mraise\u001b[39;00m \u001b[38;5;167;01mAttributeError\u001b[39;00m(\u001b[38;5;124m\"\u001b[39m\u001b[38;5;124mmodule \u001b[39m\u001b[38;5;132;01m{!r}\u001b[39;00m\u001b[38;5;124m has no attribute \u001b[39m\u001b[38;5;124m\"\u001b[39m\n\u001b[0;32m    312\u001b[0m                      \u001b[38;5;124m\"\u001b[39m\u001b[38;5;132;01m{!r}\u001b[39;00m\u001b[38;5;124m\"\u001b[39m\u001b[38;5;241m.\u001b[39mformat(\u001b[38;5;18m__name__\u001b[39m, attr))\n",
      "\u001b[1;31mAttributeError\u001b[0m: module 'numpy' has no attribute 'mode'"
     ]
    }
   ],
   "source": [
    "print(np.sum([1,23,5,4,5,5,]))\n",
    "print(np.min([1,23,5,4,5,5,]))\n",
    "print(np.max([1,23,5,4,5,5,]))\n",
    "print(np.mean([1,23,5,4,5,5,]))\n",
    "print(np.median([1,23,5,4,5,5,55]))\n",
    "print(np.mode([1,23,5,4,5,5,55]))"
   ]
  },
  {
   "cell_type": "code",
   "execution_count": null,
   "id": "83eaad01-c194-4671-834a-0ebb240c0a6e",
   "metadata": {},
   "outputs": [],
   "source": []
  }
 ],
 "metadata": {
  "kernelspec": {
   "display_name": "Python 3 (ipykernel)",
   "language": "python",
   "name": "python3"
  },
  "language_info": {
   "codemirror_mode": {
    "name": "ipython",
    "version": 3
   },
   "file_extension": ".py",
   "mimetype": "text/x-python",
   "name": "python",
   "nbconvert_exporter": "python",
   "pygments_lexer": "ipython3",
   "version": "3.10.9"
  }
 },
 "nbformat": 4,
 "nbformat_minor": 5
}
