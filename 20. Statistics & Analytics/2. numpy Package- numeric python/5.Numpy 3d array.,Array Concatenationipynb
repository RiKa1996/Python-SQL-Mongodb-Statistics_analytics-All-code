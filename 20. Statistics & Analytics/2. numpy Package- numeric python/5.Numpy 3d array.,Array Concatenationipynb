{
 "cells": [
  {
   "cell_type": "markdown",
   "id": "1eecccb1-588e-4f56-b1d8-1e1f72b9535d",
   "metadata": {},
   "source": [
    "### **Numpy 3d Array** \n",
    "    - array of 2d arrays\n",
    "    - use to represent color images"
   ]
  },
  {
   "cell_type": "code",
   "execution_count": 2,
   "id": "73bcacf4-b343-4407-8469-5144726578dc",
   "metadata": {},
   "outputs": [],
   "source": [
    "import numpy as np"
   ]
  },
  {
   "cell_type": "code",
   "execution_count": 5,
   "id": "bce83079-f3c6-42b1-877e-f9653a924800",
   "metadata": {},
   "outputs": [
    {
     "name": "stdout",
     "output_type": "stream",
     "text": [
      "[[7 3 5]\n",
      " [2 2 1]\n",
      " [8 8 3]]\n"
     ]
    }
   ],
   "source": [
    "a=np.random.randint(1,10,(3,3))\n",
    "print(a)"
   ]
  },
  {
   "cell_type": "code",
   "execution_count": 6,
   "id": "ed07f1b1-12c1-4812-8d83-54d2d1413c2f",
   "metadata": {},
   "outputs": [
    {
     "name": "stdout",
     "output_type": "stream",
     "text": [
      "[ 0  1  2  3  4  5  6  7  8  9 10 11]\n"
     ]
    }
   ],
   "source": [
    "a=np.arange(12)\n",
    "print(a)"
   ]
  },
  {
   "cell_type": "markdown",
   "id": "f8038d49-4b9a-410f-bc46-dedb14622c40",
   "metadata": {},
   "source": [
    "- **(2,4,4)** 2 is len of 3d array , 4 and 4 is row and column"
   ]
  },
  {
   "cell_type": "code",
   "execution_count": 7,
   "id": "46d160de-47ae-40a3-8683-c53f69ff48d0",
   "metadata": {},
   "outputs": [
    {
     "name": "stdout",
     "output_type": "stream",
     "text": [
      "[[[49 28 23 21]\n",
      "  [35 22 30 43]\n",
      "  [18 33 10 43]\n",
      "  [ 5 20 18 43]]\n",
      "\n",
      " [[27 30 29 28]\n",
      "  [20  5  9 22]\n",
      "  [ 7 22 41 19]\n",
      "  [40 19 11 40]]]\n",
      "3\n"
     ]
    }
   ],
   "source": [
    "d=np.random.randint(5,50,(2,4,4))     #(2,4,4) 2 is len of 3d array , 4 and 4 is row and column\n",
    "print(d)\n",
    "print(d.ndim)"
   ]
  },
  {
   "cell_type": "code",
   "execution_count": 8,
   "id": "4b109f75-859b-4510-bb8b-5b347d3f48bd",
   "metadata": {},
   "outputs": [
    {
     "name": "stdout",
     "output_type": "stream",
     "text": [
      "[[[[ 9 23 14 11]\n",
      "   [26 38 18 28]\n",
      "   [ 6 36 41 44]\n",
      "   [15 26 27 40]]\n",
      "\n",
      "  [[36 23 34 16]\n",
      "   [24 19 48 40]\n",
      "   [21  7  6 26]\n",
      "   [40 36 34  6]]\n",
      "\n",
      "  [[43 32 45 45]\n",
      "   [10 23 14 22]\n",
      "   [33 34 25 48]\n",
      "   [17  6 12 30]]]\n",
      "\n",
      "\n",
      " [[[31 26 31 43]\n",
      "   [26 41 47 11]\n",
      "   [ 9 21  9 32]\n",
      "   [20 39 24 45]]\n",
      "\n",
      "  [[ 8 41 29 33]\n",
      "   [13 23  8 37]\n",
      "   [ 7 46 37 26]\n",
      "   [30 14 31 44]]\n",
      "\n",
      "  [[12 44 49  6]\n",
      "   [ 5 12 46 26]\n",
      "   [24 44 14  6]\n",
      "   [30  5 23  7]]]]\n",
      "4\n"
     ]
    }
   ],
   "source": [
    "d=np.random.randint(5,50,(2,3,4,4))     #(2,4,4) 2 is len of 4d array , 4 and 4 is row and column\n",
    "print(d)\n",
    "print(d.ndim)"
   ]
  },
  {
   "cell_type": "markdown",
   "id": "6efaf612-8fdb-43ce-81c0-3c72ffcb743a",
   "metadata": {},
   "source": [
    "### **Array Concatenation**"
   ]
  },
  {
   "cell_type": "code",
   "execution_count": 9,
   "id": "8dc40912-4b79-4801-b0b3-c892c90f6d71",
   "metadata": {},
   "outputs": [
    {
     "name": "stdout",
     "output_type": "stream",
     "text": [
      "[2 7 7 4 3]\n",
      "[5 7 7 3 7]\n"
     ]
    }
   ],
   "source": [
    "a=np.random.randint(1,10,(5))     #this is one D array\n",
    "b=np.random.randint(1,10,(5))\n",
    "print(a)\n",
    "print(b)"
   ]
  },
  {
   "cell_type": "code",
   "execution_count": 10,
   "id": "cbd93d88-be64-4b08-b107-8af31e37ec65",
   "metadata": {},
   "outputs": [
    {
     "name": "stdout",
     "output_type": "stream",
     "text": [
      "[ 7 14 14  7 10]\n"
     ]
    }
   ],
   "source": [
    "c=a+b     #broadcasting\n",
    "print(c)"
   ]
  },
  {
   "cell_type": "markdown",
   "id": "9aa8e850-e3f7-4be8-8ff0-e19addf8ed42",
   "metadata": {},
   "source": [
    "- 2 array ko mearg kr ke ek 1d array banana(but ye 2d array hi banata hai.)\n",
    "- **vstack function**--------------verticla stack"
   ]
  },
  {
   "cell_type": "code",
   "execution_count": 11,
   "id": "8003553d-5ed2-49da-8f79-2da658cddb65",
   "metadata": {},
   "outputs": [
    {
     "name": "stdout",
     "output_type": "stream",
     "text": [
      "[[2 7 7 4 3]\n",
      " [5 7 7 3 7]]\n",
      "2\n"
     ]
    }
   ],
   "source": [
    "d=np.vstack((a,b))          #abhi ye conbind hoke 2d array ban gya hai.\n",
    "print(d)\n",
    "print(d.ndim)"
   ]
  },
  {
   "cell_type": "markdown",
   "id": "e3de7de4-b596-4f34-aba0-1a0b4caf8367",
   "metadata": {},
   "source": [
    "- but hume concatenation krne ke , variable a and b ko **1d array** banana hai.\n",
    "- **hstack function**--------horizental stack"
   ]
  },
  {
   "cell_type": "code",
   "execution_count": 12,
   "id": "a22424cd-7b00-42a3-9764-8d41ef9b6e03",
   "metadata": {},
   "outputs": [
    {
     "name": "stdout",
     "output_type": "stream",
     "text": [
      "[2 7 7 4 3 5 7 7 3 7]\n",
      "1\n"
     ]
    }
   ],
   "source": [
    "e=np.hstack((a,b))\n",
    "print(e)\n",
    "print(e.ndim)"
   ]
  },
  {
   "cell_type": "markdown",
   "id": "1cd537c5-2647-4f0e-92b5-f26acfd1e00f",
   "metadata": {},
   "source": [
    "- 2 array ko concatenation krne ke liye \n",
    "- **concatenate function**"
   ]
  },
  {
   "cell_type": "code",
   "execution_count": 13,
   "id": "f3810440-d6e4-42e4-b5fc-2303eb7caa56",
   "metadata": {},
   "outputs": [
    {
     "name": "stdout",
     "output_type": "stream",
     "text": [
      "[2 7 7 4 3]\n",
      "[5 7 7 3 7]\n"
     ]
    }
   ],
   "source": [
    "print(a)\n",
    "print(b)"
   ]
  },
  {
   "cell_type": "code",
   "execution_count": 14,
   "id": "f07474bf-14d5-474e-9153-603370012823",
   "metadata": {},
   "outputs": [
    {
     "name": "stdout",
     "output_type": "stream",
     "text": [
      "[2 7 7 4 3 5 7 7 3 7]\n",
      "1\n"
     ]
    }
   ],
   "source": [
    "f=np.concatenate((a,b))\n",
    "print(f)\n",
    "print(f.ndim)"
   ]
  },
  {
   "cell_type": "markdown",
   "id": "b03b774e-6d3a-4ce0-a4e3-93d47d547ec8",
   "metadata": {},
   "source": [
    "### - two matrix ko combind kr ke ,ek tisri matrix banane ke liye.\n",
    "\n"
   ]
  },
  {
   "cell_type": "code",
   "execution_count": 15,
   "id": "8b139a27-0dc1-44a6-875b-5619a8e41ff4",
   "metadata": {},
   "outputs": [
    {
     "name": "stdout",
     "output_type": "stream",
     "text": [
      "[[2 1 8]\n",
      " [3 2 2]\n",
      " [3 6 6]]\n",
      "[[8 6 6]\n",
      " [2 2 1]\n",
      " [7 8 3]]\n"
     ]
    }
   ],
   "source": [
    "a=np.random.randint(1,9,(3,3))\n",
    "b=np.random.randint(1,9,(3,3))\n",
    "print(a)\n",
    "print(b)"
   ]
  },
  {
   "cell_type": "code",
   "execution_count": 16,
   "id": "3db388f3-8f62-494d-ac9c-170626e54ad5",
   "metadata": {},
   "outputs": [
    {
     "data": {
      "text/plain": [
       "array([[2, 1, 8],\n",
       "       [3, 2, 2],\n",
       "       [3, 6, 6],\n",
       "       [8, 6, 6],\n",
       "       [2, 2, 1],\n",
       "       [7, 8, 3]])"
      ]
     },
     "execution_count": 16,
     "metadata": {},
     "output_type": "execute_result"
    }
   ],
   "source": [
    "np.vstack((a,b))    #verticle stack me humari rows increase ho gai"
   ]
  },
  {
   "cell_type": "code",
   "execution_count": 17,
   "id": "35ec7ac0-f647-41bf-b015-ab9181a97060",
   "metadata": {},
   "outputs": [
    {
     "data": {
      "text/plain": [
       "array([[2, 1, 8, 8, 6, 6],\n",
       "       [3, 2, 2, 2, 2, 1],\n",
       "       [3, 6, 6, 7, 8, 3]])"
      ]
     },
     "execution_count": 17,
     "metadata": {},
     "output_type": "execute_result"
    }
   ],
   "source": [
    "np.hstack((a,b))    #horizontal stack me humari columns increase ho gaye"
   ]
  },
  {
   "cell_type": "code",
   "execution_count": 18,
   "id": "61efc3ac-f0a9-41d1-bccb-9eb5fa551783",
   "metadata": {},
   "outputs": [
    {
     "data": {
      "text/plain": [
       "array([[2, 1, 8],\n",
       "       [3, 2, 2],\n",
       "       [3, 6, 6],\n",
       "       [8, 6, 6],\n",
       "       [2, 2, 1],\n",
       "       [7, 8, 3]])"
      ]
     },
     "execution_count": 18,
     "metadata": {},
     "output_type": "execute_result"
    }
   ],
   "source": [
    "#axis=0 krne per as like vstack jaisa bana deta hai.---------default axis 0 hota hai.\n",
    "np.concatenate((a,b),axis=0)    #concatenate me rows increase krta hai.   "
   ]
  },
  {
   "cell_type": "code",
   "execution_count": 19,
   "id": "598a264a-fd47-4112-bcd9-86f788beee26",
   "metadata": {},
   "outputs": [
    {
     "data": {
      "text/plain": [
       "array([[2, 1, 8, 8, 6, 6],\n",
       "       [3, 2, 2, 2, 2, 1],\n",
       "       [3, 6, 6, 7, 8, 3]])"
      ]
     },
     "execution_count": 19,
     "metadata": {},
     "output_type": "execute_result"
    }
   ],
   "source": [
    "#axis=1 krne per as like hstack jaisa bana deta hai.\n",
    "np.concatenate((a,b),axis=1)   #concatenate me ab ye column increase kr dega."
   ]
  },
  {
   "cell_type": "code",
   "execution_count": 20,
   "id": "c0aff27b-d1de-46c4-9b91-fe9e8f87eb1f",
   "metadata": {},
   "outputs": [
    {
     "data": {
      "text/plain": [
       "array([2, 1, 8, 3, 2, 2, 3, 6, 6, 8, 6, 6, 2, 2, 1, 7, 8, 3])"
      ]
     },
     "execution_count": 20,
     "metadata": {},
     "output_type": "execute_result"
    }
   ],
   "source": [
    "#axis=None krne per , ye hume dono matrix ko 1d array me convert kr ke de deta hai.\n",
    "np.concatenate((a,b),axis=None)"
   ]
  },
  {
   "cell_type": "code",
   "execution_count": 21,
   "id": "101edc4e-aa0e-45bf-8351-74f480cbbf8f",
   "metadata": {},
   "outputs": [
    {
     "name": "stdout",
     "output_type": "stream",
     "text": [
      "[[2 1 8]\n",
      " [3 2 2]\n",
      " [3 6 6]]\n",
      "[[8 6 6]\n",
      " [2 2 1]\n",
      " [7 8 3]]\n"
     ]
    }
   ],
   "source": [
    "print(a)\n",
    "print(b)"
   ]
  },
  {
   "cell_type": "code",
   "execution_count": 22,
   "id": "848ee249-7060-44a4-95d1-22a77643087d",
   "metadata": {},
   "outputs": [
    {
     "name": "stdout",
     "output_type": "stream",
     "text": [
      "[2 1 8 3 2 2 3 6 6]\n"
     ]
    }
   ],
   "source": [
    "a=a.flatten()\n",
    "print(a)"
   ]
  },
  {
   "cell_type": "markdown",
   "id": "a88d06dd-cfbe-4224-8144-02fbf1247026",
   "metadata": {},
   "source": [
    "- **append function**\n",
    "    - append fucntion do alag alag array ko convert krne ke liye hota hai.\n",
    "    - append function se ek new array create hota hai.\n",
    "    - ek array me kisi dusre array ko append krna."
   ]
  },
  {
   "cell_type": "code",
   "execution_count": 23,
   "id": "8045421a-022e-4570-bfa3-3fbb0637222a",
   "metadata": {},
   "outputs": [
    {
     "name": "stdout",
     "output_type": "stream",
     "text": [
      "[2 1 8 3 2 2 3 6 6 5]\n",
      "int32\n"
     ]
    }
   ],
   "source": [
    "g=np.append(a,5)\n",
    "print(g)\n",
    "print(g.dtype)"
   ]
  },
  {
   "cell_type": "code",
   "execution_count": 25,
   "id": "106a8d45-2964-4b87-af0d-b03e280e593b",
   "metadata": {},
   "outputs": [
    {
     "name": "stdout",
     "output_type": "stream",
     "text": [
      "[  2   1   8   3   2   2   3   6   6 500]\n",
      "int32\n"
     ]
    }
   ],
   "source": [
    "g=np.append(a,500)\n",
    "print(g)\n",
    "print(g.dtype)"
   ]
  },
  {
   "cell_type": "markdown",
   "id": "dd6a5cc0-eadd-4fdb-bfcf-2eb06aa8b838",
   "metadata": {},
   "source": [
    "- **insert function**\n",
    "    - kisi bhi exiting array ke ander , kisi bhi perticular index pe apni value ko **insert** kr skte hai.\n",
    "    - ye new array banata hai."
   ]
  },
  {
   "cell_type": "code",
   "execution_count": 26,
   "id": "44fc8f3b-5524-452b-9523-d9c342fe7542",
   "metadata": {},
   "outputs": [
    {
     "name": "stdout",
     "output_type": "stream",
     "text": [
      "[  2   1   8   3   2   2   3   6   6 500]\n"
     ]
    }
   ],
   "source": [
    "print(g)"
   ]
  },
  {
   "cell_type": "code",
   "execution_count": 27,
   "id": "5e36242f-ae4f-4e01-a9de-87be39b6e874",
   "metadata": {},
   "outputs": [
    {
     "name": "stdout",
     "output_type": "stream",
     "text": [
      "[   2    1 1000    8    3    2    2    3    6    6  500]\n"
     ]
    }
   ],
   "source": [
    "a=np.insert(g,2,1000)\n",
    "print(a)"
   ]
  },
  {
   "cell_type": "code",
   "execution_count": 28,
   "id": "f61ba6e6-5ef2-4262-80ac-012387b6b60e",
   "metadata": {},
   "outputs": [
    {
     "data": {
      "text/plain": [
       "array([   2,    1, 1000,    8,    3,    2,    2,    3,    6,    6,  500])"
      ]
     },
     "execution_count": 28,
     "metadata": {},
     "output_type": "execute_result"
    }
   ],
   "source": [
    "a"
   ]
  },
  {
   "cell_type": "code",
   "execution_count": 29,
   "id": "5f3389f4-408d-433b-b96b-d9b23fc879d2",
   "metadata": {},
   "outputs": [
    {
     "name": "stdout",
     "output_type": "stream",
     "text": [
      "[   2    1 1000    8   30   40   50   60   70   80   90    3    2    2\n",
      "    3    6    6  500]\n"
     ]
    }
   ],
   "source": [
    "#ek sath multiple values ko bhi insert kr skte hai.\n",
    "b=np.insert(a,4,[30,40,50,60,70,80,90])\n",
    "print(b)"
   ]
  },
  {
   "cell_type": "markdown",
   "id": "06ea2422-dafc-4250-83b2-c29de362be5d",
   "metadata": {},
   "source": [
    "- **delete function**\n",
    "    - delete function se kisi bhi exiting array me, kisi bhi perticular indexd ki value ko **delete** kr skte hai."
   ]
  },
  {
   "cell_type": "code",
   "execution_count": 30,
   "id": "5070a44c-9255-4af9-9a86-38736291fb81",
   "metadata": {},
   "outputs": [
    {
     "name": "stdout",
     "output_type": "stream",
     "text": [
      "[   2    1 1000    8   30   40   50   60   70   80   90    3    2    2\n",
      "    3    6    6  500]\n"
     ]
    }
   ],
   "source": [
    "print(b)"
   ]
  },
  {
   "cell_type": "code",
   "execution_count": 31,
   "id": "4fca6abb-8cb4-4534-ac51-51916ff08d78",
   "metadata": {},
   "outputs": [
    {
     "name": "stdout",
     "output_type": "stream",
     "text": [
      "[  2   1   8  30  40  50  60  70  80  90   3   2   2   3   6   6 500]\n"
     ]
    }
   ],
   "source": [
    "d=np.delete(b,2)\n",
    "print(d)"
   ]
  },
  {
   "cell_type": "code",
   "execution_count": 32,
   "id": "b787315f-4a73-4ed9-a4c5-a1a96569f645",
   "metadata": {},
   "outputs": [
    {
     "name": "stdout",
     "output_type": "stream",
     "text": [
      "[  2   1   8  30  40  50  60  70  80  90   3   2   2   3   6   6 500]\n",
      "[  2   1   8  60  80  90   3   2   2   3   6   6 500]\n"
     ]
    }
   ],
   "source": [
    "#ek sath multiple values ko bhi delete kr skte hai.\n",
    "print(d)\n",
    "e=np.delete(d,[3,4,5,7])\n",
    "print(e)"
   ]
  },
  {
   "cell_type": "code",
   "execution_count": 33,
   "id": "0c0587a4-2bea-41b7-bdb1-776099cf798c",
   "metadata": {},
   "outputs": [
    {
     "name": "stdout",
     "output_type": "stream",
     "text": [
      "[  2   1   8  60  80  90   3   2   2   3   6   6 500]\n"
     ]
    }
   ],
   "source": [
    "print(e)"
   ]
  },
  {
   "cell_type": "markdown",
   "id": "efcf31cd-6ef0-45a5-b8a4-6b4ce154e42f",
   "metadata": {},
   "source": [
    "- **Array ko break krna**"
   ]
  },
  {
   "cell_type": "code",
   "execution_count": 34,
   "id": "29db2031-cf2d-4fdb-b4c7-2c9d5f5f1cbf",
   "metadata": {},
   "outputs": [
    {
     "name": "stdout",
     "output_type": "stream",
     "text": [
      "[   2    1 1000    8    3    2    2    3    6    6  500]\n"
     ]
    }
   ],
   "source": [
    "print(a)"
   ]
  },
  {
   "cell_type": "code",
   "execution_count": 35,
   "id": "5979f63c-b336-42eb-85c3-b5cfcf6736c5",
   "metadata": {},
   "outputs": [
    {
     "name": "stdout",
     "output_type": "stream",
     "text": [
      "[   2    1 1000    8    3]\n",
      "[2 3 6 6]\n"
     ]
    }
   ],
   "source": [
    "a1=a[0:5]\n",
    "a2=a[6:-1]\n",
    "print(a1)\n",
    "print(a2)"
   ]
  },
  {
   "cell_type": "markdown",
   "id": "a497f884-cd12-473c-8e2b-39a915362244",
   "metadata": {},
   "source": [
    "- **vsplit function**-----------rows wise\n",
    "- **hsplit function**-----------columns wise"
   ]
  },
  {
   "cell_type": "code",
   "execution_count": 47,
   "id": "31267e45-2f93-4607-b87d-ae8bc0f57023",
   "metadata": {},
   "outputs": [
    {
     "name": "stdout",
     "output_type": "stream",
     "text": [
      "[[5 3 7 1]\n",
      " [4 1 4 5]\n",
      " [8 1 4 2]]\n"
     ]
    }
   ],
   "source": [
    "a=np.random.randint(1,9,(3,4))\n",
    "print(a)"
   ]
  },
  {
   "cell_type": "code",
   "execution_count": 50,
   "id": "bc6e816c-00cc-4231-a2e0-bbec72e51e7d",
   "metadata": {},
   "outputs": [
    {
     "data": {
      "text/plain": [
       "[array([[5, 3, 7, 1]]), array([[4, 1, 4, 5]]), array([[8, 1, 4, 2]])]"
      ]
     },
     "execution_count": 50,
     "metadata": {},
     "output_type": "execute_result"
    }
   ],
   "source": [
    "np.vsplit(a,(3))"
   ]
  },
  {
   "cell_type": "code",
   "execution_count": 52,
   "id": "f1145098-c517-45a3-9f71-0f476121d3aa",
   "metadata": {},
   "outputs": [
    {
     "data": {
      "text/plain": [
       "[array([[5],\n",
       "        [4],\n",
       "        [8]]),\n",
       " array([[3],\n",
       "        [1],\n",
       "        [1]]),\n",
       " array([[7],\n",
       "        [4],\n",
       "        [4]]),\n",
       " array([[1],\n",
       "        [5],\n",
       "        [2]])]"
      ]
     },
     "execution_count": 52,
     "metadata": {},
     "output_type": "execute_result"
    }
   ],
   "source": [
    "np.hsplit(a,4)"
   ]
  },
  {
   "cell_type": "code",
   "execution_count": null,
   "id": "2b0208bd-cd01-42ce-b39b-0c24fca664fe",
   "metadata": {},
   "outputs": [],
   "source": []
  }
 ],
 "metadata": {
  "kernelspec": {
   "display_name": "Python 3 (ipykernel)",
   "language": "python",
   "name": "python3"
  },
  "language_info": {
   "codemirror_mode": {
    "name": "ipython",
    "version": 3
   },
   "file_extension": ".py",
   "mimetype": "text/x-python",
   "name": "python",
   "nbconvert_exporter": "python",
   "pygments_lexer": "ipython3",
   "version": "3.10.9"
  }
 },
 "nbformat": 4,
 "nbformat_minor": 5
}
