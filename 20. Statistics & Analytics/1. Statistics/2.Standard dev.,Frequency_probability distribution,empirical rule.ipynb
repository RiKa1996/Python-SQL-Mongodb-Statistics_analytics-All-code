{
 "cells": [
  {
   "cell_type": "markdown",
   "id": "2db8d811-8189-4afa-9257-29fca4054ff1",
   "metadata": {},
   "source": [
    "### STANDARD DEVIATION(std.)\n",
    "- it tells spread of data around **mean**\n",
    "- high std means data points are far away from **mean**\n",
    "- low std means data points are near by **mean**\n",
    "- first of fall we need to find **variance**--------in maths, std is **sqrt** of **variance**.\n",
    "- variance nikale ka formula\n",
    "    - avarage me minus krege har value ko---like 60-40=20,60-80=-20\n",
    "    - then 20 and -20 ka sqrt krege taki minus wali value plus ho jaye\n",
    "    - then use plus kr ke on an average use us value se devide kr dege like variance= (400+400)/2\n",
    "    - std= sqrt of variance\n",
    "- variance formula=\n",
    "    - v=∑(mean-value) ka squqr divide by N\n",
    "- std ka formula-------- ye **Population** nikalne ke liye use hota hai. \n",
    "    - variance ka sqrt kr dene per standard deviation ka formula aa jata hai.\n",
    "        - **∑(mean-value) ka squqr divide by N** ----------in sabhi ka squr root \n",
    "- std ka formula-------- ye **sample** nikalne ke liye use hota hai.\n",
    "    - **∑(mean-value) ka squqr divide by N-1**"
   ]
  },
  {
   "cell_type": "code",
   "execution_count": 1,
   "id": "fa4f7078-e4f3-475a-8af3-6c5905a0caea",
   "metadata": {},
   "outputs": [],
   "source": [
    "import statistics"
   ]
  },
  {
   "cell_type": "code",
   "execution_count": 3,
   "id": "3c388c3e-5465-46c4-b1fd-23949413d7f4",
   "metadata": {},
   "outputs": [
    {
     "name": "stdout",
     "output_type": "stream",
     "text": [
      "60\n",
      "60\n"
     ]
    }
   ],
   "source": [
    "#mean\n",
    "x=[40,60,80]\n",
    "y=[59,60,61]\n",
    "print(statistics.mean(x))\n",
    "print(statistics.mean(y))"
   ]
  },
  {
   "cell_type": "markdown",
   "id": "202acd62-6589-4959-a7ad-ab81e3adf1f4",
   "metadata": {},
   "source": [
    "#### **standard deviation** (s) small s for **sample**---------------**x bar** se represent krte hai."
   ]
  },
  {
   "cell_type": "code",
   "execution_count": 13,
   "id": "7401ef70-76a6-43b3-8067-1ed66e6f330b",
   "metadata": {},
   "outputs": [
    {
     "name": "stdout",
     "output_type": "stream",
     "text": [
      "70 25.81988897471611\n",
      "60.333333333333336 1.5275252316519468\n"
     ]
    }
   ],
   "source": [
    "#standard deviation\n",
    "x=[40,60,80,100]\n",
    "y=[59,60,62]\n",
    "print(statistics.mean(x),statistics.stdev(x))        #high std means data points are far away from mean------by default ye hume sample ka standard deviation deta hai.\n",
    "print(statistics.mean(y),statistics.stdev(y))        #low std means data points are near by mean"
   ]
  },
  {
   "cell_type": "markdown",
   "id": "be60eaf8-003e-4824-9816-a68d56155f43",
   "metadata": {},
   "source": [
    "#### **standard deviation** (σ) row/ sigma for **Population**------------**μ** se represent krte hai."
   ]
  },
  {
   "cell_type": "code",
   "execution_count": 16,
   "id": "2adedab5-300d-4c3d-b4a7-aa9b50909889",
   "metadata": {},
   "outputs": [
    {
     "name": "stdout",
     "output_type": "stream",
     "text": [
      "70 22.360679774997898\n",
      "60.333333333333336 1.247219128924647\n"
     ]
    }
   ],
   "source": [
    "print(statistics.mean(x),statistics.pstdev(x))        \n",
    "print(statistics.mean(y),statistics.pstdev(y))"
   ]
  },
  {
   "cell_type": "markdown",
   "id": "a8d84063-fa0d-423a-9677-917b98c38782",
   "metadata": {},
   "source": [
    "### Frequency/Probability Distribution -----(bell curve distribution)\n",
    "- Uniform Distribution-----is distribution me sabhi ek saman hote hai isme koi bhed bhaw nhi hota. example: ludo ki dies 100 bar thorow krne per 6 aane ki probability.\n",
    "- Normal Distributiton-----is me sabhi alag alag hote hai======mean=median=mode----jb kisi data ka mean,median,mode barabar aaye to wo normal distribution hota hai.\n",
    "- Left Skewed Distribution----assending order me badna left skewed distribution khlata hai.======example: student ka exam easy aane per student jyada pass hone ki probability\n",
    "- Right Skewed Distribution---decending order me gatna right skewed distribution khlata hai.=====example: student ka exam hard aane  per student ke pass na none ki probability.\n",
    "etc."
   ]
  },
  {
   "cell_type": "markdown",
   "id": "88f31736-959d-44bf-a287-e9c49da6c81e",
   "metadata": {},
   "source": [
    "#### Empirical rule of standard deviation\n",
    "- Empirical rule jbhi lie krti hai jb humara distrivution **Normal Distribution** ho.\n",
    "- empirical formula\n",
    "    - **mode=3median−2mean**\n",
    "- empirical rule humare data ko 3 part me devide krta hai.\n",
    "    - 68%--approx. 68% within 1 std of mean\n",
    "    - 94%--approx. 94% within 2 std of mean\n",
    "    - 99.7%--approx. 99.7% within 3 std of mean"
   ]
  },
  {
   "cell_type": "code",
   "execution_count": 18,
   "id": "4881177a-0fbc-4366-9a32-1d580b70b51c",
   "metadata": {},
   "outputs": [],
   "source": [
    "#ye mai sirf aise hi try kr rha tha\n",
    "import random"
   ]
  },
  {
   "cell_type": "code",
   "execution_count": 24,
   "id": "37f9d49b-7621-4aef-aa02-fa387c444f4c",
   "metadata": {},
   "outputs": [
    {
     "name": "stdout",
     "output_type": "stream",
     "text": [
      "[16, 4, 6, 14, 7, 8, 4, 13, 11, 2, 18, 9, 16, 14, 14, 13, 5, 20, 3, 7, 19, 1, 13, 14, 6, 15, 4, 5, 15, 20, 4, 18, 4, 20, 10, 17, 14, 3, 16, 6, 13, 9, 19, 4, 6, 18, 14, 2, 14, 2]\n"
     ]
    }
   ],
   "source": [
    "x=[]\n",
    "for i in range(50):\n",
    "    x.append(random.randint(1,20))\n",
    "print(x)"
   ]
  },
  {
   "cell_type": "code",
   "execution_count": 25,
   "id": "38ff850b-f5f7-4282-96c4-7ca8bc5eef22",
   "metadata": {},
   "outputs": [
    {
     "name": "stdout",
     "output_type": "stream",
     "text": [
      "529\n",
      "10.58\n",
      "5.921562121533783\n"
     ]
    }
   ],
   "source": [
    "print(sum(x))\n",
    "print(statistics.mean(x))\n",
    "print(statistics.stdev(x))"
   ]
  },
  {
   "cell_type": "code",
   "execution_count": 27,
   "id": "cc066a94-2c48-4588-91e4-af3310350666",
   "metadata": {},
   "outputs": [
    {
     "data": {
      "text/plain": [
       "10.58"
      ]
     },
     "execution_count": 27,
     "metadata": {},
     "output_type": "execute_result"
    }
   ],
   "source": [
    "529/50\n"
   ]
  },
  {
   "cell_type": "code",
   "execution_count": null,
   "id": "400b2a1c-20d6-416a-9095-202f8cb19ab4",
   "metadata": {},
   "outputs": [],
   "source": []
  }
 ],
 "metadata": {
  "kernelspec": {
   "display_name": "Python 3 (ipykernel)",
   "language": "python",
   "name": "python3"
  },
  "language_info": {
   "codemirror_mode": {
    "name": "ipython",
    "version": 3
   },
   "file_extension": ".py",
   "mimetype": "text/x-python",
   "name": "python",
   "nbconvert_exporter": "python",
   "pygments_lexer": "ipython3",
   "version": "3.10.9"
  }
 },
 "nbformat": 4,
 "nbformat_minor": 5
}
