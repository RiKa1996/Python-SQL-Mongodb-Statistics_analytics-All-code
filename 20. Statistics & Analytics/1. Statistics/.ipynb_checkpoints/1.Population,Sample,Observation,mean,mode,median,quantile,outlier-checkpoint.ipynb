{
 "cells": [
  {
   "cell_type": "markdown",
   "id": "19555e6e-e080-44db-a736-752f07d24433",
   "metadata": {},
   "source": [
    "### **Population, Sample, Observation**\n",
    "- Whole dataset of a problem--------------->Population\n",
    "- A subset of a obtained from **Population** ------------------>Sample\n",
    "- Each data point(value) in **Population or Sample**------------>Observation"
   ]
  },
  {
   "cell_type": "code",
   "execution_count": 3,
   "id": "a73c5c20-2ee5-4b70-9d99-60149138eb96",
   "metadata": {},
   "outputs": [
    {
     "name": "stdout",
     "output_type": "stream",
     "text": [
      "[1, 2, 3, 4, 5, 6, 7, 8, 9, 10, 11, 12, 13, 14, 15, 16, 17, 18, 19, 20, 21, 22, 23, 24, 25, 26, 27, 28, 29, 30, 31, 32, 33, 34, 35, 36, 37, 38, 39, 40, 41, 42, 43, 44, 45, 46, 47, 48, 49, 50, 51, 52, 53, 54, 55, 56, 57, 58, 59, 60, 61, 62, 63, 64, 65, 66, 67, 68, 69, 70, 71, 72, 73, 74, 75, 76, 77, 78, 79, 80, 81, 82, 83, 84, 85, 86, 87, 88, 89, 90, 91, 92, 93, 94, 95, 96, 97, 98, 99]\n"
     ]
    }
   ],
   "source": [
    "# Population\n",
    "p=list(range(1,100))\n",
    "print(p)"
   ]
  },
  {
   "cell_type": "code",
   "execution_count": 4,
   "id": "70fcdb69-5419-4bc7-935e-32697aaf1e20",
   "metadata": {},
   "outputs": [],
   "source": [
    "# Random Sampling\n",
    "# 2. with replacment\n",
    "\n",
    "import random"
   ]
  },
  {
   "cell_type": "code",
   "execution_count": 8,
   "id": "6e7c0afe-47fa-4e25-b045-5083a0cd3687",
   "metadata": {},
   "outputs": [
    {
     "data": {
      "text/plain": [
       "[21, 55, 42, 97, 18, 71, 90, 49, 65, 38, 78, 96, 63, 44, 8]"
      ]
     },
     "execution_count": 8,
     "metadata": {},
     "output_type": "execute_result"
    }
   ],
   "source": [
    "# 1. without replacment\n",
    "random.sample(p,k=15)"
   ]
  },
  {
   "cell_type": "code",
   "execution_count": 21,
   "id": "fbb0a7f7-d7d2-4705-94d9-e3b73f2326a5",
   "metadata": {},
   "outputs": [
    {
     "ename": "ValueError",
     "evalue": "Sample larger than population or is negative",
     "output_type": "error",
     "traceback": [
      "\u001b[1;31m---------------------------------------------------------------------------\u001b[0m",
      "\u001b[1;31mValueError\u001b[0m                                Traceback (most recent call last)",
      "Cell \u001b[1;32mIn[21], line 2\u001b[0m\n\u001b[0;32m      1\u001b[0m \u001b[38;5;66;03m# 1. without replacment\u001b[39;00m\n\u001b[1;32m----> 2\u001b[0m \u001b[43mrandom\u001b[49m\u001b[38;5;241;43m.\u001b[39;49m\u001b[43msample\u001b[49m\u001b[43m(\u001b[49m\u001b[43mp\u001b[49m\u001b[43m,\u001b[49m\u001b[43mk\u001b[49m\u001b[38;5;241;43m=\u001b[39;49m\u001b[38;5;241;43m150\u001b[39;49m\u001b[43m)\u001b[49m\n",
      "File \u001b[1;32m~\\anaconda3\\lib\\random.py:482\u001b[0m, in \u001b[0;36mRandom.sample\u001b[1;34m(self, population, k, counts)\u001b[0m\n\u001b[0;32m    480\u001b[0m randbelow \u001b[38;5;241m=\u001b[39m \u001b[38;5;28mself\u001b[39m\u001b[38;5;241m.\u001b[39m_randbelow\n\u001b[0;32m    481\u001b[0m \u001b[38;5;28;01mif\u001b[39;00m \u001b[38;5;129;01mnot\u001b[39;00m \u001b[38;5;241m0\u001b[39m \u001b[38;5;241m<\u001b[39m\u001b[38;5;241m=\u001b[39m k \u001b[38;5;241m<\u001b[39m\u001b[38;5;241m=\u001b[39m n:\n\u001b[1;32m--> 482\u001b[0m     \u001b[38;5;28;01mraise\u001b[39;00m \u001b[38;5;167;01mValueError\u001b[39;00m(\u001b[38;5;124m\"\u001b[39m\u001b[38;5;124mSample larger than population or is negative\u001b[39m\u001b[38;5;124m\"\u001b[39m)\n\u001b[0;32m    483\u001b[0m result \u001b[38;5;241m=\u001b[39m [\u001b[38;5;28;01mNone\u001b[39;00m] \u001b[38;5;241m*\u001b[39m k\n\u001b[0;32m    484\u001b[0m setsize \u001b[38;5;241m=\u001b[39m \u001b[38;5;241m21\u001b[39m        \u001b[38;5;66;03m# size of a small set minus size of an empty list\u001b[39;00m\n",
      "\u001b[1;31mValueError\u001b[0m: Sample larger than population or is negative"
     ]
    }
   ],
   "source": [
    "# 1. without replacment\n",
    "random.sample(p,k=150)      #error--Sample larger than population or is negative"
   ]
  },
  {
   "cell_type": "code",
   "execution_count": 20,
   "id": "f75d966b-97a9-4366-8121-c4bb07443e1c",
   "metadata": {},
   "outputs": [
    {
     "name": "stdout",
     "output_type": "stream",
     "text": [
      "[39, 96, 1, 27, 79, 86, 57, 74, 86, 65, 39, 10, 8, 1, 37, 24, 5, 76, 76, 10, 52, 91, 76, 61, 82, 69, 31, 68, 40, 49, 74, 90, 42, 32, 67, 37, 75, 76, 97, 22, 1, 96, 66, 14, 13, 29, 16, 2, 73, 37, 99, 55, 52, 16, 27, 9, 83, 82, 87, 9, 14, 88, 70, 53, 81, 77, 34, 65, 29, 87, 89, 84, 88, 22, 18, 88, 24, 83, 65, 83, 47, 48, 11, 71, 31, 35, 95, 84, 22, 22, 91, 30, 70, 89, 24, 53, 51, 84, 64, 71, 28, 45, 25, 82, 71, 10, 78, 55, 74, 60, 20, 81, 18, 2, 27, 63, 27, 50, 30, 71, 7, 26, 63, 27, 52, 69, 46, 43, 16, 50, 98, 19, 22, 91, 76, 50, 34, 45, 24, 36, 56, 25, 60, 11, 97, 35, 58, 25, 75, 11]\n"
     ]
    }
   ],
   "source": [
    "# 2. with replacment\n",
    "c=random.choices(p,k=150)\n",
    "print(c)"
   ]
  },
  {
   "cell_type": "markdown",
   "id": "68160edf-9f1e-4b33-be81-aa443a802b63",
   "metadata": {},
   "source": [
    "## **Summary**\n",
    "- **Mean** (Average)\n",
    "    - Arithmetic-----arithmetic mean ko hi hum mean khte hai.\n",
    "    - Geomectric\n",
    "    - Harmonic"
   ]
  },
  {
   "cell_type": "code",
   "execution_count": 2,
   "id": "cfb8c3da-9897-45fa-878d-312072b5f763",
   "metadata": {},
   "outputs": [],
   "source": [
    "import statistics"
   ]
  },
  {
   "cell_type": "code",
   "execution_count": 2,
   "id": "8cf18aae-6f36-4f0c-943f-140c691f7f80",
   "metadata": {},
   "outputs": [
    {
     "name": "stdout",
     "output_type": "stream",
     "text": [
      "3\n",
      "2.7144176165949063\n",
      "5.0\n"
     ]
    }
   ],
   "source": [
    "print(statistics.mean([4,5,0]))\n",
    "print(statistics.geometric_mean([4,5,1]))\n",
    "print(statistics.harmonic_mean([5,5,5]))"
   ]
  },
  {
   "cell_type": "code",
   "execution_count": 48,
   "id": "043cf1e6-d73b-4099-b470-8713b08e73ea",
   "metadata": {},
   "outputs": [
    {
     "name": "stdout",
     "output_type": "stream",
     "text": [
      "15.491933384829666\n",
      "16.733200530681515\n"
     ]
    }
   ],
   "source": [
    "#movie -------rating and users\n",
    "print(statistics.geometric_mean([3,80]))\n",
    "print(statistics.geometric_mean([4,70]))"
   ]
  },
  {
   "cell_type": "code",
   "execution_count": 49,
   "id": "12f6d8c4-2dfe-4ab8-82b1-5b84e8a01d4d",
   "metadata": {},
   "outputs": [
    {
     "name": "stdout",
     "output_type": "stream",
     "text": [
      "41.5\n",
      "37\n"
     ]
    }
   ],
   "source": [
    "print(statistics.mean([3,80]))\n",
    "print(statistics.mean([4,70]))"
   ]
  },
  {
   "cell_type": "markdown",
   "id": "b1616fe9-bb1d-47c6-abaf-6f47d614e626",
   "metadata": {},
   "source": [
    "### **Mode**"
   ]
  },
  {
   "cell_type": "code",
   "execution_count": 5,
   "id": "f1648b12-dd55-4897-bb0e-0f580ddb93cb",
   "metadata": {},
   "outputs": [
    {
     "name": "stdout",
     "output_type": "stream",
     "text": [
      "p1\n"
     ]
    }
   ],
   "source": [
    "#ydi p1 aur p2 same no. huye to jo party phle aai wo print ho jati hai. but ye wrong hai.\n",
    "x=['p1','p2','p3','p1','p2','p1','p2','p2','p1']\n",
    "print(statistics.mode(x))"
   ]
  },
  {
   "cell_type": "code",
   "execution_count": 6,
   "id": "ff87594a-c9b0-421a-82d9-ea735b3f9dcb",
   "metadata": {},
   "outputs": [
    {
     "name": "stdout",
     "output_type": "stream",
     "text": [
      "p2\n"
     ]
    }
   ],
   "source": [
    "#ydi p1 aur p2 same no. huye to jo party phle aai wo print ho jati hai. but ye wrong hai.\n",
    "x=['p1','p2','p3','p2','p1','p2','p1','p2','p2','p1']\n",
    "print(statistics.mode(x))"
   ]
  },
  {
   "cell_type": "code",
   "execution_count": 9,
   "id": "576c369d-bd9f-4e8c-9fda-5551e2dffcfb",
   "metadata": {},
   "outputs": [
    {
     "name": "stdout",
     "output_type": "stream",
     "text": [
      "['p1', 'p2']\n"
     ]
    }
   ],
   "source": [
    "#ydi p1 aur p2 same no. huye to jo party phle aai wo print ho jati hai. but ye wrong hai.\n",
    "x=['p1','p1','p2','p3','p2','p1','p2','p1','p2','p2','p1']\n",
    "print(statistics.multimode(x))"
   ]
  },
  {
   "cell_type": "code",
   "execution_count": 12,
   "id": "29e65ef3-f113-450f-8f04-2e97ca7b9f1c",
   "metadata": {},
   "outputs": [
    {
     "name": "stdout",
     "output_type": "stream",
     "text": [
      "[1, 2]\n"
     ]
    }
   ],
   "source": [
    "#ydi p1 aur p2 same no. huye to jo party phle aai wo print ho jati hai. but ye wrong hai.\n",
    "x=[1,2,1,2,1,2,1,2,1,3,2,1,2]\n",
    "print(statistics.multimode(x))"
   ]
  },
  {
   "cell_type": "code",
   "execution_count": 19,
   "id": "f13be1b0-95eb-4340-84a0-ba1f1eaa1b18",
   "metadata": {},
   "outputs": [
    {
     "name": "stdout",
     "output_type": "stream",
     "text": [
      "1\n"
     ]
    }
   ],
   "source": [
    "# mode me string value ko bhi likha ja skta hai.\n",
    "x=[1,2,1,2,1,3,2,'a','b','b','v','a','a']\n",
    "print(statistics.mode(x))"
   ]
  },
  {
   "cell_type": "code",
   "execution_count": 20,
   "id": "98e58444-8057-4564-906a-5d8db2d64a24",
   "metadata": {},
   "outputs": [
    {
     "name": "stdout",
     "output_type": "stream",
     "text": [
      "[1, 2, 'a']\n"
     ]
    }
   ],
   "source": [
    "# mode me string value ko bhi likha ja skta hai.\n",
    "x=[1,2,1,2,1,3,2,'a','b','b','v','a','a']\n",
    "print(statistics.multimode(x))"
   ]
  },
  {
   "cell_type": "markdown",
   "id": "faf56667-8931-412d-85ca-964dbb34330b",
   "metadata": {},
   "source": [
    "### **Median** \n",
    "- ye hume bilkul bich ka result la ke de deta hai.\n"
   ]
  },
  {
   "cell_type": "code",
   "execution_count": 21,
   "id": "8b2532b5-7557-448c-8c5a-be080696099e",
   "metadata": {},
   "outputs": [
    {
     "ename": "SyntaxError",
     "evalue": "leading zeros in decimal integer literals are not permitted; use an 0o prefix for octal integers (1399365629.py, line 1)",
     "output_type": "error",
     "traceback": [
      "\u001b[1;36m  Cell \u001b[1;32mIn[21], line 1\u001b[1;36m\u001b[0m\n\u001b[1;33m    x=[10,2,3,02,55,22,45,10,20,35,22,12,22,25,26]\u001b[0m\n\u001b[1;37m              ^\u001b[0m\n\u001b[1;31mSyntaxError\u001b[0m\u001b[1;31m:\u001b[0m leading zeros in decimal integer literals are not permitted; use an 0o prefix for octal integers\n"
     ]
    }
   ],
   "source": [
    "x=[10,2,3,02,55,22,45,10,20,35,22,12,22,25,26]\n",
    "print(statistics.median(x))                         #leading zeros in decimal integer literals are not permitted; use an 0o prefix for octal integers"
   ]
  },
  {
   "cell_type": "code",
   "execution_count": 22,
   "id": "6a322139-a645-4ca3-9979-a21ee9eda9ff",
   "metadata": {},
   "outputs": [
    {
     "name": "stdout",
     "output_type": "stream",
     "text": [
      "22\n"
     ]
    }
   ],
   "source": [
    "x=[10,2,3,2,55,22,45,10,20,35,22,12,22,25,26]\n",
    "print(statistics.median(x))  "
   ]
  },
  {
   "cell_type": "code",
   "execution_count": 28,
   "id": "08504997-d13f-4fc1-96da-e90dd64fd002",
   "metadata": {},
   "outputs": [
    {
     "data": {
      "text/plain": [
       "[2, 2, 3, 10, 10, 12, 20, 22, 22, 22, 25, 26, 35, 45, 55]"
      ]
     },
     "execution_count": 28,
     "metadata": {},
     "output_type": "execute_result"
    }
   ],
   "source": [
    "x=[10,2,3,2,55,22,45,10,20,35,22,12,22,25,26]\n",
    "sorted(x)"
   ]
  },
  {
   "cell_type": "code",
   "execution_count": 29,
   "id": "b2c4bd83-f708-4447-a5e1-a1fb4fc15b03",
   "metadata": {},
   "outputs": [
    {
     "data": {
      "text/plain": [
       "15"
      ]
     },
     "execution_count": 29,
     "metadata": {},
     "output_type": "execute_result"
    }
   ],
   "source": [
    "len(x)"
   ]
  },
  {
   "cell_type": "code",
   "execution_count": 35,
   "id": "ad21d990-3e5b-4bec-b91a-ac5670b8f236",
   "metadata": {},
   "outputs": [
    {
     "data": {
      "text/plain": [
       "[2, 2, 3, 10, 10, 12, 20, 22, 23, 25, 26, 29, 35, 45, 55, 66]"
      ]
     },
     "execution_count": 35,
     "metadata": {},
     "output_type": "execute_result"
    }
   ],
   "source": [
    "x=[10,2,3,2,55,22,45,10,20,35,66,29,12,23,25,26]\n",
    "sorted(x)"
   ]
  },
  {
   "cell_type": "code",
   "execution_count": 36,
   "id": "6998226b-0611-4f67-8be4-8db5f594d1ae",
   "metadata": {},
   "outputs": [
    {
     "data": {
      "text/plain": [
       "16"
      ]
     },
     "execution_count": 36,
     "metadata": {},
     "output_type": "execute_result"
    }
   ],
   "source": [
    "len(x)"
   ]
  },
  {
   "cell_type": "code",
   "execution_count": 37,
   "id": "73dbc8a4-4924-486c-ac18-0c554a28d568",
   "metadata": {},
   "outputs": [
    {
     "name": "stdout",
     "output_type": "stream",
     "text": [
      "22.5\n"
     ]
    }
   ],
   "source": [
    "print(statistics.median(x))"
   ]
  },
  {
   "cell_type": "markdown",
   "id": "f5ce6c9f-a87b-4aa1-b8ac-902b421634b3",
   "metadata": {},
   "source": [
    "### **Quantiles**\n",
    "- iqr se bhi fetch kr ke outlier bhi nikala jata hai "
   ]
  },
  {
   "cell_type": "code",
   "execution_count": 41,
   "id": "375775a2-7609-457c-910d-0d740687460c",
   "metadata": {},
   "outputs": [
    {
     "name": "stdout",
     "output_type": "stream",
     "text": [
      "[2, 2, 3, 10, 10, 12, 20, 22, 23, 25, 26, 29, 35, 45, 55, 66]\n",
      "16\n",
      "[10.0, 22.5, 33.5]\n"
     ]
    }
   ],
   "source": [
    "x=[10,2,3,2,55,22,45,10,20,35,66,29,12,23,25,26]\n",
    "print(sorted(x))\n",
    "print(len(x))\n",
    "print(statistics.quantiles(x))"
   ]
  },
  {
   "cell_type": "code",
   "execution_count": 3,
   "id": "7c3e3bed-346c-4bc8-b221-f592e06b86fa",
   "metadata": {},
   "outputs": [],
   "source": [
    "import random"
   ]
  },
  {
   "cell_type": "code",
   "execution_count": 5,
   "id": "9e062650-9628-4538-903e-cecc46e860ce",
   "metadata": {},
   "outputs": [
    {
     "name": "stdout",
     "output_type": "stream",
     "text": [
      "[26, 8, 47, 40, 25, 29, 39, 18, 6, 19, 5, 37, 49, 42, 19, 12, 7, 48, 11, 15, 17, 15, 35, 26, 50, 45, 15, 39, 31, 18, 22, 2, 13, 2, 5, 2, 39, 20, 12, 41, 32, 30, 10, 34, 32, 36, 9, 34, 41, 35, 28, 16, 25, 42, 2, 5, 27, 18, 46, 27, 8, 28, 25, 33, 15, 11, 26, 20, 22, 46, 32, 42, 11, 12, 26, 12, 27, 15, 36, 32, 7, 9, 28, 49, 16, 3, 13, 1, 19, 13, 29, 2, 36, 38, 26, 8, 29, 19, 5, 47]\n"
     ]
    }
   ],
   "source": [
    "x=[]\n",
    "for i in range(100):\n",
    "    x.append(random.randint(1,50))\n",
    "print(x)"
   ]
  },
  {
   "cell_type": "code",
   "execution_count": 6,
   "id": "a224f0a7-63f7-445a-9078-6434b3062d87",
   "metadata": {},
   "outputs": [
    {
     "name": "stdout",
     "output_type": "stream",
     "text": [
      "[12.0, 25.0, 34.75]\n"
     ]
    }
   ],
   "source": [
    "print(statistics.quantiles(x))"
   ]
  },
  {
   "cell_type": "code",
   "execution_count": 15,
   "id": "922b10bc-b1c2-46ff-8fb9-a0702a6446fa",
   "metadata": {},
   "outputs": [
    {
     "name": "stdout",
     "output_type": "stream",
     "text": [
      "[8, 6, 5, 12, 7, 11, 2, 2, 5, 2, 12, 10, 9, 2, 5, 8, 11, 11, 12, 12, 7, 9, 3, 1, 2, 8, 5]\n"
     ]
    }
   ],
   "source": [
    "y=[]\n",
    "for i in x:\n",
    "    if(i<=12):\n",
    "        y.append(i)\n",
    "print(y)"
   ]
  },
  {
   "cell_type": "code",
   "execution_count": 14,
   "id": "909d21eb-87ac-4bca-94fa-95a3baa467af",
   "metadata": {},
   "outputs": [
    {
     "data": {
      "text/plain": [
       "100"
      ]
     },
     "execution_count": 14,
     "metadata": {},
     "output_type": "execute_result"
    }
   ],
   "source": [
    "len(y)"
   ]
  },
  {
   "cell_type": "markdown",
   "id": "6e247c18-c116-48df-8227-d7518a1231be",
   "metadata": {},
   "source": [
    "### **Outliers** / Anomalies\n",
    "- values that are far away from overall trend in list\n",
    "    - there are two types of outliers:\n",
    "        - **low outliers**\n",
    "        - **high outliers**\n",
    "        \n",
    "        - example; medical lane, employee salary"
   ]
  },
  {
   "cell_type": "code",
   "execution_count": 16,
   "id": "c40c0b81-d6ba-4105-b04e-6cbb4148e5a5",
   "metadata": {},
   "outputs": [
    {
     "name": "stdout",
     "output_type": "stream",
     "text": [
      "[4, 10, 12, 10, 4, 11, 11, 11, 4, 7, 18, 7, 20, 5, 13, 12, 8, 17, 2, 9, 5, 15, 4, 19, 4, 1, 2, 5, 15, 12, 10, 4, 10, 16, 2, 2, 7, 11, 10, 10, 4, 12, 12, 11, 19, 1, 18, 20, 15, 17]\n"
     ]
    }
   ],
   "source": [
    "x=[]\n",
    "for i in range(50):\n",
    "    x.append(random.randint(1,20))\n",
    "    \n",
    "print(x)"
   ]
  },
  {
   "cell_type": "code",
   "execution_count": 18,
   "id": "9cd13528-6c0b-4cbb-b5b6-49c8754c2030",
   "metadata": {},
   "outputs": [
    {
     "name": "stdout",
     "output_type": "stream",
     "text": [
      "[1, 1, 2, 2, 2, 2, 4, 4, 4, 4, 4, 4, 4, 5, 5, 5, 7, 7, 7, 8, 9, 10, 10, 10, 10, 10, 10, 11, 11, 11, 11, 11, 12, 12, 12, 12, 12, 13, 15, 15, 15, 16, 17, 17, 18, 18, 19, 19, 20, 20]\n"
     ]
    }
   ],
   "source": [
    "print(sorted(x))"
   ]
  },
  {
   "cell_type": "code",
   "execution_count": 32,
   "id": "bbf084c2-70ff-4c50-b727-7e532456fc00",
   "metadata": {},
   "outputs": [
    {
     "name": "stdout",
     "output_type": "stream",
     "text": [
      "[4, 10, 12, 10, 4, 11, 500, 11, -600, 7, 500, 7, 20, 5, 13, 12, 8, 17, 2, 9, 601, 15, 4, 19, 4, 1, 2, 5, 15, 12, 10, 4, 10, 16, 2, 2, 7, 11, 10, 10, 4, 12, 12, 11, 19, 1, 18, 20, 15, 17]\n"
     ]
    }
   ],
   "source": [
    "x[6]=500\n",
    "x[8],x[10],x[20]=-600,500,601\n",
    "print(x)"
   ]
  },
  {
   "cell_type": "code",
   "execution_count": 33,
   "id": "83c1e3b7-0b74-4de6-ac85-50f8d1290643",
   "metadata": {},
   "outputs": [
    {
     "name": "stdout",
     "output_type": "stream",
     "text": [
      "[4.0, 10.0, 15.0]\n"
     ]
    }
   ],
   "source": [
    "print(statistics.quantiles(x))"
   ]
  },
  {
   "cell_type": "code",
   "execution_count": 34,
   "id": "3642da34-c50c-4215-ba7c-4e87a440fc1f",
   "metadata": {},
   "outputs": [],
   "source": [
    "#unpacking concept\n",
    "q1,q2,q3=statistics.quantiles(x)"
   ]
  },
  {
   "cell_type": "code",
   "execution_count": 35,
   "id": "c38cbed0-8a13-41cf-a02e-4996aa0b3d50",
   "metadata": {},
   "outputs": [
    {
     "name": "stdout",
     "output_type": "stream",
     "text": [
      "4.0 10.0 15.0\n"
     ]
    }
   ],
   "source": [
    "print(q1,q2,q3)"
   ]
  },
  {
   "cell_type": "markdown",
   "id": "b1d5bb98-2741-48f2-a729-20052abb9fd4",
   "metadata": {},
   "source": [
    "#### interquatile range-----iqr"
   ]
  },
  {
   "cell_type": "code",
   "execution_count": 36,
   "id": "e5b0c330-f48d-4ee0-8305-bf26f63cd482",
   "metadata": {},
   "outputs": [
    {
     "name": "stdout",
     "output_type": "stream",
     "text": [
      "-12.5 31.5\n"
     ]
    }
   ],
   "source": [
    "#interquatile range\n",
    "iqr=q3-q1\n",
    "#print(iqr)\n",
    "lowbound=q1-1.5*iqr\n",
    "highbound=q3+1.5*iqr\n",
    "print(lowbound,highbound)      #overall values ka trend bata rha hai ye. ki humari jo values hogi wo -12.5 se 31.5 tak ki hogi"
   ]
  },
  {
   "cell_type": "code",
   "execution_count": 37,
   "id": "96e584e7-67cf-47fc-b463-ab204cf6c082",
   "metadata": {},
   "outputs": [
    {
     "name": "stdout",
     "output_type": "stream",
     "text": [
      "500 is high outlier\n",
      "-600 is low outlier\n",
      "500 is high outlier\n",
      "601 is high outlier\n"
     ]
    }
   ],
   "source": [
    "for i in x:\n",
    "    if(i<lowbound):\n",
    "        print(i,\"is low outlier\")\n",
    "        \n",
    "    elif(i>highbound):\n",
    "        print(i,\"is high outlier\")\n",
    "        \n",
    "    "
   ]
  },
  {
   "cell_type": "code",
   "execution_count": null,
   "id": "a5c342d8-19f7-4bf3-b5ae-2f5b5edebf31",
   "metadata": {},
   "outputs": [],
   "source": []
  }
 ],
 "metadata": {
  "kernelspec": {
   "display_name": "Python 3 (ipykernel)",
   "language": "python",
   "name": "python3"
  },
  "language_info": {
   "codemirror_mode": {
    "name": "ipython",
    "version": 3
   },
   "file_extension": ".py",
   "mimetype": "text/x-python",
   "name": "python",
   "nbconvert_exporter": "python",
   "pygments_lexer": "ipython3",
   "version": "3.10.9"
  }
 },
 "nbformat": 4,
 "nbformat_minor": 5
}
