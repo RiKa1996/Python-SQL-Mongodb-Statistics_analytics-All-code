{
 "cells": [
  {
   "cell_type": "markdown",
   "id": "aa923022-022b-451a-800c-e6ae440c1f6a",
   "metadata": {},
   "source": [
    "### file ko open krne ke liye"
   ]
  },
  {
   "cell_type": "code",
   "execution_count": 10,
   "id": "373eb181-e8c6-42da-90e1-5d65f688aa1f",
   "metadata": {},
   "outputs": [],
   "source": [
    "from tkinter import *\n",
    "from tkinter import messagebox,filedialog"
   ]
  },
  {
   "cell_type": "code",
   "execution_count": 11,
   "id": "40eeda53-9aed-4b38-bfba-d43c32fc38e2",
   "metadata": {},
   "outputs": [
    {
     "data": {
      "text/plain": [
       "'C:/DUCAT CLASSES/hero/indian flag2.jpg'"
      ]
     },
     "execution_count": 11,
     "metadata": {},
     "output_type": "execute_result"
    }
   ],
   "source": [
    "filedialog.askopenfilename()"
   ]
  },
  {
   "cell_type": "code",
   "execution_count": null,
   "id": "f3595ba9-6fc6-4a03-8940-ebad413e8497",
   "metadata": {},
   "outputs": [],
   "source": []
  }
 ],
 "metadata": {
  "kernelspec": {
   "display_name": "Python 3 (ipykernel)",
   "language": "python",
   "name": "python3"
  },
  "language_info": {
   "codemirror_mode": {
    "name": "ipython",
    "version": 3
   },
   "file_extension": ".py",
   "mimetype": "text/x-python",
   "name": "python",
   "nbconvert_exporter": "python",
   "pygments_lexer": "ipython3",
   "version": "3.10.9"
  }
 },
 "nbformat": 4,
 "nbformat_minor": 5
}
