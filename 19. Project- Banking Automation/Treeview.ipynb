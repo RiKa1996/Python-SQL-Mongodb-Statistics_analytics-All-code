{
 "cells": [
  {
   "cell_type": "markdown",
   "id": "a074e665-6215-4af7-a55d-06e48f86d9bb",
   "metadata": {},
   "source": [
    "### module jo **treeview** ko banane ke liye help krte hai."
   ]
  },
  {
   "cell_type": "code",
   "execution_count": 5,
   "id": "e9b27fcf-a5c5-4e1f-b76c-a0501205d09f",
   "metadata": {},
   "outputs": [],
   "source": [
    "from tkinter import *\n",
    "from tkinter.ttk import Style,Treeview,Scrollbar"
   ]
  },
  {
   "cell_type": "code",
   "execution_count": 35,
   "id": "c0bbc27c-d95b-4d77-a3ea-7396e322692b",
   "metadata": {},
   "outputs": [],
   "source": [
    "root=Tk()\n",
    "tv=Treeview(root)\n",
    "tv.place(x=100,y=100,height=100,width=600)\n",
    "\n",
    "#treeview ko stylist banane ke liye\n",
    "style=Style()\n",
    "style.configure(\"Treeview.Heading\",font=('Arial',10,'bold'),foreground=\"red\",)\n",
    "\n",
    "#ye sb=Scrollbar hai.\n",
    "sb=Scrollbar(root,orient=\"vertical\",command=tv.yview)\n",
    "sb.place(x=600+80,y=100,height=95,)             #(anchor=\"c\")TclError: bad anchor ==> must be n, ne, e, se, s, sw, w, nw, or center\n",
    "tv.configure(yscrollcommand=sb.set)\n",
    "\n",
    "#column ke head banane ke liye\n",
    "tv['columns']=('col1','col2','col3')\n",
    "\n",
    "#columns ke head ko columns,width and anchor\n",
    "tv.column('col1',width=150,anchor=\"c\")\n",
    "tv.column('col2',width=150,anchor=\"c\")\n",
    "tv.column('col3',width=150,anchor=\"c\")\n",
    "\n",
    "\n",
    "#column ke head ke Name\n",
    "tv.heading('col1',text=\"Date\")\n",
    "tv.heading('col2',text=\"Amount\")\n",
    "tv.heading('col3',text=\"Type\")\n",
    "\n",
    "\n",
    "#jo heading humne banaya hai use show krne ke liye\n",
    "tv['show']=\"headings\"\n",
    "\n",
    "#ek connectivity banayege kyoki humne jo columns banage hai uske liye rows bhi chaiye--------------to wo hum database se connect kr ke ek table se layege.\n",
    "import sqlite3\n",
    "con=sqlite3.connect(database=\"banking.sqlite\")\n",
    "cur=con.cursor()\n",
    "cur.execute(\"select * from txn_history\")\n",
    "\n",
    "#ek loop banayege jo ki jitni bhi cursor me rows aai hai use hum loop ke jariye insert krege ---- treeview me\n",
    "for row in cur:\n",
    "    tv.insert(\"\",\"end\",values=(row[3],row[1],row[2]))\n",
    "    \n",
    "root.state(\"zoomed\")\n",
    "root.mainloop()\n",
    "\n",
    "\n"
   ]
  },
  {
   "cell_type": "code",
   "execution_count": null,
   "id": "6aba665c-9cbe-4048-8cad-40e1913223e4",
   "metadata": {},
   "outputs": [],
   "source": []
  }
 ],
 "metadata": {
  "kernelspec": {
   "display_name": "Python 3 (ipykernel)",
   "language": "python",
   "name": "python3"
  },
  "language_info": {
   "codemirror_mode": {
    "name": "ipython",
    "version": 3
   },
   "file_extension": ".py",
   "mimetype": "text/x-python",
   "name": "python",
   "nbconvert_exporter": "python",
   "pygments_lexer": "ipython3",
   "version": "3.10.9"
  }
 },
 "nbformat": 4,
 "nbformat_minor": 5
}
