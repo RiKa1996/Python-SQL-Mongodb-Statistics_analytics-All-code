{
 "cells": [
  {
   "cell_type": "markdown",
   "id": "d0bb210d-2f7c-4a3b-b1a7-4ddc0fd9e552",
   "metadata": {},
   "source": [
    "### search function- search function position aur kya search karna hai dono search karta hai./ aur ye sbse phle wali charactor ko hi search karta hai."
   ]
  },
  {
   "cell_type": "code",
   "execution_count": 1,
   "id": "a59442f4-7b5a-4ba3-bd75-155e21f2f5d3",
   "metadata": {},
   "outputs": [],
   "source": [
    "import re"
   ]
  },
  {
   "cell_type": "code",
   "execution_count": 7,
   "id": "b5f39471-6b10-4c61-880c-596b70a8822d",
   "metadata": {},
   "outputs": [
    {
     "name": "stdout",
     "output_type": "stream",
     "text": [
      "<re.Match object; span=(7, 9), match='ia'>\n",
      "None\n",
      "None\n",
      "<re.Match object; span=(0, 2), match='Py'>\n"
     ]
    }
   ],
   "source": [
    "text=\"Python ia a funny language created by Guido van rossum in 1991\"\n",
    "match=re.search(\"i.\",text)\n",
    "print(match)\n",
    "\n",
    "match=re.search(\"z.\",text)\n",
    "print(match)\n",
    "\n",
    "match=re.search(\"k.\",text)\n",
    "print(match)\n",
    "\n",
    "match=re.search(\"P.\",text)\n",
    "print(match)"
   ]
  },
  {
   "cell_type": "markdown",
   "id": "ef1fb215-5f88-4da2-bd34-2b9d644ff9ee",
   "metadata": {},
   "source": [
    "### match function- match funtion sirf sabse phle wale charactor ko hi search karta hai. jaise is text me pahla char. hai. P hai to ye isi ko search karega."
   ]
  },
  {
   "cell_type": "code",
   "execution_count": 55,
   "id": "ec57bb35-c075-4335-8a41-b201d77ff4b4",
   "metadata": {},
   "outputs": [
    {
     "name": "stdout",
     "output_type": "stream",
     "text": [
      "None\n",
      "None\n",
      "<re.Match object; span=(0, 2), match='Py'>\n"
     ]
    }
   ],
   "source": [
    "text=\"Python ia a funny language created by Guido van rossum in 1991\"\n",
    "match=re.match(\"i.\",text)\n",
    "print(match)\n",
    "\n",
    "match=re.match(\"p.\",text)\n",
    "print(match)\n",
    "\n",
    "match=re.match(\"P.\",text)\n",
    "print(match)"
   ]
  },
  {
   "cell_type": "markdown",
   "id": "f9971429-39c7-4daf-aad3-251210a3d930",
   "metadata": {},
   "source": [
    "### example:mobile no.=search aur match ko clear karne ke liye hai ye example"
   ]
  },
  {
   "cell_type": "code",
   "execution_count": 13,
   "id": "c6b77341-f268-4da6-9ebe-51f5ee528601",
   "metadata": {},
   "outputs": [
    {
     "name": "stdin",
     "output_type": "stream",
     "text": [
      "enter mob: 5699666666\n"
     ]
    },
    {
     "name": "stdout",
     "output_type": "stream",
     "text": [
      "None\n"
     ]
    }
   ],
   "source": [
    "mob=input(\"enter mob:\")\n",
    "match=re.search(\"[6-9]\\d{9}\",mob)\n",
    "print(match)"
   ]
  },
  {
   "cell_type": "code",
   "execution_count": 16,
   "id": "b6c1c47e-d637-4008-bdea-be205e0ed61c",
   "metadata": {},
   "outputs": [
    {
     "name": "stdin",
     "output_type": "stream",
     "text": [
      "enter mob: abc9876543212dfg\n"
     ]
    },
    {
     "name": "stdout",
     "output_type": "stream",
     "text": [
      "valid mob no.\n",
      "<re.Match object; span=(3, 13), match='9876543212'>\n"
     ]
    }
   ],
   "source": [
    "mob=input(\"enter mob:\")\n",
    "match=re.search(\"[6-9]\\d{9}\",mob)\n",
    "if(match==None):\n",
    "    print(\"invalid mob no.\")\n",
    "else:\n",
    "    print(\"valid mob no.\")\n",
    "print(match)"
   ]
  },
  {
   "cell_type": "code",
   "execution_count": 56,
   "id": "ba0815f1-fe3b-4a54-9ad0-da6587ffd60e",
   "metadata": {},
   "outputs": [
    {
     "name": "stdin",
     "output_type": "stream",
     "text": [
      "enter mob: abc9876543212dfg\n"
     ]
    },
    {
     "name": "stdout",
     "output_type": "stream",
     "text": [
      "invalid mob no.\n",
      "None\n"
     ]
    }
   ],
   "source": [
    "mob=input(\"enter mob:\")\n",
    "match=re.match(\"[6-9]\\d{9}\",mob)\n",
    "if(match==None):\n",
    "    print(\"invalid mob no.\")\n",
    "else:\n",
    "    print(\"valid mob no.\")\n",
    "print(match)"
   ]
  },
  {
   "cell_type": "markdown",
   "id": "442886a6-3382-4c2c-8d30-61eebb170060",
   "metadata": {},
   "source": [
    "### fullmatch funtion"
   ]
  },
  {
   "cell_type": "code",
   "execution_count": 19,
   "id": "068f16da-0e9b-42b7-80aa-36b34946209e",
   "metadata": {},
   "outputs": [
    {
     "name": "stdin",
     "output_type": "stream",
     "text": [
      "enter mob: 9876543212sdfwrkjnf\n"
     ]
    },
    {
     "name": "stdout",
     "output_type": "stream",
     "text": [
      "invalid mob no.\n",
      "None\n"
     ]
    }
   ],
   "source": [
    "mob=input(\"enter mob:\")\n",
    "match=re.fullmatch(\"[6-9]\\d{9}\",mob)\n",
    "if(match==None):\n",
    "    print(\"invalid mob no.\")\n",
    "else:\n",
    "    print(\"valid mob no.\")\n",
    "print(match)"
   ]
  },
  {
   "cell_type": "code",
   "execution_count": 21,
   "id": "d18f63ed-3de9-4a25-82ce-cc8e6471742d",
   "metadata": {},
   "outputs": [
    {
     "name": "stdin",
     "output_type": "stream",
     "text": [
      "enter mob: 9696969696\n"
     ]
    },
    {
     "name": "stdout",
     "output_type": "stream",
     "text": [
      "valid mob no.\n",
      "<re.Match object; span=(0, 10), match='9696969696'>\n"
     ]
    }
   ],
   "source": [
    "mob=input(\"enter mob:\")\n",
    "match=re.fullmatch(\"[6-9]\\d{9}\",mob)\n",
    "if(match==None):\n",
    "    print(\"invalid mob no.\")\n",
    "else:\n",
    "    print(\"valid mob no.\")\n",
    "print(match)"
   ]
  },
  {
   "cell_type": "code",
   "execution_count": 24,
   "id": "dce38709-6963-4d34-9221-1bbe86b56f0d",
   "metadata": {},
   "outputs": [
    {
     "name": "stdin",
     "output_type": "stream",
     "text": [
      "enter mob: 6549879876\n"
     ]
    },
    {
     "name": "stdout",
     "output_type": "stream",
     "text": [
      "valid mob no.\n",
      "<re.Match object; span=(0, 10), match='6549879876'>\n"
     ]
    }
   ],
   "source": [
    "mob=input(\"enter mob:\")\n",
    "match=re.fullmatch(\"[6-9]\\d{9}\",mob)\n",
    "if(match==None):\n",
    "    print(\"invalid mob no.\")\n",
    "else:\n",
    "    print(\"valid mob no.\")\n",
    "print(match)"
   ]
  },
  {
   "cell_type": "markdown",
   "id": "2c37a33c-44f7-4901-b3d8-66c438ea836c",
   "metadata": {},
   "source": [
    "### example:email"
   ]
  },
  {
   "cell_type": "code",
   "execution_count": 31,
   "id": "e4fa2c73-f9c1-411f-a428-f2346a9cfa8a",
   "metadata": {},
   "outputs": [
    {
     "name": "stdin",
     "output_type": "stream",
     "text": [
      "enter email: kppappu666@gmail.com\n"
     ]
    },
    {
     "name": "stdout",
     "output_type": "stream",
     "text": [
      "valid\n"
     ]
    }
   ],
   "source": [
    "email=input(\"enter email:\")\n",
    "match=re.fullmatch(\"^[a-zA-Z0-9+_.-]+@[a-zA-Z0-9.-]+$\",email)\n",
    "if(match==None):\n",
    "    print(\"invalid\")\n",
    "else:\n",
    "    print(\"valid\")"
   ]
  },
  {
   "cell_type": "markdown",
   "id": "8c5d20db-bba5-4ae4-9e77-fc408fbebe3c",
   "metadata": {},
   "source": [
    "### sub funtion/example:\\D"
   ]
  },
  {
   "cell_type": "code",
   "execution_count": 33,
   "id": "236adcba-b41f-4115-9b43-265959855572",
   "metadata": {},
   "outputs": [
    {
     "name": "stdout",
     "output_type": "stream",
     "text": [
      "000124000000089\n"
     ]
    },
    {
     "ename": "TypeError",
     "evalue": "sub() missing 1 required positional argument: 'string'",
     "output_type": "error",
     "traceback": [
      "\u001b[1;31m---------------------------------------------------------------------------\u001b[0m",
      "\u001b[1;31mTypeError\u001b[0m                                 Traceback (most recent call last)",
      "Cell \u001b[1;32mIn[33], line 5\u001b[0m\n\u001b[0;32m      2\u001b[0m s\u001b[38;5;241m=\u001b[39mre\u001b[38;5;241m.\u001b[39msub(\u001b[38;5;124m\"\u001b[39m\u001b[38;5;124m\\\u001b[39m\u001b[38;5;124mD\u001b[39m\u001b[38;5;124m\"\u001b[39m,\u001b[38;5;124m\"\u001b[39m\u001b[38;5;124m0\u001b[39m\u001b[38;5;124m\"\u001b[39m,num)\n\u001b[0;32m      3\u001b[0m \u001b[38;5;28mprint\u001b[39m(s)\n\u001b[1;32m----> 5\u001b[0m s\u001b[38;5;241m=\u001b[39m\u001b[43mre\u001b[49m\u001b[38;5;241;43m.\u001b[39;49m\u001b[43msub\u001b[49m\u001b[43m(\u001b[49m\u001b[38;5;124;43m\"\u001b[39;49m\u001b[38;5;124;43m\\\u001b[39;49m\u001b[38;5;124;43mD\u001b[39;49m\u001b[38;5;124;43m\"\u001b[39;49m\u001b[43m,\u001b[49m\u001b[43mnum\u001b[49m\u001b[43m)\u001b[49m\n\u001b[0;32m      6\u001b[0m \u001b[38;5;28mprint\u001b[39m(s)\n",
      "\u001b[1;31mTypeError\u001b[0m: sub() missing 1 required positional argument: 'string'"
     ]
    }
   ],
   "source": [
    "num=\"abc124+-_xyz#89\"\n",
    "s=re.sub(\"\\D\",\"0\",num)\n",
    "print(s)\n",
    "\n",
    "s=re.sub(\"\\D\",num)\n",
    "print(s)"
   ]
  },
  {
   "cell_type": "code",
   "execution_count": 35,
   "id": "854303fc-e857-4c23-a99d-cdacf2f2eadb",
   "metadata": {},
   "outputs": [
    {
     "name": "stdout",
     "output_type": "stream",
     "text": [
      "000124000000089\n",
      "12489\n"
     ]
    }
   ],
   "source": [
    "num=\"abc124+-_xyz#89\"\n",
    "s=re.sub(\"\\D\",\"0\",num)\n",
    "print(s)\n",
    "\n",
    "s=re.sub(\"\\D\",\"\",num)    # \"\" this is illusion of cleaning (data cleaning)\n",
    "print(s)"
   ]
  },
  {
   "cell_type": "markdown",
   "id": "fd054437-3978-4210-8762-5780bf9687d2",
   "metadata": {},
   "source": [
    "### **.** ko match  /. ko lane ke liye hume back slace lagana parta hai."
   ]
  },
  {
   "cell_type": "code",
   "execution_count": 38,
   "id": "b82eaaf6-a7c0-4543-87ff-f812b46c4eae",
   "metadata": {},
   "outputs": [
    {
     "name": "stdout",
     "output_type": "stream",
     "text": [
      "<re.Match object; span=(0, 1), match='P'>\n"
     ]
    }
   ],
   "source": [
    "text=\"Python ia a funny language. created by Guido van rossum in 1991\"\n",
    "match=re.search(\".\",text)                     #by default ye phle charactor ko select kar lega.\n",
    "print(match)"
   ]
  },
  {
   "cell_type": "code",
   "execution_count": 46,
   "id": "f018cb7c-592c-489e-a2fb-eab265afe315",
   "metadata": {},
   "outputs": [
    {
     "ename": "SyntaxError",
     "evalue": "incomplete input (1930957157.py, line 4)",
     "output_type": "error",
     "traceback": [
      "\u001b[1;36m  Cell \u001b[1;32mIn[46], line 4\u001b[1;36m\u001b[0m\n\u001b[1;33m    #print(match)\u001b[0m\n\u001b[1;37m                 ^\u001b[0m\n\u001b[1;31mSyntaxError\u001b[0m\u001b[1;31m:\u001b[0m incomplete input\n"
     ]
    }
   ],
   "source": [
    "text=\"Python ia a funny language. created by Guido van rossum in 1991.\"\n",
    "itr=re.finditer(\".\",text)                     #by default ye phle charactor ko select kar lega.\n",
    "for match in itr:\n",
    "    #print(match)"
   ]
  },
  {
   "cell_type": "markdown",
   "id": "1f757627-f913-487c-a743-0e912b37031f",
   "metadata": {},
   "source": [
    "### \\. ko find karne ke liye==back slace lagane se wo sare character find kar skte hai. jo "
   ]
  },
  {
   "cell_type": "code",
   "execution_count": 42,
   "id": "f90200de-c4de-4ec5-9c15-4d565f7e12ee",
   "metadata": {},
   "outputs": [
    {
     "name": "stdout",
     "output_type": "stream",
     "text": [
      "<re.Match object; span=(26, 27), match='.'>\n",
      "<re.Match object; span=(63, 64), match='.'>\n"
     ]
    }
   ],
   "source": [
    "text=\"Python ia a funny language. created by Guido van rossum in 1991.\"\n",
    "itr=re.finditer(\"\\.\",text)                     #by default ye phle charactor ko select kar lega.\n",
    "for match in itr:\n",
    "    print(match)"
   ]
  },
  {
   "cell_type": "markdown",
   "id": "3866493f-38d7-4ce7-b693-2c0012890ec0",
   "metadata": {},
   "source": [
    "### \\ back slace lagane per"
   ]
  },
  {
   "cell_type": "code",
   "execution_count": 54,
   "id": "9a33c155-445c-432b-ace1-41e5b374feff",
   "metadata": {},
   "outputs": [
    {
     "name": "stdout",
     "output_type": "stream",
     "text": [
      "['1', '2', '3']\n",
      "['1', '3']\n"
     ]
    }
   ],
   "source": [
    "text1=\"a1bv23xyz\"\n",
    "text2=\"x1dc_3yxk\"\n",
    "\n",
    "match=re.findall(\"\\d\",text1)\n",
    "print(match)\n",
    "\n",
    "match=re.findall(\"\\d\",text2)\n",
    "print(match)"
   ]
  },
  {
   "cell_type": "markdown",
   "id": "40f23abf-9156-4071-9b87-0480b6dbaecf",
   "metadata": {},
   "source": [
    "### compile expression"
   ]
  },
  {
   "cell_type": "code",
   "execution_count": 53,
   "id": "62589f16-a12c-4e8c-aa93-d28157369002",
   "metadata": {},
   "outputs": [
    {
     "name": "stdout",
     "output_type": "stream",
     "text": [
      "['1', '2', '3']\n",
      "['1', '3']\n"
     ]
    }
   ],
   "source": [
    "text1=\"a1bv23xyz\"\n",
    "text2=\"x1dc_3yxk\"\n",
    "\n",
    "re_compile=re.compile(\"\\d\")        #compile expression lagane per ye clear ho jata hai. aur code ko asani se likha ja skta hai.\n",
    "match=re_compile.findall(text1)\n",
    "print(match)\n",
    "match=re_compile.findall(text2)\n",
    "print(match)"
   ]
  },
  {
   "cell_type": "code",
   "execution_count": null,
   "id": "5183be80-71e1-429b-8c20-d64a05267dc6",
   "metadata": {},
   "outputs": [],
   "source": []
  }
 ],
 "metadata": {
  "kernelspec": {
   "display_name": "Python 3 (ipykernel)",
   "language": "python",
   "name": "python3"
  },
  "language_info": {
   "codemirror_mode": {
    "name": "ipython",
    "version": 3
   },
   "file_extension": ".py",
   "mimetype": "text/x-python",
   "name": "python",
   "nbconvert_exporter": "python",
   "pygments_lexer": "ipython3",
   "version": "3.10.9"
  }
 },
 "nbformat": 4,
 "nbformat_minor": 5
}
