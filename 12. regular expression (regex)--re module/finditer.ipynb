{
 "cells": [
  {
   "cell_type": "markdown",
   "id": "cd509c5e-8242-4697-896a-af0c8d7c2712",
   "metadata": {},
   "source": [
    "### finditer function"
   ]
  },
  {
   "cell_type": "markdown",
   "id": "ae83b4d0-ff0b-4d9b-952a-3e4d634ed4f9",
   "metadata": {},
   "source": [
    "#### match type==start>inclusive,   end>exclusive,   group>match---------->iterator"
   ]
  },
  {
   "cell_type": "code",
   "execution_count": 4,
   "id": "8dbfa93d-ecfd-40ba-9efc-eb062d955781",
   "metadata": {},
   "outputs": [
    {
     "name": "stdout",
     "output_type": "stream",
     "text": [
      "<callable_iterator object at 0x000001DE9896F2B0>\n",
      "<re.Match object; span=(7, 9), match='is'>\n",
      "<re.Match object; span=(40, 42), match='id'>\n",
      "<re.Match object; span=(55, 57), match='in'>\n",
      "<re.Match object; span=(64, 66), match='i '>\n",
      "<re.Match object; span=(81, 83), match='in'>\n"
     ]
    }
   ],
   "source": [
    "text=\"\"\"Python is a funny language created by Guido VAN Rossum in 1991.\n",
    "i love python coding.\n",
    "\"\"\"\n",
    "\n",
    "import re\n",
    "itr=re.finditer(\"i.\",text)\n",
    "print(itr)\n",
    "for matches in itr:\n",
    "    print(matches)"
   ]
  },
  {
   "cell_type": "code",
   "execution_count": 13,
   "id": "fd824051-4572-4e6a-ae9a-714e771f171b",
   "metadata": {},
   "outputs": [
    {
     "name": "stdout",
     "output_type": "stream",
     "text": [
      "<callable_iterator object at 0x000002058D0FDFF0>\n",
      "7 is\n",
      "40 id\n",
      "55 in\n",
      "64 i \n",
      "81 in\n"
     ]
    }
   ],
   "source": [
    "text=\"\"\"Python is a funny language created by Guido VAN Rossum in 1991.\n",
    "i love python coding.\n",
    "\"\"\"\n",
    "\n",
    "import re\n",
    "itr=re.finditer(\"i.\",text)\n",
    "print(itr)\n",
    "for matches in itr:\n",
    "    print(matches.start(),matches.group())"
   ]
  },
  {
   "cell_type": "code",
   "execution_count": 9,
   "id": "8628af36-ee0a-4ad8-88d4-0216f0f19838",
   "metadata": {},
   "outputs": [
    {
     "name": "stdout",
     "output_type": "stream",
     "text": [
      "<callable_iterator object at 0x000002058D0FD7E0>\n",
      "7\n",
      "40\n",
      "55\n",
      "64\n",
      "81\n"
     ]
    }
   ],
   "source": [
    "text=\"\"\"Python is a funny language created by Guido VAN Rossum in 1991.\n",
    "i love python coding.\n",
    "\"\"\"\n",
    "\n",
    "import re\n",
    "itr=re.finditer(\"i.\",text)\n",
    "print(itr)\n",
    "for matches in itr:\n",
    "    #print(matches)\n",
    "    print(matches.start())"
   ]
  },
  {
   "cell_type": "code",
   "execution_count": 10,
   "id": "926da74b-1508-4935-907d-dcca379d293d",
   "metadata": {},
   "outputs": [
    {
     "name": "stdout",
     "output_type": "stream",
     "text": [
      "<callable_iterator object at 0x000002058D0FFA30>\n",
      "9\n",
      "42\n",
      "57\n",
      "66\n",
      "83\n"
     ]
    }
   ],
   "source": [
    "text=\"\"\"Python is a funny language created by Guido VAN Rossum in 1991.\n",
    "i love python coding.\n",
    "\"\"\"\n",
    "\n",
    "import re\n",
    "itr=re.finditer(\"i.\",text)\n",
    "print(itr)\n",
    "for matches in itr:\n",
    "    #print(matches)\n",
    "    print(matches.end())"
   ]
  },
  {
   "cell_type": "markdown",
   "id": "2c167537-bae3-4f9c-a56a-f2dd3434755e",
   "metadata": {},
   "source": [
    "## findall-return a list of matches where each match is represented by str."
   ]
  },
  {
   "cell_type": "markdown",
   "id": "2d6ae67e-179a-46b6-9414-54e923e7cabd",
   "metadata": {},
   "source": [
    "## finditer-returns an iterator of matches where each match is represented by match type."
   ]
  },
  {
   "cell_type": "markdown",
   "id": "40c6be7b-d738-4085-88b7-7bbb4b12a382",
   "metadata": {},
   "source": [
    "#### empty list ke liye with findall"
   ]
  },
  {
   "cell_type": "code",
   "execution_count": 14,
   "id": "887ac375-cd1c-4b73-a036-774a2c251845",
   "metadata": {},
   "outputs": [
    {
     "name": "stdout",
     "output_type": "stream",
     "text": [
      "[]\n"
     ]
    }
   ],
   "source": [
    "text=\"\"\"Python is a funny language created by Guido VAN Rossum in 1991.\n",
    "i love python coding.\n",
    "\"\"\"\n",
    "import re\n",
    "matches=re.findall(\"k.k\",text)\n",
    "print(matches)"
   ]
  },
  {
   "cell_type": "markdown",
   "id": "9188b19b-243d-444c-8065-b19866c47ab0",
   "metadata": {},
   "source": [
    "#### empty list ke liye with finditer"
   ]
  },
  {
   "cell_type": "code",
   "execution_count": 16,
   "id": "4bd2e944-653f-482d-88df-98388fa05df3",
   "metadata": {},
   "outputs": [],
   "source": [
    "text=\"\"\"Python is a funny language created by Guido VAN Rossum in 1991.\n",
    "i love python coding.\n",
    "\"\"\"\n",
    "import re\n",
    "itr=re.finditer(\"k.k\",text)\n",
    "#print(itr)\n",
    "for match in itr:\n",
    "    print(match)"
   ]
  },
  {
   "cell_type": "code",
   "execution_count": null,
   "id": "8718456e-3888-4524-adc6-497419c598b3",
   "metadata": {},
   "outputs": [],
   "source": []
  }
 ],
 "metadata": {
  "kernelspec": {
   "display_name": "Python 3 (ipykernel)",
   "language": "python",
   "name": "python3"
  },
  "language_info": {
   "codemirror_mode": {
    "name": "ipython",
    "version": 3
   },
   "file_extension": ".py",
   "mimetype": "text/x-python",
   "name": "python",
   "nbconvert_exporter": "python",
   "pygments_lexer": "ipython3",
   "version": "3.10.9"
  }
 },
 "nbformat": 4,
 "nbformat_minor": 5
}
