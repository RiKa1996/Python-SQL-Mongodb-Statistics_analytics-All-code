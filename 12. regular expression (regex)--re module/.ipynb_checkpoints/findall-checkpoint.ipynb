{
 "cells": [
  {
   "cell_type": "markdown",
   "id": "255f8e76-afdc-4a98-80cf-dfc84e3e1ee3",
   "metadata": {},
   "source": [
    "## Regular Expression (regex)"
   ]
  },
  {
   "cell_type": "raw",
   "id": "31780465-d1f0-4211-9e4e-edf35021c272",
   "metadata": {},
   "source": [
    ">it is a technique to search or match a value based on a pattern.\n",
    ">form validation,data cleaning, compiler/interpreter design are some examples based on regex.\n",
    ">python provides re module to work with regex.\n",
    ">regex works with only str type."
   ]
  },
  {
   "cell_type": "markdown",
   "id": "5406f65d-bb73-443f-8672-9d9185a598ad",
   "metadata": {},
   "source": [
    "## \"re module\"\n",
    "#### findall function"
   ]
  },
  {
   "cell_type": "code",
   "execution_count": 1,
   "id": "e9c548de-fae1-4637-b0b6-ff81f8d489ed",
   "metadata": {},
   "outputs": [
    {
     "name": "stdout",
     "output_type": "stream",
     "text": [
      "['is', 'id', 'in', 'i ', 'in']\n",
      "['is', 'id', 'in', 'in']\n",
      "['is', 'id', 'in', 'in']\n",
      "['y', 't', 'h', 'o', 'n', 'i', 's', 'a', 'f', 'u', 'n', 'n', 'y', 'l', 'a', 'n', 'g', 'u', 'a', 'g', 'e', 'c', 'r', 'e', 'a', 't', 'e', 'd', 'b', 'y', 'u', 'i', 'd', 'o', 'o', 's', 's', 'u', 'm', 'i', 'n', 'i', 'l', 'o', 'v', 'e', 'p', 'y', 't', 'h', 'o', 'n', 'c', 'o', 'd', 'i', 'n', 'g']\n"
     ]
    }
   ],
   "source": [
    "text=\"\"\"Python is a funny language created by Guido VAN Rossum in 1991.\n",
    "i love python coding.\n",
    "\"\"\"\n",
    "import re\n",
    "matches=re.findall(\"i.\",text)                    # . ka matlab hai. any character    #findall(\"jo find karna hai\", jisme find karna hai)\n",
    "print(matches)                                   # find kar ke ye ek list me deta hai.\n",
    "\n",
    "matches=re.findall(\"i[abcdefghijklmnopqrstuvwxyz]\",text)                   # [abcdefghijklmnopqrstuvwxyz] ka matlab hai. set of chars/range of chars\n",
    "print(matches)\n",
    "\n",
    "matches=re.findall(\"i[a-z]\",text)\n",
    "print(matches)\n",
    "\n",
    "matches=re.findall(\"[a-z]\",text)\n",
    "print(matches)\n",
    "\n"
   ]
  },
  {
   "cell_type": "markdown",
   "id": "88f96bf4-3355-4e7d-befb-23731b3a1d55",
   "metadata": {},
   "source": [
    "#### 3 character find karne per"
   ]
  },
  {
   "cell_type": "code",
   "execution_count": 13,
   "id": "79a20b42-c800-4a60-afbd-f573357bcbe5",
   "metadata": {},
   "outputs": [
    {
     "name": "stdout",
     "output_type": "stream",
     "text": [
      "['hon', 'fun', 'lan', 'gua', 'rea', 'ted', 'uid', 'sum', 'lov', 'hon', 'cod']\n"
     ]
    }
   ],
   "source": [
    "text=\"\"\"Python is a funny language created by Guido VAN Rossum in 1991.\n",
    "i love python coding.\n",
    "\"\"\"\n",
    "matches=re.findall(\"[a-z][aeiou][a-z]\",text)\n",
    "print(matches)"
   ]
  },
  {
   "cell_type": "markdown",
   "id": "8a265a63-f221-456e-aef6-ece6dd63fa8c",
   "metadata": {},
   "source": [
    "#### capital I (ye ignore karne ke liye hota hai.)- jb hum **re.I** module ka use karte hai. tab wo character ko ignore kar ke sare character le leta hai."
   ]
  },
  {
   "cell_type": "code",
   "execution_count": 14,
   "id": "8502a13a-61f8-4f9a-9473-422c3660050f",
   "metadata": {},
   "outputs": [
    {
     "name": "stdout",
     "output_type": "stream",
     "text": [
      "['hon', 'fun', 'lan', 'gua', 'rea', 'ted', 'Gui', 'VAN', 'Ros', 'sum', 'lov', 'hon', 'cod']\n"
     ]
    }
   ],
   "source": [
    "matches=re.findall(\"[a-z][aeiou][a-z]\",text,re.I)\n",
    "print(matches)"
   ]
  },
  {
   "cell_type": "code",
   "execution_count": 18,
   "id": "4c8612e4-2a9e-4919-be7a-de6b9f2e9aed",
   "metadata": {},
   "outputs": [
    {
     "name": "stdout",
     "output_type": "stream",
     "text": [
      "['hon', 'fun', 'lan', 'gua', 'rea', 'ted', 'Gui', 'Ros', 'sum', 'lov', 'hon', 'cod']\n",
      "['Pytho', 'Guido', 'Rossu']\n"
     ]
    }
   ],
   "source": [
    "matches=re.findall(\"[a-zA-Z][aeiou][a-z]\",text)\n",
    "print(matches)\n",
    "\n",
    "matches=re.findall(\"[A-Z][a-z][a-z][a-z][a-z]\",text)\n",
    "print(matches)"
   ]
  },
  {
   "cell_type": "markdown",
   "id": "3d63cf46-c218-4eda-8015-f2fb7f39b75a",
   "metadata": {},
   "source": [
    "### agar hum ye [a-z][a-z][a-z][a-z] 4 bar nhi likhna chahte hai. to hum direct {4} likh skte hai. jitna hume use karna hai. utna hum le skte hai."
   ]
  },
  {
   "cell_type": "code",
   "execution_count": 26,
   "id": "ea312756-cb07-42a0-9c4d-3c54797b9d25",
   "metadata": {},
   "outputs": [
    {
     "name": "stdout",
     "output_type": "stream",
     "text": [
      "['Pytho', 'Guido', 'Rossu']\n",
      "['Pytho', 'Guido', 'Rossu']\n",
      "['Python', 'Guido', 'Rossum']\n"
     ]
    }
   ],
   "source": [
    "matches=re.findall(\"[A-Z][a-z][a-z][a-z][a-z]\",text)\n",
    "print(matches)\n",
    "\n",
    "matches=re.findall(\"[A-Z][a-z]{4}\",text)     #{exact repeatation}\n",
    "print(matches)\n",
    "\n",
    "matches=re.findall(\"[A-Z][a-z]{3,6}\",text)   #{3,6}  ye phle 6 repeatation se start karta hai ydi 6 nhi hai. to 5 lega {maximum to minimum ki taraf ye jata hai.}\n",
    "print(matches)                               #{min repeataion, max repeatation}"
   ]
  },
  {
   "cell_type": "markdown",
   "id": "62c611d6-5b92-4800-a575-a2b6be341158",
   "metadata": {},
   "source": [
    "#### + simbal ka mtlab hai. {1,N}"
   ]
  },
  {
   "cell_type": "code",
   "execution_count": 23,
   "id": "08619010-a466-469a-8d1b-c5aee676ed76",
   "metadata": {},
   "outputs": [
    {
     "name": "stdout",
     "output_type": "stream",
     "text": [
      "['Python', 'Guido', 'Rossum']\n"
     ]
    }
   ],
   "source": [
    "matches=re.findall(\"[A-Z][a-z]+\",text)     #{1,N}  # phla alphabet capital aur N kuch bhi ho n no. tak\n",
    "print(matches)                             #{min 1, max N}"
   ]
  },
  {
   "cell_type": "markdown",
   "id": "72a39402-4f5a-43e8-a04b-6efdf0eb0b86",
   "metadata": {},
   "source": [
    "#### * simbal ka mtlab hai. {0,N}"
   ]
  },
  {
   "cell_type": "code",
   "execution_count": 24,
   "id": "8541207d-4b62-4fb3-8acc-127a2ce02c61",
   "metadata": {},
   "outputs": [
    {
     "name": "stdout",
     "output_type": "stream",
     "text": [
      "['Python', 'Guido', 'V', 'A', 'N', 'Rossum']\n"
     ]
    }
   ],
   "source": [
    "matches=re.findall(\"[A-Z][a-z]*\",text)     #{0,N} # phla alphabet capital aur dusra ydi capital hai to use bhi le ke aa skta hai. aur N NO. tak la skta hai.\n",
    "print(matches)                             #{min 0,max N}"
   ]
  },
  {
   "cell_type": "markdown",
   "id": "d858142b-d21c-4c76-899f-45702e748e47",
   "metadata": {},
   "source": [
    "#### ? simbal ka mtlab hai. {0,1} "
   ]
  },
  {
   "cell_type": "code",
   "execution_count": 28,
   "id": "d2fbebae-34f5-4494-91c7-ba6d873acc53",
   "metadata": {},
   "outputs": [
    {
     "name": "stdout",
     "output_type": "stream",
     "text": [
      "['Py', 'Gu', 'V', 'A', 'N', 'Ro']\n"
     ]
    }
   ],
   "source": [
    "matches=re.findall(\"[A-Z][a-z]?\",text)\n",
    "print(matches)                             #{min 0,max 1}"
   ]
  },
  {
   "cell_type": "markdown",
   "id": "a46252e7-4e50-4dbb-90e0-66fa5c8de1d8",
   "metadata": {},
   "source": [
    "## digit"
   ]
  },
  {
   "cell_type": "code",
   "execution_count": 4,
   "id": "897f6fd5-2dd7-4d5a-8903-299a04fb6141",
   "metadata": {},
   "outputs": [
    {
     "name": "stdout",
     "output_type": "stream",
     "text": [
      "['1', '9', '9', '1']\n",
      "['19', '91']\n",
      "['19', '91']\n"
     ]
    }
   ],
   "source": [
    "text=\"\"\"Python is a funny language created by Guido VAN Rossum in 1991.\n",
    "i love python coding.\n",
    "\"\"\"\n",
    "import re\n",
    "matches=re.findall(\"[0-9]\",text)\n",
    "print(matches)\n",
    "\n",
    "matches=re.findall(\"[0-9]{2}\",text)\n",
    "print(matches)\n",
    "\n",
    "matches=re.findall(\"[0-9][0-9]\",text)\n",
    "print(matches)\n",
    "\n",
    "matches=re.findall(\"[0-9]\",text)\n",
    "print(matches)"
   ]
  },
  {
   "cell_type": "markdown",
   "id": "90f46ed7-a803-43ae-8468-b1cea539c5e4",
   "metadata": {},
   "source": [
    "### ^ is cap ka matlab hai. except(iske alawa)"
   ]
  },
  {
   "cell_type": "code",
   "execution_count": 8,
   "id": "e3e1e946-45a8-46cb-a697-599de6c40d00",
   "metadata": {},
   "outputs": [
    {
     "name": "stdout",
     "output_type": "stream",
     "text": [
      "['P', 'y', 't', 'h', 'o', 'n', ' ', 'i', 's', ' ', 'a', ' ', 'f', 'u', 'n', 'n', 'y', ' ', 'l', 'a', 'n', 'g', 'u', 'a', 'g', 'e', ' ', 'c', 'r', 'e', 'a', 't', 'e', 'd', ' ', 'b', 'y', ' ', 'G', 'u', 'i', 'd', 'o', ' ', 'V', 'A', 'N', ' ', 'R', 'o', 's', 's', 'u', 'm', ' ', 'i', 'n', ' ', '.', '\\n', 'i', ' ', 'l', 'o', 'v', 'e', ' ', 'p', 'y', 't', 'h', 'o', 'n', ' ', 'c', 'o', 'd', 'i', 'n', 'g', '.', '\\n'] 82\n",
      "['P', ' ', ' ', ' ', ' ', ' ', ' ', ' ', 'G', ' ', 'V', 'A', 'N', ' ', 'R', ' ', ' ', '.', '\\n', ' ', ' ', ' ', '.', '\\n'] 24\n"
     ]
    }
   ],
   "source": [
    "matches=re.findall(\"[^0-9]\",text)       # ^= except (iske alawa)\n",
    "print(matches,len(matches))\n",
    "\n",
    "matches=re.findall(\"[^0-9a-z]\",text)       # ^= except (iske alawa)\n",
    "print(matches,len(matches))"
   ]
  },
  {
   "cell_type": "markdown",
   "id": "a733a599-be32-45d3-8e30-b8ea57b7af8b",
   "metadata": {},
   "source": [
    "### \\d ka matlab hai  only digit"
   ]
  },
  {
   "cell_type": "code",
   "execution_count": 12,
   "id": "c63b52dc-c44b-4671-8a73-e30e64e5397d",
   "metadata": {},
   "outputs": [
    {
     "name": "stdout",
     "output_type": "stream",
     "text": [
      "['1', '9', '9', '1']\n",
      "['1', '9', '9', '1'] 4\n"
     ]
    }
   ],
   "source": [
    "matches=re.findall(\"[\\d]\",text)       # \\d= only digit\n",
    "print(matches)\n",
    "\n",
    "matches=re.findall(\"[\\d]\",text)       # \\d= except (iske alawa)\n",
    "print(matches,len(matches))"
   ]
  },
  {
   "cell_type": "markdown",
   "id": "a8118f98-442c-4876-aeb0-8c0f85adbf2b",
   "metadata": {},
   "source": [
    "### \\D ka matlab hai. except digit "
   ]
  },
  {
   "cell_type": "code",
   "execution_count": 13,
   "id": "8e00ae85-2410-4291-93cd-7bc8e2441b8a",
   "metadata": {},
   "outputs": [
    {
     "name": "stdout",
     "output_type": "stream",
     "text": [
      "['P', 'y', 't', 'h', 'o', 'n', ' ', 'i', 's', ' ', 'a', ' ', 'f', 'u', 'n', 'n', 'y', ' ', 'l', 'a', 'n', 'g', 'u', 'a', 'g', 'e', ' ', 'c', 'r', 'e', 'a', 't', 'e', 'd', ' ', 'b', 'y', ' ', 'G', 'u', 'i', 'd', 'o', ' ', 'V', 'A', 'N', ' ', 'R', 'o', 's', 's', 'u', 'm', ' ', 'i', 'n', ' ', '.', '\\n', 'i', ' ', 'l', 'o', 'v', 'e', ' ', 'p', 'y', 't', 'h', 'o', 'n', ' ', 'c', 'o', 'd', 'i', 'n', 'g', '.', '\\n']\n"
     ]
    }
   ],
   "source": [
    "matches=re.findall(\"[\\D]\",text)       # \\D= except digit (digit ke alawa)\n",
    "print(matches)"
   ]
  },
  {
   "cell_type": "markdown",
   "id": "2eddcdb6-2baf-44ba-a5bc-b971bb3bdc9f",
   "metadata": {},
   "source": [
    "### \\s ka matlab hai. **whitespace**,**\\n**, **\\t**"
   ]
  },
  {
   "cell_type": "code",
   "execution_count": 16,
   "id": "2e338def-70db-4380-b587-177662cd1ed2",
   "metadata": {},
   "outputs": [
    {
     "name": "stdout",
     "output_type": "stream",
     "text": [
      "[' ', ' ', ' ', ' ', ' ', ' ', ' ', ' ', ' ', ' ', ' ', '\\n', ' ', ' ', ' ', '\\n'] 16\n",
      "[' ', ' ', ' ', ' ', ' ', ' ', ' ', ' ', ' ', ' ', ' ', '\\n', ' ', ' ', ' ', '\\n']\n"
     ]
    }
   ],
   "source": [
    "matches=re.findall(\"[\\s]\",text)       # \\s= space aur \\n aur \\t\n",
    "print(matches,len(matches))\n",
    "\n",
    "matches=re.findall(\"[\\s]\",text)       # \\s= space aur \\n aur \\t\n",
    "print(matches)"
   ]
  },
  {
   "cell_type": "markdown",
   "id": "fabadc05-4354-48d3-9ee2-d489bdea8f06",
   "metadata": {},
   "source": [
    "### \\S ka matlab hai except **whitespace**,**\\n**,**\\t**"
   ]
  },
  {
   "cell_type": "code",
   "execution_count": 18,
   "id": "3da192e4-402a-46d1-9fe5-d38ed087f171",
   "metadata": {},
   "outputs": [
    {
     "name": "stdout",
     "output_type": "stream",
     "text": [
      "['P', 'y', 't', 'h', 'o', 'n', 'i', 's', 'a', 'f', 'u', 'n', 'n', 'y', 'l', 'a', 'n', 'g', 'u', 'a', 'g', 'e', 'c', 'r', 'e', 'a', 't', 'e', 'd', 'b', 'y', 'G', 'u', 'i', 'd', 'o', 'V', 'A', 'N', 'R', 'o', 's', 's', 'u', 'm', 'i', 'n', '1', '9', '9', '1', '.', 'i', 'l', 'o', 'v', 'e', 'p', 'y', 't', 'h', 'o', 'n', 'c', 'o', 'd', 'i', 'n', 'g', '.'] 70\n",
      "['P', 'y', 't', 'h', 'o', 'n', 'i', 's', 'a', 'f', 'u', 'n', 'n', 'y', 'l', 'a', 'n', 'g', 'u', 'a', 'g', 'e', 'c', 'r', 'e', 'a', 't', 'e', 'd', 'b', 'y', 'G', 'u', 'i', 'd', 'o', 'V', 'A', 'N', 'R', 'o', 's', 's', 'u', 'm', 'i', 'n', '1', '9', '9', '1', '.', 'i', 'l', 'o', 'v', 'e', 'p', 'y', 't', 'h', 'o', 'n', 'c', 'o', 'd', 'i', 'n', 'g', '.']\n"
     ]
    }
   ],
   "source": [
    "matches=re.findall(\"[\\S]\",text)       # \\S= except space aur \\n aur \\t\n",
    "print(matches,len(matches))\n",
    "\n",
    "matches=re.findall(\"[\\S]\",text)       # \\S= except space aur \\n aur \\t\n",
    "print(matches)"
   ]
  },
  {
   "cell_type": "markdown",
   "id": "68c4e2e4-7761-433b-909d-4da08d98e733",
   "metadata": {},
   "source": [
    "### \\w ka matlab hai. word character **(a-zA-Z0-9_)** =63 character"
   ]
  },
  {
   "cell_type": "code",
   "execution_count": 19,
   "id": "408d289b-4878-455c-a792-1b1d14d1eca5",
   "metadata": {},
   "outputs": [
    {
     "name": "stdout",
     "output_type": "stream",
     "text": [
      "['P', 'y', 't', 'h', 'o', 'n', 'i', 's', 'a', 'f', 'u', 'n', 'n', 'y', 'l', 'a', 'n', 'g', 'u', 'a', 'g', 'e', 'c', 'r', 'e', 'a', 't', 'e', 'd', 'b', 'y', 'G', 'u', 'i', 'd', 'o', 'V', 'A', 'N', 'R', 'o', 's', 's', 'u', 'm', 'i', 'n', '1', '9', '9', '1', 'i', 'l', 'o', 'v', 'e', 'p', 'y', 't', 'h', 'o', 'n', 'c', 'o', 'd', 'i', 'n', 'g'] 68\n",
      "['P', 'y', 't', 'h', 'o', 'n', 'i', 's', 'a', 'f', 'u', 'n', 'n', 'y', 'l', 'a', 'n', 'g', 'u', 'a', 'g', 'e', 'c', 'r', 'e', 'a', 't', 'e', 'd', 'b', 'y', 'G', 'u', 'i', 'd', 'o', 'V', 'A', 'N', 'R', 'o', 's', 's', 'u', 'm', 'i', 'n', '1', '9', '9', '1', 'i', 'l', 'o', 'v', 'e', 'p', 'y', 't', 'h', 'o', 'n', 'c', 'o', 'd', 'i', 'n', 'g']\n"
     ]
    }
   ],
   "source": [
    "matches=re.findall(\"[\\w]\",text)       # \\w= (a-zA-Z0-9_)\n",
    "print(matches,len(matches))\n",
    "\n",
    "matches=re.findall(\"[\\w]\",text)       # \\w= (a-zA-Z0-9_)\n",
    "print(matches)"
   ]
  },
  {
   "cell_type": "markdown",
   "id": "b52c453b-f0ce-4f65-87a5-0ce8080471da",
   "metadata": {},
   "source": [
    "### \\W ka matlab hai. **except** this word character **(a-zA-Z0-9_)**= 63 character"
   ]
  },
  {
   "cell_type": "code",
   "execution_count": 20,
   "id": "aff7b257-96d0-4a23-a8ab-3af1f768b351",
   "metadata": {},
   "outputs": [
    {
     "name": "stdout",
     "output_type": "stream",
     "text": [
      "[' ', ' ', ' ', ' ', ' ', ' ', ' ', ' ', ' ', ' ', ' ', '.', '\\n', ' ', ' ', ' ', '.', '\\n'] 18\n",
      "[' ', ' ', ' ', ' ', ' ', ' ', ' ', ' ', ' ', ' ', ' ', '.', '\\n', ' ', ' ', ' ', '.', '\\n']\n"
     ]
    }
   ],
   "source": [
    "matches=re.findall(\"[\\W]\",text)       # \\W= except this character (a-zA-Z0-9_)\n",
    "print(matches,len(matches))\n",
    "\n",
    "matches=re.findall(\"[\\W]\",text)       # \\W= except this character (a-zA-Z0-9_)\n",
    "print(matches)"
   ]
  },
  {
   "cell_type": "raw",
   "id": "52f7d935-f190-4078-a020-9c4c150bde89",
   "metadata": {},
   "source": [
    "find=open(\"g:/students.txt\",\"r\")\n",
    "text=file.read()\n",
    "file.close()\n",
    "print(type(text))\n",
    "\n",
    "matches=re.findall(\"[0-9][0-9]{9}\",text)\n",
    "matches=re.findall(\"[0-9]\\d{9}\",text)\n",
    "#print(matches)\n",
    "\n",
    "file=open(\"g:/mob.txt\",\"w\")\n",
    "for mob in matches:\n",
    "    print(mob)\n",
    "    file.write(mob)\n",
    "    file.write(\"\\n\")\n",
    "file.close()"
   ]
  }
 ],
 "metadata": {
  "kernelspec": {
   "display_name": "Python 3 (ipykernel)",
   "language": "python",
   "name": "python3"
  },
  "language_info": {
   "codemirror_mode": {
    "name": "ipython",
    "version": 3
   },
   "file_extension": ".py",
   "mimetype": "text/x-python",
   "name": "python",
   "nbconvert_exporter": "python",
   "pygments_lexer": "ipython3",
   "version": "3.10.9"
  }
 },
 "nbformat": 4,
 "nbformat_minor": 5
}
